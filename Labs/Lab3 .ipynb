{
 "cells": [
  {
   "cell_type": "code",
   "execution_count": null,
   "metadata": {},
   "outputs": [],
   "source": [
    "# Import libraries"
   ]
  },
  {
   "attachments": {},
   "cell_type": "markdown",
   "metadata": {},
   "source": [
    "Lab 3 aims to practice usage of hugging face and fine tune transformers for classification task.\n",
    "The dataset is the emotions from hugging face.\n",
    "\n",
    "https://huggingface.co/datasets/dair-ai/emotion \n",
    "\n",
    "This lab contains 3 tasks."
   ]
  },
  {
   "attachments": {},
   "cell_type": "markdown",
   "metadata": {},
   "source": [
    "Question 1: Load in the emotions dataset and provide basic statistics of the dataset. Specifically your code should answer:\n",
    "\n",
    "1) How many tweets (sentences) was used to train, test and validation? \n",
    "2) Show 5 samples from the dataset\n",
    "3) What are the target predict labels?\n",
    "4) What are the distributions of labels in train, test, and validation (visualize the results using plots)\n",
    "5) Analyze the words per tweet in the train, test, validation."
   ]
  },
  {
   "cell_type": "code",
   "execution_count": null,
   "metadata": {},
   "outputs": [],
   "source": []
  },
  {
   "cell_type": "code",
   "execution_count": null,
   "metadata": {},
   "outputs": [],
   "source": [
    "# put your code for Q1 here, you can have multiple code blocks."
   ]
  },
  {
   "attachments": {},
   "cell_type": "markdown",
   "metadata": {},
   "source": [
    "Summarize your answers to Q1 below, based on your analysis:\n"
   ]
  },
  {
   "attachments": {},
   "cell_type": "markdown",
   "metadata": {},
   "source": [
    "Question 2: Tokenization. Use two different tokenization models provided by hugging face. \n",
    "\n",
    "For instance:\n",
    "model_name = 'distilbert-base-uncased'\n",
    "tokenizer = AutoTokenizer.from_pretrained(model_name)\n",
    "\n",
    "For each tokenizer:\n",
    "\n",
    "Report the tokenizer's vocabulary size.\n",
    "\n",
    "Present the tokenization results for the two selected tokenizers on three examples.\n",
    "\n"
   ]
  },
  {
   "cell_type": "code",
   "execution_count": null,
   "metadata": {},
   "outputs": [],
   "source": [
    "# put your code for Q2 here, you can have multiple code blocks."
   ]
  },
  {
   "cell_type": "markdown",
   "metadata": {},
   "source": [
    "Summarize your answers to Q2 below, based on your analysis:\n"
   ]
  },
  {
   "attachments": {},
   "cell_type": "markdown",
   "metadata": {},
   "source": [
    "Question 3: Use one pretrained model offered by Huggingface, e.g., 'distilbert-base-uncased' to train a emotion classification model from train and report their performances on the validation dataset, in terms of accuracy, F1 score, precision and recall."
   ]
  },
  {
   "cell_type": "code",
   "execution_count": null,
   "metadata": {},
   "outputs": [],
   "source": [
    "# put your code for Q3 here, you can have multiple code blocks."
   ]
  },
  {
   "attachments": {},
   "cell_type": "markdown",
   "metadata": {},
   "source": [
    "Summarize your answers to Q3 below, based on your analysis:"
   ]
  }
 ],
 "metadata": {
  "language_info": {
   "name": "python"
  },
  "orig_nbformat": 4
 },
 "nbformat": 4,
 "nbformat_minor": 2
}
