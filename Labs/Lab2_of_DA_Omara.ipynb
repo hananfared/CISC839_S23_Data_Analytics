{
  "cells": [
    {
      "cell_type": "markdown",
      "metadata": {
        "id": "fXSUnH2Piolg"
      },
      "source": [
        "# Name: Hanan Fared Mohamed Omara , ID =  20398559"
      ]
    },
    {
      "cell_type": "markdown",
      "source": [
        "- To ensure academic integrity, I utilized some code snippets from tutorial_2 part2 which available in the OnQ.By using these code snoppets as a reference ans building upon them, I was able to better understand and implement the required tasks in my project."
      ],
      "metadata": {
        "id": "guTYCZKxnB5Z"
      }
    },
    {
      "cell_type": "code",
      "execution_count": 36,
      "metadata": {
        "colab": {
          "base_uri": "https://localhost:8080/"
        },
        "id": "16zkQp7xiolj",
        "outputId": "e738b731-895f-46e7-82fd-bc39c395867a"
      },
      "outputs": [
        {
          "output_type": "stream",
          "name": "stdout",
          "text": [
            "Looking in indexes: https://pypi.org/simple, https://us-python.pkg.dev/colab-wheels/public/simple/\n",
            "Requirement already satisfied: bertopic in /usr/local/lib/python3.10/dist-packages (0.15.0)\n",
            "Requirement already satisfied: numpy>=1.20.0 in /usr/local/lib/python3.10/dist-packages (from bertopic) (1.22.4)\n",
            "Requirement already satisfied: hdbscan>=0.8.29 in /usr/local/lib/python3.10/dist-packages (from bertopic) (0.8.29)\n",
            "Requirement already satisfied: umap-learn>=0.5.0 in /usr/local/lib/python3.10/dist-packages (from bertopic) (0.5.3)\n",
            "Requirement already satisfied: pandas>=1.1.5 in /usr/local/lib/python3.10/dist-packages (from bertopic) (1.5.3)\n",
            "Requirement already satisfied: scikit-learn>=0.22.2.post1 in /usr/local/lib/python3.10/dist-packages (from bertopic) (1.2.2)\n",
            "Requirement already satisfied: tqdm>=4.41.1 in /usr/local/lib/python3.10/dist-packages (from bertopic) (4.65.0)\n",
            "Requirement already satisfied: sentence-transformers>=0.4.1 in /usr/local/lib/python3.10/dist-packages (from bertopic) (2.2.2)\n",
            "Requirement already satisfied: plotly>=4.7.0 in /usr/local/lib/python3.10/dist-packages (from bertopic) (5.13.1)\n",
            "Requirement already satisfied: cython>=0.27 in /usr/local/lib/python3.10/dist-packages (from hdbscan>=0.8.29->bertopic) (0.29.34)\n",
            "Requirement already satisfied: scipy>=1.0 in /usr/local/lib/python3.10/dist-packages (from hdbscan>=0.8.29->bertopic) (1.10.1)\n",
            "Requirement already satisfied: joblib>=1.0 in /usr/local/lib/python3.10/dist-packages (from hdbscan>=0.8.29->bertopic) (1.2.0)\n",
            "Requirement already satisfied: python-dateutil>=2.8.1 in /usr/local/lib/python3.10/dist-packages (from pandas>=1.1.5->bertopic) (2.8.2)\n",
            "Requirement already satisfied: pytz>=2020.1 in /usr/local/lib/python3.10/dist-packages (from pandas>=1.1.5->bertopic) (2022.7.1)\n",
            "Requirement already satisfied: tenacity>=6.2.0 in /usr/local/lib/python3.10/dist-packages (from plotly>=4.7.0->bertopic) (8.2.2)\n",
            "Requirement already satisfied: threadpoolctl>=2.0.0 in /usr/local/lib/python3.10/dist-packages (from scikit-learn>=0.22.2.post1->bertopic) (3.1.0)\n",
            "Requirement already satisfied: transformers<5.0.0,>=4.6.0 in /usr/local/lib/python3.10/dist-packages (from sentence-transformers>=0.4.1->bertopic) (4.29.2)\n",
            "Requirement already satisfied: torch>=1.6.0 in /usr/local/lib/python3.10/dist-packages (from sentence-transformers>=0.4.1->bertopic) (2.0.1+cu118)\n",
            "Requirement already satisfied: torchvision in /usr/local/lib/python3.10/dist-packages (from sentence-transformers>=0.4.1->bertopic) (0.15.2+cu118)\n",
            "Requirement already satisfied: nltk in /usr/local/lib/python3.10/dist-packages (from sentence-transformers>=0.4.1->bertopic) (3.8.1)\n",
            "Requirement already satisfied: sentencepiece in /usr/local/lib/python3.10/dist-packages (from sentence-transformers>=0.4.1->bertopic) (0.1.99)\n",
            "Requirement already satisfied: huggingface-hub>=0.4.0 in /usr/local/lib/python3.10/dist-packages (from sentence-transformers>=0.4.1->bertopic) (0.15.1)\n",
            "Requirement already satisfied: numba>=0.49 in /usr/local/lib/python3.10/dist-packages (from umap-learn>=0.5.0->bertopic) (0.56.4)\n",
            "Requirement already satisfied: pynndescent>=0.5 in /usr/local/lib/python3.10/dist-packages (from umap-learn>=0.5.0->bertopic) (0.5.10)\n",
            "Requirement already satisfied: filelock in /usr/local/lib/python3.10/dist-packages (from huggingface-hub>=0.4.0->sentence-transformers>=0.4.1->bertopic) (3.12.0)\n",
            "Requirement already satisfied: fsspec in /usr/local/lib/python3.10/dist-packages (from huggingface-hub>=0.4.0->sentence-transformers>=0.4.1->bertopic) (2023.4.0)\n",
            "Requirement already satisfied: requests in /usr/local/lib/python3.10/dist-packages (from huggingface-hub>=0.4.0->sentence-transformers>=0.4.1->bertopic) (2.27.1)\n",
            "Requirement already satisfied: pyyaml>=5.1 in /usr/local/lib/python3.10/dist-packages (from huggingface-hub>=0.4.0->sentence-transformers>=0.4.1->bertopic) (6.0)\n",
            "Requirement already satisfied: typing-extensions>=3.7.4.3 in /usr/local/lib/python3.10/dist-packages (from huggingface-hub>=0.4.0->sentence-transformers>=0.4.1->bertopic) (4.5.0)\n",
            "Requirement already satisfied: packaging>=20.9 in /usr/local/lib/python3.10/dist-packages (from huggingface-hub>=0.4.0->sentence-transformers>=0.4.1->bertopic) (23.1)\n",
            "Requirement already satisfied: llvmlite<0.40,>=0.39.0dev0 in /usr/local/lib/python3.10/dist-packages (from numba>=0.49->umap-learn>=0.5.0->bertopic) (0.39.1)\n",
            "Requirement already satisfied: setuptools in /usr/local/lib/python3.10/dist-packages (from numba>=0.49->umap-learn>=0.5.0->bertopic) (67.7.2)\n",
            "Requirement already satisfied: six>=1.5 in /usr/local/lib/python3.10/dist-packages (from python-dateutil>=2.8.1->pandas>=1.1.5->bertopic) (1.16.0)\n",
            "Requirement already satisfied: sympy in /usr/local/lib/python3.10/dist-packages (from torch>=1.6.0->sentence-transformers>=0.4.1->bertopic) (1.11.1)\n",
            "Requirement already satisfied: networkx in /usr/local/lib/python3.10/dist-packages (from torch>=1.6.0->sentence-transformers>=0.4.1->bertopic) (3.1)\n",
            "Requirement already satisfied: jinja2 in /usr/local/lib/python3.10/dist-packages (from torch>=1.6.0->sentence-transformers>=0.4.1->bertopic) (3.1.2)\n",
            "Requirement already satisfied: triton==2.0.0 in /usr/local/lib/python3.10/dist-packages (from torch>=1.6.0->sentence-transformers>=0.4.1->bertopic) (2.0.0)\n",
            "Requirement already satisfied: cmake in /usr/local/lib/python3.10/dist-packages (from triton==2.0.0->torch>=1.6.0->sentence-transformers>=0.4.1->bertopic) (3.25.2)\n",
            "Requirement already satisfied: lit in /usr/local/lib/python3.10/dist-packages (from triton==2.0.0->torch>=1.6.0->sentence-transformers>=0.4.1->bertopic) (16.0.5)\n",
            "Requirement already satisfied: regex!=2019.12.17 in /usr/local/lib/python3.10/dist-packages (from transformers<5.0.0,>=4.6.0->sentence-transformers>=0.4.1->bertopic) (2022.10.31)\n",
            "Requirement already satisfied: tokenizers!=0.11.3,<0.14,>=0.11.1 in /usr/local/lib/python3.10/dist-packages (from transformers<5.0.0,>=4.6.0->sentence-transformers>=0.4.1->bertopic) (0.13.3)\n",
            "Requirement already satisfied: click in /usr/local/lib/python3.10/dist-packages (from nltk->sentence-transformers>=0.4.1->bertopic) (7.1.2)\n",
            "Requirement already satisfied: pillow!=8.3.*,>=5.3.0 in /usr/local/lib/python3.10/dist-packages (from torchvision->sentence-transformers>=0.4.1->bertopic) (8.4.0)\n",
            "Requirement already satisfied: MarkupSafe>=2.0 in /usr/local/lib/python3.10/dist-packages (from jinja2->torch>=1.6.0->sentence-transformers>=0.4.1->bertopic) (2.1.2)\n",
            "Requirement already satisfied: urllib3<1.27,>=1.21.1 in /usr/local/lib/python3.10/dist-packages (from requests->huggingface-hub>=0.4.0->sentence-transformers>=0.4.1->bertopic) (1.26.15)\n",
            "Requirement already satisfied: certifi>=2017.4.17 in /usr/local/lib/python3.10/dist-packages (from requests->huggingface-hub>=0.4.0->sentence-transformers>=0.4.1->bertopic) (2022.12.7)\n",
            "Requirement already satisfied: charset-normalizer~=2.0.0 in /usr/local/lib/python3.10/dist-packages (from requests->huggingface-hub>=0.4.0->sentence-transformers>=0.4.1->bertopic) (2.0.12)\n",
            "Requirement already satisfied: idna<4,>=2.5 in /usr/local/lib/python3.10/dist-packages (from requests->huggingface-hub>=0.4.0->sentence-transformers>=0.4.1->bertopic) (3.4)\n",
            "Requirement already satisfied: mpmath>=0.19 in /usr/local/lib/python3.10/dist-packages (from sympy->torch>=1.6.0->sentence-transformers>=0.4.1->bertopic) (1.3.0)\n"
          ]
        }
      ],
      "source": [
        "# Import libraries\n",
        "# i am using python 3.10.11 for this tutorial. We suggest you first install bertopic library and then add other missing libraries to avoid library compatability issues.\n",
        "import pandas as pd                                        \n",
        "import numpy as np                                        \n",
        "import matplotlib.pyplot as plt                           \n",
        "import seaborn as sns  \n",
        "!pip install bertopic\n",
        "from bertopic import BERTopic\n",
        "from tqdm import tqdm\n",
        "\n",
        "# the following code ensures that you can see your (print) results for multiple tasks within a coding block\n",
        "from IPython.core.interactiveshell import InteractiveShell\n",
        "InteractiveShell.ast_node_interactivity = \"all\"\n",
        "\n",
        "\n",
        "pd.options.display.width = None"
      ]
    },
    {
      "cell_type": "code",
      "source": [
        "!pip install https://s3-us-west-2.amazonaws.com/ai2-s2-scispacy/releases/v0.4.0/en_core_sci_lg-0.4.0.tar.gz\n"
      ],
      "metadata": {
        "colab": {
          "base_uri": "https://localhost:8080/"
        },
        "id": "6K3Jj2LEM0Di",
        "outputId": "4691849c-2124-443a-df25-316807d45c97"
      },
      "execution_count": 37,
      "outputs": [
        {
          "output_type": "stream",
          "name": "stdout",
          "text": [
            "Looking in indexes: https://pypi.org/simple, https://us-python.pkg.dev/colab-wheels/public/simple/\n",
            "Collecting https://s3-us-west-2.amazonaws.com/ai2-s2-scispacy/releases/v0.4.0/en_core_sci_lg-0.4.0.tar.gz\n",
            "  Using cached https://s3-us-west-2.amazonaws.com/ai2-s2-scispacy/releases/v0.4.0/en_core_sci_lg-0.4.0.tar.gz (538.1 MB)\n",
            "  Preparing metadata (setup.py) ... \u001b[?25l\u001b[?25hdone\n",
            "Requirement already satisfied: spacy<3.1.0,>=3.0.1 in /usr/local/lib/python3.10/dist-packages (from en-core-sci-lg==0.4.0) (3.0.9)\n",
            "Requirement already satisfied: spacy-legacy<3.1.0,>=3.0.5 in /usr/local/lib/python3.10/dist-packages (from spacy<3.1.0,>=3.0.1->en-core-sci-lg==0.4.0) (3.0.12)\n",
            "Requirement already satisfied: murmurhash<1.1.0,>=0.28.0 in /usr/local/lib/python3.10/dist-packages (from spacy<3.1.0,>=3.0.1->en-core-sci-lg==0.4.0) (1.0.9)\n",
            "Requirement already satisfied: cymem<2.1.0,>=2.0.2 in /usr/local/lib/python3.10/dist-packages (from spacy<3.1.0,>=3.0.1->en-core-sci-lg==0.4.0) (2.0.7)\n",
            "Requirement already satisfied: preshed<3.1.0,>=3.0.2 in /usr/local/lib/python3.10/dist-packages (from spacy<3.1.0,>=3.0.1->en-core-sci-lg==0.4.0) (3.0.8)\n",
            "Requirement already satisfied: thinc<8.1.0,>=8.0.3 in /usr/local/lib/python3.10/dist-packages (from spacy<3.1.0,>=3.0.1->en-core-sci-lg==0.4.0) (8.0.17)\n",
            "Requirement already satisfied: blis<0.8.0,>=0.4.0 in /usr/local/lib/python3.10/dist-packages (from spacy<3.1.0,>=3.0.1->en-core-sci-lg==0.4.0) (0.7.9)\n",
            "Requirement already satisfied: wasabi<1.1.0,>=0.8.1 in /usr/local/lib/python3.10/dist-packages (from spacy<3.1.0,>=3.0.1->en-core-sci-lg==0.4.0) (0.10.1)\n",
            "Requirement already satisfied: srsly<3.0.0,>=2.4.1 in /usr/local/lib/python3.10/dist-packages (from spacy<3.1.0,>=3.0.1->en-core-sci-lg==0.4.0) (2.4.6)\n",
            "Requirement already satisfied: catalogue<2.1.0,>=2.0.4 in /usr/local/lib/python3.10/dist-packages (from spacy<3.1.0,>=3.0.1->en-core-sci-lg==0.4.0) (2.0.8)\n",
            "Requirement already satisfied: typer<0.4.0,>=0.3.0 in /usr/local/lib/python3.10/dist-packages (from spacy<3.1.0,>=3.0.1->en-core-sci-lg==0.4.0) (0.3.2)\n",
            "Requirement already satisfied: pathy>=0.3.5 in /usr/local/lib/python3.10/dist-packages (from spacy<3.1.0,>=3.0.1->en-core-sci-lg==0.4.0) (0.10.1)\n",
            "Requirement already satisfied: smart-open<7.0.0,>=5.2.1 in /usr/local/lib/python3.10/dist-packages (from spacy<3.1.0,>=3.0.1->en-core-sci-lg==0.4.0) (6.3.0)\n",
            "Requirement already satisfied: tqdm<5.0.0,>=4.38.0 in /usr/local/lib/python3.10/dist-packages (from spacy<3.1.0,>=3.0.1->en-core-sci-lg==0.4.0) (4.65.0)\n",
            "Requirement already satisfied: numpy>=1.15.0 in /usr/local/lib/python3.10/dist-packages (from spacy<3.1.0,>=3.0.1->en-core-sci-lg==0.4.0) (1.22.4)\n",
            "Requirement already satisfied: requests<3.0.0,>=2.13.0 in /usr/local/lib/python3.10/dist-packages (from spacy<3.1.0,>=3.0.1->en-core-sci-lg==0.4.0) (2.27.1)\n",
            "Requirement already satisfied: pydantic!=1.8,!=1.8.1,<1.9.0,>=1.7.4 in /usr/local/lib/python3.10/dist-packages (from spacy<3.1.0,>=3.0.1->en-core-sci-lg==0.4.0) (1.8.2)\n",
            "Requirement already satisfied: jinja2 in /usr/local/lib/python3.10/dist-packages (from spacy<3.1.0,>=3.0.1->en-core-sci-lg==0.4.0) (3.1.2)\n",
            "Requirement already satisfied: setuptools in /usr/local/lib/python3.10/dist-packages (from spacy<3.1.0,>=3.0.1->en-core-sci-lg==0.4.0) (67.7.2)\n",
            "Requirement already satisfied: packaging>=20.0 in /usr/local/lib/python3.10/dist-packages (from spacy<3.1.0,>=3.0.1->en-core-sci-lg==0.4.0) (23.1)\n",
            "Requirement already satisfied: typing-extensions>=3.7.4.3 in /usr/local/lib/python3.10/dist-packages (from pydantic!=1.8,!=1.8.1,<1.9.0,>=1.7.4->spacy<3.1.0,>=3.0.1->en-core-sci-lg==0.4.0) (4.5.0)\n",
            "Requirement already satisfied: urllib3<1.27,>=1.21.1 in /usr/local/lib/python3.10/dist-packages (from requests<3.0.0,>=2.13.0->spacy<3.1.0,>=3.0.1->en-core-sci-lg==0.4.0) (1.26.15)\n",
            "Requirement already satisfied: certifi>=2017.4.17 in /usr/local/lib/python3.10/dist-packages (from requests<3.0.0,>=2.13.0->spacy<3.1.0,>=3.0.1->en-core-sci-lg==0.4.0) (2022.12.7)\n",
            "Requirement already satisfied: charset-normalizer~=2.0.0 in /usr/local/lib/python3.10/dist-packages (from requests<3.0.0,>=2.13.0->spacy<3.1.0,>=3.0.1->en-core-sci-lg==0.4.0) (2.0.12)\n",
            "Requirement already satisfied: idna<4,>=2.5 in /usr/local/lib/python3.10/dist-packages (from requests<3.0.0,>=2.13.0->spacy<3.1.0,>=3.0.1->en-core-sci-lg==0.4.0) (3.4)\n",
            "Requirement already satisfied: click<7.2.0,>=7.1.1 in /usr/local/lib/python3.10/dist-packages (from typer<0.4.0,>=0.3.0->spacy<3.1.0,>=3.0.1->en-core-sci-lg==0.4.0) (7.1.2)\n",
            "Requirement already satisfied: MarkupSafe>=2.0 in /usr/local/lib/python3.10/dist-packages (from jinja2->spacy<3.1.0,>=3.0.1->en-core-sci-lg==0.4.0) (2.1.2)\n"
          ]
        }
      ]
    },
    {
      "cell_type": "code",
      "execution_count": 38,
      "metadata": {
        "colab": {
          "base_uri": "https://localhost:8080/"
        },
        "id": "UAwWvWpOiolk",
        "outputId": "a155dddc-483c-49b4-96e7-756705417eb2"
      },
      "outputs": [
        {
          "output_type": "stream",
          "name": "stdout",
          "text": [
            "Looking in indexes: https://pypi.org/simple, https://us-python.pkg.dev/colab-wheels/public/simple/\n",
            "Requirement already satisfied: spacy in /usr/local/lib/python3.10/dist-packages (3.0.9)\n",
            "Requirement already satisfied: spacy-legacy<3.1.0,>=3.0.5 in /usr/local/lib/python3.10/dist-packages (from spacy) (3.0.12)\n",
            "Requirement already satisfied: murmurhash<1.1.0,>=0.28.0 in /usr/local/lib/python3.10/dist-packages (from spacy) (1.0.9)\n",
            "Requirement already satisfied: cymem<2.1.0,>=2.0.2 in /usr/local/lib/python3.10/dist-packages (from spacy) (2.0.7)\n",
            "Requirement already satisfied: preshed<3.1.0,>=3.0.2 in /usr/local/lib/python3.10/dist-packages (from spacy) (3.0.8)\n",
            "Requirement already satisfied: thinc<8.1.0,>=8.0.3 in /usr/local/lib/python3.10/dist-packages (from spacy) (8.0.17)\n",
            "Requirement already satisfied: blis<0.8.0,>=0.4.0 in /usr/local/lib/python3.10/dist-packages (from spacy) (0.7.9)\n",
            "Requirement already satisfied: wasabi<1.1.0,>=0.8.1 in /usr/local/lib/python3.10/dist-packages (from spacy) (0.10.1)\n",
            "Requirement already satisfied: srsly<3.0.0,>=2.4.1 in /usr/local/lib/python3.10/dist-packages (from spacy) (2.4.6)\n",
            "Requirement already satisfied: catalogue<2.1.0,>=2.0.4 in /usr/local/lib/python3.10/dist-packages (from spacy) (2.0.8)\n",
            "Requirement already satisfied: typer<0.4.0,>=0.3.0 in /usr/local/lib/python3.10/dist-packages (from spacy) (0.3.2)\n",
            "Requirement already satisfied: pathy>=0.3.5 in /usr/local/lib/python3.10/dist-packages (from spacy) (0.10.1)\n",
            "Requirement already satisfied: smart-open<7.0.0,>=5.2.1 in /usr/local/lib/python3.10/dist-packages (from spacy) (6.3.0)\n",
            "Requirement already satisfied: tqdm<5.0.0,>=4.38.0 in /usr/local/lib/python3.10/dist-packages (from spacy) (4.65.0)\n",
            "Requirement already satisfied: numpy>=1.15.0 in /usr/local/lib/python3.10/dist-packages (from spacy) (1.22.4)\n",
            "Requirement already satisfied: requests<3.0.0,>=2.13.0 in /usr/local/lib/python3.10/dist-packages (from spacy) (2.27.1)\n",
            "Requirement already satisfied: pydantic!=1.8,!=1.8.1,<1.9.0,>=1.7.4 in /usr/local/lib/python3.10/dist-packages (from spacy) (1.8.2)\n",
            "Requirement already satisfied: jinja2 in /usr/local/lib/python3.10/dist-packages (from spacy) (3.1.2)\n",
            "Requirement already satisfied: setuptools in /usr/local/lib/python3.10/dist-packages (from spacy) (67.7.2)\n",
            "Requirement already satisfied: packaging>=20.0 in /usr/local/lib/python3.10/dist-packages (from spacy) (23.1)\n",
            "Requirement already satisfied: typing-extensions>=3.7.4.3 in /usr/local/lib/python3.10/dist-packages (from pydantic!=1.8,!=1.8.1,<1.9.0,>=1.7.4->spacy) (4.5.0)\n",
            "Requirement already satisfied: urllib3<1.27,>=1.21.1 in /usr/local/lib/python3.10/dist-packages (from requests<3.0.0,>=2.13.0->spacy) (1.26.15)\n",
            "Requirement already satisfied: certifi>=2017.4.17 in /usr/local/lib/python3.10/dist-packages (from requests<3.0.0,>=2.13.0->spacy) (2022.12.7)\n",
            "Requirement already satisfied: charset-normalizer~=2.0.0 in /usr/local/lib/python3.10/dist-packages (from requests<3.0.0,>=2.13.0->spacy) (2.0.12)\n",
            "Requirement already satisfied: idna<4,>=2.5 in /usr/local/lib/python3.10/dist-packages (from requests<3.0.0,>=2.13.0->spacy) (3.4)\n",
            "Requirement already satisfied: click<7.2.0,>=7.1.1 in /usr/local/lib/python3.10/dist-packages (from typer<0.4.0,>=0.3.0->spacy) (7.1.2)\n",
            "Requirement already satisfied: MarkupSafe>=2.0 in /usr/local/lib/python3.10/dist-packages (from jinja2->spacy) (2.1.2)\n",
            "Looking in indexes: https://pypi.org/simple, https://us-python.pkg.dev/colab-wheels/public/simple/\n",
            "Requirement already satisfied: minisom in /usr/local/lib/python3.10/dist-packages (2.3.1)\n"
          ]
        }
      ],
      "source": [
        "!pip install spacy\n",
        "import spacy\n",
        "from spacy.lang.en.stop_words import STOP_WORDS \n",
        "from IPython.utils import io\n",
        "# with io.capture_output() as captured:\n",
        "# !pip install https://s3-us-west-2.amazonaws.com/ai2-s2-scispacy/releases/v0.4.0/en_core_sci_lg-0.4.0.tar.gz\n",
        "# !pip install en_core_sci_lg\n",
        "import en_core_sci_lg  # import downlaoded model\n",
        "import string\n",
        "!pip install minisom\n",
        "from minisom import MiniSom  \n",
        "from sklearn.cluster import SpectralClustering \n",
        "import scipy.cluster.hierarchy as sch\n",
        "from sklearn.decomposition import PCA\n",
        "from sklearn.feature_extraction.text import TfidfVectorizer\n",
        "from spacy.lang.en.stop_words import STOP_WORDS \n"
      ]
    },
    {
      "cell_type": "markdown",
      "metadata": {
        "id": "xlDPNP9Dioll"
      },
      "source": [
        "Lab 1 contains 4 analysis questions. \n",
        "The dataset is reused from tutorial part 2, i.e., the sampled_arxiv_cs.csv file."
      ]
    },
    {
      "cell_type": "markdown",
      "metadata": {
        "id": "g-8OCuzwioll"
      },
      "source": [
        "Question 1: Load in the provided dataset and summarize the basic statistics. Specifically your code should answer:\n",
        "\n",
        "1) What are the feature types and their basic statistics (using describe(include='all'))\n",
        "2) How many features have missing values? "
      ]
    },
    {
      "cell_type": "code",
      "execution_count": 39,
      "metadata": {
        "colab": {
          "base_uri": "https://localhost:8080/",
          "height": 1000
        },
        "id": "uvi-I4LBioll",
        "outputId": "a6a8b1dc-3eca-46ac-f3ab-633c219c67d9"
      },
      "outputs": [
        {
          "output_type": "stream",
          "name": "stderr",
          "text": [
            "<ipython-input-39-8f102609e9cf>:3: DtypeWarning:\n",
            "\n",
            "Columns (0,1,2,3,4,5,6,7,8,9,10,11,12,13) have mixed types. Specify dtype option on import or set low_memory=False.\n",
            "\n"
          ]
        },
        {
          "output_type": "execute_result",
          "data": {
            "text/plain": [
              "           id         submitter  \\\n",
              "0  2006.15607      Youngwan Lee   \n",
              "1  1507.03782    Helmut Strobel   \n",
              "2    901.4201   Stephane Martin   \n",
              "3  1802.05814       Dawen Liang   \n",
              "4   1010.5069  Philippe Maincon   \n",
              "\n",
              "                                             authors  \\\n",
              "0  Youngwan Lee, Joong-won Hwang, Hyung-Il Kim, K...   \n",
              "1  Helmut Strobel, Wolfgang Muessel, Daniel Linne...   \n",
              "2        Denis Lugiez (LIF), St\\'ephane Martin (LIF)   \n",
              "3  Dawen Liang, Rahul G. Krishnan, Matthew D. Hof...   \n",
              "4                                   Philippe Maincon   \n",
              "\n",
              "                                               title  \\\n",
              "0  Localization Uncertainty Estimation for Anchor...   \n",
              "1  Fisher Information and entanglement of non-Gau...   \n",
              "2  Peer to Peer Optimistic Collaborative Editing ...   \n",
              "3  Variational Autoencoders for Collaborative Fil...   \n",
              "4  A Wiener-Laguerre model of VIV forces given re...   \n",
              "\n",
              "                                            comments  \\\n",
              "0                                                NaN   \n",
              "1  5 pages, 4 figures, 7 pages supplementary mate...   \n",
              "2                                                NaN   \n",
              "3                      10 pages, 3 figures. WWW 2018   \n",
              "4                                                NaN   \n",
              "\n",
              "                   journal-ref                      doi report-no  \\\n",
              "0                          NaN                      NaN       NaN   \n",
              "1  Science 345, 424-427 (2014)  10.1126/science.1250147       NaN   \n",
              "2                          NaN                      NaN       NaN   \n",
              "3                          NaN                      NaN       NaN   \n",
              "4                          NaN                      NaN       NaN   \n",
              "\n",
              "                                    categories  \\\n",
              "0                                        cs.CV   \n",
              "1  quant-ph cond-mat.quant-gas physics.atom-ph   \n",
              "2                                        cs.DS   \n",
              "3                          stat.ML cs.IR cs.LG   \n",
              "4                              physics.flu-dyn   \n",
              "\n",
              "                                             license  \\\n",
              "0  http://arxiv.org/licenses/nonexclusive-distrib...   \n",
              "1  http://arxiv.org/licenses/nonexclusive-distrib...   \n",
              "2  http://arxiv.org/licenses/nonexclusive-distrib...   \n",
              "3  http://arxiv.org/licenses/nonexclusive-distrib...   \n",
              "4  http://arxiv.org/licenses/nonexclusive-distrib...   \n",
              "\n",
              "                                            abstract  \\\n",
              "0    Since many safety-critical systems, such as ...   \n",
              "1    Entanglement is the key quantum resource for...   \n",
              "2    Collaborative editing consists in editing a ...   \n",
              "3    We extend variational autoencoders (VAEs) to...   \n",
              "4    Slender structures immersed in a cross flow ...   \n",
              "\n",
              "                                            versions update_date  \\\n",
              "0  [{'version': 'v1', 'created': 'Sun, 28 Jun 202...  2022-07-07   \n",
              "1  [{'version': 'v1', 'created': 'Tue, 14 Jul 201...  2015-07-15   \n",
              "2  [{'version': 'v1', 'created': 'Tue, 27 Jan 200...  2009-01-28   \n",
              "3  [{'version': 'v1', 'created': 'Fri, 16 Feb 201...  2018-02-19   \n",
              "4  [{'version': 'v1', 'created': 'Mon, 25 Oct 201...  2010-10-26   \n",
              "\n",
              "                                      authors_parsed  \n",
              "0  [['Lee', 'Youngwan', ''], ['Hwang', 'Joong-won...  \n",
              "1  [['Strobel', 'Helmut', ''], ['Muessel', 'Wolfg...  \n",
              "2  [['Lugiez', 'Denis', '', 'LIF'], ['Martin', 'S...  \n",
              "3  [['Liang', 'Dawen', ''], ['Krishnan', 'Rahul G...  \n",
              "4                      [['Maincon', 'Philippe', '']]  "
            ],
            "text/html": [
              "\n",
              "  <div id=\"df-63b17559-7638-42b9-a613-6556abe9138f\">\n",
              "    <div class=\"colab-df-container\">\n",
              "      <div>\n",
              "<style scoped>\n",
              "    .dataframe tbody tr th:only-of-type {\n",
              "        vertical-align: middle;\n",
              "    }\n",
              "\n",
              "    .dataframe tbody tr th {\n",
              "        vertical-align: top;\n",
              "    }\n",
              "\n",
              "    .dataframe thead th {\n",
              "        text-align: right;\n",
              "    }\n",
              "</style>\n",
              "<table border=\"1\" class=\"dataframe\">\n",
              "  <thead>\n",
              "    <tr style=\"text-align: right;\">\n",
              "      <th></th>\n",
              "      <th>id</th>\n",
              "      <th>submitter</th>\n",
              "      <th>authors</th>\n",
              "      <th>title</th>\n",
              "      <th>comments</th>\n",
              "      <th>journal-ref</th>\n",
              "      <th>doi</th>\n",
              "      <th>report-no</th>\n",
              "      <th>categories</th>\n",
              "      <th>license</th>\n",
              "      <th>abstract</th>\n",
              "      <th>versions</th>\n",
              "      <th>update_date</th>\n",
              "      <th>authors_parsed</th>\n",
              "    </tr>\n",
              "  </thead>\n",
              "  <tbody>\n",
              "    <tr>\n",
              "      <th>0</th>\n",
              "      <td>2006.15607</td>\n",
              "      <td>Youngwan Lee</td>\n",
              "      <td>Youngwan Lee, Joong-won Hwang, Hyung-Il Kim, K...</td>\n",
              "      <td>Localization Uncertainty Estimation for Anchor...</td>\n",
              "      <td>NaN</td>\n",
              "      <td>NaN</td>\n",
              "      <td>NaN</td>\n",
              "      <td>NaN</td>\n",
              "      <td>cs.CV</td>\n",
              "      <td>http://arxiv.org/licenses/nonexclusive-distrib...</td>\n",
              "      <td>Since many safety-critical systems, such as ...</td>\n",
              "      <td>[{'version': 'v1', 'created': 'Sun, 28 Jun 202...</td>\n",
              "      <td>2022-07-07</td>\n",
              "      <td>[['Lee', 'Youngwan', ''], ['Hwang', 'Joong-won...</td>\n",
              "    </tr>\n",
              "    <tr>\n",
              "      <th>1</th>\n",
              "      <td>1507.03782</td>\n",
              "      <td>Helmut Strobel</td>\n",
              "      <td>Helmut Strobel, Wolfgang Muessel, Daniel Linne...</td>\n",
              "      <td>Fisher Information and entanglement of non-Gau...</td>\n",
              "      <td>5 pages, 4 figures, 7 pages supplementary mate...</td>\n",
              "      <td>Science 345, 424-427 (2014)</td>\n",
              "      <td>10.1126/science.1250147</td>\n",
              "      <td>NaN</td>\n",
              "      <td>quant-ph cond-mat.quant-gas physics.atom-ph</td>\n",
              "      <td>http://arxiv.org/licenses/nonexclusive-distrib...</td>\n",
              "      <td>Entanglement is the key quantum resource for...</td>\n",
              "      <td>[{'version': 'v1', 'created': 'Tue, 14 Jul 201...</td>\n",
              "      <td>2015-07-15</td>\n",
              "      <td>[['Strobel', 'Helmut', ''], ['Muessel', 'Wolfg...</td>\n",
              "    </tr>\n",
              "    <tr>\n",
              "      <th>2</th>\n",
              "      <td>901.4201</td>\n",
              "      <td>Stephane Martin</td>\n",
              "      <td>Denis Lugiez (LIF), St\\'ephane Martin (LIF)</td>\n",
              "      <td>Peer to Peer Optimistic Collaborative Editing ...</td>\n",
              "      <td>NaN</td>\n",
              "      <td>NaN</td>\n",
              "      <td>NaN</td>\n",
              "      <td>NaN</td>\n",
              "      <td>cs.DS</td>\n",
              "      <td>http://arxiv.org/licenses/nonexclusive-distrib...</td>\n",
              "      <td>Collaborative editing consists in editing a ...</td>\n",
              "      <td>[{'version': 'v1', 'created': 'Tue, 27 Jan 200...</td>\n",
              "      <td>2009-01-28</td>\n",
              "      <td>[['Lugiez', 'Denis', '', 'LIF'], ['Martin', 'S...</td>\n",
              "    </tr>\n",
              "    <tr>\n",
              "      <th>3</th>\n",
              "      <td>1802.05814</td>\n",
              "      <td>Dawen Liang</td>\n",
              "      <td>Dawen Liang, Rahul G. Krishnan, Matthew D. Hof...</td>\n",
              "      <td>Variational Autoencoders for Collaborative Fil...</td>\n",
              "      <td>10 pages, 3 figures. WWW 2018</td>\n",
              "      <td>NaN</td>\n",
              "      <td>NaN</td>\n",
              "      <td>NaN</td>\n",
              "      <td>stat.ML cs.IR cs.LG</td>\n",
              "      <td>http://arxiv.org/licenses/nonexclusive-distrib...</td>\n",
              "      <td>We extend variational autoencoders (VAEs) to...</td>\n",
              "      <td>[{'version': 'v1', 'created': 'Fri, 16 Feb 201...</td>\n",
              "      <td>2018-02-19</td>\n",
              "      <td>[['Liang', 'Dawen', ''], ['Krishnan', 'Rahul G...</td>\n",
              "    </tr>\n",
              "    <tr>\n",
              "      <th>4</th>\n",
              "      <td>1010.5069</td>\n",
              "      <td>Philippe Maincon</td>\n",
              "      <td>Philippe Maincon</td>\n",
              "      <td>A Wiener-Laguerre model of VIV forces given re...</td>\n",
              "      <td>NaN</td>\n",
              "      <td>NaN</td>\n",
              "      <td>NaN</td>\n",
              "      <td>NaN</td>\n",
              "      <td>physics.flu-dyn</td>\n",
              "      <td>http://arxiv.org/licenses/nonexclusive-distrib...</td>\n",
              "      <td>Slender structures immersed in a cross flow ...</td>\n",
              "      <td>[{'version': 'v1', 'created': 'Mon, 25 Oct 201...</td>\n",
              "      <td>2010-10-26</td>\n",
              "      <td>[['Maincon', 'Philippe', '']]</td>\n",
              "    </tr>\n",
              "  </tbody>\n",
              "</table>\n",
              "</div>\n",
              "      <button class=\"colab-df-convert\" onclick=\"convertToInteractive('df-63b17559-7638-42b9-a613-6556abe9138f')\"\n",
              "              title=\"Convert this dataframe to an interactive table.\"\n",
              "              style=\"display:none;\">\n",
              "        \n",
              "  <svg xmlns=\"http://www.w3.org/2000/svg\" height=\"24px\"viewBox=\"0 0 24 24\"\n",
              "       width=\"24px\">\n",
              "    <path d=\"M0 0h24v24H0V0z\" fill=\"none\"/>\n",
              "    <path d=\"M18.56 5.44l.94 2.06.94-2.06 2.06-.94-2.06-.94-.94-2.06-.94 2.06-2.06.94zm-11 1L8.5 8.5l.94-2.06 2.06-.94-2.06-.94L8.5 2.5l-.94 2.06-2.06.94zm10 10l.94 2.06.94-2.06 2.06-.94-2.06-.94-.94-2.06-.94 2.06-2.06.94z\"/><path d=\"M17.41 7.96l-1.37-1.37c-.4-.4-.92-.59-1.43-.59-.52 0-1.04.2-1.43.59L10.3 9.45l-7.72 7.72c-.78.78-.78 2.05 0 2.83L4 21.41c.39.39.9.59 1.41.59.51 0 1.02-.2 1.41-.59l7.78-7.78 2.81-2.81c.8-.78.8-2.07 0-2.86zM5.41 20L4 18.59l7.72-7.72 1.47 1.35L5.41 20z\"/>\n",
              "  </svg>\n",
              "      </button>\n",
              "      \n",
              "  <style>\n",
              "    .colab-df-container {\n",
              "      display:flex;\n",
              "      flex-wrap:wrap;\n",
              "      gap: 12px;\n",
              "    }\n",
              "\n",
              "    .colab-df-convert {\n",
              "      background-color: #E8F0FE;\n",
              "      border: none;\n",
              "      border-radius: 50%;\n",
              "      cursor: pointer;\n",
              "      display: none;\n",
              "      fill: #1967D2;\n",
              "      height: 32px;\n",
              "      padding: 0 0 0 0;\n",
              "      width: 32px;\n",
              "    }\n",
              "\n",
              "    .colab-df-convert:hover {\n",
              "      background-color: #E2EBFA;\n",
              "      box-shadow: 0px 1px 2px rgba(60, 64, 67, 0.3), 0px 1px 3px 1px rgba(60, 64, 67, 0.15);\n",
              "      fill: #174EA6;\n",
              "    }\n",
              "\n",
              "    [theme=dark] .colab-df-convert {\n",
              "      background-color: #3B4455;\n",
              "      fill: #D2E3FC;\n",
              "    }\n",
              "\n",
              "    [theme=dark] .colab-df-convert:hover {\n",
              "      background-color: #434B5C;\n",
              "      box-shadow: 0px 1px 3px 1px rgba(0, 0, 0, 0.15);\n",
              "      filter: drop-shadow(0px 1px 2px rgba(0, 0, 0, 0.3));\n",
              "      fill: #FFFFFF;\n",
              "    }\n",
              "  </style>\n",
              "\n",
              "      <script>\n",
              "        const buttonEl =\n",
              "          document.querySelector('#df-63b17559-7638-42b9-a613-6556abe9138f button.colab-df-convert');\n",
              "        buttonEl.style.display =\n",
              "          google.colab.kernel.accessAllowed ? 'block' : 'none';\n",
              "\n",
              "        async function convertToInteractive(key) {\n",
              "          const element = document.querySelector('#df-63b17559-7638-42b9-a613-6556abe9138f');\n",
              "          const dataTable =\n",
              "            await google.colab.kernel.invokeFunction('convertToInteractive',\n",
              "                                                     [key], {});\n",
              "          if (!dataTable) return;\n",
              "\n",
              "          const docLinkHtml = 'Like what you see? Visit the ' +\n",
              "            '<a target=\"_blank\" href=https://colab.research.google.com/notebooks/data_table.ipynb>data table notebook</a>'\n",
              "            + ' to learn more about interactive tables.';\n",
              "          element.innerHTML = '';\n",
              "          dataTable['output_type'] = 'display_data';\n",
              "          await google.colab.output.renderOutput(dataTable, element);\n",
              "          const docLink = document.createElement('div');\n",
              "          docLink.innerHTML = docLinkHtml;\n",
              "          element.appendChild(docLink);\n",
              "        }\n",
              "      </script>\n",
              "    </div>\n",
              "  </div>\n",
              "  "
            ]
          },
          "metadata": {},
          "execution_count": 39
        },
        {
          "output_type": "stream",
          "name": "stdout",
          "text": [
            "<class 'pandas.core.frame.DataFrame'>\n",
            "RangeIndex: 100000 entries, 0 to 99999\n",
            "Data columns (total 14 columns):\n",
            " #   Column          Non-Null Count  Dtype \n",
            "---  ------          --------------  ----- \n",
            " 0   id              50000 non-null  object\n",
            " 1   submitter       49959 non-null  object\n",
            " 2   authors         50000 non-null  object\n",
            " 3   title           50000 non-null  object\n",
            " 4   comments        31780 non-null  object\n",
            " 5   journal-ref     10783 non-null  object\n",
            " 6   doi             15365 non-null  object\n",
            " 7   report-no       1170 non-null   object\n",
            " 8   categories      50000 non-null  object\n",
            " 9   license         47468 non-null  object\n",
            " 10  abstract        50000 non-null  object\n",
            " 11  versions        50000 non-null  object\n",
            " 12  update_date     50000 non-null  object\n",
            " 13  authors_parsed  50000 non-null  object\n",
            "dtypes: object(14)\n",
            "memory usage: 10.7+ MB\n"
          ]
        },
        {
          "output_type": "execute_result",
          "data": {
            "text/plain": [
              "                id submitter        authors  \\\n",
              "count        50000     49959          50000   \n",
              "unique       50000     40229          48953   \n",
              "top     2006.15607     EPTCS  Lorenzo Iorio   \n",
              "freq             1       216             11   \n",
              "\n",
              "                                                    title  comments  \\\n",
              "count                                               50000     31780   \n",
              "unique                                              49998     23292   \n",
              "top     Achieving the Secrecy Capacity of Wiretap Chan...  12 pages   \n",
              "freq                                                    2       121   \n",
              "\n",
              "                                              journal-ref                doi  \\\n",
              "count                                               10783              15365   \n",
              "unique                                              10709              15362   \n",
              "top     Dans Design, Automation and Test in Europe - D...  10.1021/jp806464p   \n",
              "freq                                                    7                  2   \n",
              "\n",
              "             report-no categories  \\\n",
              "count             1170      50000   \n",
              "unique            1157       8908   \n",
              "top     ISSN 1947 5500      cs.CV   \n",
              "freq                 8       3105   \n",
              "\n",
              "                                                  license  \\\n",
              "count                                               47468   \n",
              "unique                                                  9   \n",
              "top     http://arxiv.org/licenses/nonexclusive-distrib...   \n",
              "freq                                                36525   \n",
              "\n",
              "                                  abstract  \\\n",
              "count                                50000   \n",
              "unique                               49996   \n",
              "top       This paper has been withdrawn.\\n   \n",
              "freq                                     2   \n",
              "\n",
              "                                                 versions update_date  \\\n",
              "count                                               50000       50000   \n",
              "unique                                              49984        3955   \n",
              "top     [{'version': 'v1', 'created': 'Wed, 27 Jun 201...  2007-05-23   \n",
              "freq                                                    7        1016   \n",
              "\n",
              "                    authors_parsed  \n",
              "count                        50000  \n",
              "unique                       48801  \n",
              "top     [['Iorio', 'Lorenzo', '']]  \n",
              "freq                            11  "
            ],
            "text/html": [
              "\n",
              "  <div id=\"df-15282f76-575f-469b-8f5e-b31dc6f1af68\">\n",
              "    <div class=\"colab-df-container\">\n",
              "      <div>\n",
              "<style scoped>\n",
              "    .dataframe tbody tr th:only-of-type {\n",
              "        vertical-align: middle;\n",
              "    }\n",
              "\n",
              "    .dataframe tbody tr th {\n",
              "        vertical-align: top;\n",
              "    }\n",
              "\n",
              "    .dataframe thead th {\n",
              "        text-align: right;\n",
              "    }\n",
              "</style>\n",
              "<table border=\"1\" class=\"dataframe\">\n",
              "  <thead>\n",
              "    <tr style=\"text-align: right;\">\n",
              "      <th></th>\n",
              "      <th>id</th>\n",
              "      <th>submitter</th>\n",
              "      <th>authors</th>\n",
              "      <th>title</th>\n",
              "      <th>comments</th>\n",
              "      <th>journal-ref</th>\n",
              "      <th>doi</th>\n",
              "      <th>report-no</th>\n",
              "      <th>categories</th>\n",
              "      <th>license</th>\n",
              "      <th>abstract</th>\n",
              "      <th>versions</th>\n",
              "      <th>update_date</th>\n",
              "      <th>authors_parsed</th>\n",
              "    </tr>\n",
              "  </thead>\n",
              "  <tbody>\n",
              "    <tr>\n",
              "      <th>count</th>\n",
              "      <td>50000</td>\n",
              "      <td>49959</td>\n",
              "      <td>50000</td>\n",
              "      <td>50000</td>\n",
              "      <td>31780</td>\n",
              "      <td>10783</td>\n",
              "      <td>15365</td>\n",
              "      <td>1170</td>\n",
              "      <td>50000</td>\n",
              "      <td>47468</td>\n",
              "      <td>50000</td>\n",
              "      <td>50000</td>\n",
              "      <td>50000</td>\n",
              "      <td>50000</td>\n",
              "    </tr>\n",
              "    <tr>\n",
              "      <th>unique</th>\n",
              "      <td>50000</td>\n",
              "      <td>40229</td>\n",
              "      <td>48953</td>\n",
              "      <td>49998</td>\n",
              "      <td>23292</td>\n",
              "      <td>10709</td>\n",
              "      <td>15362</td>\n",
              "      <td>1157</td>\n",
              "      <td>8908</td>\n",
              "      <td>9</td>\n",
              "      <td>49996</td>\n",
              "      <td>49984</td>\n",
              "      <td>3955</td>\n",
              "      <td>48801</td>\n",
              "    </tr>\n",
              "    <tr>\n",
              "      <th>top</th>\n",
              "      <td>2006.15607</td>\n",
              "      <td>EPTCS</td>\n",
              "      <td>Lorenzo Iorio</td>\n",
              "      <td>Achieving the Secrecy Capacity of Wiretap Chan...</td>\n",
              "      <td>12 pages</td>\n",
              "      <td>Dans Design, Automation and Test in Europe - D...</td>\n",
              "      <td>10.1021/jp806464p</td>\n",
              "      <td>ISSN 1947 5500</td>\n",
              "      <td>cs.CV</td>\n",
              "      <td>http://arxiv.org/licenses/nonexclusive-distrib...</td>\n",
              "      <td>This paper has been withdrawn.\\n</td>\n",
              "      <td>[{'version': 'v1', 'created': 'Wed, 27 Jun 201...</td>\n",
              "      <td>2007-05-23</td>\n",
              "      <td>[['Iorio', 'Lorenzo', '']]</td>\n",
              "    </tr>\n",
              "    <tr>\n",
              "      <th>freq</th>\n",
              "      <td>1</td>\n",
              "      <td>216</td>\n",
              "      <td>11</td>\n",
              "      <td>2</td>\n",
              "      <td>121</td>\n",
              "      <td>7</td>\n",
              "      <td>2</td>\n",
              "      <td>8</td>\n",
              "      <td>3105</td>\n",
              "      <td>36525</td>\n",
              "      <td>2</td>\n",
              "      <td>7</td>\n",
              "      <td>1016</td>\n",
              "      <td>11</td>\n",
              "    </tr>\n",
              "  </tbody>\n",
              "</table>\n",
              "</div>\n",
              "      <button class=\"colab-df-convert\" onclick=\"convertToInteractive('df-15282f76-575f-469b-8f5e-b31dc6f1af68')\"\n",
              "              title=\"Convert this dataframe to an interactive table.\"\n",
              "              style=\"display:none;\">\n",
              "        \n",
              "  <svg xmlns=\"http://www.w3.org/2000/svg\" height=\"24px\"viewBox=\"0 0 24 24\"\n",
              "       width=\"24px\">\n",
              "    <path d=\"M0 0h24v24H0V0z\" fill=\"none\"/>\n",
              "    <path d=\"M18.56 5.44l.94 2.06.94-2.06 2.06-.94-2.06-.94-.94-2.06-.94 2.06-2.06.94zm-11 1L8.5 8.5l.94-2.06 2.06-.94-2.06-.94L8.5 2.5l-.94 2.06-2.06.94zm10 10l.94 2.06.94-2.06 2.06-.94-2.06-.94-.94-2.06-.94 2.06-2.06.94z\"/><path d=\"M17.41 7.96l-1.37-1.37c-.4-.4-.92-.59-1.43-.59-.52 0-1.04.2-1.43.59L10.3 9.45l-7.72 7.72c-.78.78-.78 2.05 0 2.83L4 21.41c.39.39.9.59 1.41.59.51 0 1.02-.2 1.41-.59l7.78-7.78 2.81-2.81c.8-.78.8-2.07 0-2.86zM5.41 20L4 18.59l7.72-7.72 1.47 1.35L5.41 20z\"/>\n",
              "  </svg>\n",
              "      </button>\n",
              "      \n",
              "  <style>\n",
              "    .colab-df-container {\n",
              "      display:flex;\n",
              "      flex-wrap:wrap;\n",
              "      gap: 12px;\n",
              "    }\n",
              "\n",
              "    .colab-df-convert {\n",
              "      background-color: #E8F0FE;\n",
              "      border: none;\n",
              "      border-radius: 50%;\n",
              "      cursor: pointer;\n",
              "      display: none;\n",
              "      fill: #1967D2;\n",
              "      height: 32px;\n",
              "      padding: 0 0 0 0;\n",
              "      width: 32px;\n",
              "    }\n",
              "\n",
              "    .colab-df-convert:hover {\n",
              "      background-color: #E2EBFA;\n",
              "      box-shadow: 0px 1px 2px rgba(60, 64, 67, 0.3), 0px 1px 3px 1px rgba(60, 64, 67, 0.15);\n",
              "      fill: #174EA6;\n",
              "    }\n",
              "\n",
              "    [theme=dark] .colab-df-convert {\n",
              "      background-color: #3B4455;\n",
              "      fill: #D2E3FC;\n",
              "    }\n",
              "\n",
              "    [theme=dark] .colab-df-convert:hover {\n",
              "      background-color: #434B5C;\n",
              "      box-shadow: 0px 1px 3px 1px rgba(0, 0, 0, 0.15);\n",
              "      filter: drop-shadow(0px 1px 2px rgba(0, 0, 0, 0.3));\n",
              "      fill: #FFFFFF;\n",
              "    }\n",
              "  </style>\n",
              "\n",
              "      <script>\n",
              "        const buttonEl =\n",
              "          document.querySelector('#df-15282f76-575f-469b-8f5e-b31dc6f1af68 button.colab-df-convert');\n",
              "        buttonEl.style.display =\n",
              "          google.colab.kernel.accessAllowed ? 'block' : 'none';\n",
              "\n",
              "        async function convertToInteractive(key) {\n",
              "          const element = document.querySelector('#df-15282f76-575f-469b-8f5e-b31dc6f1af68');\n",
              "          const dataTable =\n",
              "            await google.colab.kernel.invokeFunction('convertToInteractive',\n",
              "                                                     [key], {});\n",
              "          if (!dataTable) return;\n",
              "\n",
              "          const docLinkHtml = 'Like what you see? Visit the ' +\n",
              "            '<a target=\"_blank\" href=https://colab.research.google.com/notebooks/data_table.ipynb>data table notebook</a>'\n",
              "            + ' to learn more about interactive tables.';\n",
              "          element.innerHTML = '';\n",
              "          dataTable['output_type'] = 'display_data';\n",
              "          await google.colab.output.renderOutput(dataTable, element);\n",
              "          const docLink = document.createElement('div');\n",
              "          docLink.innerHTML = docLinkHtml;\n",
              "          element.appendChild(docLink);\n",
              "        }\n",
              "      </script>\n",
              "    </div>\n",
              "  </div>\n",
              "  "
            ]
          },
          "metadata": {},
          "execution_count": 39
        }
      ],
      "source": [
        "# put your code for Q1 here, you can have multiple code blocks.\n",
        "# as usual, let's first check the basic statistics of the dataset, it should contain 100k recordds.\n",
        "df = pd.read_csv('sampled_arxiv_cs.csv')\n",
        "df.head()\n",
        "df.info()\n",
        "df.describe(include=\"all\")"
      ]
    },
    {
      "cell_type": "code",
      "execution_count": 40,
      "metadata": {
        "id": "oyOaDn8eioll",
        "colab": {
          "base_uri": "https://localhost:8080/"
        },
        "outputId": "2e7f154f-002b-4152-e3c6-ce45021f7818"
      },
      "outputs": [
        {
          "output_type": "stream",
          "name": "stdout",
          "text": [
            "id                50.000\n",
            "submitter         50.041\n",
            "authors           50.000\n",
            "title             50.000\n",
            "comments          68.220\n",
            "journal-ref       89.217\n",
            "doi               84.635\n",
            "report-no         98.830\n",
            "categories        50.000\n",
            "license           52.532\n",
            "abstract          50.000\n",
            "versions          50.000\n",
            "update_date       50.000\n",
            "authors_parsed    50.000\n",
            "dtype: float64\n"
          ]
        }
      ],
      "source": [
        "# Calculate the percentage of null values in each column\n",
        "null_percentages = df.isnull().sum() / len(df) * 100\n",
        "\n",
        "# Print the results\n",
        "print(null_percentages)"
      ]
    },
    {
      "cell_type": "code",
      "execution_count": 41,
      "metadata": {
        "id": "6DRukIKCioll",
        "colab": {
          "base_uri": "https://localhost:8080/"
        },
        "outputId": "ba6f0c93-9b76-46d5-bf6d-6243daeca14c"
      },
      "outputs": [
        {
          "output_type": "execute_result",
          "data": {
            "text/plain": [
              "843475"
            ]
          },
          "metadata": {},
          "execution_count": 41
        }
      ],
      "source": [
        "# count the total number of missing values\n",
        "df.isnull().values.sum()"
      ]
    },
    {
      "cell_type": "code",
      "source": [
        "\n",
        "df.dropna(subset=[\"abstract\"], inplace= True)\n"
      ],
      "metadata": {
        "id": "FKHnBjr2mRTL"
      },
      "execution_count": 42,
      "outputs": []
    },
    {
      "cell_type": "code",
      "source": [
        "\n",
        "df[\"abstract\"].isnull().sum()\n"
      ],
      "metadata": {
        "id": "FMKLj4QMpd_x",
        "colab": {
          "base_uri": "https://localhost:8080/"
        },
        "outputId": "4f0f9331-3b6f-484d-ac0d-2a16d7c30e49"
      },
      "execution_count": 43,
      "outputs": [
        {
          "output_type": "execute_result",
          "data": {
            "text/plain": [
              "0"
            ]
          },
          "metadata": {},
          "execution_count": 43
        }
      ]
    },
    {
      "cell_type": "markdown",
      "metadata": {
        "id": "5JvHXLS0iolm"
      },
      "source": [
        "### **Summarize your answers to Q1 below, based on your analysis:**\n"
      ]
    },
    {
      "cell_type": "markdown",
      "metadata": {
        "id": "eb2x25H-iolm"
      },
      "source": [
        "- We can know the features types from `info() method` \n",
        "    - The data type of this data in our dataset is  object in the total 14 columns.\n",
        "- We can know the basic statistics from `describe(include='all')` method as shown in code.\n",
        "- The number of features which having missing values = 14 columns as all the features have null values as shown in code.\n",
        "  - I will handle the null values  only in abstract column."
      ]
    },
    {
      "cell_type": "markdown",
      "metadata": {
        "id": "EpCPAiggiolm"
      },
      "source": [
        "Question 2: Preprocess the abstracts of the papers in the provided data corpus (note, in the tutorial, we use titles, not abstracts)\n",
        "Apply bertopic on the abstracts and explain the topics you received and discuss the quality of the topics and determine what is the optimal topic number for abstracts."
      ]
    },
    {
      "cell_type": "code",
      "execution_count": 44,
      "metadata": {
        "id": "Pt5oGL1Kiolm"
      },
      "outputs": [],
      "source": [
        "# put your code for Q2 here, you can have multiple code blocks.\n",
        "# Now let's create a tokenizer \n",
        "parser = en_core_sci_lg.load()\n",
        "parser.max_length = 7000000 #Limit the size of the parser\n",
        "punctuations = string.punctuation #list of punctuation to remove from text\n",
        "stopwords = list(STOP_WORDS)\n",
        "\n",
        "\n",
        "def spacy_tokenizer(sentence):\n",
        "    ''' Function to preprocess text of scientific papers \n",
        "        (e.g Removing Stopword and puntuations)'''\n",
        "    mytokens = parser(sentence)\n",
        "    mytokens = [ word.lemma_.lower().strip() if word.lemma_ != \"-PRON-\" else word.lower_ for word in mytokens ] # transform to lowercase and then split the scentence\n",
        "    mytokens = [ word for word in mytokens if word not in stopwords and word not in punctuations ] #remove stopsword an punctuation\n",
        "    mytokens = \" \".join([i for i in mytokens]) \n",
        "    return mytokens"
      ]
    },
    {
      "cell_type": "code",
      "execution_count": 45,
      "metadata": {
        "id": "SHs9Lkcmiolm",
        "colab": {
          "base_uri": "https://localhost:8080/"
        },
        "outputId": "56c5e844-57b5-41f6-8c28-f53cff7cbd03"
      },
      "outputs": [
        {
          "output_type": "stream",
          "name": "stderr",
          "text": [
            "100%|██████████| 50000/50000 [31:07<00:00, 26.77it/s]\n"
          ]
        }
      ],
      "source": [
        "# Apply the tokenizer to process abstract, we will use the processed_text as the input for clustering task, but feel free to compare with just using the raw titles.\n",
        "tqdm.pandas()\n",
        "\n",
        "# Function to handle float values in the \"abstract\" column\n",
        "def handle_float_value(value):\n",
        "    if isinstance(value, float):\n",
        "        return str(value)  # Convert float to string\n",
        "    return value\n",
        "\n",
        "# Apply the tokenizer to the \"abstract\" column\n",
        "df[\"processed_text\"] = df[\"abstract\"].apply(handle_float_value).progress_apply(spacy_tokenizer)\n"
      ]
    },
    {
      "cell_type": "code",
      "source": [
        "df[\"processed_text\"]"
      ],
      "metadata": {
        "colab": {
          "base_uri": "https://localhost:8080/"
        },
        "id": "VuuX2Q7Ew3kG",
        "outputId": "a0267f19-9cf7-4231-abce-91c1eed56b3e"
      },
      "execution_count": 46,
      "outputs": [
        {
          "output_type": "execute_result",
          "data": {
            "text/plain": [
              "0        safety-critical system surgical robot autonomo...\n",
              "1        entanglement key quantum resource improve meas...\n",
              "2        collaborative editing consist edit common docu...\n",
              "3        extend variational autoencoder vae collaborati...\n",
              "4        slender structure immerse cross flow experienc...\n",
              "                               ...                        \n",
              "49995    analysis 1h-nmr spectrum hinder large variatio...\n",
              "49996    thrust benefit lateral configuration two-dimen...\n",
              "49997    constant magnetic field frequently discuss kno...\n",
              "49998    virtual mental health assistants vmha prevalen...\n",
              "49999    problem estimate frequency moment data stream ...\n",
              "Name: processed_text, Length: 50000, dtype: object"
            ]
          },
          "metadata": {},
          "execution_count": 46
        }
      ]
    },
    {
      "cell_type": "code",
      "source": [
        "df['abstract']"
      ],
      "metadata": {
        "colab": {
          "base_uri": "https://localhost:8080/"
        },
        "id": "f9GIWwRp8zqq",
        "outputId": "50b253ed-b0fc-4a28-f21d-5335044c9197"
      },
      "execution_count": 47,
      "outputs": [
        {
          "output_type": "execute_result",
          "data": {
            "text/plain": [
              "0          Since many safety-critical systems, such as ...\n",
              "1          Entanglement is the key quantum resource for...\n",
              "2          Collaborative editing consists in editing a ...\n",
              "3          We extend variational autoencoders (VAEs) to...\n",
              "4          Slender structures immersed in a cross flow ...\n",
              "                               ...                        \n",
              "49995      Analysis of 1H-NMR spectra is often hindered...\n",
              "49996      The thrust benefits of lateral configuration...\n",
              "49997      A constant magnetic field has frequently bee...\n",
              "49998      Virtual Mental Health Assistants (VMHAs) hav...\n",
              "49999      The problem of estimating frequency moments ...\n",
              "Name: abstract, Length: 50000, dtype: object"
            ]
          },
          "metadata": {},
          "execution_count": 47
        }
      ]
    },
    {
      "cell_type": "code",
      "execution_count": 48,
      "metadata": {
        "id": "2Uods8Vqioln",
        "colab": {
          "base_uri": "https://localhost:8080/",
          "height": 122,
          "referenced_widgets": [
            "cd3d1c22f8b645e98969dc8e0739fbbf",
            "7b6d3015e9ab4d218128a0f7a65f9727",
            "3d01fe97d67c42a588bb65b1d73cfc4a",
            "02f277e2bc894e74ac5e5b35e4dc7d42",
            "c90914ce7ecb4d8091f6c8ad3acde446",
            "09bd3b14d57f4c1a891c626f88f33ead",
            "19d24a6922e34eb7902298eb10921425",
            "6c503a4581e94d4bad2856cf68172880",
            "8808252337354869a419b9b9ab3b3822",
            "f11afe67ea3044f59502577e4bb00a97",
            "586d688926f64ef7aeaf57127a2941ef"
          ]
        },
        "outputId": "0f165f9b-30f8-4486-a4ce-aeb33c6233af"
      },
      "outputs": [
        {
          "output_type": "display_data",
          "data": {
            "text/plain": [
              "Batches:   0%|          | 0/1563 [00:00<?, ?it/s]"
            ],
            "application/vnd.jupyter.widget-view+json": {
              "version_major": 2,
              "version_minor": 0,
              "model_id": "cd3d1c22f8b645e98969dc8e0739fbbf"
            }
          },
          "metadata": {}
        },
        {
          "output_type": "stream",
          "name": "stderr",
          "text": [
            "2023-06-06 00:01:47,533 - BERTopic - Transformed documents to Embeddings\n",
            "2023-06-06 00:02:41,325 - BERTopic - Reduced dimensionality\n",
            "2023-06-06 00:02:48,977 - BERTopic - Clustered reduced embeddings\n"
          ]
        },
        {
          "output_type": "execute_result",
          "data": {
            "text/plain": [
              "100"
            ]
          },
          "metadata": {},
          "execution_count": 48
        }
      ],
      "source": [
        "# now let's create a topic model using BERTopic \n",
        "\n",
        "# since we have quite a lot data points, let's start with a large topic number (50) and see how coherent are the learned topics.\n",
        "topic_model = BERTopic(verbose=True, embedding_model=\"paraphrase-MiniLM-L6-v2\", min_topic_size=50)\n",
        "topics, _ = topic_model.fit_transform(df[\"processed_text\"].to_numpy()); len(topic_model.get_topic_info())"
      ]
    },
    {
      "cell_type": "markdown",
      "source": [
        "### Topic Representation and visulization"
      ],
      "metadata": {
        "id": "N66wkRYw9gDQ"
      }
    },
    {
      "cell_type": "code",
      "source": [
        "# the following commands would help you to explore the topics generated. For the details of those functions, check bertopic functions.\n",
        "topic_model.get_topic_info().head(10)\n",
        "topic_model.visualize_barchart(top_n_topics=10, height=700)"
      ],
      "metadata": {
        "colab": {
          "base_uri": "https://localhost:8080/",
          "height": 1000
        },
        "id": "inpO5ntLuthg",
        "outputId": "b54b103f-c6f3-4a8f-939d-30227e357f58"
      },
      "execution_count": 49,
      "outputs": [
        {
          "output_type": "execute_result",
          "data": {
            "text/plain": [
              "   Topic  Count                                     Name  \\\n",
              "0     -1  26323                -1_model_use_datum_method   \n",
              "1      0   1625  0_channel_interference_antenna_wireless   \n",
              "2      1    901     1_image_segmentation_imaging_medical   \n",
              "3      2    848           2_logic_program_calculus_proof   \n",
              "4      3    806        3_optical_photonic_mode_waveguide   \n",
              "5      4    722     4_equation_numerical_method_solution   \n",
              "6      5    707            5_robot_robotic_human_control   \n",
              "7      6    707              6_graph_vertex_edge_problem   \n",
              "8      7    683                7_neural_dnn_network_deep   \n",
              "9      8    636             8_speech_speaker_audio_sound   \n",
              "\n",
              "                                      Representation  \\\n",
              "0  [model, use, datum, method, propose, result, s...   \n",
              "1  [channel, interference, antenna, wireless, use...   \n",
              "2  [image, segmentation, imaging, medical, ct, mr...   \n",
              "3  [logic, program, calculus, proof, language, se...   \n",
              "4  [optical, photonic, mode, waveguide, cavity, l...   \n",
              "5  [equation, numerical, method, solution, scheme...   \n",
              "6  [robot, robotic, human, control, object, task,...   \n",
              "7  [graph, vertex, edge, problem, algorithm, log,...   \n",
              "8  [neural, dnn, network, deep, layer, training, ...   \n",
              "9  [speech, speaker, audio, sound, music, asr, ac...   \n",
              "\n",
              "                                 Representative_Docs  \n",
              "0  [simultaneous localization mapping slam algori...  \n",
              "1  [paper performance power domain downlink multi...  \n",
              "2  [image segmentation important task medical app...  \n",
              "3  [conference hold marseille 1982 iclp premier i...  \n",
              "4  [report optical transmission measurement suspe...  \n",
              "5  [work propose novel framework numerical soluti...  \n",
              "6  [establish common ground intelligent robot hum...  \n",
              "7  [coloring graph assignment color vertex adjace...  \n",
              "8  [deep neural networks dnn computationally memo...  \n",
              "9  [paper propose novel auxiliary loss function t...  "
            ],
            "text/html": [
              "\n",
              "  <div id=\"df-aaa2f9e2-5c9e-4774-9689-8e5218dd56c8\">\n",
              "    <div class=\"colab-df-container\">\n",
              "      <div>\n",
              "<style scoped>\n",
              "    .dataframe tbody tr th:only-of-type {\n",
              "        vertical-align: middle;\n",
              "    }\n",
              "\n",
              "    .dataframe tbody tr th {\n",
              "        vertical-align: top;\n",
              "    }\n",
              "\n",
              "    .dataframe thead th {\n",
              "        text-align: right;\n",
              "    }\n",
              "</style>\n",
              "<table border=\"1\" class=\"dataframe\">\n",
              "  <thead>\n",
              "    <tr style=\"text-align: right;\">\n",
              "      <th></th>\n",
              "      <th>Topic</th>\n",
              "      <th>Count</th>\n",
              "      <th>Name</th>\n",
              "      <th>Representation</th>\n",
              "      <th>Representative_Docs</th>\n",
              "    </tr>\n",
              "  </thead>\n",
              "  <tbody>\n",
              "    <tr>\n",
              "      <th>0</th>\n",
              "      <td>-1</td>\n",
              "      <td>26323</td>\n",
              "      <td>-1_model_use_datum_method</td>\n",
              "      <td>[model, use, datum, method, propose, result, s...</td>\n",
              "      <td>[simultaneous localization mapping slam algori...</td>\n",
              "    </tr>\n",
              "    <tr>\n",
              "      <th>1</th>\n",
              "      <td>0</td>\n",
              "      <td>1625</td>\n",
              "      <td>0_channel_interference_antenna_wireless</td>\n",
              "      <td>[channel, interference, antenna, wireless, use...</td>\n",
              "      <td>[paper performance power domain downlink multi...</td>\n",
              "    </tr>\n",
              "    <tr>\n",
              "      <th>2</th>\n",
              "      <td>1</td>\n",
              "      <td>901</td>\n",
              "      <td>1_image_segmentation_imaging_medical</td>\n",
              "      <td>[image, segmentation, imaging, medical, ct, mr...</td>\n",
              "      <td>[image segmentation important task medical app...</td>\n",
              "    </tr>\n",
              "    <tr>\n",
              "      <th>3</th>\n",
              "      <td>2</td>\n",
              "      <td>848</td>\n",
              "      <td>2_logic_program_calculus_proof</td>\n",
              "      <td>[logic, program, calculus, proof, language, se...</td>\n",
              "      <td>[conference hold marseille 1982 iclp premier i...</td>\n",
              "    </tr>\n",
              "    <tr>\n",
              "      <th>4</th>\n",
              "      <td>3</td>\n",
              "      <td>806</td>\n",
              "      <td>3_optical_photonic_mode_waveguide</td>\n",
              "      <td>[optical, photonic, mode, waveguide, cavity, l...</td>\n",
              "      <td>[report optical transmission measurement suspe...</td>\n",
              "    </tr>\n",
              "    <tr>\n",
              "      <th>5</th>\n",
              "      <td>4</td>\n",
              "      <td>722</td>\n",
              "      <td>4_equation_numerical_method_solution</td>\n",
              "      <td>[equation, numerical, method, solution, scheme...</td>\n",
              "      <td>[work propose novel framework numerical soluti...</td>\n",
              "    </tr>\n",
              "    <tr>\n",
              "      <th>6</th>\n",
              "      <td>5</td>\n",
              "      <td>707</td>\n",
              "      <td>5_robot_robotic_human_control</td>\n",
              "      <td>[robot, robotic, human, control, object, task,...</td>\n",
              "      <td>[establish common ground intelligent robot hum...</td>\n",
              "    </tr>\n",
              "    <tr>\n",
              "      <th>7</th>\n",
              "      <td>6</td>\n",
              "      <td>707</td>\n",
              "      <td>6_graph_vertex_edge_problem</td>\n",
              "      <td>[graph, vertex, edge, problem, algorithm, log,...</td>\n",
              "      <td>[coloring graph assignment color vertex adjace...</td>\n",
              "    </tr>\n",
              "    <tr>\n",
              "      <th>8</th>\n",
              "      <td>7</td>\n",
              "      <td>683</td>\n",
              "      <td>7_neural_dnn_network_deep</td>\n",
              "      <td>[neural, dnn, network, deep, layer, training, ...</td>\n",
              "      <td>[deep neural networks dnn computationally memo...</td>\n",
              "    </tr>\n",
              "    <tr>\n",
              "      <th>9</th>\n",
              "      <td>8</td>\n",
              "      <td>636</td>\n",
              "      <td>8_speech_speaker_audio_sound</td>\n",
              "      <td>[speech, speaker, audio, sound, music, asr, ac...</td>\n",
              "      <td>[paper propose novel auxiliary loss function t...</td>\n",
              "    </tr>\n",
              "  </tbody>\n",
              "</table>\n",
              "</div>\n",
              "      <button class=\"colab-df-convert\" onclick=\"convertToInteractive('df-aaa2f9e2-5c9e-4774-9689-8e5218dd56c8')\"\n",
              "              title=\"Convert this dataframe to an interactive table.\"\n",
              "              style=\"display:none;\">\n",
              "        \n",
              "  <svg xmlns=\"http://www.w3.org/2000/svg\" height=\"24px\"viewBox=\"0 0 24 24\"\n",
              "       width=\"24px\">\n",
              "    <path d=\"M0 0h24v24H0V0z\" fill=\"none\"/>\n",
              "    <path d=\"M18.56 5.44l.94 2.06.94-2.06 2.06-.94-2.06-.94-.94-2.06-.94 2.06-2.06.94zm-11 1L8.5 8.5l.94-2.06 2.06-.94-2.06-.94L8.5 2.5l-.94 2.06-2.06.94zm10 10l.94 2.06.94-2.06 2.06-.94-2.06-.94-.94-2.06-.94 2.06-2.06.94z\"/><path d=\"M17.41 7.96l-1.37-1.37c-.4-.4-.92-.59-1.43-.59-.52 0-1.04.2-1.43.59L10.3 9.45l-7.72 7.72c-.78.78-.78 2.05 0 2.83L4 21.41c.39.39.9.59 1.41.59.51 0 1.02-.2 1.41-.59l7.78-7.78 2.81-2.81c.8-.78.8-2.07 0-2.86zM5.41 20L4 18.59l7.72-7.72 1.47 1.35L5.41 20z\"/>\n",
              "  </svg>\n",
              "      </button>\n",
              "      \n",
              "  <style>\n",
              "    .colab-df-container {\n",
              "      display:flex;\n",
              "      flex-wrap:wrap;\n",
              "      gap: 12px;\n",
              "    }\n",
              "\n",
              "    .colab-df-convert {\n",
              "      background-color: #E8F0FE;\n",
              "      border: none;\n",
              "      border-radius: 50%;\n",
              "      cursor: pointer;\n",
              "      display: none;\n",
              "      fill: #1967D2;\n",
              "      height: 32px;\n",
              "      padding: 0 0 0 0;\n",
              "      width: 32px;\n",
              "    }\n",
              "\n",
              "    .colab-df-convert:hover {\n",
              "      background-color: #E2EBFA;\n",
              "      box-shadow: 0px 1px 2px rgba(60, 64, 67, 0.3), 0px 1px 3px 1px rgba(60, 64, 67, 0.15);\n",
              "      fill: #174EA6;\n",
              "    }\n",
              "\n",
              "    [theme=dark] .colab-df-convert {\n",
              "      background-color: #3B4455;\n",
              "      fill: #D2E3FC;\n",
              "    }\n",
              "\n",
              "    [theme=dark] .colab-df-convert:hover {\n",
              "      background-color: #434B5C;\n",
              "      box-shadow: 0px 1px 3px 1px rgba(0, 0, 0, 0.15);\n",
              "      filter: drop-shadow(0px 1px 2px rgba(0, 0, 0, 0.3));\n",
              "      fill: #FFFFFF;\n",
              "    }\n",
              "  </style>\n",
              "\n",
              "      <script>\n",
              "        const buttonEl =\n",
              "          document.querySelector('#df-aaa2f9e2-5c9e-4774-9689-8e5218dd56c8 button.colab-df-convert');\n",
              "        buttonEl.style.display =\n",
              "          google.colab.kernel.accessAllowed ? 'block' : 'none';\n",
              "\n",
              "        async function convertToInteractive(key) {\n",
              "          const element = document.querySelector('#df-aaa2f9e2-5c9e-4774-9689-8e5218dd56c8');\n",
              "          const dataTable =\n",
              "            await google.colab.kernel.invokeFunction('convertToInteractive',\n",
              "                                                     [key], {});\n",
              "          if (!dataTable) return;\n",
              "\n",
              "          const docLinkHtml = 'Like what you see? Visit the ' +\n",
              "            '<a target=\"_blank\" href=https://colab.research.google.com/notebooks/data_table.ipynb>data table notebook</a>'\n",
              "            + ' to learn more about interactive tables.';\n",
              "          element.innerHTML = '';\n",
              "          dataTable['output_type'] = 'display_data';\n",
              "          await google.colab.output.renderOutput(dataTable, element);\n",
              "          const docLink = document.createElement('div');\n",
              "          docLink.innerHTML = docLinkHtml;\n",
              "          element.appendChild(docLink);\n",
              "        }\n",
              "      </script>\n",
              "    </div>\n",
              "  </div>\n",
              "  "
            ]
          },
          "metadata": {},
          "execution_count": 49
        },
        {
          "output_type": "display_data",
          "data": {
            "text/html": [
              "<html>\n",
              "<head><meta charset=\"utf-8\" /></head>\n",
              "<body>\n",
              "    <div>            <script src=\"https://cdnjs.cloudflare.com/ajax/libs/mathjax/2.7.5/MathJax.js?config=TeX-AMS-MML_SVG\"></script><script type=\"text/javascript\">if (window.MathJax && window.MathJax.Hub && window.MathJax.Hub.Config) {window.MathJax.Hub.Config({SVG: {font: \"STIX-Web\"}});}</script>                <script type=\"text/javascript\">window.PlotlyConfig = {MathJaxConfig: 'local'};</script>\n",
              "        <script src=\"https://cdn.plot.ly/plotly-2.18.2.min.js\"></script>                <div id=\"82fc563f-eb55-41dd-9dbe-29e312a07578\" class=\"plotly-graph-div\" style=\"height:2100px; width:1000px;\"></div>            <script type=\"text/javascript\">                                    window.PLOTLYENV=window.PLOTLYENV || {};                                    if (document.getElementById(\"82fc563f-eb55-41dd-9dbe-29e312a07578\")) {                    Plotly.newPlot(                        \"82fc563f-eb55-41dd-9dbe-29e312a07578\",                        [{\"marker\":{\"color\":\"#D55E00\"},\"orientation\":\"h\",\"x\":[0.014355584522273793,0.015407009129470873,0.016246231374433123,0.017719781876398184,0.032106286018646714],\"y\":[\"user  \",\"wireless  \",\"antenna  \",\"interference  \",\"channel  \"],\"type\":\"bar\",\"xaxis\":\"x\",\"yaxis\":\"y\"},{\"marker\":{\"color\":\"#0072B2\"},\"orientation\":\"h\",\"x\":[0.01452792111901358,0.017505484314294432,0.01763266843394465,0.028212869186507155,0.03094306747614379],\"y\":[\"ct  \",\"medical  \",\"imaging  \",\"segmentation  \",\"image  \"],\"type\":\"bar\",\"xaxis\":\"x2\",\"yaxis\":\"y2\"},{\"marker\":{\"color\":\"#CC79A7\"},\"orientation\":\"h\",\"x\":[0.01822486673642835,0.020870699322942998,0.022635245792491196,0.025534564987481235,0.04733270446922809],\"y\":[\"language  \",\"proof  \",\"calculus  \",\"program  \",\"logic  \"],\"type\":\"bar\",\"xaxis\":\"x3\",\"yaxis\":\"y3\"},{\"marker\":{\"color\":\"#E69F00\"},\"orientation\":\"h\",\"x\":[0.019657804557550885,0.022122600787245556,0.02921719071182709,0.03012054230788439,0.03126615296303784],\"y\":[\"cavity  \",\"waveguide  \",\"mode  \",\"photonic  \",\"optical  \"],\"type\":\"bar\",\"xaxis\":\"x4\",\"yaxis\":\"y4\"},{\"marker\":{\"color\":\"#56B4E9\"},\"orientation\":\"h\",\"x\":[0.017472853613955206,0.018203161684434834,0.019499516653451503,0.02340761271781836,0.03026649533365167],\"y\":[\"scheme  \",\"solution  \",\"method  \",\"numerical  \",\"equation  \"],\"type\":\"bar\",\"xaxis\":\"x5\",\"yaxis\":\"y5\"},{\"marker\":{\"color\":\"#009E73\"},\"orientation\":\"h\",\"x\":[0.014672326288319075,0.01552709351637957,0.01957499064440465,0.026176213634313775,0.0846362719093981],\"y\":[\"object  \",\"control  \",\"human  \",\"robotic  \",\"robot  \"],\"type\":\"bar\",\"xaxis\":\"x6\",\"yaxis\":\"y6\"},{\"marker\":{\"color\":\"#F0E442\"},\"orientation\":\"h\",\"x\":[0.021797473793656586,0.021837449482819057,0.030173578270528773,0.051477965737137414,0.08232370834799828],\"y\":[\"algorithm  \",\"problem  \",\"edge  \",\"vertex  \",\"graph  \"],\"type\":\"bar\",\"xaxis\":\"x7\",\"yaxis\":\"y7\"},{\"marker\":{\"color\":\"#D55E00\"},\"orientation\":\"h\",\"x\":[0.018725924465370903,0.018850629355520173,0.026601083530999832,0.027013000378425262,0.027823061821034202],\"y\":[\"layer  \",\"deep  \",\"network  \",\"dnn  \",\"neural  \"],\"type\":\"bar\",\"xaxis\":\"x8\",\"yaxis\":\"y8\"},{\"marker\":{\"color\":\"#0072B2\"},\"orientation\":\"h\",\"x\":[0.019367133942557232,0.019652889675526544,0.03616476857295803,0.03761564178638726,0.06099126616170257],\"y\":[\"music  \",\"sound  \",\"audio  \",\"speaker  \",\"speech  \"],\"type\":\"bar\",\"xaxis\":\"x9\",\"yaxis\":\"y9\"},{\"marker\":{\"color\":\"#CC79A7\"},\"orientation\":\"h\",\"x\":[0.016388654281420216,0.018110437466406955,0.023665787633969957,0.028390904899416466,0.0418876748702514],\"y\":[\"drug  \",\"membrane  \",\"molecular  \",\"cell  \",\"protein  \"],\"type\":\"bar\",\"xaxis\":\"x10\",\"yaxis\":\"y10\"}],                        {\"template\":{\"data\":{\"barpolar\":[{\"marker\":{\"line\":{\"color\":\"white\",\"width\":0.5},\"pattern\":{\"fillmode\":\"overlay\",\"size\":10,\"solidity\":0.2}},\"type\":\"barpolar\"}],\"bar\":[{\"error_x\":{\"color\":\"#2a3f5f\"},\"error_y\":{\"color\":\"#2a3f5f\"},\"marker\":{\"line\":{\"color\":\"white\",\"width\":0.5},\"pattern\":{\"fillmode\":\"overlay\",\"size\":10,\"solidity\":0.2}},\"type\":\"bar\"}],\"carpet\":[{\"aaxis\":{\"endlinecolor\":\"#2a3f5f\",\"gridcolor\":\"#C8D4E3\",\"linecolor\":\"#C8D4E3\",\"minorgridcolor\":\"#C8D4E3\",\"startlinecolor\":\"#2a3f5f\"},\"baxis\":{\"endlinecolor\":\"#2a3f5f\",\"gridcolor\":\"#C8D4E3\",\"linecolor\":\"#C8D4E3\",\"minorgridcolor\":\"#C8D4E3\",\"startlinecolor\":\"#2a3f5f\"},\"type\":\"carpet\"}],\"choropleth\":[{\"colorbar\":{\"outlinewidth\":0,\"ticks\":\"\"},\"type\":\"choropleth\"}],\"contourcarpet\":[{\"colorbar\":{\"outlinewidth\":0,\"ticks\":\"\"},\"type\":\"contourcarpet\"}],\"contour\":[{\"colorbar\":{\"outlinewidth\":0,\"ticks\":\"\"},\"colorscale\":[[0.0,\"#0d0887\"],[0.1111111111111111,\"#46039f\"],[0.2222222222222222,\"#7201a8\"],[0.3333333333333333,\"#9c179e\"],[0.4444444444444444,\"#bd3786\"],[0.5555555555555556,\"#d8576b\"],[0.6666666666666666,\"#ed7953\"],[0.7777777777777778,\"#fb9f3a\"],[0.8888888888888888,\"#fdca26\"],[1.0,\"#f0f921\"]],\"type\":\"contour\"}],\"heatmapgl\":[{\"colorbar\":{\"outlinewidth\":0,\"ticks\":\"\"},\"colorscale\":[[0.0,\"#0d0887\"],[0.1111111111111111,\"#46039f\"],[0.2222222222222222,\"#7201a8\"],[0.3333333333333333,\"#9c179e\"],[0.4444444444444444,\"#bd3786\"],[0.5555555555555556,\"#d8576b\"],[0.6666666666666666,\"#ed7953\"],[0.7777777777777778,\"#fb9f3a\"],[0.8888888888888888,\"#fdca26\"],[1.0,\"#f0f921\"]],\"type\":\"heatmapgl\"}],\"heatmap\":[{\"colorbar\":{\"outlinewidth\":0,\"ticks\":\"\"},\"colorscale\":[[0.0,\"#0d0887\"],[0.1111111111111111,\"#46039f\"],[0.2222222222222222,\"#7201a8\"],[0.3333333333333333,\"#9c179e\"],[0.4444444444444444,\"#bd3786\"],[0.5555555555555556,\"#d8576b\"],[0.6666666666666666,\"#ed7953\"],[0.7777777777777778,\"#fb9f3a\"],[0.8888888888888888,\"#fdca26\"],[1.0,\"#f0f921\"]],\"type\":\"heatmap\"}],\"histogram2dcontour\":[{\"colorbar\":{\"outlinewidth\":0,\"ticks\":\"\"},\"colorscale\":[[0.0,\"#0d0887\"],[0.1111111111111111,\"#46039f\"],[0.2222222222222222,\"#7201a8\"],[0.3333333333333333,\"#9c179e\"],[0.4444444444444444,\"#bd3786\"],[0.5555555555555556,\"#d8576b\"],[0.6666666666666666,\"#ed7953\"],[0.7777777777777778,\"#fb9f3a\"],[0.8888888888888888,\"#fdca26\"],[1.0,\"#f0f921\"]],\"type\":\"histogram2dcontour\"}],\"histogram2d\":[{\"colorbar\":{\"outlinewidth\":0,\"ticks\":\"\"},\"colorscale\":[[0.0,\"#0d0887\"],[0.1111111111111111,\"#46039f\"],[0.2222222222222222,\"#7201a8\"],[0.3333333333333333,\"#9c179e\"],[0.4444444444444444,\"#bd3786\"],[0.5555555555555556,\"#d8576b\"],[0.6666666666666666,\"#ed7953\"],[0.7777777777777778,\"#fb9f3a\"],[0.8888888888888888,\"#fdca26\"],[1.0,\"#f0f921\"]],\"type\":\"histogram2d\"}],\"histogram\":[{\"marker\":{\"pattern\":{\"fillmode\":\"overlay\",\"size\":10,\"solidity\":0.2}},\"type\":\"histogram\"}],\"mesh3d\":[{\"colorbar\":{\"outlinewidth\":0,\"ticks\":\"\"},\"type\":\"mesh3d\"}],\"parcoords\":[{\"line\":{\"colorbar\":{\"outlinewidth\":0,\"ticks\":\"\"}},\"type\":\"parcoords\"}],\"pie\":[{\"automargin\":true,\"type\":\"pie\"}],\"scatter3d\":[{\"line\":{\"colorbar\":{\"outlinewidth\":0,\"ticks\":\"\"}},\"marker\":{\"colorbar\":{\"outlinewidth\":0,\"ticks\":\"\"}},\"type\":\"scatter3d\"}],\"scattercarpet\":[{\"marker\":{\"colorbar\":{\"outlinewidth\":0,\"ticks\":\"\"}},\"type\":\"scattercarpet\"}],\"scattergeo\":[{\"marker\":{\"colorbar\":{\"outlinewidth\":0,\"ticks\":\"\"}},\"type\":\"scattergeo\"}],\"scattergl\":[{\"marker\":{\"colorbar\":{\"outlinewidth\":0,\"ticks\":\"\"}},\"type\":\"scattergl\"}],\"scattermapbox\":[{\"marker\":{\"colorbar\":{\"outlinewidth\":0,\"ticks\":\"\"}},\"type\":\"scattermapbox\"}],\"scatterpolargl\":[{\"marker\":{\"colorbar\":{\"outlinewidth\":0,\"ticks\":\"\"}},\"type\":\"scatterpolargl\"}],\"scatterpolar\":[{\"marker\":{\"colorbar\":{\"outlinewidth\":0,\"ticks\":\"\"}},\"type\":\"scatterpolar\"}],\"scatter\":[{\"fillpattern\":{\"fillmode\":\"overlay\",\"size\":10,\"solidity\":0.2},\"type\":\"scatter\"}],\"scatterternary\":[{\"marker\":{\"colorbar\":{\"outlinewidth\":0,\"ticks\":\"\"}},\"type\":\"scatterternary\"}],\"surface\":[{\"colorbar\":{\"outlinewidth\":0,\"ticks\":\"\"},\"colorscale\":[[0.0,\"#0d0887\"],[0.1111111111111111,\"#46039f\"],[0.2222222222222222,\"#7201a8\"],[0.3333333333333333,\"#9c179e\"],[0.4444444444444444,\"#bd3786\"],[0.5555555555555556,\"#d8576b\"],[0.6666666666666666,\"#ed7953\"],[0.7777777777777778,\"#fb9f3a\"],[0.8888888888888888,\"#fdca26\"],[1.0,\"#f0f921\"]],\"type\":\"surface\"}],\"table\":[{\"cells\":{\"fill\":{\"color\":\"#EBF0F8\"},\"line\":{\"color\":\"white\"}},\"header\":{\"fill\":{\"color\":\"#C8D4E3\"},\"line\":{\"color\":\"white\"}},\"type\":\"table\"}]},\"layout\":{\"annotationdefaults\":{\"arrowcolor\":\"#2a3f5f\",\"arrowhead\":0,\"arrowwidth\":1},\"autotypenumbers\":\"strict\",\"coloraxis\":{\"colorbar\":{\"outlinewidth\":0,\"ticks\":\"\"}},\"colorscale\":{\"diverging\":[[0,\"#8e0152\"],[0.1,\"#c51b7d\"],[0.2,\"#de77ae\"],[0.3,\"#f1b6da\"],[0.4,\"#fde0ef\"],[0.5,\"#f7f7f7\"],[0.6,\"#e6f5d0\"],[0.7,\"#b8e186\"],[0.8,\"#7fbc41\"],[0.9,\"#4d9221\"],[1,\"#276419\"]],\"sequential\":[[0.0,\"#0d0887\"],[0.1111111111111111,\"#46039f\"],[0.2222222222222222,\"#7201a8\"],[0.3333333333333333,\"#9c179e\"],[0.4444444444444444,\"#bd3786\"],[0.5555555555555556,\"#d8576b\"],[0.6666666666666666,\"#ed7953\"],[0.7777777777777778,\"#fb9f3a\"],[0.8888888888888888,\"#fdca26\"],[1.0,\"#f0f921\"]],\"sequentialminus\":[[0.0,\"#0d0887\"],[0.1111111111111111,\"#46039f\"],[0.2222222222222222,\"#7201a8\"],[0.3333333333333333,\"#9c179e\"],[0.4444444444444444,\"#bd3786\"],[0.5555555555555556,\"#d8576b\"],[0.6666666666666666,\"#ed7953\"],[0.7777777777777778,\"#fb9f3a\"],[0.8888888888888888,\"#fdca26\"],[1.0,\"#f0f921\"]]},\"colorway\":[\"#636efa\",\"#EF553B\",\"#00cc96\",\"#ab63fa\",\"#FFA15A\",\"#19d3f3\",\"#FF6692\",\"#B6E880\",\"#FF97FF\",\"#FECB52\"],\"font\":{\"color\":\"#2a3f5f\"},\"geo\":{\"bgcolor\":\"white\",\"lakecolor\":\"white\",\"landcolor\":\"white\",\"showlakes\":true,\"showland\":true,\"subunitcolor\":\"#C8D4E3\"},\"hoverlabel\":{\"align\":\"left\"},\"hovermode\":\"closest\",\"mapbox\":{\"style\":\"light\"},\"paper_bgcolor\":\"white\",\"plot_bgcolor\":\"white\",\"polar\":{\"angularaxis\":{\"gridcolor\":\"#EBF0F8\",\"linecolor\":\"#EBF0F8\",\"ticks\":\"\"},\"bgcolor\":\"white\",\"radialaxis\":{\"gridcolor\":\"#EBF0F8\",\"linecolor\":\"#EBF0F8\",\"ticks\":\"\"}},\"scene\":{\"xaxis\":{\"backgroundcolor\":\"white\",\"gridcolor\":\"#DFE8F3\",\"gridwidth\":2,\"linecolor\":\"#EBF0F8\",\"showbackground\":true,\"ticks\":\"\",\"zerolinecolor\":\"#EBF0F8\"},\"yaxis\":{\"backgroundcolor\":\"white\",\"gridcolor\":\"#DFE8F3\",\"gridwidth\":2,\"linecolor\":\"#EBF0F8\",\"showbackground\":true,\"ticks\":\"\",\"zerolinecolor\":\"#EBF0F8\"},\"zaxis\":{\"backgroundcolor\":\"white\",\"gridcolor\":\"#DFE8F3\",\"gridwidth\":2,\"linecolor\":\"#EBF0F8\",\"showbackground\":true,\"ticks\":\"\",\"zerolinecolor\":\"#EBF0F8\"}},\"shapedefaults\":{\"line\":{\"color\":\"#2a3f5f\"}},\"ternary\":{\"aaxis\":{\"gridcolor\":\"#DFE8F3\",\"linecolor\":\"#A2B1C6\",\"ticks\":\"\"},\"baxis\":{\"gridcolor\":\"#DFE8F3\",\"linecolor\":\"#A2B1C6\",\"ticks\":\"\"},\"bgcolor\":\"white\",\"caxis\":{\"gridcolor\":\"#DFE8F3\",\"linecolor\":\"#A2B1C6\",\"ticks\":\"\"}},\"title\":{\"x\":0.05},\"xaxis\":{\"automargin\":true,\"gridcolor\":\"#EBF0F8\",\"linecolor\":\"#EBF0F8\",\"ticks\":\"\",\"title\":{\"standoff\":15},\"zerolinecolor\":\"#EBF0F8\",\"zerolinewidth\":2},\"yaxis\":{\"automargin\":true,\"gridcolor\":\"#EBF0F8\",\"linecolor\":\"#EBF0F8\",\"ticks\":\"\",\"title\":{\"standoff\":15},\"zerolinecolor\":\"#EBF0F8\",\"zerolinewidth\":2}}},\"xaxis\":{\"anchor\":\"y\",\"domain\":[0.0,0.175],\"showgrid\":true},\"yaxis\":{\"anchor\":\"x\",\"domain\":[0.7555555555555555,1.0],\"showgrid\":true},\"xaxis2\":{\"anchor\":\"y2\",\"domain\":[0.275,0.45],\"showgrid\":true},\"yaxis2\":{\"anchor\":\"x2\",\"domain\":[0.7555555555555555,1.0],\"showgrid\":true},\"xaxis3\":{\"anchor\":\"y3\",\"domain\":[0.55,0.7250000000000001],\"showgrid\":true},\"yaxis3\":{\"anchor\":\"x3\",\"domain\":[0.7555555555555555,1.0],\"showgrid\":true},\"xaxis4\":{\"anchor\":\"y4\",\"domain\":[0.825,1.0],\"showgrid\":true},\"yaxis4\":{\"anchor\":\"x4\",\"domain\":[0.7555555555555555,1.0],\"showgrid\":true},\"xaxis5\":{\"anchor\":\"y5\",\"domain\":[0.0,0.175],\"showgrid\":true},\"yaxis5\":{\"anchor\":\"x5\",\"domain\":[0.37777777777777777,0.6222222222222222],\"showgrid\":true},\"xaxis6\":{\"anchor\":\"y6\",\"domain\":[0.275,0.45],\"showgrid\":true},\"yaxis6\":{\"anchor\":\"x6\",\"domain\":[0.37777777777777777,0.6222222222222222],\"showgrid\":true},\"xaxis7\":{\"anchor\":\"y7\",\"domain\":[0.55,0.7250000000000001],\"showgrid\":true},\"yaxis7\":{\"anchor\":\"x7\",\"domain\":[0.37777777777777777,0.6222222222222222],\"showgrid\":true},\"xaxis8\":{\"anchor\":\"y8\",\"domain\":[0.825,1.0],\"showgrid\":true},\"yaxis8\":{\"anchor\":\"x8\",\"domain\":[0.37777777777777777,0.6222222222222222],\"showgrid\":true},\"xaxis9\":{\"anchor\":\"y9\",\"domain\":[0.0,0.175],\"showgrid\":true},\"yaxis9\":{\"anchor\":\"x9\",\"domain\":[0.0,0.24444444444444446],\"showgrid\":true},\"xaxis10\":{\"anchor\":\"y10\",\"domain\":[0.275,0.45],\"showgrid\":true},\"yaxis10\":{\"anchor\":\"x10\",\"domain\":[0.0,0.24444444444444446],\"showgrid\":true},\"xaxis11\":{\"anchor\":\"y11\",\"domain\":[0.55,0.7250000000000001],\"showgrid\":true},\"yaxis11\":{\"anchor\":\"x11\",\"domain\":[0.0,0.24444444444444446],\"showgrid\":true},\"xaxis12\":{\"anchor\":\"y12\",\"domain\":[0.825,1.0],\"showgrid\":true},\"yaxis12\":{\"anchor\":\"x12\",\"domain\":[0.0,0.24444444444444446],\"showgrid\":true},\"annotations\":[{\"font\":{\"size\":16},\"showarrow\":false,\"text\":\"Topic 0\",\"x\":0.0875,\"xanchor\":\"center\",\"xref\":\"paper\",\"y\":1.0,\"yanchor\":\"bottom\",\"yref\":\"paper\"},{\"font\":{\"size\":16},\"showarrow\":false,\"text\":\"Topic 1\",\"x\":0.36250000000000004,\"xanchor\":\"center\",\"xref\":\"paper\",\"y\":1.0,\"yanchor\":\"bottom\",\"yref\":\"paper\"},{\"font\":{\"size\":16},\"showarrow\":false,\"text\":\"Topic 2\",\"x\":0.6375000000000001,\"xanchor\":\"center\",\"xref\":\"paper\",\"y\":1.0,\"yanchor\":\"bottom\",\"yref\":\"paper\"},{\"font\":{\"size\":16},\"showarrow\":false,\"text\":\"Topic 3\",\"x\":0.9125,\"xanchor\":\"center\",\"xref\":\"paper\",\"y\":1.0,\"yanchor\":\"bottom\",\"yref\":\"paper\"},{\"font\":{\"size\":16},\"showarrow\":false,\"text\":\"Topic 4\",\"x\":0.0875,\"xanchor\":\"center\",\"xref\":\"paper\",\"y\":0.6222222222222222,\"yanchor\":\"bottom\",\"yref\":\"paper\"},{\"font\":{\"size\":16},\"showarrow\":false,\"text\":\"Topic 5\",\"x\":0.36250000000000004,\"xanchor\":\"center\",\"xref\":\"paper\",\"y\":0.6222222222222222,\"yanchor\":\"bottom\",\"yref\":\"paper\"},{\"font\":{\"size\":16},\"showarrow\":false,\"text\":\"Topic 6\",\"x\":0.6375000000000001,\"xanchor\":\"center\",\"xref\":\"paper\",\"y\":0.6222222222222222,\"yanchor\":\"bottom\",\"yref\":\"paper\"},{\"font\":{\"size\":16},\"showarrow\":false,\"text\":\"Topic 7\",\"x\":0.9125,\"xanchor\":\"center\",\"xref\":\"paper\",\"y\":0.6222222222222222,\"yanchor\":\"bottom\",\"yref\":\"paper\"},{\"font\":{\"size\":16},\"showarrow\":false,\"text\":\"Topic 8\",\"x\":0.0875,\"xanchor\":\"center\",\"xref\":\"paper\",\"y\":0.24444444444444446,\"yanchor\":\"bottom\",\"yref\":\"paper\"},{\"font\":{\"size\":16},\"showarrow\":false,\"text\":\"Topic 9\",\"x\":0.36250000000000004,\"xanchor\":\"center\",\"xref\":\"paper\",\"y\":0.24444444444444446,\"yanchor\":\"bottom\",\"yref\":\"paper\"}],\"title\":{\"font\":{\"size\":22,\"color\":\"Black\"},\"text\":\"Topic Word Scores\",\"x\":0.5,\"xanchor\":\"center\",\"yanchor\":\"top\"},\"hoverlabel\":{\"font\":{\"size\":16,\"family\":\"Rockwell\"},\"bgcolor\":\"white\"},\"showlegend\":false,\"width\":1000,\"height\":2100},                        {\"responsive\": true}                    ).then(function(){\n",
              "                            \n",
              "var gd = document.getElementById('82fc563f-eb55-41dd-9dbe-29e312a07578');\n",
              "var x = new MutationObserver(function (mutations, observer) {{\n",
              "        var display = window.getComputedStyle(gd).display;\n",
              "        if (!display || display === 'none') {{\n",
              "            console.log([gd, 'removed!']);\n",
              "            Plotly.purge(gd);\n",
              "            observer.disconnect();\n",
              "        }}\n",
              "}});\n",
              "\n",
              "// Listen for the removal of the full notebook cells\n",
              "var notebookContainer = gd.closest('#notebook-container');\n",
              "if (notebookContainer) {{\n",
              "    x.observe(notebookContainer, {childList: true});\n",
              "}}\n",
              "\n",
              "// Listen for the clearing of the current output cell\n",
              "var outputEl = gd.closest('.output');\n",
              "if (outputEl) {{\n",
              "    x.observe(outputEl, {childList: true});\n",
              "}}\n",
              "\n",
              "                        })                };                            </script>        </div>\n",
              "</body>\n",
              "</html>"
            ]
          },
          "metadata": {}
        }
      ]
    },
    {
      "cell_type": "code",
      "source": [
        "topic_model.visualize_term_rank()"
      ],
      "metadata": {
        "colab": {
          "base_uri": "https://localhost:8080/",
          "height": 517
        },
        "id": "GXxHUshX93zh",
        "outputId": "2b1f3355-751b-475f-c966-be8a2d2c5e1f"
      },
      "execution_count": 50,
      "outputs": [
        {
          "output_type": "display_data",
          "data": {
            "text/html": [
              "<html>\n",
              "<head><meta charset=\"utf-8\" /></head>\n",
              "<body>\n",
              "    <div>            <script src=\"https://cdnjs.cloudflare.com/ajax/libs/mathjax/2.7.5/MathJax.js?config=TeX-AMS-MML_SVG\"></script><script type=\"text/javascript\">if (window.MathJax && window.MathJax.Hub && window.MathJax.Hub.Config) {window.MathJax.Hub.Config({SVG: {font: \"STIX-Web\"}});}</script>                <script type=\"text/javascript\">window.PlotlyConfig = {MathJaxConfig: 'local'};</script>\n",
              "        <script src=\"https://cdn.plot.ly/plotly-2.18.2.min.js\"></script>                <div id=\"e49db0db-89d5-436d-967f-db9d78fc5e84\" class=\"plotly-graph-div\" style=\"height:500px; width:800px;\"></div>            <script type=\"text/javascript\">                                    window.PLOTLYENV=window.PLOTLYENV || {};                                    if (document.getElementById(\"e49db0db-89d5-436d-967f-db9d78fc5e84\")) {                    Plotly.newPlot(                        \"e49db0db-89d5-436d-967f-db9d78fc5e84\",                        [{\"hovertext\":\"<b>Topic -1</b>:model_use_datum_method_propose_res\",\"line\":{\"color\":\"black\",\"width\":1.5},\"mode\":\"lines+lines\",\"name\":\"\",\"opacity\":0.1,\"x\":[1,2,3,4,5,6,7,8,9,10],\"y\":[0.00716364015424093,0.006974339853082422,0.006321446026034733,0.006218447764880366,0.005745242342697974,0.005604033191934929,0.0054375809946385365,0.005434237801382509,0.005296128666878672,0.005148036008651603],\"type\":\"scatter\"},{\"hovertext\":\"<b>Topic 0</b>:channel_interference_antenna_wirele\",\"line\":{\"color\":\"black\",\"width\":1.5},\"mode\":\"lines+lines\",\"name\":\"\",\"opacity\":0.1,\"x\":[1,2,3,4,5,6,7,8,9,10],\"y\":[0.032106286018646714,0.017719781876398184,0.016246231374433123,0.015407009129470873,0.014355584522273793,0.013670320430894398,0.0135848903262461,0.013376327328384742,0.013144372870403619,0.013109754316853305],\"type\":\"scatter\"},{\"hovertext\":\"<b>Topic 1</b>:image_segmentation_imaging_medical_\",\"line\":{\"color\":\"black\",\"width\":1.5},\"mode\":\"lines+lines\",\"name\":\"\",\"opacity\":0.1,\"x\":[1,2,3,4,5,6,7,8,9,10],\"y\":[0.03094306747614379,0.028212869186507155,0.01763266843394465,0.017505484314294432,0.01452792111901358,0.013952053958773447,0.012488230166050291,0.012381792616127074,0.011695940707766923,0.011611702325168201],\"type\":\"scatter\"},{\"hovertext\":\"<b>Topic 2</b>:logic_program_calculus_proof_langua\",\"line\":{\"color\":\"black\",\"width\":1.5},\"mode\":\"lines+lines\",\"name\":\"\",\"opacity\":0.1,\"x\":[1,2,3,4,5,6,7,8,9,10],\"y\":[0.04733270446922809,0.025534564987481235,0.022635245792491196,0.020870699322942998,0.01822486673642835,0.017694306146770707,0.017078463256901905,0.013038757722651189,0.012755727307063577,0.012168867652408663],\"type\":\"scatter\"},{\"hovertext\":\"<b>Topic 3</b>:optical_photonic_mode_waveguide_cav\",\"line\":{\"color\":\"black\",\"width\":1.5},\"mode\":\"lines+lines\",\"name\":\"\",\"opacity\":0.1,\"x\":[1,2,3,4,5,6,7,8,9,10],\"y\":[0.03126615296303784,0.03012054230788439,0.02921719071182709,0.022122600787245556,0.019657804557550885,0.01935636414327827,0.017374956254226206,0.016588949662181527,0.016571430883216456,0.0161433659615248],\"type\":\"scatter\"},{\"hovertext\":\"<b>Topic 4</b>:equation_numerical_method_solution_\",\"line\":{\"color\":\"black\",\"width\":1.5},\"mode\":\"lines+lines\",\"name\":\"\",\"opacity\":0.1,\"x\":[1,2,3,4,5,6,7,8,9,10],\"y\":[0.03026649533365167,0.02340761271781836,0.019499516653451503,0.018203161684434834,0.017472853613955206,0.016352731245627344,0.015586746546268569,0.014802237586420618,0.014761630932698711,0.014600458705432367],\"type\":\"scatter\"},{\"hovertext\":\"<b>Topic 5</b>:robot_robotic_human_control_object_\",\"line\":{\"color\":\"black\",\"width\":1.5},\"mode\":\"lines+lines\",\"name\":\"\",\"opacity\":0.1,\"x\":[1,2,3,4,5,6,7,8,9,10],\"y\":[0.0846362719093981,0.026176213634313775,0.01957499064440465,0.01552709351637957,0.014672326288319075,0.014062575392324311,0.01284012957291902,0.01260547422869523,0.01180766713098158,0.010906127256940928],\"type\":\"scatter\"},{\"hovertext\":\"<b>Topic 6</b>:graph_vertex_edge_problem_algorithm\",\"line\":{\"color\":\"black\",\"width\":1.5},\"mode\":\"lines+lines\",\"name\":\"\",\"opacity\":0.1,\"x\":[1,2,3,4,5,6,7,8,9,10],\"y\":[0.08232370834799828,0.051477965737137414,0.030173578270528773,0.021837449482819057,0.021797473793656586,0.020569076191341396,0.020196620860250238,0.01687030877243789,0.01620156296329179,0.01542892093498141],\"type\":\"scatter\"},{\"hovertext\":\"<b>Topic 7</b>:neural_dnn_network_deep_layer_train\",\"line\":{\"color\":\"black\",\"width\":1.5},\"mode\":\"lines+lines\",\"name\":\"\",\"opacity\":0.1,\"x\":[1,2,3,4,5,6,7,8,9,10],\"y\":[0.027823061821034202,0.027013000378425262,0.026601083530999832,0.018850629355520173,0.018725924465370903,0.018489389166357232,0.016567016940639456,0.013359297338695626,0.012762533709329638,0.012135404842964626],\"type\":\"scatter\"},{\"hovertext\":\"<b>Topic 8</b>:speech_speaker_audio_sound_music_as\",\"line\":{\"color\":\"black\",\"width\":1.5},\"mode\":\"lines+lines\",\"name\":\"\",\"opacity\":0.1,\"x\":[1,2,3,4,5,6,7,8,9,10],\"y\":[0.06099126616170257,0.03761564178638726,0.03616476857295803,0.019652889675526544,0.019367133942557232,0.0191991089734972,0.016767432400822534,0.016532242767458374,0.015737258683766377,0.012791356791972821],\"type\":\"scatter\"},{\"hovertext\":\"<b>Topic 9</b>:protein_cell_molecular_membrane_dru\",\"line\":{\"color\":\"black\",\"width\":1.5},\"mode\":\"lines+lines\",\"name\":\"\",\"opacity\":0.1,\"x\":[1,2,3,4,5,6,7,8,9,10],\"y\":[0.0418876748702514,0.028390904899416466,0.023665787633969957,0.018110437466406955,0.016388654281420216,0.016197321420425514,0.014150218780863344,0.011337817829857863,0.010435396278033035,0.00981885939017263],\"type\":\"scatter\"},{\"hovertext\":\"<b>Topic 10</b>:vehicle_traffic_driving_driver_aut\",\"line\":{\"color\":\"black\",\"width\":1.5},\"mode\":\"lines+lines\",\"name\":\"\",\"opacity\":0.1,\"x\":[1,2,3,4,5,6,7,8,9,10],\"y\":[0.0513969331871803,0.0370767743747195,0.025493533836507952,0.019372812500528875,0.018701650622952024,0.018279652165361267,0.015823347197083917,0.015170063389142258,0.01452106290899544,0.013677871924994459],\"type\":\"scatter\"},{\"hovertext\":\"<b>Topic 11</b>:game_player_equilibrium_nash_strat\",\"line\":{\"color\":\"black\",\"width\":1.5},\"mode\":\"lines+lines\",\"name\":\"\",\"opacity\":0.1,\"x\":[1,2,3,4,5,6,7,8,9,10],\"y\":[0.11345878440122092,0.05798231480885383,0.03546572809778009,0.025518351143153106,0.02288744509693537,0.016481414488720775,0.014235194495830135,0.013513742124126666,0.010938419054369281,0.010886946416582714],\"type\":\"scatter\"},{\"hovertext\":\"<b>Topic 12</b>:policy_rl_agent_reinforcement_rewa\",\"line\":{\"color\":\"black\",\"width\":1.5},\"mode\":\"lines+lines\",\"name\":\"\",\"opacity\":0.1,\"x\":[1,2,3,4,5,6,7,8,9,10],\"y\":[0.04755134404771297,0.045963430938573996,0.04362924732914997,0.04168173107058646,0.03314051264393213,0.03164572218068139,0.021173811383163148,0.021145015038604244,0.017618922167725162,0.01490270422369178],\"type\":\"scatter\"},{\"hovertext\":\"<b>Topic 13</b>:power_grid_energy_load_system_cont\",\"line\":{\"color\":\"black\",\"width\":1.5},\"mode\":\"lines+lines\",\"name\":\"\",\"opacity\":0.1,\"x\":[1,2,3,4,5,6,7,8,9,10],\"y\":[0.03548559508564164,0.03116945025854563,0.022964046879847322,0.019251325241293585,0.015687017862131038,0.014852463112163193,0.01469758787945025,0.014634205923372246,0.01351822289332253,0.01264428769853395],\"type\":\"scatter\"},{\"hovertext\":\"<b>Topic 14</b>:energy_electron_calculation_atom_o\",\"line\":{\"color\":\"black\",\"width\":1.5},\"mode\":\"lines+lines\",\"name\":\"\",\"opacity\":0.1,\"x\":[1,2,3,4,5,6,7,8,9,10],\"y\":[0.02808859745914092,0.026294718983284962,0.024116247923785115,0.023664093575476622,0.021046559607130512,0.018477425945804742,0.017418331288208976,0.01602838053572753,0.013622435199365329,0.013567778936913522],\"type\":\"scatter\"},{\"hovertext\":\"<b>Topic 15</b>:flow_turbulent_turbulence_reynolds\",\"line\":{\"color\":\"black\",\"width\":1.5},\"mode\":\"lines+lines\",\"name\":\"\",\"opacity\":0.1,\"x\":[1,2,3,4,5,6,7,8,9,10],\"y\":[0.05169237983165702,0.03076607159525039,0.030080883467150606,0.024725463849470965,0.022854325122649913,0.02154569352612822,0.021176913661139222,0.020742314531817616,0.015003461822281175,0.015001127574515893],\"type\":\"scatter\"},{\"hovertext\":\"<b>Topic 16</b>:quantum_classical_circuit_qubit_ga\",\"line\":{\"color\":\"black\",\"width\":1.5},\"mode\":\"lines+lines\",\"name\":\"\",\"opacity\":0.1,\"x\":[1,2,3,4,5,6,7,8,9,10],\"y\":[0.10874799305717299,0.02836307059894965,0.02337161092435595,0.020336304862081336,0.015956854990463273,0.015586749698241744,0.012031861656267575,0.011810979841698922,0.011705365480384429,0.010305773582403657],\"type\":\"scatter\"},{\"hovertext\":\"<b>Topic 17</b>:mathbb_mathcal_mathbf_function_eps\",\"line\":{\"color\":\"black\",\"width\":1.5},\"mode\":\"lines+lines\",\"name\":\"\",\"opacity\":0.1,\"x\":[1,2,3,4,5,6,7,8,9,10],\"y\":[0.03587235956165984,0.026075280037024594,0.020108003193985584,0.01934322755529111,0.01864965349934172,0.018343251912136156,0.016973340169231008,0.01556453908310289,0.01505392287267337,0.013954059815319799],\"type\":\"scatter\"},{\"hovertext\":\"<b>Topic 18</b>:plasma_magnetic_electron_ion_wave_\",\"line\":{\"color\":\"black\",\"width\":1.5},\"mode\":\"lines+lines\",\"name\":\"\",\"opacity\":0.1,\"x\":[1,2,3,4,5,6,7,8,9,10],\"y\":[0.0861118888026451,0.028234248633729704,0.02812371485095068,0.027803723053084015,0.01996031898629886,0.018724933005468975,0.017824877741209902,0.01629093271111932,0.01548370066615693,0.014825988179212053],\"type\":\"scatter\"},{\"hovertext\":\"<b>Topic 19</b>:control_controller_system_nonlinea\",\"line\":{\"color\":\"black\",\"width\":1.5},\"mode\":\"lines+lines\",\"name\":\"\",\"opacity\":0.1,\"x\":[1,2,3,4,5,6,7,8,9,10],\"y\":[0.05195056611837761,0.03580103202449899,0.030503761821638713,0.020309244034420252,0.0187192842108666,0.01856987053112902,0.017599255894150314,0.015613596322496334,0.014828694851151819,0.01470667773684309],\"type\":\"scatter\"},{\"hovertext\":\"<b>Topic 20</b>:network_community_node_centrality_\",\"line\":{\"color\":\"black\",\"width\":1.5},\"mode\":\"lines+lines\",\"name\":\"\",\"opacity\":0.1,\"x\":[1,2,3,4,5,6,7,8,9,10],\"y\":[0.052615762096519886,0.040878071835881255,0.03636880742240195,0.02053896742999869,0.01865046794544914,0.016720564959387563,0.01651545676996555,0.01575917101189074,0.013960212323823691,0.013812532913054487],\"type\":\"scatter\"},{\"hovertext\":\"<b>Topic 21</b>:covid_19_epidemic_infection_diseas\",\"line\":{\"color\":\"black\",\"width\":1.5},\"mode\":\"lines+lines\",\"name\":\"\",\"opacity\":0.1,\"x\":[1,2,3,4,5,6,7,8,9,10],\"y\":[0.058828979114439975,0.05254678214679117,0.040545141299950654,0.02975673905763242,0.029582750563700067,0.027850323709725292,0.025022324775027648,0.017388294163583406,0.01678933500549722,0.01621858160936061],\"type\":\"scatter\"},{\"hovertext\":\"<b>Topic 22</b>:word_language_sentence_embedding_t\",\"line\":{\"color\":\"black\",\"width\":1.5},\"mode\":\"lines+lines\",\"name\":\"\",\"opacity\":0.1,\"x\":[1,2,3,4,5,6,7,8,9,10],\"y\":[0.0613580293470022,0.05493395900323956,0.03829076153331196,0.027457347851987345,0.0243292669353023,0.020320947615630684,0.01904182357121962,0.018611781631782016,0.01808394170788421,0.0158282766922963],\"type\":\"scatter\"},{\"hovertext\":\"<b>Topic 23</b>:memory_gpu_performance_parallel_fp\",\"line\":{\"color\":\"black\",\"width\":1.5},\"mode\":\"lines+lines\",\"name\":\"\",\"opacity\":0.1,\"x\":[1,2,3,4,5,6,7,8,9,10],\"y\":[0.04673655045049032,0.027111671826722333,0.01892529173200055,0.017216387382832838,0.01716188620818213,0.016285821206096462,0.015815874781190363,0.015376004381110739,0.014482206448991744,0.014082278060458498],\"type\":\"scatter\"},{\"hovertext\":\"<b>Topic 24</b>:relativity_universe_gravity_gravit\",\"line\":{\"color\":\"black\",\"width\":1.5},\"mode\":\"lines+lines\",\"name\":\"\",\"opacity\":0.1,\"x\":[1,2,3,4,5,6,7,8,9,10],\"y\":[0.0469754018830277,0.04172642292229506,0.03297051849550011,0.03090250168958369,0.02784888128846283,0.02715411248954573,0.026604384955155387,0.026060378268655985,0.021159519234804712,0.01943342755809651],\"type\":\"scatter\"},{\"hovertext\":\"<b>Topic 25</b>:video_frame_action_temporal_object\",\"line\":{\"color\":\"black\",\"width\":1.5},\"mode\":\"lines+lines\",\"name\":\"\",\"opacity\":0.1,\"x\":[1,2,3,4,5,6,7,8,9,10],\"y\":[0.10111869000677363,0.03744463649847283,0.03306705438960964,0.025579718867982576,0.01573945555982509,0.014300110057263416,0.013267055880137156,0.01323518331532427,0.012363096554943739,0.01206329261244931],\"type\":\"scatter\"},{\"hovertext\":\"<b>Topic 26</b>:detector_lhc_collider_luminosity_b\",\"line\":{\"color\":\"black\",\"width\":1.5},\"mode\":\"lines+lines\",\"name\":\"\",\"opacity\":0.1,\"x\":[1,2,3,4,5,6,7,8,9,10],\"y\":[0.059930076964732175,0.05453559551181437,0.03192105531411557,0.028543970345822085,0.02524490304564671,0.022855198607943567,0.021442099639139886,0.020758428267527575,0.02008580741166432,0.018966253835605542],\"type\":\"scatter\"},{\"hovertext\":\"<b>Topic 27</b>:graph_gnn_node_embedding_gcn_netwo\",\"line\":{\"color\":\"black\",\"width\":1.5},\"mode\":\"lines+lines\",\"name\":\"\",\"opacity\":0.1,\"x\":[1,2,3,4,5,6,7,8,9,10],\"y\":[0.08224722580829325,0.05459524291964318,0.038618636662033475,0.02070825191716616,0.02058524383025777,0.016886600705520255,0.015593513512395811,0.01380822674550841,0.012954454412651388,0.012561507194755479],\"type\":\"scatter\"},{\"hovertext\":\"<b>Topic 28</b>:adversarial_attack_perturbation_de\",\"line\":{\"color\":\"black\",\"width\":1.5},\"mode\":\"lines+lines\",\"name\":\"\",\"opacity\":0.1,\"x\":[1,2,3,4,5,6,7,8,9,10],\"y\":[0.10345293126908021,0.08348785112387877,0.027777301210981084,0.02764501671381889,0.02707796853590722,0.021525903852973524,0.021449706817848194,0.01950599345464789,0.016308335357273957,0.015824757537127875],\"type\":\"scatter\"},{\"hovertext\":\"<b>Topic 29</b>:recommendation_user_recommender_it\",\"line\":{\"color\":\"black\",\"width\":1.5},\"mode\":\"lines+lines\",\"name\":\"\",\"opacity\":0.1,\"x\":[1,2,3,4,5,6,7,8,9,10],\"y\":[0.0820238674648171,0.055377397511898484,0.05273918863407878,0.05266577150935753,0.020690881295083268,0.014893173047888487,0.014332208994099996,0.01183146965067282,0.011758096728100987,0.011609511741345863],\"type\":\"scatter\"},{\"hovertext\":\"<b>Topic 30</b>:face_facial_recognition_image_expr\",\"line\":{\"color\":\"black\",\"width\":1.5},\"mode\":\"lines+lines\",\"name\":\"\",\"opacity\":0.1,\"x\":[1,2,3,4,5,6,7,8,9,10],\"y\":[0.12504901514481756,0.05707387207864281,0.03548206870461063,0.02276163682454355,0.016644602698265572,0.015846635046080897,0.014701726037972726,0.014613692976659445,0.01362530491909921,0.012079798727433021],\"type\":\"scatter\"},{\"hovertext\":\"<b>Topic 31</b>:citation_journal_scientific_resear\",\"line\":{\"color\":\"black\",\"width\":1.5},\"mode\":\"lines+lines\",\"name\":\"\",\"opacity\":0.1,\"x\":[1,2,3,4,5,6,7,8,9,10],\"y\":[0.07986869595498614,0.03806088383850396,0.03776433953701066,0.03728787454353377,0.03602626094520368,0.029951070689446413,0.027916311619311605,0.02172480578599656,0.01909943596893586,0.018974850719953414],\"type\":\"scatter\"},{\"hovertext\":\"<b>Topic 32</b>:solar_wind_magnetic_cme_coronal_sh\",\"line\":{\"color\":\"black\",\"width\":1.5},\"mode\":\"lines+lines\",\"name\":\"\",\"opacity\":0.1,\"x\":[1,2,3,4,5,6,7,8,9,10],\"y\":[0.07106827247259714,0.04329490546472747,0.0312715359745357,0.027736656569326425,0.019836228160789855,0.018342208934315415,0.017979191230833445,0.01795491580993994,0.0172638262236399,0.017143639769805614],\"type\":\"scatter\"},{\"hovertext\":\"<b>Topic 33</b>:market_price_stock_valuation_finan\",\"line\":{\"color\":\"black\",\"width\":1.5},\"mode\":\"lines+lines\",\"name\":\"\",\"opacity\":0.1,\"x\":[1,2,3,4,5,6,7,8,9,10],\"y\":[0.058948000805446585,0.051774950178383135,0.04959926834647305,0.027263287130096875,0.02599299162779126,0.022050853593808577,0.021986006554632835,0.019157318571590764,0.01837073385696188,0.017384743936940505],\"type\":\"scatter\"},{\"hovertext\":\"<b>Topic 34</b>:bayesian_posterior_distribution_in\",\"line\":{\"color\":\"black\",\"width\":1.5},\"mode\":\"lines+lines\",\"name\":\"\",\"opacity\":0.1,\"x\":[1,2,3,4,5,6,7,8,9,10],\"y\":[0.037694336437349096,0.03271173845852863,0.026934434689667917,0.02269462050448618,0.020733370624961844,0.020492074381874902,0.020227680217423986,0.019509852380772165,0.017564705992648443,0.016572628478556308],\"type\":\"scatter\"},{\"hovertext\":\"<b>Topic 35</b>:blockchain_transaction_contract_bi\",\"line\":{\"color\":\"black\",\"width\":1.5},\"mode\":\"lines+lines\",\"name\":\"\",\"opacity\":0.1,\"x\":[1,2,3,4,5,6,7,8,9,10],\"y\":[0.10762163865574063,0.05352481051032996,0.046177167817275766,0.03876819563276556,0.03156494011780631,0.024617779812848642,0.023341006404997443,0.019476207666426965,0.01883301480796576,0.018726788422147807],\"type\":\"scatter\"},{\"hovertext\":\"<b>Topic 36</b>:software_bug_project_developer_dev\",\"line\":{\"color\":\"black\",\"width\":1.5},\"mode\":\"lines+lines\",\"name\":\"\",\"opacity\":0.1,\"x\":[1,2,3,4,5,6,7,8,9,10],\"y\":[0.0963938685521285,0.037861879040801814,0.03380086684787607,0.031159271301734192,0.026524735592130796,0.02639265450533275,0.015972947094027818,0.0158255479482175,0.01384796038527107,0.013187097504800132],\"type\":\"scatter\"},{\"hovertext\":\"<b>Topic 37</b>:student_physics_course_education_s\",\"line\":{\"color\":\"black\",\"width\":1.5},\"mode\":\"lines+lines\",\"name\":\"\",\"opacity\":0.1,\"x\":[1,2,3,4,5,6,7,8,9,10],\"y\":[0.11667112455473755,0.044472447700512924,0.04304458436512003,0.0379781604379014,0.022218056246017113,0.022168528596804505,0.02151868439336153,0.02019650323106208,0.01980621079838508,0.01973817422214471],\"type\":\"scatter\"},{\"hovertext\":\"<b>Topic 38</b>:clustering_cluster_datum_algorithm\",\"line\":{\"color\":\"black\",\"width\":1.5},\"mode\":\"lines+lines\",\"name\":\"\",\"opacity\":0.1,\"x\":[1,2,3,4,5,6,7,8,9,10],\"y\":[0.11521488032147888,0.0593212501328119,0.021153209466390266,0.02088239224371067,0.019055738745365668,0.015908088287894057,0.013715155254127087,0.012167421351018963,0.012089351879071253,0.012068544202134749],\"type\":\"scatter\"},{\"hovertext\":\"<b>Topic 39</b>:news_social_tweet_twitter_medium_f\",\"line\":{\"color\":\"black\",\"width\":1.5},\"mode\":\"lines+lines\",\"name\":\"\",\"opacity\":0.1,\"x\":[1,2,3,4,5,6,7,8,9,10],\"y\":[0.05970513292152138,0.046754079071932055,0.04394266857331676,0.04375122814418451,0.036495579642767416,0.034822662858224045,0.025159526858664964,0.02386094298523296,0.022072384913652075,0.019723978425395538],\"type\":\"scatter\"},{\"hovertext\":\"<b>Topic 40</b>:magnetic_spin_field_magnetization_\",\"line\":{\"color\":\"black\",\"width\":1.5},\"mode\":\"lines+lines\",\"name\":\"\",\"opacity\":0.1,\"x\":[1,2,3,4,5,6,7,8,9,10],\"y\":[0.07449548088367693,0.04541139855449495,0.03683533694434909,0.02849981688660327,0.02433172700315696,0.02038177472607365,0.013322250392660063,0.012971566257413372,0.012443706981182015,0.012380470989766204],\"type\":\"scatter\"},{\"hovertext\":\"<b>Topic 41</b>:uav_uavs_aerial_unmanned_drone_veh\",\"line\":{\"color\":\"black\",\"width\":1.5},\"mode\":\"lines+lines\",\"name\":\"\",\"opacity\":0.1,\"x\":[1,2,3,4,5,6,7,8,9,10],\"y\":[0.1004155177453233,0.05427425773520706,0.04636176470647549,0.037174927409825566,0.034730826353258235,0.020422116342185156,0.01303778205362896,0.012964040741693803,0.011508803082324161,0.01096365030272493],\"type\":\"scatter\"},{\"hovertext\":\"<b>Topic 42</b>:gan_generative_adversarial_image_d\",\"line\":{\"color\":\"black\",\"width\":1.5},\"mode\":\"lines+lines\",\"name\":\"\",\"opacity\":0.1,\"x\":[1,2,3,4,5,6,7,8,9,10],\"y\":[0.12079180193541529,0.043186798755960557,0.03459630217063647,0.033303605034810696,0.02812664852908376,0.023822805723613692,0.023160120469527777,0.02245921680963651,0.0162285007802347,0.013448207999030638],\"type\":\"scatter\"},{\"hovertext\":\"<b>Topic 43</b>:ai_intelligence_artificial_human_e\",\"line\":{\"color\":\"black\",\"width\":1.5},\"mode\":\"lines+lines\",\"name\":\"\",\"opacity\":0.1,\"x\":[1,2,3,4,5,6,7,8,9,10],\"y\":[0.1528324322582898,0.03732376640811184,0.02679198836378341,0.02513134629350364,0.022403066157999224,0.02218482218494771,0.018190040649230393,0.018169435216757016,0.016555676602793508,0.014389865760454425],\"type\":\"scatter\"},{\"hovertext\":\"<b>Topic 44</b>:climate_ice_forecast_atmospheric_c\",\"line\":{\"color\":\"black\",\"width\":1.5},\"mode\":\"lines+lines\",\"name\":\"\",\"opacity\":0.1,\"x\":[1,2,3,4,5,6,7,8,9,10],\"y\":[0.04877394547886336,0.02600206254277873,0.021327417952154815,0.01943649493704982,0.018786103519066108,0.01806458028674601,0.017381611275310793,0.016059295296647458,0.015574127423645877,0.015497667516383692],\"type\":\"scatter\"},{\"hovertext\":\"<b>Topic 45</b>:crack_strain_stress_fracture_mater\",\"line\":{\"color\":\"black\",\"width\":1.5},\"mode\":\"lines+lines\",\"name\":\"\",\"opacity\":0.1,\"x\":[1,2,3,4,5,6,7,8,9,10],\"y\":[0.03678661624718393,0.03446536730354611,0.034118479463115504,0.03212870182923842,0.025560635359978844,0.024500925913454572,0.02305275405151247,0.019763445536399818,0.019027590782271165,0.015451648268999911],\"type\":\"scatter\"},{\"hovertext\":\"<b>Topic 46</b>:neutrino_detector_neutrinos_reacto\",\"line\":{\"color\":\"black\",\"width\":1.5},\"mode\":\"lines+lines\",\"name\":\"\",\"opacity\":0.1,\"x\":[1,2,3,4,5,6,7,8,9,10],\"y\":[0.11584769954855491,0.059077683427332335,0.044783908398861615,0.03426567432832561,0.032827110817658274,0.031140789244603687,0.028191964742486232,0.024208224466816686,0.021782855136903437,0.020490974196973606],\"type\":\"scatter\"},{\"hovertext\":\"<b>Topic 47</b>:regret_bandit_arm_reward_algorithm\",\"line\":{\"color\":\"black\",\"width\":1.5},\"mode\":\"lines+lines\",\"name\":\"\",\"opacity\":0.1,\"x\":[1,2,3,4,5,6,7,8,9,10],\"y\":[0.10299545195806324,0.08891752550351331,0.05474633610360616,0.04528778705465531,0.0267984395849234,0.0214397576373123,0.020844610499253395,0.019747316576524336,0.01955905882074977,0.018909343163909846],\"type\":\"scatter\"},{\"hovertext\":\"<b>Topic 48</b>:label_learning_contrastive_sample_\",\"line\":{\"color\":\"black\",\"width\":1.5},\"mode\":\"lines+lines\",\"name\":\"\",\"opacity\":0.1,\"x\":[1,2,3,4,5,6,7,8,9,10],\"y\":[0.07801725107947675,0.02742762672815774,0.02591463373775678,0.02296532633471756,0.021626702007048422,0.017842656491895946,0.01675190780698242,0.014750230728067058,0.014416750881719759,0.014198376687982425],\"type\":\"scatter\"},{\"hovertext\":\"<b>Topic 49</b>:3d_depth_scene_view_image_shape_re\",\"line\":{\"color\":\"black\",\"width\":1.5},\"mode\":\"lines+lines\",\"name\":\"\",\"opacity\":0.1,\"x\":[1,2,3,4,5,6,7,8,9,10],\"y\":[0.04342918427105714,0.039666612124924935,0.030192014627642573,0.029437886719793836,0.02620214493808665,0.024933350827642378,0.024876494694168635,0.018449226986138517,0.016977987620497147,0.016792709362896417],\"type\":\"scatter\"},{\"hovertext\":\"<b>Topic 50</b>:plasmonic_plasmon_optical_nanostru\",\"line\":{\"color\":\"black\",\"width\":1.5},\"mode\":\"lines+lines\",\"name\":\"\",\"opacity\":0.1,\"x\":[1,2,3,4,5,6,7,8,9,10],\"y\":[0.07133090035713346,0.07132700063877952,0.030669860054825054,0.028439978381541962,0.025421342841950863,0.02485779709606161,0.023015123965340042,0.022179962610601775,0.021806016058357632,0.021217276423085962],\"type\":\"scatter\"},{\"hovertext\":\"<b>Topic 51</b>:metamaterial_metasurface_wave_opti\",\"line\":{\"color\":\"black\",\"width\":1.5},\"mode\":\"lines+lines\",\"name\":\"\",\"opacity\":0.1,\"x\":[1,2,3,4,5,6,7,8,9,10],\"y\":[0.1077162086662857,0.06531501576950322,0.027101589359841423,0.019990315879552904,0.019612347232859796,0.0194776319079355,0.0194126035831867,0.017825175268635893,0.01759790253116662,0.016884401381859173],\"type\":\"scatter\"},{\"hovertext\":\"<b>Topic 52</b>:object_segmentation_image_instance\",\"line\":{\"color\":\"black\",\"width\":1.5},\"mode\":\"lines+lines\",\"name\":\"\",\"opacity\":0.1,\"x\":[1,2,3,4,5,6,7,8,9,10],\"y\":[0.05452272878415221,0.03837157556447842,0.025136367937965306,0.024248981461890643,0.02374741906991847,0.019597615963397114,0.0185319340550333,0.01834649346915302,0.017676241019981925,0.014591030365711532],\"type\":\"scatter\"},{\"hovertext\":\"<b>Topic 53</b>:fl_federated_client_learning_priva\",\"line\":{\"color\":\"black\",\"width\":1.5},\"mode\":\"lines+lines\",\"name\":\"\",\"opacity\":0.1,\"x\":[1,2,3,4,5,6,7,8,9,10],\"y\":[0.10763409013752177,0.08560833304915598,0.07745866829617845,0.033191181759551325,0.031009091874116487,0.023178864043918522,0.023158603645785925,0.023081351167086848,0.019295488752348874,0.018941448133675643],\"type\":\"scatter\"},{\"hovertext\":\"<b>Topic 54</b>:crop_plant_image_imagery_detection\",\"line\":{\"color\":\"black\",\"width\":1.5},\"mode\":\"lines+lines\",\"name\":\"\",\"opacity\":0.1,\"x\":[1,2,3,4,5,6,7,8,9,10],\"y\":[0.04053661697127595,0.028552497607316953,0.019708708931724384,0.01805494590255443,0.017723599899880656,0.016665508757641445,0.014764354688886237,0.01374371999207932,0.01330683325917509,0.013093056488553322],\"type\":\"scatter\"},{\"hovertext\":\"<b>Topic 55</b>:dialogue_conversation_conversation\",\"line\":{\"color\":\"black\",\"width\":1.5},\"mode\":\"lines+lines\",\"name\":\"\",\"opacity\":0.1,\"x\":[1,2,3,4,5,6,7,8,9,10],\"y\":[0.08352587565954912,0.06131410273356394,0.043725162237800576,0.03922313998938021,0.03176977339947215,0.028512107664564818,0.0221961712928101,0.020047586067069786,0.019815273757913594,0.01818740830677483],\"type\":\"scatter\"},{\"hovertext\":\"<b>Topic 56</b>:laser_pulse_plasma_electron_beam_a\",\"line\":{\"color\":\"black\",\"width\":1.5},\"mode\":\"lines+lines\",\"name\":\"\",\"opacity\":0.1,\"x\":[1,2,3,4,5,6,7,8,9,10],\"y\":[0.10644991676730893,0.05371074837419978,0.05167107824548427,0.045164020583332305,0.04360794323793462,0.034664269143881,0.030689389978981258,0.028501299211289487,0.024485797230205324,0.021681786961251958],\"type\":\"scatter\"},{\"hovertext\":\"<b>Topic 57</b>:magnetic_dynamo_field_helicity_tur\",\"line\":{\"color\":\"black\",\"width\":1.5},\"mode\":\"lines+lines\",\"name\":\"\",\"opacity\":0.1,\"x\":[1,2,3,4,5,6,7,8,9,10],\"y\":[0.07923313049344934,0.04184266143095613,0.03666506391830182,0.0342232638475298,0.0324073295687793,0.030919944906566445,0.028429411630433755,0.027145065064072032,0.027030541703883585,0.020876797594232617],\"type\":\"scatter\"},{\"hovertext\":\"<b>Topic 58</b>:domain_adaptation_target_source_ud\",\"line\":{\"color\":\"black\",\"width\":1.5},\"mode\":\"lines+lines\",\"name\":\"\",\"opacity\":0.1,\"x\":[1,2,3,4,5,6,7,8,9,10],\"y\":[0.1346513892439633,0.07074332142965685,0.05243284815050893,0.045150973305381634,0.03447889768679112,0.028175151867352286,0.024160174883467563,0.019234585927456506,0.01825066129234805,0.017977163504124198],\"type\":\"scatter\"},{\"hovertext\":\"<b>Topic 59</b>:privacy_private_differential_mecha\",\"line\":{\"color\":\"black\",\"width\":1.5},\"mode\":\"lines+lines\",\"name\":\"\",\"opacity\":0.1,\"x\":[1,2,3,4,5,6,7,8,9,10],\"y\":[0.13615954714686118,0.04975409028788294,0.04726055174824824,0.028255561389953034,0.025046247257112183,0.024804377667596404,0.024049237021588652,0.02273353586284201,0.015334747345990652,0.014531809788639721],\"type\":\"scatter\"},{\"hovertext\":\"<b>Topic 60</b>:quantum_mechanic_theory_interpreta\",\"line\":{\"color\":\"black\",\"width\":1.5},\"mode\":\"lines+lines\",\"name\":\"\",\"opacity\":0.1,\"x\":[1,2,3,4,5,6,7,8,9,10],\"y\":[0.0813055395419826,0.05095796389717801,0.03681476496103081,0.0229660415875429,0.017788774468380484,0.01723619400318161,0.016874078832244118,0.014539387708059136,0.014234399919606854,0.013934392821015527],\"type\":\"scatter\"},{\"hovertext\":\"<b>Topic 61</b>:graphene_absorption_plasmon_thz_la\",\"line\":{\"color\":\"black\",\"width\":1.5},\"mode\":\"lines+lines\",\"name\":\"\",\"opacity\":0.1,\"x\":[1,2,3,4,5,6,7,8,9,10],\"y\":[0.15667600514912644,0.020513720600482302,0.02027311630677746,0.019631594308960068,0.018532279752857015,0.01801149379753673,0.017732748354330634,0.016013517999013717,0.015838555062758445,0.015144343885644033],\"type\":\"scatter\"},{\"hovertext\":\"<b>Topic 62</b>:translation_nmt_english_language_m\",\"line\":{\"color\":\"black\",\"width\":1.5},\"mode\":\"lines+lines\",\"name\":\"\",\"opacity\":0.1,\"x\":[1,2,3,4,5,6,7,8,9,10],\"y\":[0.14015779361028052,0.05786689938568269,0.03708207411167872,0.03599030917566383,0.032417073247300233,0.03019907206659659,0.026239977958720365,0.02379059822240991,0.021133158927132283,0.019748339250979713],\"type\":\"scatter\"},{\"hovertext\":\"<b>Topic 63</b>:pose_3d_human_estimation_body_imag\",\"line\":{\"color\":\"black\",\"width\":1.5},\"mode\":\"lines+lines\",\"name\":\"\",\"opacity\":0.1,\"x\":[1,2,3,4,5,6,7,8,9,10],\"y\":[0.11732544569016849,0.042561505827444515,0.041217692156667145,0.03631018387727815,0.02750290331453999,0.018865617274775936,0.018550611361224646,0.017422067919358703,0.01621478167506115,0.015727829172050827],\"type\":\"scatter\"},{\"hovertext\":\"<b>Topic 64</b>:droplet_drop_liquid_surface_water_\",\"line\":{\"color\":\"black\",\"width\":1.5},\"mode\":\"lines+lines\",\"name\":\"\",\"opacity\":0.1,\"x\":[1,2,3,4,5,6,7,8,9,10],\"y\":[0.152975543571278,0.07344374940851059,0.041098063377930955,0.02681403917560329,0.02582108091419158,0.022462125843638357,0.022013764573033345,0.021482371941133727,0.02106776289574397,0.019224369721622846],\"type\":\"scatter\"},{\"hovertext\":\"<b>Topic 65</b>:eeg_bci_brain_seizure_signal_subje\",\"line\":{\"color\":\"black\",\"width\":1.5},\"mode\":\"lines+lines\",\"name\":\"\",\"opacity\":0.1,\"x\":[1,2,3,4,5,6,7,8,9,10],\"y\":[0.11302807587354696,0.05334711941239077,0.051683677924057876,0.020268640724558553,0.01951181317832789,0.01866863557527711,0.018391296968450658,0.0174615573637673,0.016550110446841966,0.016061177635837306],\"type\":\"scatter\"},{\"hovertext\":\"<b>Topic 66</b>:cloud_service_resource_vm_computin\",\"line\":{\"color\":\"black\",\"width\":1.5},\"mode\":\"lines+lines\",\"name\":\"\",\"opacity\":0.1,\"x\":[1,2,3,4,5,6,7,8,9,10],\"y\":[0.11737306872104514,0.04619884676155359,0.045337098797964805,0.0420663079590705,0.04127919683617664,0.028090382135805756,0.025438812968983822,0.02458742674683132,0.018544379058651094,0.01780959956410882],\"type\":\"scatter\"},{\"hovertext\":\"<b>Topic 67</b>:fairness_bias_machine_decision_fai\",\"line\":{\"color\":\"black\",\"width\":1.5},\"mode\":\"lines+lines\",\"name\":\"\",\"opacity\":0.1,\"x\":[1,2,3,4,5,6,7,8,9,10],\"y\":[0.09082797949287835,0.04078707350600939,0.02150214138486959,0.020397581406925352,0.019155171142315863,0.0187041118184961,0.017445129289007214,0.015757965064075948,0.015709041815125776,0.015413355364359558],\"type\":\"scatter\"},{\"hovertext\":\"<b>Topic 68</b>:signal_recovery_sparse_measurement\",\"line\":{\"color\":\"black\",\"width\":1.5},\"mode\":\"lines+lines\",\"name\":\"\",\"opacity\":0.1,\"x\":[1,2,3,4,5,6,7,8,9,10],\"y\":[0.06299811599254278,0.05138330612262013,0.048081416060294445,0.04222790242314374,0.034784514519316405,0.030423145907118896,0.029707493582861892,0.027128620115245614,0.024246175903352266,0.01881288726605782],\"type\":\"scatter\"},{\"hovertext\":\"<b>Topic 69</b>:point_cloud_3d_registration_featur\",\"line\":{\"color\":\"black\",\"width\":1.5},\"mode\":\"lines+lines\",\"name\":\"\",\"opacity\":0.1,\"x\":[1,2,3,4,5,6,7,8,9,10],\"y\":[0.09463364922440966,0.09362626316022597,0.03613320905920412,0.02794245205818452,0.02016892904969982,0.015735602156400498,0.014792995583256648,0.014026183243647095,0.013793566513434925,0.012825937648961857],\"type\":\"scatter\"},{\"hovertext\":\"<b>Topic 70</b>:causal_variable_causality_discover\",\"line\":{\"color\":\"black\",\"width\":1.5},\"mode\":\"lines+lines\",\"name\":\"\",\"opacity\":0.1,\"x\":[1,2,3,4,5,6,7,8,9,10],\"y\":[0.16966475216443602,0.04116350460357664,0.039628234885435876,0.01881970653696733,0.01848969500562622,0.018358321631920502,0.01603601716551699,0.014879604863322033,0.014617044277555872,0.014515611136993128],\"type\":\"scatter\"},{\"hovertext\":\"<b>Topic 71</b>:automaton_cellular_language_determ\",\"line\":{\"color\":\"black\",\"width\":1.5},\"mode\":\"lines+lines\",\"name\":\"\",\"opacity\":0.1,\"x\":[1,2,3,4,5,6,7,8,9,10],\"y\":[0.23081444884542918,0.043168454799469604,0.04181842909234607,0.039415752905779984,0.03592122335053876,0.027901294347294967,0.024915003869725005,0.021922656331123978,0.021526367444570812,0.01936104707619764],\"type\":\"scatter\"},{\"hovertext\":\"<b>Topic 72</b>:neutron_gamma_detector_ucn_ray_nuc\",\"line\":{\"color\":\"black\",\"width\":1.5},\"mode\":\"lines+lines\",\"name\":\"\",\"opacity\":0.1,\"x\":[1,2,3,4,5,6,7,8,9,10],\"y\":[0.18391572736727024,0.040791663963471635,0.040317295854360904,0.025701240017900598,0.02360269570310522,0.023564725806421813,0.020714255168330527,0.017963454815356196,0.017417908770495847,0.017004499605587534],\"type\":\"scatter\"},{\"hovertext\":\"<b>Topic 73</b>:cache_caching_content_request_user\",\"line\":{\"color\":\"black\",\"width\":1.5},\"mode\":\"lines+lines\",\"name\":\"\",\"opacity\":0.1,\"x\":[1,2,3,4,5,6,7,8,9,10],\"y\":[0.15343546133818237,0.10567517277085961,0.05662839175953933,0.03816408663185475,0.0380526720793395,0.03554639686939434,0.030843802797403917,0.02770302830342946,0.022406257638971663,0.019964873314084215],\"type\":\"scatter\"},{\"hovertext\":\"<b>Topic 74</b>:sgd_gradient_descent_stochastic_co\",\"line\":{\"color\":\"black\",\"width\":1.5},\"mode\":\"lines+lines\",\"name\":\"\",\"opacity\":0.1,\"x\":[1,2,3,4,5,6,7,8,9,10],\"y\":[0.08240585226570742,0.04764031319502962,0.04030202888286399,0.03641496166107122,0.03198915054917794,0.022893399854135063,0.022797213264449407,0.02086424428607587,0.020821567840257155,0.01613246490324193],\"type\":\"scatter\"},{\"hovertext\":\"<b>Topic 75</b>:code_dual_cyclic_weight_self_const\",\"line\":{\"color\":\"black\",\"width\":1.5},\"mode\":\"lines+lines\",\"name\":\"\",\"opacity\":0.1,\"x\":[1,2,3,4,5,6,7,8,9,10],\"y\":[0.2068083657800442,0.07600991105400971,0.06190922143758372,0.060014205569545225,0.04047866812533128,0.03526024492265236,0.03270329774112978,0.032130072601538114,0.03119267897584289,0.031050430398626244],\"type\":\"scatter\"},{\"hovertext\":\"<b>Topic 76</b>:neuron_spike_synaptic_neuromorphic\",\"line\":{\"color\":\"black\",\"width\":1.5},\"mode\":\"lines+lines\",\"name\":\"\",\"opacity\":0.1,\"x\":[1,2,3,4,5,6,7,8,9,10],\"y\":[0.07636672591748582,0.04298762087406242,0.039193245350411784,0.03459607269964864,0.025061666650565407,0.021513061873778987,0.020771232153993503,0.020272446068326046,0.01964005142495815,0.01919189387582835],\"type\":\"scatter\"},{\"hovertext\":\"<b>Topic 77</b>:tensor_rank_decomposition_matrix_n\",\"line\":{\"color\":\"black\",\"width\":1.5},\"mode\":\"lines+lines\",\"name\":\"\",\"opacity\":0.1,\"x\":[1,2,3,4,5,6,7,8,9,10],\"y\":[0.18296890374465963,0.059428016272940046,0.03938063404730529,0.034581726842866076,0.02312551907408874,0.0177105995354979,0.01661397629901867,0.016538441124464905,0.016355914784374908,0.01593829464742964],\"type\":\"scatter\"},{\"hovertext\":\"<b>Topic 78</b>:entropy_shannon_inequality_random_\",\"line\":{\"color\":\"black\",\"width\":1.5},\"mode\":\"lines+lines\",\"name\":\"\",\"opacity\":0.1,\"x\":[1,2,3,4,5,6,7,8,9,10],\"y\":[0.19147281267308372,0.04405173396079035,0.039501543357820176,0.022952149049696814,0.021258021708938542,0.020345205452179764,0.016915435127301395,0.016679377069829564,0.01648939149241329,0.015660800454235922],\"type\":\"scatter\"},{\"hovertext\":\"<b>Topic 79</b>:attack_attacker_intrusion_detectio\",\"line\":{\"color\":\"black\",\"width\":1.5},\"mode\":\"lines+lines\",\"name\":\"\",\"opacity\":0.1,\"x\":[1,2,3,4,5,6,7,8,9,10],\"y\":[0.10003325013165044,0.03650042504548906,0.03422815682077279,0.03234332818630456,0.02719069091393168,0.02595832185674536,0.024687805265272533,0.021307139453672047,0.01974361568882934,0.017692979611847615],\"type\":\"scatter\"},{\"hovertext\":\"<b>Topic 80</b>:ionization_laser_atom_molecule_pho\",\"line\":{\"color\":\"black\",\"width\":1.5},\"mode\":\"lines+lines\",\"name\":\"\",\"opacity\":0.1,\"x\":[1,2,3,4,5,6,7,8,9,10],\"y\":[0.051015902740596544,0.048789692909019876,0.040234472251746436,0.03192154100080346,0.03126044451250851,0.028045254160621223,0.026733701767756083,0.023326278989560877,0.0216920303578825,0.021658712569376005],\"type\":\"scatter\"},{\"hovertext\":\"<b>Topic 81</b>:voting_voter_election_vote_candida\",\"line\":{\"color\":\"black\",\"width\":1.5},\"mode\":\"lines+lines\",\"name\":\"\",\"opacity\":0.1,\"x\":[1,2,3,4,5,6,7,8,9,10],\"y\":[0.09958004833752203,0.09083541021963146,0.07665988386252856,0.0509384107905303,0.03470377172542243,0.0293711318308976,0.028082690967924474,0.02491400624313123,0.023211657051338604,0.0223080109069865],\"type\":\"scatter\"},{\"hovertext\":\"<b>Topic 82</b>:datum_data_mining_warehouse_databa\",\"line\":{\"color\":\"black\",\"width\":1.5},\"mode\":\"lines+lines\",\"name\":\"\",\"opacity\":0.1,\"x\":[1,2,3,4,5,6,7,8,9,10],\"y\":[0.05503321952464796,0.02779832464725568,0.018852328339944303,0.018509403507316974,0.01675845449535106,0.01587774613224717,0.013160463059773789,0.013116242326847244,0.013096082344191321,0.012702805782624841],\"type\":\"scatter\"},{\"hovertext\":\"<b>Topic 83</b>:anomaly_detection_detect_datum_ano\",\"line\":{\"color\":\"black\",\"width\":1.5},\"mode\":\"lines+lines\",\"name\":\"\",\"opacity\":0.1,\"x\":[1,2,3,4,5,6,7,8,9,10],\"y\":[0.15148782447629106,0.05551208012554985,0.022686988813055614,0.019811092484697757,0.019788661443900707,0.018803057134044655,0.01799226363117614,0.01742118261337776,0.015540964972572504,0.013337953901275052],\"type\":\"scatter\"},{\"hovertext\":\"<b>Topic 84</b>:opinion_social_network_influence_a\",\"line\":{\"color\":\"black\",\"width\":1.5},\"mode\":\"lines+lines\",\"name\":\"\",\"opacity\":0.1,\"x\":[1,2,3,4,5,6,7,8,9,10],\"y\":[0.12019930111239759,0.06139637116373731,0.03599344869456311,0.026693526704645382,0.026466106862793482,0.024695622086497324,0.02077353605635612,0.019750149553782077,0.019401120246655957,0.019018337217666416],\"type\":\"scatter\"},{\"hovertext\":\"<b>Topic 85</b>:electrolyte_battery_electrochemica\",\"line\":{\"color\":\"black\",\"width\":1.5},\"mode\":\"lines+lines\",\"name\":\"\",\"opacity\":0.1,\"x\":[1,2,3,4,5,6,7,8,9,10],\"y\":[0.06729890219205119,0.04709836775048101,0.045676726481217074,0.03668363356042099,0.029849442269711295,0.025888262418218823,0.021963501503924867,0.021182547036574843,0.02110325538959145,0.02024946905337156],\"type\":\"scatter\"},{\"hovertext\":\"<b>Topic 86</b>:emotion_emotional_speech_recogniti\",\"line\":{\"color\":\"black\",\"width\":1.5},\"mode\":\"lines+lines\",\"name\":\"\",\"opacity\":0.1,\"x\":[1,2,3,4,5,6,7,8,9,10],\"y\":[0.18069592745582402,0.038693829345111654,0.03406943270217382,0.03198815258244501,0.030588337143161077,0.02456898861908712,0.021242405008376555,0.017046879518529123,0.016087508428355143,0.015352326424896185],\"type\":\"scatter\"},{\"hovertext\":\"<b>Topic 87</b>:job_scheduling_schedule_machine_ti\",\"line\":{\"color\":\"black\",\"width\":1.5},\"mode\":\"lines+lines\",\"name\":\"\",\"opacity\":0.1,\"x\":[1,2,3,4,5,6,7,8,9,10],\"y\":[0.09097736795003351,0.08728560004119508,0.05226392445975618,0.032319012443999276,0.02904224257558767,0.025921538370332467,0.025038341859913056,0.02338121362650282,0.02271416427711848,0.02187619226865219],\"type\":\"scatter\"},{\"hovertext\":\"<b>Topic 88</b>:underwater_ship_fish_image_marine_\",\"line\":{\"color\":\"black\",\"width\":1.5},\"mode\":\"lines+lines\",\"name\":\"\",\"opacity\":0.1,\"x\":[1,2,3,4,5,6,7,8,9,10],\"y\":[0.0840816627219259,0.03179694777990449,0.030344787026733645,0.02295500552374179,0.019774647129160543,0.01707185501722001,0.016780420688782882,0.015955774712115917,0.014889315480420263,0.014826486582156882],\"type\":\"scatter\"},{\"hovertext\":\"<b>Topic 89</b>:charge_field_maxwell_electromagnet\",\"line\":{\"color\":\"black\",\"width\":1.5},\"mode\":\"lines+lines\",\"name\":\"\",\"opacity\":0.1,\"x\":[1,2,3,4,5,6,7,8,9,10],\"y\":[0.07206886897578839,0.061138880301549646,0.05861260498294732,0.05260634711843421,0.03862882214398462,0.038524093684109445,0.0383456845652218,0.029364927113367505,0.029189523082312516,0.02860766618184217],\"type\":\"scatter\"},{\"hovertext\":\"<b>Topic 90</b>:cryptosystem_cipher_encryption_key\",\"line\":{\"color\":\"black\",\"width\":1.5},\"mode\":\"lines+lines\",\"name\":\"\",\"opacity\":0.1,\"x\":[1,2,3,4,5,6,7,8,9,10],\"y\":[0.06981264833998163,0.04927931949346485,0.048096974276447775,0.04497590161143277,0.03644078342789459,0.028593299159607472,0.026541750947994373,0.026170126304874933,0.02615330590607996,0.021568075923390637],\"type\":\"scatter\"},{\"hovertext\":\"<b>Topic 91</b>:earthquake_seismic_magnitude_catal\",\"line\":{\"color\":\"black\",\"width\":1.5},\"mode\":\"lines+lines\",\"name\":\"\",\"opacity\":0.1,\"x\":[1,2,3,4,5,6,7,8,9,10],\"y\":[0.13730118998078292,0.08833765260303299,0.022912533385413516,0.022199325436723715,0.02158795635273418,0.0195975912529654,0.01771572630507238,0.01760855096698318,0.01659378122180285,0.015647065507363212],\"type\":\"scatter\"},{\"hovertext\":\"<b>Topic 92</b>:lidar_3d_bev_point_odometry_sensor\",\"line\":{\"color\":\"black\",\"width\":1.5},\"mode\":\"lines+lines\",\"name\":\"\",\"opacity\":0.1,\"x\":[1,2,3,4,5,6,7,8,9,10],\"y\":[0.1200389753999394,0.037770226413517204,0.03508521421201049,0.032924626100787974,0.030974597676901656,0.024962527724221868,0.02185153272864091,0.019989450810846417,0.019216786189191412,0.01898171778656172],\"type\":\"scatter\"},{\"hovertext\":\"<b>Topic 93</b>:pinn_pde_equation_neural_different\",\"line\":{\"color\":\"black\",\"width\":1.5},\"mode\":\"lines+lines\",\"name\":\"\",\"opacity\":0.1,\"x\":[1,2,3,4,5,6,7,8,9,10],\"y\":[0.09331889169407988,0.07489095959635045,0.03403153451443012,0.03307976749207887,0.03095086121475005,0.027113805703236106,0.024287373971915906,0.02354926475900385,0.02146958007650369,0.02122431490868242],\"type\":\"scatter\"},{\"hovertext\":\"<b>Topic 94</b>:watermark_watermarking_steganograp\",\"line\":{\"color\":\"black\",\"width\":1.5},\"mode\":\"lines+lines\",\"name\":\"\",\"opacity\":0.1,\"x\":[1,2,3,4,5,6,7,8,9,10],\"y\":[0.09772201140086148,0.09674583192410563,0.06064436043366332,0.04515653889866161,0.03184509899833653,0.03183097573265694,0.03144569808949649,0.028698891124261387,0.02396435556312031,0.02148093144017919],\"type\":\"scatter\"},{\"hovertext\":\"<b>Topic 95</b>:image_cnn_restoration_convolutiona\",\"line\":{\"color\":\"black\",\"width\":1.5},\"mode\":\"lines+lines\",\"name\":\"\",\"opacity\":0.1,\"x\":[1,2,3,4,5,6,7,8,9,10],\"y\":[0.05252978786055739,0.02904384376314596,0.025909263785527933,0.019158215715188654,0.017641176474975047,0.01722461824025015,0.01681200509191475,0.01649836209434748,0.016399838025960033,0.016117121340776412],\"type\":\"scatter\"},{\"hovertext\":\"<b>Topic 96</b>:plm_tuning_prompt_task_language_fi\",\"line\":{\"color\":\"black\",\"width\":1.5},\"mode\":\"lines+lines\",\"name\":\"\",\"opacity\":0.1,\"x\":[1,2,3,4,5,6,7,8,9,10],\"y\":[0.06171039448075615,0.060125612526685586,0.05623685366789221,0.04259772629492178,0.038393490493092125,0.03681793884643303,0.03279001222410949,0.027178759357649646,0.02434447809053811,0.02397341488553276],\"type\":\"scatter\"},{\"hovertext\":\"<b>Topic 97</b>:beam_linac_accelerator_ion_emittan\",\"line\":{\"color\":\"black\",\"width\":1.5},\"mode\":\"lines+lines\",\"name\":\"\",\"opacity\":0.1,\"x\":[1,2,3,4,5,6,7,8,9,10],\"y\":[0.12856709800983632,0.06236158218774304,0.05598454116792116,0.035564444707409555,0.031081859554320194,0.02480484754776207,0.024576917022632427,0.024481334806670495,0.02323949370291842,0.023039786944722935],\"type\":\"scatter\"},{\"hovertext\":\"<b>Topic 98</b>:kernel_mkl_function_feature_approx\",\"line\":{\"color\":\"black\",\"width\":1.5},\"mode\":\"lines+lines\",\"name\":\"\",\"opacity\":0.1,\"x\":[1,2,3,4,5,6,7,8,9,10],\"y\":[0.1939015577066977,0.02208360266817157,0.021106241731403914,0.01859685773062048,0.017613063147499063,0.016768331731644742,0.016628117603776273,0.016440865826720653,0.01616805870125959,0.015970836127643197],\"type\":\"scatter\"}],                        {\"template\":{\"data\":{\"barpolar\":[{\"marker\":{\"line\":{\"color\":\"white\",\"width\":0.5},\"pattern\":{\"fillmode\":\"overlay\",\"size\":10,\"solidity\":0.2}},\"type\":\"barpolar\"}],\"bar\":[{\"error_x\":{\"color\":\"#2a3f5f\"},\"error_y\":{\"color\":\"#2a3f5f\"},\"marker\":{\"line\":{\"color\":\"white\",\"width\":0.5},\"pattern\":{\"fillmode\":\"overlay\",\"size\":10,\"solidity\":0.2}},\"type\":\"bar\"}],\"carpet\":[{\"aaxis\":{\"endlinecolor\":\"#2a3f5f\",\"gridcolor\":\"#C8D4E3\",\"linecolor\":\"#C8D4E3\",\"minorgridcolor\":\"#C8D4E3\",\"startlinecolor\":\"#2a3f5f\"},\"baxis\":{\"endlinecolor\":\"#2a3f5f\",\"gridcolor\":\"#C8D4E3\",\"linecolor\":\"#C8D4E3\",\"minorgridcolor\":\"#C8D4E3\",\"startlinecolor\":\"#2a3f5f\"},\"type\":\"carpet\"}],\"choropleth\":[{\"colorbar\":{\"outlinewidth\":0,\"ticks\":\"\"},\"type\":\"choropleth\"}],\"contourcarpet\":[{\"colorbar\":{\"outlinewidth\":0,\"ticks\":\"\"},\"type\":\"contourcarpet\"}],\"contour\":[{\"colorbar\":{\"outlinewidth\":0,\"ticks\":\"\"},\"colorscale\":[[0.0,\"#0d0887\"],[0.1111111111111111,\"#46039f\"],[0.2222222222222222,\"#7201a8\"],[0.3333333333333333,\"#9c179e\"],[0.4444444444444444,\"#bd3786\"],[0.5555555555555556,\"#d8576b\"],[0.6666666666666666,\"#ed7953\"],[0.7777777777777778,\"#fb9f3a\"],[0.8888888888888888,\"#fdca26\"],[1.0,\"#f0f921\"]],\"type\":\"contour\"}],\"heatmapgl\":[{\"colorbar\":{\"outlinewidth\":0,\"ticks\":\"\"},\"colorscale\":[[0.0,\"#0d0887\"],[0.1111111111111111,\"#46039f\"],[0.2222222222222222,\"#7201a8\"],[0.3333333333333333,\"#9c179e\"],[0.4444444444444444,\"#bd3786\"],[0.5555555555555556,\"#d8576b\"],[0.6666666666666666,\"#ed7953\"],[0.7777777777777778,\"#fb9f3a\"],[0.8888888888888888,\"#fdca26\"],[1.0,\"#f0f921\"]],\"type\":\"heatmapgl\"}],\"heatmap\":[{\"colorbar\":{\"outlinewidth\":0,\"ticks\":\"\"},\"colorscale\":[[0.0,\"#0d0887\"],[0.1111111111111111,\"#46039f\"],[0.2222222222222222,\"#7201a8\"],[0.3333333333333333,\"#9c179e\"],[0.4444444444444444,\"#bd3786\"],[0.5555555555555556,\"#d8576b\"],[0.6666666666666666,\"#ed7953\"],[0.7777777777777778,\"#fb9f3a\"],[0.8888888888888888,\"#fdca26\"],[1.0,\"#f0f921\"]],\"type\":\"heatmap\"}],\"histogram2dcontour\":[{\"colorbar\":{\"outlinewidth\":0,\"ticks\":\"\"},\"colorscale\":[[0.0,\"#0d0887\"],[0.1111111111111111,\"#46039f\"],[0.2222222222222222,\"#7201a8\"],[0.3333333333333333,\"#9c179e\"],[0.4444444444444444,\"#bd3786\"],[0.5555555555555556,\"#d8576b\"],[0.6666666666666666,\"#ed7953\"],[0.7777777777777778,\"#fb9f3a\"],[0.8888888888888888,\"#fdca26\"],[1.0,\"#f0f921\"]],\"type\":\"histogram2dcontour\"}],\"histogram2d\":[{\"colorbar\":{\"outlinewidth\":0,\"ticks\":\"\"},\"colorscale\":[[0.0,\"#0d0887\"],[0.1111111111111111,\"#46039f\"],[0.2222222222222222,\"#7201a8\"],[0.3333333333333333,\"#9c179e\"],[0.4444444444444444,\"#bd3786\"],[0.5555555555555556,\"#d8576b\"],[0.6666666666666666,\"#ed7953\"],[0.7777777777777778,\"#fb9f3a\"],[0.8888888888888888,\"#fdca26\"],[1.0,\"#f0f921\"]],\"type\":\"histogram2d\"}],\"histogram\":[{\"marker\":{\"pattern\":{\"fillmode\":\"overlay\",\"size\":10,\"solidity\":0.2}},\"type\":\"histogram\"}],\"mesh3d\":[{\"colorbar\":{\"outlinewidth\":0,\"ticks\":\"\"},\"type\":\"mesh3d\"}],\"parcoords\":[{\"line\":{\"colorbar\":{\"outlinewidth\":0,\"ticks\":\"\"}},\"type\":\"parcoords\"}],\"pie\":[{\"automargin\":true,\"type\":\"pie\"}],\"scatter3d\":[{\"line\":{\"colorbar\":{\"outlinewidth\":0,\"ticks\":\"\"}},\"marker\":{\"colorbar\":{\"outlinewidth\":0,\"ticks\":\"\"}},\"type\":\"scatter3d\"}],\"scattercarpet\":[{\"marker\":{\"colorbar\":{\"outlinewidth\":0,\"ticks\":\"\"}},\"type\":\"scattercarpet\"}],\"scattergeo\":[{\"marker\":{\"colorbar\":{\"outlinewidth\":0,\"ticks\":\"\"}},\"type\":\"scattergeo\"}],\"scattergl\":[{\"marker\":{\"colorbar\":{\"outlinewidth\":0,\"ticks\":\"\"}},\"type\":\"scattergl\"}],\"scattermapbox\":[{\"marker\":{\"colorbar\":{\"outlinewidth\":0,\"ticks\":\"\"}},\"type\":\"scattermapbox\"}],\"scatterpolargl\":[{\"marker\":{\"colorbar\":{\"outlinewidth\":0,\"ticks\":\"\"}},\"type\":\"scatterpolargl\"}],\"scatterpolar\":[{\"marker\":{\"colorbar\":{\"outlinewidth\":0,\"ticks\":\"\"}},\"type\":\"scatterpolar\"}],\"scatter\":[{\"fillpattern\":{\"fillmode\":\"overlay\",\"size\":10,\"solidity\":0.2},\"type\":\"scatter\"}],\"scatterternary\":[{\"marker\":{\"colorbar\":{\"outlinewidth\":0,\"ticks\":\"\"}},\"type\":\"scatterternary\"}],\"surface\":[{\"colorbar\":{\"outlinewidth\":0,\"ticks\":\"\"},\"colorscale\":[[0.0,\"#0d0887\"],[0.1111111111111111,\"#46039f\"],[0.2222222222222222,\"#7201a8\"],[0.3333333333333333,\"#9c179e\"],[0.4444444444444444,\"#bd3786\"],[0.5555555555555556,\"#d8576b\"],[0.6666666666666666,\"#ed7953\"],[0.7777777777777778,\"#fb9f3a\"],[0.8888888888888888,\"#fdca26\"],[1.0,\"#f0f921\"]],\"type\":\"surface\"}],\"table\":[{\"cells\":{\"fill\":{\"color\":\"#EBF0F8\"},\"line\":{\"color\":\"white\"}},\"header\":{\"fill\":{\"color\":\"#C8D4E3\"},\"line\":{\"color\":\"white\"}},\"type\":\"table\"}]},\"layout\":{\"annotationdefaults\":{\"arrowcolor\":\"#2a3f5f\",\"arrowhead\":0,\"arrowwidth\":1},\"autotypenumbers\":\"strict\",\"coloraxis\":{\"colorbar\":{\"outlinewidth\":0,\"ticks\":\"\"}},\"colorscale\":{\"diverging\":[[0,\"#8e0152\"],[0.1,\"#c51b7d\"],[0.2,\"#de77ae\"],[0.3,\"#f1b6da\"],[0.4,\"#fde0ef\"],[0.5,\"#f7f7f7\"],[0.6,\"#e6f5d0\"],[0.7,\"#b8e186\"],[0.8,\"#7fbc41\"],[0.9,\"#4d9221\"],[1,\"#276419\"]],\"sequential\":[[0.0,\"#0d0887\"],[0.1111111111111111,\"#46039f\"],[0.2222222222222222,\"#7201a8\"],[0.3333333333333333,\"#9c179e\"],[0.4444444444444444,\"#bd3786\"],[0.5555555555555556,\"#d8576b\"],[0.6666666666666666,\"#ed7953\"],[0.7777777777777778,\"#fb9f3a\"],[0.8888888888888888,\"#fdca26\"],[1.0,\"#f0f921\"]],\"sequentialminus\":[[0.0,\"#0d0887\"],[0.1111111111111111,\"#46039f\"],[0.2222222222222222,\"#7201a8\"],[0.3333333333333333,\"#9c179e\"],[0.4444444444444444,\"#bd3786\"],[0.5555555555555556,\"#d8576b\"],[0.6666666666666666,\"#ed7953\"],[0.7777777777777778,\"#fb9f3a\"],[0.8888888888888888,\"#fdca26\"],[1.0,\"#f0f921\"]]},\"colorway\":[\"#636efa\",\"#EF553B\",\"#00cc96\",\"#ab63fa\",\"#FFA15A\",\"#19d3f3\",\"#FF6692\",\"#B6E880\",\"#FF97FF\",\"#FECB52\"],\"font\":{\"color\":\"#2a3f5f\"},\"geo\":{\"bgcolor\":\"white\",\"lakecolor\":\"white\",\"landcolor\":\"white\",\"showlakes\":true,\"showland\":true,\"subunitcolor\":\"#C8D4E3\"},\"hoverlabel\":{\"align\":\"left\"},\"hovermode\":\"closest\",\"mapbox\":{\"style\":\"light\"},\"paper_bgcolor\":\"white\",\"plot_bgcolor\":\"white\",\"polar\":{\"angularaxis\":{\"gridcolor\":\"#EBF0F8\",\"linecolor\":\"#EBF0F8\",\"ticks\":\"\"},\"bgcolor\":\"white\",\"radialaxis\":{\"gridcolor\":\"#EBF0F8\",\"linecolor\":\"#EBF0F8\",\"ticks\":\"\"}},\"scene\":{\"xaxis\":{\"backgroundcolor\":\"white\",\"gridcolor\":\"#DFE8F3\",\"gridwidth\":2,\"linecolor\":\"#EBF0F8\",\"showbackground\":true,\"ticks\":\"\",\"zerolinecolor\":\"#EBF0F8\"},\"yaxis\":{\"backgroundcolor\":\"white\",\"gridcolor\":\"#DFE8F3\",\"gridwidth\":2,\"linecolor\":\"#EBF0F8\",\"showbackground\":true,\"ticks\":\"\",\"zerolinecolor\":\"#EBF0F8\"},\"zaxis\":{\"backgroundcolor\":\"white\",\"gridcolor\":\"#DFE8F3\",\"gridwidth\":2,\"linecolor\":\"#EBF0F8\",\"showbackground\":true,\"ticks\":\"\",\"zerolinecolor\":\"#EBF0F8\"}},\"shapedefaults\":{\"line\":{\"color\":\"#2a3f5f\"}},\"ternary\":{\"aaxis\":{\"gridcolor\":\"#DFE8F3\",\"linecolor\":\"#A2B1C6\",\"ticks\":\"\"},\"baxis\":{\"gridcolor\":\"#DFE8F3\",\"linecolor\":\"#A2B1C6\",\"ticks\":\"\"},\"bgcolor\":\"white\",\"caxis\":{\"gridcolor\":\"#DFE8F3\",\"linecolor\":\"#A2B1C6\",\"ticks\":\"\"}},\"title\":{\"x\":0.05},\"xaxis\":{\"automargin\":true,\"gridcolor\":\"#EBF0F8\",\"linecolor\":\"#EBF0F8\",\"ticks\":\"\",\"title\":{\"standoff\":15},\"zerolinecolor\":\"#EBF0F8\",\"zerolinewidth\":2},\"yaxis\":{\"automargin\":true,\"gridcolor\":\"#EBF0F8\",\"linecolor\":\"#EBF0F8\",\"ticks\":\"\",\"title\":{\"standoff\":15},\"zerolinecolor\":\"#EBF0F8\",\"zerolinewidth\":2}}},\"xaxis\":{\"range\":[0,10],\"tick0\":1,\"dtick\":2,\"title\":{\"text\":\"Term Rank\"}},\"title\":{\"font\":{\"size\":22,\"color\":\"Black\"},\"text\":\"<b>Term score decline per Topic</b>\",\"y\":0.9,\"x\":0.5,\"xanchor\":\"center\",\"yanchor\":\"top\"},\"hoverlabel\":{\"font\":{\"size\":16,\"family\":\"Rockwell\"},\"bgcolor\":\"white\"},\"showlegend\":false,\"width\":800,\"height\":500,\"yaxis\":{\"title\":{\"text\":\"c-TF-IDF score\"}}},                        {\"responsive\": true}                    ).then(function(){\n",
              "                            \n",
              "var gd = document.getElementById('e49db0db-89d5-436d-967f-db9d78fc5e84');\n",
              "var x = new MutationObserver(function (mutations, observer) {{\n",
              "        var display = window.getComputedStyle(gd).display;\n",
              "        if (!display || display === 'none') {{\n",
              "            console.log([gd, 'removed!']);\n",
              "            Plotly.purge(gd);\n",
              "            observer.disconnect();\n",
              "        }}\n",
              "}});\n",
              "\n",
              "// Listen for the removal of the full notebook cells\n",
              "var notebookContainer = gd.closest('#notebook-container');\n",
              "if (notebookContainer) {{\n",
              "    x.observe(notebookContainer, {childList: true});\n",
              "}}\n",
              "\n",
              "// Listen for the clearing of the current output cell\n",
              "var outputEl = gd.closest('.output');\n",
              "if (outputEl) {{\n",
              "    x.observe(outputEl, {childList: true});\n",
              "}}\n",
              "\n",
              "                        })                };                            </script>        </div>\n",
              "</body>\n",
              "</html>"
            ]
          },
          "metadata": {}
        }
      ]
    },
    {
      "cell_type": "markdown",
      "source": [
        "### Topic Relationships"
      ],
      "metadata": {
        "id": "gUjXpUk299Wf"
      }
    },
    {
      "cell_type": "code",
      "source": [
        "topic_model.visualize_topics(top_n_topics=21)"
      ],
      "metadata": {
        "colab": {
          "base_uri": "https://localhost:8080/",
          "height": 667
        },
        "id": "p4dIqy-M9fF_",
        "outputId": "8a560926-ec0f-4663-91e2-d1453e9fe409"
      },
      "execution_count": 51,
      "outputs": [
        {
          "output_type": "display_data",
          "data": {
            "text/html": [
              "<html>\n",
              "<head><meta charset=\"utf-8\" /></head>\n",
              "<body>\n",
              "    <div>            <script src=\"https://cdnjs.cloudflare.com/ajax/libs/mathjax/2.7.5/MathJax.js?config=TeX-AMS-MML_SVG\"></script><script type=\"text/javascript\">if (window.MathJax && window.MathJax.Hub && window.MathJax.Hub.Config) {window.MathJax.Hub.Config({SVG: {font: \"STIX-Web\"}});}</script>                <script type=\"text/javascript\">window.PlotlyConfig = {MathJaxConfig: 'local'};</script>\n",
              "        <script src=\"https://cdn.plot.ly/plotly-2.18.2.min.js\"></script>                <div id=\"4ff63340-e8bb-47ac-9300-e760c5b7d891\" class=\"plotly-graph-div\" style=\"height:650px; width:650px;\"></div>            <script type=\"text/javascript\">                                    window.PLOTLYENV=window.PLOTLYENV || {};                                    if (document.getElementById(\"4ff63340-e8bb-47ac-9300-e760c5b7d891\")) {                    Plotly.newPlot(                        \"4ff63340-e8bb-47ac-9300-e760c5b7d891\",                        [{\"customdata\":[[0,\"channel | interference | antenna | wireless | user\",1625],[1,\"image | segmentation | imaging | medical | ct\",901],[2,\"logic | program | calculus | proof | language\",848],[3,\"optical | photonic | mode | waveguide | cavity\",806],[4,\"equation | numerical | method | solution | scheme\",722],[5,\"robot | robotic | human | control | object\",707],[6,\"graph | vertex | edge | problem | algorithm\",707],[7,\"neural | dnn | network | deep | layer\",683],[8,\"speech | speaker | audio | sound | music\",636],[9,\"protein | cell | molecular | membrane | drug\",608],[10,\"vehicle | traffic | driving | driver | autonomous\",571],[11,\"game | player | equilibrium | nash | strategy\",498],[12,\"policy | rl | agent | reinforcement | reward\",489],[13,\"power | grid | energy | load | system\",480],[14,\"energy | electron | calculation | atom | orbital\",474],[15,\"flow | turbulent | turbulence | reynolds | velocity\",463],[16,\"quantum | classical | circuit | qubit | gate\",459],[17,\"mathbb | mathcal | mathbf | function | epsilon\",456],[18,\"plasma | magnetic | electron | ion | wave\",447],[19,\"control | controller | system | nonlinear | stability\",382],[20,\"network | community | node | centrality | link\",334]],\"hovertemplate\":\"<b>Topic %{customdata[0]}</b><br>%{customdata[1]}<br>Size: %{customdata[2]}\",\"legendgroup\":\"\",\"marker\":{\"color\":\"#B0BEC5\",\"size\":[1625,901,848,806,722,707,707,683,636,608,571,498,489,480,474,463,459,456,447,382,334],\"sizemode\":\"area\",\"sizeref\":1.015625,\"symbol\":\"circle\",\"line\":{\"color\":\"DarkSlateGrey\",\"width\":2}},\"mode\":\"markers\",\"name\":\"\",\"orientation\":\"v\",\"showlegend\":false,\"x\":[13.971626281738281,13.945076942443848,-4.546992778778076,-2.8495941162109375,-4.0238165855407715,18.611543655395508,-12.382345199584961,13.54552936553955,13.665425300598145,13.26662540435791,18.651710510253906,12.822704315185547,13.012591361999512,-4.1716179847717285,-3.1806156635284424,-3.676175832748413,-4.7327799797058105,-12.52747917175293,-3.060845375061035,-4.273822784423828,13.648480415344238],\"xaxis\":\"x\",\"y\":[-6.7183837890625,-5.462899208068848,-2.856215000152588,-4.400626182556152,-2.474604368209839,11.979260444641113,21.796152114868164,-5.69372034072876,-5.137364387512207,-6.418074131011963,12.0195951461792,-5.309263229370117,-5.2889227867126465,-1.4541038274765015,-4.176419734954834,-2.251464605331421,-2.8053932189941406,21.941234588623047,-3.969717264175415,-1.8080039024353027,-6.495963096618652],\"yaxis\":\"y\",\"type\":\"scatter\"}],                        {\"template\":{\"data\":{\"barpolar\":[{\"marker\":{\"line\":{\"color\":\"white\",\"width\":0.5},\"pattern\":{\"fillmode\":\"overlay\",\"size\":10,\"solidity\":0.2}},\"type\":\"barpolar\"}],\"bar\":[{\"error_x\":{\"color\":\"rgb(36,36,36)\"},\"error_y\":{\"color\":\"rgb(36,36,36)\"},\"marker\":{\"line\":{\"color\":\"white\",\"width\":0.5},\"pattern\":{\"fillmode\":\"overlay\",\"size\":10,\"solidity\":0.2}},\"type\":\"bar\"}],\"carpet\":[{\"aaxis\":{\"endlinecolor\":\"rgb(36,36,36)\",\"gridcolor\":\"white\",\"linecolor\":\"white\",\"minorgridcolor\":\"white\",\"startlinecolor\":\"rgb(36,36,36)\"},\"baxis\":{\"endlinecolor\":\"rgb(36,36,36)\",\"gridcolor\":\"white\",\"linecolor\":\"white\",\"minorgridcolor\":\"white\",\"startlinecolor\":\"rgb(36,36,36)\"},\"type\":\"carpet\"}],\"choropleth\":[{\"colorbar\":{\"outlinewidth\":1,\"tickcolor\":\"rgb(36,36,36)\",\"ticks\":\"outside\"},\"type\":\"choropleth\"}],\"contourcarpet\":[{\"colorbar\":{\"outlinewidth\":1,\"tickcolor\":\"rgb(36,36,36)\",\"ticks\":\"outside\"},\"type\":\"contourcarpet\"}],\"contour\":[{\"colorbar\":{\"outlinewidth\":1,\"tickcolor\":\"rgb(36,36,36)\",\"ticks\":\"outside\"},\"colorscale\":[[0.0,\"#440154\"],[0.1111111111111111,\"#482878\"],[0.2222222222222222,\"#3e4989\"],[0.3333333333333333,\"#31688e\"],[0.4444444444444444,\"#26828e\"],[0.5555555555555556,\"#1f9e89\"],[0.6666666666666666,\"#35b779\"],[0.7777777777777778,\"#6ece58\"],[0.8888888888888888,\"#b5de2b\"],[1.0,\"#fde725\"]],\"type\":\"contour\"}],\"heatmapgl\":[{\"colorbar\":{\"outlinewidth\":1,\"tickcolor\":\"rgb(36,36,36)\",\"ticks\":\"outside\"},\"colorscale\":[[0.0,\"#440154\"],[0.1111111111111111,\"#482878\"],[0.2222222222222222,\"#3e4989\"],[0.3333333333333333,\"#31688e\"],[0.4444444444444444,\"#26828e\"],[0.5555555555555556,\"#1f9e89\"],[0.6666666666666666,\"#35b779\"],[0.7777777777777778,\"#6ece58\"],[0.8888888888888888,\"#b5de2b\"],[1.0,\"#fde725\"]],\"type\":\"heatmapgl\"}],\"heatmap\":[{\"colorbar\":{\"outlinewidth\":1,\"tickcolor\":\"rgb(36,36,36)\",\"ticks\":\"outside\"},\"colorscale\":[[0.0,\"#440154\"],[0.1111111111111111,\"#482878\"],[0.2222222222222222,\"#3e4989\"],[0.3333333333333333,\"#31688e\"],[0.4444444444444444,\"#26828e\"],[0.5555555555555556,\"#1f9e89\"],[0.6666666666666666,\"#35b779\"],[0.7777777777777778,\"#6ece58\"],[0.8888888888888888,\"#b5de2b\"],[1.0,\"#fde725\"]],\"type\":\"heatmap\"}],\"histogram2dcontour\":[{\"colorbar\":{\"outlinewidth\":1,\"tickcolor\":\"rgb(36,36,36)\",\"ticks\":\"outside\"},\"colorscale\":[[0.0,\"#440154\"],[0.1111111111111111,\"#482878\"],[0.2222222222222222,\"#3e4989\"],[0.3333333333333333,\"#31688e\"],[0.4444444444444444,\"#26828e\"],[0.5555555555555556,\"#1f9e89\"],[0.6666666666666666,\"#35b779\"],[0.7777777777777778,\"#6ece58\"],[0.8888888888888888,\"#b5de2b\"],[1.0,\"#fde725\"]],\"type\":\"histogram2dcontour\"}],\"histogram2d\":[{\"colorbar\":{\"outlinewidth\":1,\"tickcolor\":\"rgb(36,36,36)\",\"ticks\":\"outside\"},\"colorscale\":[[0.0,\"#440154\"],[0.1111111111111111,\"#482878\"],[0.2222222222222222,\"#3e4989\"],[0.3333333333333333,\"#31688e\"],[0.4444444444444444,\"#26828e\"],[0.5555555555555556,\"#1f9e89\"],[0.6666666666666666,\"#35b779\"],[0.7777777777777778,\"#6ece58\"],[0.8888888888888888,\"#b5de2b\"],[1.0,\"#fde725\"]],\"type\":\"histogram2d\"}],\"histogram\":[{\"marker\":{\"line\":{\"color\":\"white\",\"width\":0.6}},\"type\":\"histogram\"}],\"mesh3d\":[{\"colorbar\":{\"outlinewidth\":1,\"tickcolor\":\"rgb(36,36,36)\",\"ticks\":\"outside\"},\"type\":\"mesh3d\"}],\"parcoords\":[{\"line\":{\"colorbar\":{\"outlinewidth\":1,\"tickcolor\":\"rgb(36,36,36)\",\"ticks\":\"outside\"}},\"type\":\"parcoords\"}],\"pie\":[{\"automargin\":true,\"type\":\"pie\"}],\"scatter3d\":[{\"line\":{\"colorbar\":{\"outlinewidth\":1,\"tickcolor\":\"rgb(36,36,36)\",\"ticks\":\"outside\"}},\"marker\":{\"colorbar\":{\"outlinewidth\":1,\"tickcolor\":\"rgb(36,36,36)\",\"ticks\":\"outside\"}},\"type\":\"scatter3d\"}],\"scattercarpet\":[{\"marker\":{\"colorbar\":{\"outlinewidth\":1,\"tickcolor\":\"rgb(36,36,36)\",\"ticks\":\"outside\"}},\"type\":\"scattercarpet\"}],\"scattergeo\":[{\"marker\":{\"colorbar\":{\"outlinewidth\":1,\"tickcolor\":\"rgb(36,36,36)\",\"ticks\":\"outside\"}},\"type\":\"scattergeo\"}],\"scattergl\":[{\"marker\":{\"colorbar\":{\"outlinewidth\":1,\"tickcolor\":\"rgb(36,36,36)\",\"ticks\":\"outside\"}},\"type\":\"scattergl\"}],\"scattermapbox\":[{\"marker\":{\"colorbar\":{\"outlinewidth\":1,\"tickcolor\":\"rgb(36,36,36)\",\"ticks\":\"outside\"}},\"type\":\"scattermapbox\"}],\"scatterpolargl\":[{\"marker\":{\"colorbar\":{\"outlinewidth\":1,\"tickcolor\":\"rgb(36,36,36)\",\"ticks\":\"outside\"}},\"type\":\"scatterpolargl\"}],\"scatterpolar\":[{\"marker\":{\"colorbar\":{\"outlinewidth\":1,\"tickcolor\":\"rgb(36,36,36)\",\"ticks\":\"outside\"}},\"type\":\"scatterpolar\"}],\"scatter\":[{\"fillpattern\":{\"fillmode\":\"overlay\",\"size\":10,\"solidity\":0.2},\"type\":\"scatter\"}],\"scatterternary\":[{\"marker\":{\"colorbar\":{\"outlinewidth\":1,\"tickcolor\":\"rgb(36,36,36)\",\"ticks\":\"outside\"}},\"type\":\"scatterternary\"}],\"surface\":[{\"colorbar\":{\"outlinewidth\":1,\"tickcolor\":\"rgb(36,36,36)\",\"ticks\":\"outside\"},\"colorscale\":[[0.0,\"#440154\"],[0.1111111111111111,\"#482878\"],[0.2222222222222222,\"#3e4989\"],[0.3333333333333333,\"#31688e\"],[0.4444444444444444,\"#26828e\"],[0.5555555555555556,\"#1f9e89\"],[0.6666666666666666,\"#35b779\"],[0.7777777777777778,\"#6ece58\"],[0.8888888888888888,\"#b5de2b\"],[1.0,\"#fde725\"]],\"type\":\"surface\"}],\"table\":[{\"cells\":{\"fill\":{\"color\":\"rgb(237,237,237)\"},\"line\":{\"color\":\"white\"}},\"header\":{\"fill\":{\"color\":\"rgb(217,217,217)\"},\"line\":{\"color\":\"white\"}},\"type\":\"table\"}]},\"layout\":{\"annotationdefaults\":{\"arrowhead\":0,\"arrowwidth\":1},\"autotypenumbers\":\"strict\",\"coloraxis\":{\"colorbar\":{\"outlinewidth\":1,\"tickcolor\":\"rgb(36,36,36)\",\"ticks\":\"outside\"}},\"colorscale\":{\"diverging\":[[0.0,\"rgb(103,0,31)\"],[0.1,\"rgb(178,24,43)\"],[0.2,\"rgb(214,96,77)\"],[0.3,\"rgb(244,165,130)\"],[0.4,\"rgb(253,219,199)\"],[0.5,\"rgb(247,247,247)\"],[0.6,\"rgb(209,229,240)\"],[0.7,\"rgb(146,197,222)\"],[0.8,\"rgb(67,147,195)\"],[0.9,\"rgb(33,102,172)\"],[1.0,\"rgb(5,48,97)\"]],\"sequential\":[[0.0,\"#440154\"],[0.1111111111111111,\"#482878\"],[0.2222222222222222,\"#3e4989\"],[0.3333333333333333,\"#31688e\"],[0.4444444444444444,\"#26828e\"],[0.5555555555555556,\"#1f9e89\"],[0.6666666666666666,\"#35b779\"],[0.7777777777777778,\"#6ece58\"],[0.8888888888888888,\"#b5de2b\"],[1.0,\"#fde725\"]],\"sequentialminus\":[[0.0,\"#440154\"],[0.1111111111111111,\"#482878\"],[0.2222222222222222,\"#3e4989\"],[0.3333333333333333,\"#31688e\"],[0.4444444444444444,\"#26828e\"],[0.5555555555555556,\"#1f9e89\"],[0.6666666666666666,\"#35b779\"],[0.7777777777777778,\"#6ece58\"],[0.8888888888888888,\"#b5de2b\"],[1.0,\"#fde725\"]]},\"colorway\":[\"#1F77B4\",\"#FF7F0E\",\"#2CA02C\",\"#D62728\",\"#9467BD\",\"#8C564B\",\"#E377C2\",\"#7F7F7F\",\"#BCBD22\",\"#17BECF\"],\"font\":{\"color\":\"rgb(36,36,36)\"},\"geo\":{\"bgcolor\":\"white\",\"lakecolor\":\"white\",\"landcolor\":\"white\",\"showlakes\":true,\"showland\":true,\"subunitcolor\":\"white\"},\"hoverlabel\":{\"align\":\"left\"},\"hovermode\":\"closest\",\"mapbox\":{\"style\":\"light\"},\"paper_bgcolor\":\"white\",\"plot_bgcolor\":\"white\",\"polar\":{\"angularaxis\":{\"gridcolor\":\"rgb(232,232,232)\",\"linecolor\":\"rgb(36,36,36)\",\"showgrid\":false,\"showline\":true,\"ticks\":\"outside\"},\"bgcolor\":\"white\",\"radialaxis\":{\"gridcolor\":\"rgb(232,232,232)\",\"linecolor\":\"rgb(36,36,36)\",\"showgrid\":false,\"showline\":true,\"ticks\":\"outside\"}},\"scene\":{\"xaxis\":{\"backgroundcolor\":\"white\",\"gridcolor\":\"rgb(232,232,232)\",\"gridwidth\":2,\"linecolor\":\"rgb(36,36,36)\",\"showbackground\":true,\"showgrid\":false,\"showline\":true,\"ticks\":\"outside\",\"zeroline\":false,\"zerolinecolor\":\"rgb(36,36,36)\"},\"yaxis\":{\"backgroundcolor\":\"white\",\"gridcolor\":\"rgb(232,232,232)\",\"gridwidth\":2,\"linecolor\":\"rgb(36,36,36)\",\"showbackground\":true,\"showgrid\":false,\"showline\":true,\"ticks\":\"outside\",\"zeroline\":false,\"zerolinecolor\":\"rgb(36,36,36)\"},\"zaxis\":{\"backgroundcolor\":\"white\",\"gridcolor\":\"rgb(232,232,232)\",\"gridwidth\":2,\"linecolor\":\"rgb(36,36,36)\",\"showbackground\":true,\"showgrid\":false,\"showline\":true,\"ticks\":\"outside\",\"zeroline\":false,\"zerolinecolor\":\"rgb(36,36,36)\"}},\"shapedefaults\":{\"fillcolor\":\"black\",\"line\":{\"width\":0},\"opacity\":0.3},\"ternary\":{\"aaxis\":{\"gridcolor\":\"rgb(232,232,232)\",\"linecolor\":\"rgb(36,36,36)\",\"showgrid\":false,\"showline\":true,\"ticks\":\"outside\"},\"baxis\":{\"gridcolor\":\"rgb(232,232,232)\",\"linecolor\":\"rgb(36,36,36)\",\"showgrid\":false,\"showline\":true,\"ticks\":\"outside\"},\"bgcolor\":\"white\",\"caxis\":{\"gridcolor\":\"rgb(232,232,232)\",\"linecolor\":\"rgb(36,36,36)\",\"showgrid\":false,\"showline\":true,\"ticks\":\"outside\"}},\"title\":{\"x\":0.05},\"xaxis\":{\"automargin\":true,\"gridcolor\":\"rgb(232,232,232)\",\"linecolor\":\"rgb(36,36,36)\",\"showgrid\":false,\"showline\":true,\"ticks\":\"outside\",\"title\":{\"standoff\":15},\"zeroline\":false,\"zerolinecolor\":\"rgb(36,36,36)\"},\"yaxis\":{\"automargin\":true,\"gridcolor\":\"rgb(232,232,232)\",\"linecolor\":\"rgb(36,36,36)\",\"showgrid\":false,\"showline\":true,\"ticks\":\"outside\",\"title\":{\"standoff\":15},\"zeroline\":false,\"zerolinecolor\":\"rgb(36,36,36)\"}}},\"xaxis\":{\"anchor\":\"y\",\"domain\":[0.0,1.0],\"title\":{\"text\":\"\"},\"visible\":false,\"range\":[-14.406601047515869,21.44946708679199]},\"yaxis\":{\"anchor\":\"x\",\"domain\":[0.0,1.0],\"title\":{\"text\":\"\"},\"visible\":false,\"range\":[-7.726141357421875,25.232419776916505]},\"legend\":{\"tracegroupgap\":0,\"itemsizing\":\"constant\"},\"margin\":{\"t\":60},\"title\":{\"font\":{\"size\":22,\"color\":\"Black\"},\"text\":\"<b>Intertopic Distance Map</b>\",\"y\":0.95,\"x\":0.5,\"xanchor\":\"center\",\"yanchor\":\"top\"},\"hoverlabel\":{\"font\":{\"size\":16,\"family\":\"Rockwell\"},\"bgcolor\":\"white\"},\"width\":650,\"height\":650,\"sliders\":[{\"active\":0,\"pad\":{\"t\":50},\"steps\":[{\"args\":[{\"marker.color\":[[\"red\",\"#B0BEC5\",\"#B0BEC5\",\"#B0BEC5\",\"#B0BEC5\",\"#B0BEC5\",\"#B0BEC5\",\"#B0BEC5\",\"#B0BEC5\",\"#B0BEC5\",\"#B0BEC5\",\"#B0BEC5\",\"#B0BEC5\",\"#B0BEC5\",\"#B0BEC5\",\"#B0BEC5\",\"#B0BEC5\",\"#B0BEC5\",\"#B0BEC5\",\"#B0BEC5\",\"#B0BEC5\"]]}],\"label\":\"Topic 0\",\"method\":\"update\"},{\"args\":[{\"marker.color\":[[\"#B0BEC5\",\"red\",\"#B0BEC5\",\"#B0BEC5\",\"#B0BEC5\",\"#B0BEC5\",\"#B0BEC5\",\"#B0BEC5\",\"#B0BEC5\",\"#B0BEC5\",\"#B0BEC5\",\"#B0BEC5\",\"#B0BEC5\",\"#B0BEC5\",\"#B0BEC5\",\"#B0BEC5\",\"#B0BEC5\",\"#B0BEC5\",\"#B0BEC5\",\"#B0BEC5\",\"#B0BEC5\"]]}],\"label\":\"Topic 1\",\"method\":\"update\"},{\"args\":[{\"marker.color\":[[\"#B0BEC5\",\"#B0BEC5\",\"red\",\"#B0BEC5\",\"#B0BEC5\",\"#B0BEC5\",\"#B0BEC5\",\"#B0BEC5\",\"#B0BEC5\",\"#B0BEC5\",\"#B0BEC5\",\"#B0BEC5\",\"#B0BEC5\",\"#B0BEC5\",\"#B0BEC5\",\"#B0BEC5\",\"#B0BEC5\",\"#B0BEC5\",\"#B0BEC5\",\"#B0BEC5\",\"#B0BEC5\"]]}],\"label\":\"Topic 2\",\"method\":\"update\"},{\"args\":[{\"marker.color\":[[\"#B0BEC5\",\"#B0BEC5\",\"#B0BEC5\",\"red\",\"#B0BEC5\",\"#B0BEC5\",\"#B0BEC5\",\"#B0BEC5\",\"#B0BEC5\",\"#B0BEC5\",\"#B0BEC5\",\"#B0BEC5\",\"#B0BEC5\",\"#B0BEC5\",\"#B0BEC5\",\"#B0BEC5\",\"#B0BEC5\",\"#B0BEC5\",\"#B0BEC5\",\"#B0BEC5\",\"#B0BEC5\"]]}],\"label\":\"Topic 3\",\"method\":\"update\"},{\"args\":[{\"marker.color\":[[\"#B0BEC5\",\"#B0BEC5\",\"#B0BEC5\",\"#B0BEC5\",\"red\",\"#B0BEC5\",\"#B0BEC5\",\"#B0BEC5\",\"#B0BEC5\",\"#B0BEC5\",\"#B0BEC5\",\"#B0BEC5\",\"#B0BEC5\",\"#B0BEC5\",\"#B0BEC5\",\"#B0BEC5\",\"#B0BEC5\",\"#B0BEC5\",\"#B0BEC5\",\"#B0BEC5\",\"#B0BEC5\"]]}],\"label\":\"Topic 4\",\"method\":\"update\"},{\"args\":[{\"marker.color\":[[\"#B0BEC5\",\"#B0BEC5\",\"#B0BEC5\",\"#B0BEC5\",\"#B0BEC5\",\"red\",\"#B0BEC5\",\"#B0BEC5\",\"#B0BEC5\",\"#B0BEC5\",\"#B0BEC5\",\"#B0BEC5\",\"#B0BEC5\",\"#B0BEC5\",\"#B0BEC5\",\"#B0BEC5\",\"#B0BEC5\",\"#B0BEC5\",\"#B0BEC5\",\"#B0BEC5\",\"#B0BEC5\"]]}],\"label\":\"Topic 5\",\"method\":\"update\"},{\"args\":[{\"marker.color\":[[\"#B0BEC5\",\"#B0BEC5\",\"#B0BEC5\",\"#B0BEC5\",\"#B0BEC5\",\"#B0BEC5\",\"red\",\"#B0BEC5\",\"#B0BEC5\",\"#B0BEC5\",\"#B0BEC5\",\"#B0BEC5\",\"#B0BEC5\",\"#B0BEC5\",\"#B0BEC5\",\"#B0BEC5\",\"#B0BEC5\",\"#B0BEC5\",\"#B0BEC5\",\"#B0BEC5\",\"#B0BEC5\"]]}],\"label\":\"Topic 6\",\"method\":\"update\"},{\"args\":[{\"marker.color\":[[\"#B0BEC5\",\"#B0BEC5\",\"#B0BEC5\",\"#B0BEC5\",\"#B0BEC5\",\"#B0BEC5\",\"#B0BEC5\",\"red\",\"#B0BEC5\",\"#B0BEC5\",\"#B0BEC5\",\"#B0BEC5\",\"#B0BEC5\",\"#B0BEC5\",\"#B0BEC5\",\"#B0BEC5\",\"#B0BEC5\",\"#B0BEC5\",\"#B0BEC5\",\"#B0BEC5\",\"#B0BEC5\"]]}],\"label\":\"Topic 7\",\"method\":\"update\"},{\"args\":[{\"marker.color\":[[\"#B0BEC5\",\"#B0BEC5\",\"#B0BEC5\",\"#B0BEC5\",\"#B0BEC5\",\"#B0BEC5\",\"#B0BEC5\",\"#B0BEC5\",\"red\",\"#B0BEC5\",\"#B0BEC5\",\"#B0BEC5\",\"#B0BEC5\",\"#B0BEC5\",\"#B0BEC5\",\"#B0BEC5\",\"#B0BEC5\",\"#B0BEC5\",\"#B0BEC5\",\"#B0BEC5\",\"#B0BEC5\"]]}],\"label\":\"Topic 8\",\"method\":\"update\"},{\"args\":[{\"marker.color\":[[\"#B0BEC5\",\"#B0BEC5\",\"#B0BEC5\",\"#B0BEC5\",\"#B0BEC5\",\"#B0BEC5\",\"#B0BEC5\",\"#B0BEC5\",\"#B0BEC5\",\"red\",\"#B0BEC5\",\"#B0BEC5\",\"#B0BEC5\",\"#B0BEC5\",\"#B0BEC5\",\"#B0BEC5\",\"#B0BEC5\",\"#B0BEC5\",\"#B0BEC5\",\"#B0BEC5\",\"#B0BEC5\"]]}],\"label\":\"Topic 9\",\"method\":\"update\"},{\"args\":[{\"marker.color\":[[\"#B0BEC5\",\"#B0BEC5\",\"#B0BEC5\",\"#B0BEC5\",\"#B0BEC5\",\"#B0BEC5\",\"#B0BEC5\",\"#B0BEC5\",\"#B0BEC5\",\"#B0BEC5\",\"red\",\"#B0BEC5\",\"#B0BEC5\",\"#B0BEC5\",\"#B0BEC5\",\"#B0BEC5\",\"#B0BEC5\",\"#B0BEC5\",\"#B0BEC5\",\"#B0BEC5\",\"#B0BEC5\"]]}],\"label\":\"Topic 10\",\"method\":\"update\"},{\"args\":[{\"marker.color\":[[\"#B0BEC5\",\"#B0BEC5\",\"#B0BEC5\",\"#B0BEC5\",\"#B0BEC5\",\"#B0BEC5\",\"#B0BEC5\",\"#B0BEC5\",\"#B0BEC5\",\"#B0BEC5\",\"#B0BEC5\",\"red\",\"#B0BEC5\",\"#B0BEC5\",\"#B0BEC5\",\"#B0BEC5\",\"#B0BEC5\",\"#B0BEC5\",\"#B0BEC5\",\"#B0BEC5\",\"#B0BEC5\"]]}],\"label\":\"Topic 11\",\"method\":\"update\"},{\"args\":[{\"marker.color\":[[\"#B0BEC5\",\"#B0BEC5\",\"#B0BEC5\",\"#B0BEC5\",\"#B0BEC5\",\"#B0BEC5\",\"#B0BEC5\",\"#B0BEC5\",\"#B0BEC5\",\"#B0BEC5\",\"#B0BEC5\",\"#B0BEC5\",\"red\",\"#B0BEC5\",\"#B0BEC5\",\"#B0BEC5\",\"#B0BEC5\",\"#B0BEC5\",\"#B0BEC5\",\"#B0BEC5\",\"#B0BEC5\"]]}],\"label\":\"Topic 12\",\"method\":\"update\"},{\"args\":[{\"marker.color\":[[\"#B0BEC5\",\"#B0BEC5\",\"#B0BEC5\",\"#B0BEC5\",\"#B0BEC5\",\"#B0BEC5\",\"#B0BEC5\",\"#B0BEC5\",\"#B0BEC5\",\"#B0BEC5\",\"#B0BEC5\",\"#B0BEC5\",\"#B0BEC5\",\"red\",\"#B0BEC5\",\"#B0BEC5\",\"#B0BEC5\",\"#B0BEC5\",\"#B0BEC5\",\"#B0BEC5\",\"#B0BEC5\"]]}],\"label\":\"Topic 13\",\"method\":\"update\"},{\"args\":[{\"marker.color\":[[\"#B0BEC5\",\"#B0BEC5\",\"#B0BEC5\",\"#B0BEC5\",\"#B0BEC5\",\"#B0BEC5\",\"#B0BEC5\",\"#B0BEC5\",\"#B0BEC5\",\"#B0BEC5\",\"#B0BEC5\",\"#B0BEC5\",\"#B0BEC5\",\"#B0BEC5\",\"red\",\"#B0BEC5\",\"#B0BEC5\",\"#B0BEC5\",\"#B0BEC5\",\"#B0BEC5\",\"#B0BEC5\"]]}],\"label\":\"Topic 14\",\"method\":\"update\"},{\"args\":[{\"marker.color\":[[\"#B0BEC5\",\"#B0BEC5\",\"#B0BEC5\",\"#B0BEC5\",\"#B0BEC5\",\"#B0BEC5\",\"#B0BEC5\",\"#B0BEC5\",\"#B0BEC5\",\"#B0BEC5\",\"#B0BEC5\",\"#B0BEC5\",\"#B0BEC5\",\"#B0BEC5\",\"#B0BEC5\",\"red\",\"#B0BEC5\",\"#B0BEC5\",\"#B0BEC5\",\"#B0BEC5\",\"#B0BEC5\"]]}],\"label\":\"Topic 15\",\"method\":\"update\"},{\"args\":[{\"marker.color\":[[\"#B0BEC5\",\"#B0BEC5\",\"#B0BEC5\",\"#B0BEC5\",\"#B0BEC5\",\"#B0BEC5\",\"#B0BEC5\",\"#B0BEC5\",\"#B0BEC5\",\"#B0BEC5\",\"#B0BEC5\",\"#B0BEC5\",\"#B0BEC5\",\"#B0BEC5\",\"#B0BEC5\",\"#B0BEC5\",\"red\",\"#B0BEC5\",\"#B0BEC5\",\"#B0BEC5\",\"#B0BEC5\"]]}],\"label\":\"Topic 16\",\"method\":\"update\"},{\"args\":[{\"marker.color\":[[\"#B0BEC5\",\"#B0BEC5\",\"#B0BEC5\",\"#B0BEC5\",\"#B0BEC5\",\"#B0BEC5\",\"#B0BEC5\",\"#B0BEC5\",\"#B0BEC5\",\"#B0BEC5\",\"#B0BEC5\",\"#B0BEC5\",\"#B0BEC5\",\"#B0BEC5\",\"#B0BEC5\",\"#B0BEC5\",\"#B0BEC5\",\"red\",\"#B0BEC5\",\"#B0BEC5\",\"#B0BEC5\"]]}],\"label\":\"Topic 17\",\"method\":\"update\"},{\"args\":[{\"marker.color\":[[\"#B0BEC5\",\"#B0BEC5\",\"#B0BEC5\",\"#B0BEC5\",\"#B0BEC5\",\"#B0BEC5\",\"#B0BEC5\",\"#B0BEC5\",\"#B0BEC5\",\"#B0BEC5\",\"#B0BEC5\",\"#B0BEC5\",\"#B0BEC5\",\"#B0BEC5\",\"#B0BEC5\",\"#B0BEC5\",\"#B0BEC5\",\"#B0BEC5\",\"red\",\"#B0BEC5\",\"#B0BEC5\"]]}],\"label\":\"Topic 18\",\"method\":\"update\"},{\"args\":[{\"marker.color\":[[\"#B0BEC5\",\"#B0BEC5\",\"#B0BEC5\",\"#B0BEC5\",\"#B0BEC5\",\"#B0BEC5\",\"#B0BEC5\",\"#B0BEC5\",\"#B0BEC5\",\"#B0BEC5\",\"#B0BEC5\",\"#B0BEC5\",\"#B0BEC5\",\"#B0BEC5\",\"#B0BEC5\",\"#B0BEC5\",\"#B0BEC5\",\"#B0BEC5\",\"#B0BEC5\",\"red\",\"#B0BEC5\"]]}],\"label\":\"Topic 19\",\"method\":\"update\"},{\"args\":[{\"marker.color\":[[\"#B0BEC5\",\"#B0BEC5\",\"#B0BEC5\",\"#B0BEC5\",\"#B0BEC5\",\"#B0BEC5\",\"#B0BEC5\",\"#B0BEC5\",\"#B0BEC5\",\"#B0BEC5\",\"#B0BEC5\",\"#B0BEC5\",\"#B0BEC5\",\"#B0BEC5\",\"#B0BEC5\",\"#B0BEC5\",\"#B0BEC5\",\"#B0BEC5\",\"#B0BEC5\",\"#B0BEC5\",\"red\"]]}],\"label\":\"Topic 20\",\"method\":\"update\"}]}],\"shapes\":[{\"line\":{\"color\":\"#CFD8DC\",\"width\":2},\"type\":\"line\",\"x0\":3.521433019638061,\"x1\":3.521433019638061,\"y0\":-7.726141357421875,\"y1\":25.232419776916505},{\"line\":{\"color\":\"#9E9E9E\",\"width\":2},\"type\":\"line\",\"x0\":-14.406601047515869,\"x1\":21.44946708679199,\"y0\":8.753139209747314,\"y1\":8.753139209747314}],\"annotations\":[{\"showarrow\":false,\"text\":\"D1\",\"x\":-14.406601047515869,\"y\":8.753139209747314,\"yshift\":10},{\"showarrow\":false,\"text\":\"D2\",\"x\":3.521433019638061,\"xshift\":10,\"y\":25.232419776916505}]},                        {\"responsive\": true}                    ).then(function(){\n",
              "                            \n",
              "var gd = document.getElementById('4ff63340-e8bb-47ac-9300-e760c5b7d891');\n",
              "var x = new MutationObserver(function (mutations, observer) {{\n",
              "        var display = window.getComputedStyle(gd).display;\n",
              "        if (!display || display === 'none') {{\n",
              "            console.log([gd, 'removed!']);\n",
              "            Plotly.purge(gd);\n",
              "            observer.disconnect();\n",
              "        }}\n",
              "}});\n",
              "\n",
              "// Listen for the removal of the full notebook cells\n",
              "var notebookContainer = gd.closest('#notebook-container');\n",
              "if (notebookContainer) {{\n",
              "    x.observe(notebookContainer, {childList: true});\n",
              "}}\n",
              "\n",
              "// Listen for the clearing of the current output cell\n",
              "var outputEl = gd.closest('.output');\n",
              "if (outputEl) {{\n",
              "    x.observe(outputEl, {childList: true});\n",
              "}}\n",
              "\n",
              "                        })                };                            </script>        </div>\n",
              "</body>\n",
              "</html>"
            ]
          },
          "metadata": {}
        }
      ]
    },
    {
      "cell_type": "code",
      "source": [
        "\n",
        "topic_model.visualize_heatmap(n_clusters=5, top_n_topics=21)"
      ],
      "metadata": {
        "colab": {
          "base_uri": "https://localhost:8080/",
          "height": 817
        },
        "id": "UGGiRDHw-Tys",
        "outputId": "422501ef-00fd-4af0-81d0-2fc1199c69af"
      },
      "execution_count": 52,
      "outputs": [
        {
          "output_type": "display_data",
          "data": {
            "text/html": [
              "<html>\n",
              "<head><meta charset=\"utf-8\" /></head>\n",
              "<body>\n",
              "    <div>            <script src=\"https://cdnjs.cloudflare.com/ajax/libs/mathjax/2.7.5/MathJax.js?config=TeX-AMS-MML_SVG\"></script><script type=\"text/javascript\">if (window.MathJax && window.MathJax.Hub && window.MathJax.Hub.Config) {window.MathJax.Hub.Config({SVG: {font: \"STIX-Web\"}});}</script>                <script type=\"text/javascript\">window.PlotlyConfig = {MathJaxConfig: 'local'};</script>\n",
              "        <script src=\"https://cdn.plot.ly/plotly-2.18.2.min.js\"></script>                <div id=\"1a93ea60-e27b-4c19-91cf-86d7376b95cf\" class=\"plotly-graph-div\" style=\"height:800px; width:800px;\"></div>            <script type=\"text/javascript\">                                    window.PLOTLYENV=window.PLOTLYENV || {};                                    if (document.getElementById(\"1a93ea60-e27b-4c19-91cf-86d7376b95cf\")) {                    Plotly.newPlot(                        \"1a93ea60-e27b-4c19-91cf-86d7376b95cf\",                        [{\"coloraxis\":\"coloraxis\",\"name\":\"0\",\"x\":[\"0_channel_interference_ante...\",\"2_logic_program_calculus\",\"4_equation_numerical_method\",\"7_neural_dnn_network\",\"13_power_grid_energy\",\"19_control_controller_system\",\"20_network_community_node\",\"1_image_segmentation_imaging\",\"5_robot_robotic_human\",\"8_speech_speaker_audio\",\"10_vehicle_traffic_driving\",\"11_game_player_equilibrium\",\"12_policy_rl_agent\",\"3_optical_photonic_mode\",\"14_energy_electron_calculat...\",\"18_plasma_magnetic_electron\",\"6_graph_vertex_edge\",\"17_mathbb_mathcal_mathbf\",\"9_protein_cell_molecular\",\"15_flow_turbulent_turbulence\",\"16_quantum_classical_circuit\"],\"y\":[\"0_channel_interference_ante...\",\"2_logic_program_calculus\",\"4_equation_numerical_method\",\"7_neural_dnn_network\",\"13_power_grid_energy\",\"19_control_controller_system\",\"20_network_community_node\",\"1_image_segmentation_imaging\",\"5_robot_robotic_human\",\"8_speech_speaker_audio\",\"10_vehicle_traffic_driving\",\"11_game_player_equilibrium\",\"12_policy_rl_agent\",\"3_optical_photonic_mode\",\"14_energy_electron_calculat...\",\"18_plasma_magnetic_electron\",\"6_graph_vertex_edge\",\"17_mathbb_mathcal_mathbf\",\"9_protein_cell_molecular\",\"15_flow_turbulent_turbulence\",\"16_quantum_classical_circuit\"],\"z\":[[1.0000004768371582,0.7074134349822998,0.7412804365158081,0.773052453994751,0.7844715714454651,0.7325443029403687,0.786518931388855,0.6376837491989136,0.6094617247581482,0.7183151245117188,0.6741950511932373,0.6599805355072021,0.6726785898208618,0.6798194646835327,0.6021926999092102,0.5376701354980469,0.6369357705116272,0.5352024435997009,0.6549428701400757,0.5853967666625977,0.6871333122253418],[0.7074134349822998,1.0000001192092896,0.7724649906158447,0.7391071319580078,0.6877936124801636,0.7609771490097046,0.7493079900741577,0.6050401926040649,0.6429747939109802,0.6883819699287415,0.6605530977249146,0.6904109120368958,0.7417901754379272,0.4815189242362976,0.5442036390304565,0.38394516706466675,0.6708694696426392,0.6144602298736572,0.6633791923522949,0.5629931092262268,0.7025290727615356],[0.7412804365158081,0.7724649906158447,1.0,0.7242437601089478,0.7565548419952393,0.82529616355896,0.7524628639221191,0.6370840668678284,0.640122652053833,0.5610580444335938,0.6462328433990479,0.6391746997833252,0.6801050901412964,0.6439183950424194,0.7145688533782959,0.6436886787414551,0.7560989856719971,0.7548075914382935,0.6890683770179749,0.803088903427124,0.6900637149810791],[0.773052453994751,0.7391071319580078,0.7242437601089478,1.0000001192092896,0.7489125728607178,0.7275282740592957,0.8122891187667847,0.777901828289032,0.6673157215118408,0.7709046602249146,0.7130461931228638,0.637031614780426,0.8048644065856934,0.5239790678024292,0.4944162368774414,0.43331003189086914,0.647589921951294,0.5319545865058899,0.6948752403259277,0.5981839895248413,0.6739355325698853],[0.7844715714454651,0.6877936124801636,0.7565548419952393,0.7489125728607178,1.0,0.8210091590881348,0.7731461524963379,0.565708577632904,0.6897979974746704,0.5733164548873901,0.754714846611023,0.679943859577179,0.7153501510620117,0.5212918519973755,0.6030808687210083,0.6050382256507874,0.6009066700935364,0.48954910039901733,0.6500160694122314,0.6648754477500916,0.610689103603363],[0.7325443029403687,0.7609771490097046,0.82529616355896,0.7275282740592957,0.8210091590881348,0.9999998211860657,0.7206771373748779,0.5953450798988342,0.7676357626914978,0.6156079769134521,0.741112232208252,0.7014602422714233,0.7925779819488525,0.5496090650558472,0.5878208875656128,0.5537523627281189,0.6210764646530151,0.5922701954841614,0.698756217956543,0.703370213508606,0.6544944047927856],[0.786518931388855,0.7493079900741577,0.7524628639221191,0.8122891187667847,0.7731461524963379,0.7206771373748779,0.9999997019767761,0.6833518743515015,0.6708916425704956,0.6493997573852539,0.7336125373840332,0.743948221206665,0.7415523529052734,0.5211321115493774,0.5595843195915222,0.4675861597061157,0.7299544811248779,0.5716500282287598,0.7451126575469971,0.6180118322372437,0.6637383699417114],[0.6376837491989136,0.6050401926040649,0.6370840668678284,0.777901828289032,0.565708577632904,0.5953450798988342,0.6833518743515015,1.000000238418579,0.6336376667022705,0.7329750657081604,0.7000614404678345,0.5334746241569519,0.6652112603187561,0.5127217769622803,0.4421428442001343,0.41627275943756104,0.5190277695655823,0.4401280879974365,0.682170033454895,0.5171893239021301,0.5025286078453064],[0.6094617247581482,0.6429747939109802,0.640122652053833,0.6673157215118408,0.6897979974746704,0.7676357626914978,0.6708916425704956,0.6336376667022705,1.0,0.6171056628227234,0.7689903974533081,0.6926562190055847,0.7622052431106567,0.43942898511886597,0.4678025245666504,0.4296938180923462,0.5382897853851318,0.462586373090744,0.6767153143882751,0.5694921016693115,0.5574485063552856],[0.7183151245117188,0.6883819699287415,0.5610580444335938,0.7709046602249146,0.5733164548873901,0.6156079769134521,0.6493997573852539,0.7329750657081604,0.6171056628227234,1.0,0.6836099624633789,0.5747784376144409,0.706768274307251,0.49908536672592163,0.3904312252998352,0.3497169017791748,0.44384920597076416,0.38578206300735474,0.5947469472885132,0.4942992925643921,0.5129950046539307],[0.6741950511932373,0.6605530977249146,0.6462328433990479,0.7130461931228638,0.754714846611023,0.741112232208252,0.7336125373840332,0.7000614404678345,0.7689903974533081,0.6836099624633789,1.000000238418579,0.6616643667221069,0.7488521337509155,0.4196189045906067,0.45672282576560974,0.42889755964279175,0.5288697481155396,0.43426674604415894,0.631994366645813,0.6044691801071167,0.5412495136260986],[0.6599805355072021,0.6904109120368958,0.6391746997833252,0.637031614780426,0.679943859577179,0.7014602422714233,0.743948221206665,0.5334746241569519,0.6926562190055847,0.5747784376144409,0.6616643667221069,1.000000238418579,0.7777264714241028,0.39898568391799927,0.48392876982688904,0.46516716480255127,0.5978773832321167,0.5181799530982971,0.6379528045654297,0.5377228260040283,0.5714801549911499],[0.6726785898208618,0.7417901754379272,0.6801050901412964,0.8048644065856934,0.7153501510620117,0.7925779819488525,0.7415523529052734,0.6652112603187561,0.7622052431106567,0.706768274307251,0.7488521337509155,0.7777264714241028,0.9999999403953552,0.3980312943458557,0.44739699363708496,0.39163738489151,0.5845273733139038,0.49868831038475037,0.6672276258468628,0.5759957432746887,0.5850468873977661],[0.6798194646835327,0.4815189242362976,0.6439183950424194,0.5239790678024292,0.5212918519973755,0.5496090650558472,0.5211321115493774,0.5127217769622803,0.43942898511886597,0.49908536672592163,0.4196189045906067,0.39898568391799927,0.3980312943458557,0.9999998211860657,0.7109454870223999,0.6231382489204407,0.44186848402023315,0.42138972878456116,0.5844483971595764,0.5732981562614441,0.6953060626983643],[0.6021926999092102,0.5442036390304565,0.7145688533782959,0.4944162368774414,0.6030808687210083,0.5878208875656128,0.5595843195915222,0.4421428442001343,0.4678025245666504,0.3904312252998352,0.45672282576560974,0.48392876982688904,0.44739699363708496,0.7109454870223999,1.0000001192092896,0.755923330783844,0.5512778759002686,0.6143484115600586,0.7192838788032532,0.6430021524429321,0.6937236785888672],[0.5376701354980469,0.38394516706466675,0.6436886787414551,0.43331003189086914,0.6050382256507874,0.5537523627281189,0.4675861597061157,0.41627275943756104,0.4296938180923462,0.3497169017791748,0.42889755964279175,0.46516716480255127,0.39163738489151,0.6231382489204407,0.755923330783844,0.9999998807907104,0.4055917263031006,0.4146055579185486,0.5809372663497925,0.734168529510498,0.49680957198143005],[0.6369357705116272,0.6708694696426392,0.7560989856719971,0.647589921951294,0.6009066700935364,0.6210764646530151,0.7299544811248779,0.5190277695655823,0.5382897853851318,0.44384920597076416,0.5288697481155396,0.5978773832321167,0.5845273733139038,0.44186848402023315,0.5512778759002686,0.4055917263031006,1.0000004768371582,0.7925158739089966,0.5540429949760437,0.5268110036849976,0.6199982166290283],[0.5352024435997009,0.6144602298736572,0.7548075914382935,0.5319545865058899,0.48954910039901733,0.5922701954841614,0.5716500282287598,0.4401280879974365,0.462586373090744,0.38578206300735474,0.43426674604415894,0.5181799530982971,0.49868831038475037,0.42138972878456116,0.6143484115600586,0.4146055579185486,0.7925158739089966,1.0000001192092896,0.49946892261505127,0.5319525003433228,0.5891022682189941],[0.6549428701400757,0.6633791923522949,0.6890683770179749,0.6948752403259277,0.6500160694122314,0.698756217956543,0.7451126575469971,0.682170033454895,0.6767153143882751,0.5947469472885132,0.631994366645813,0.6379528045654297,0.6672276258468628,0.5844483971595764,0.7192838788032532,0.5809372663497925,0.5540429949760437,0.49946892261505127,0.9999999403953552,0.6737110614776611,0.6547770500183105],[0.5853967666625977,0.5629931092262268,0.803088903427124,0.5981839895248413,0.6648754477500916,0.703370213508606,0.6180118322372437,0.5171893239021301,0.5694921016693115,0.4942992925643921,0.6044691801071167,0.5377228260040283,0.5759957432746887,0.5732981562614441,0.6430021524429321,0.734168529510498,0.5268110036849976,0.5319525003433228,0.6737110614776611,1.0,0.5452789664268494],[0.6871333122253418,0.7025290727615356,0.6900637149810791,0.6739355325698853,0.610689103603363,0.6544944047927856,0.6637383699417114,0.5025286078453064,0.5574485063552856,0.5129950046539307,0.5412495136260986,0.5714801549911499,0.5850468873977661,0.6953060626983643,0.6937236785888672,0.49680957198143005,0.6199982166290283,0.5891022682189941,0.6547770500183105,0.5452789664268494,1.0]],\"type\":\"heatmap\",\"xaxis\":\"x\",\"yaxis\":\"y\",\"hovertemplate\":\"x: %{x}<br>y: %{y}<br>Similarity Score: %{z}<extra></extra>\"}],                        {\"template\":{\"data\":{\"histogram2dcontour\":[{\"type\":\"histogram2dcontour\",\"colorbar\":{\"outlinewidth\":0,\"ticks\":\"\"},\"colorscale\":[[0.0,\"#0d0887\"],[0.1111111111111111,\"#46039f\"],[0.2222222222222222,\"#7201a8\"],[0.3333333333333333,\"#9c179e\"],[0.4444444444444444,\"#bd3786\"],[0.5555555555555556,\"#d8576b\"],[0.6666666666666666,\"#ed7953\"],[0.7777777777777778,\"#fb9f3a\"],[0.8888888888888888,\"#fdca26\"],[1.0,\"#f0f921\"]]}],\"choropleth\":[{\"type\":\"choropleth\",\"colorbar\":{\"outlinewidth\":0,\"ticks\":\"\"}}],\"histogram2d\":[{\"type\":\"histogram2d\",\"colorbar\":{\"outlinewidth\":0,\"ticks\":\"\"},\"colorscale\":[[0.0,\"#0d0887\"],[0.1111111111111111,\"#46039f\"],[0.2222222222222222,\"#7201a8\"],[0.3333333333333333,\"#9c179e\"],[0.4444444444444444,\"#bd3786\"],[0.5555555555555556,\"#d8576b\"],[0.6666666666666666,\"#ed7953\"],[0.7777777777777778,\"#fb9f3a\"],[0.8888888888888888,\"#fdca26\"],[1.0,\"#f0f921\"]]}],\"heatmap\":[{\"type\":\"heatmap\",\"colorbar\":{\"outlinewidth\":0,\"ticks\":\"\"},\"colorscale\":[[0.0,\"#0d0887\"],[0.1111111111111111,\"#46039f\"],[0.2222222222222222,\"#7201a8\"],[0.3333333333333333,\"#9c179e\"],[0.4444444444444444,\"#bd3786\"],[0.5555555555555556,\"#d8576b\"],[0.6666666666666666,\"#ed7953\"],[0.7777777777777778,\"#fb9f3a\"],[0.8888888888888888,\"#fdca26\"],[1.0,\"#f0f921\"]]}],\"heatmapgl\":[{\"type\":\"heatmapgl\",\"colorbar\":{\"outlinewidth\":0,\"ticks\":\"\"},\"colorscale\":[[0.0,\"#0d0887\"],[0.1111111111111111,\"#46039f\"],[0.2222222222222222,\"#7201a8\"],[0.3333333333333333,\"#9c179e\"],[0.4444444444444444,\"#bd3786\"],[0.5555555555555556,\"#d8576b\"],[0.6666666666666666,\"#ed7953\"],[0.7777777777777778,\"#fb9f3a\"],[0.8888888888888888,\"#fdca26\"],[1.0,\"#f0f921\"]]}],\"contourcarpet\":[{\"type\":\"contourcarpet\",\"colorbar\":{\"outlinewidth\":0,\"ticks\":\"\"}}],\"contour\":[{\"type\":\"contour\",\"colorbar\":{\"outlinewidth\":0,\"ticks\":\"\"},\"colorscale\":[[0.0,\"#0d0887\"],[0.1111111111111111,\"#46039f\"],[0.2222222222222222,\"#7201a8\"],[0.3333333333333333,\"#9c179e\"],[0.4444444444444444,\"#bd3786\"],[0.5555555555555556,\"#d8576b\"],[0.6666666666666666,\"#ed7953\"],[0.7777777777777778,\"#fb9f3a\"],[0.8888888888888888,\"#fdca26\"],[1.0,\"#f0f921\"]]}],\"surface\":[{\"type\":\"surface\",\"colorbar\":{\"outlinewidth\":0,\"ticks\":\"\"},\"colorscale\":[[0.0,\"#0d0887\"],[0.1111111111111111,\"#46039f\"],[0.2222222222222222,\"#7201a8\"],[0.3333333333333333,\"#9c179e\"],[0.4444444444444444,\"#bd3786\"],[0.5555555555555556,\"#d8576b\"],[0.6666666666666666,\"#ed7953\"],[0.7777777777777778,\"#fb9f3a\"],[0.8888888888888888,\"#fdca26\"],[1.0,\"#f0f921\"]]}],\"mesh3d\":[{\"type\":\"mesh3d\",\"colorbar\":{\"outlinewidth\":0,\"ticks\":\"\"}}],\"scatter\":[{\"fillpattern\":{\"fillmode\":\"overlay\",\"size\":10,\"solidity\":0.2},\"type\":\"scatter\"}],\"parcoords\":[{\"type\":\"parcoords\",\"line\":{\"colorbar\":{\"outlinewidth\":0,\"ticks\":\"\"}}}],\"scatterpolargl\":[{\"type\":\"scatterpolargl\",\"marker\":{\"colorbar\":{\"outlinewidth\":0,\"ticks\":\"\"}}}],\"bar\":[{\"error_x\":{\"color\":\"#2a3f5f\"},\"error_y\":{\"color\":\"#2a3f5f\"},\"marker\":{\"line\":{\"color\":\"#E5ECF6\",\"width\":0.5},\"pattern\":{\"fillmode\":\"overlay\",\"size\":10,\"solidity\":0.2}},\"type\":\"bar\"}],\"scattergeo\":[{\"type\":\"scattergeo\",\"marker\":{\"colorbar\":{\"outlinewidth\":0,\"ticks\":\"\"}}}],\"scatterpolar\":[{\"type\":\"scatterpolar\",\"marker\":{\"colorbar\":{\"outlinewidth\":0,\"ticks\":\"\"}}}],\"histogram\":[{\"marker\":{\"pattern\":{\"fillmode\":\"overlay\",\"size\":10,\"solidity\":0.2}},\"type\":\"histogram\"}],\"scattergl\":[{\"type\":\"scattergl\",\"marker\":{\"colorbar\":{\"outlinewidth\":0,\"ticks\":\"\"}}}],\"scatter3d\":[{\"type\":\"scatter3d\",\"line\":{\"colorbar\":{\"outlinewidth\":0,\"ticks\":\"\"}},\"marker\":{\"colorbar\":{\"outlinewidth\":0,\"ticks\":\"\"}}}],\"scattermapbox\":[{\"type\":\"scattermapbox\",\"marker\":{\"colorbar\":{\"outlinewidth\":0,\"ticks\":\"\"}}}],\"scatterternary\":[{\"type\":\"scatterternary\",\"marker\":{\"colorbar\":{\"outlinewidth\":0,\"ticks\":\"\"}}}],\"scattercarpet\":[{\"type\":\"scattercarpet\",\"marker\":{\"colorbar\":{\"outlinewidth\":0,\"ticks\":\"\"}}}],\"carpet\":[{\"aaxis\":{\"endlinecolor\":\"#2a3f5f\",\"gridcolor\":\"white\",\"linecolor\":\"white\",\"minorgridcolor\":\"white\",\"startlinecolor\":\"#2a3f5f\"},\"baxis\":{\"endlinecolor\":\"#2a3f5f\",\"gridcolor\":\"white\",\"linecolor\":\"white\",\"minorgridcolor\":\"white\",\"startlinecolor\":\"#2a3f5f\"},\"type\":\"carpet\"}],\"table\":[{\"cells\":{\"fill\":{\"color\":\"#EBF0F8\"},\"line\":{\"color\":\"white\"}},\"header\":{\"fill\":{\"color\":\"#C8D4E3\"},\"line\":{\"color\":\"white\"}},\"type\":\"table\"}],\"barpolar\":[{\"marker\":{\"line\":{\"color\":\"#E5ECF6\",\"width\":0.5},\"pattern\":{\"fillmode\":\"overlay\",\"size\":10,\"solidity\":0.2}},\"type\":\"barpolar\"}],\"pie\":[{\"automargin\":true,\"type\":\"pie\"}]},\"layout\":{\"autotypenumbers\":\"strict\",\"colorway\":[\"#636efa\",\"#EF553B\",\"#00cc96\",\"#ab63fa\",\"#FFA15A\",\"#19d3f3\",\"#FF6692\",\"#B6E880\",\"#FF97FF\",\"#FECB52\"],\"font\":{\"color\":\"#2a3f5f\"},\"hovermode\":\"closest\",\"hoverlabel\":{\"align\":\"left\"},\"paper_bgcolor\":\"white\",\"plot_bgcolor\":\"#E5ECF6\",\"polar\":{\"bgcolor\":\"#E5ECF6\",\"angularaxis\":{\"gridcolor\":\"white\",\"linecolor\":\"white\",\"ticks\":\"\"},\"radialaxis\":{\"gridcolor\":\"white\",\"linecolor\":\"white\",\"ticks\":\"\"}},\"ternary\":{\"bgcolor\":\"#E5ECF6\",\"aaxis\":{\"gridcolor\":\"white\",\"linecolor\":\"white\",\"ticks\":\"\"},\"baxis\":{\"gridcolor\":\"white\",\"linecolor\":\"white\",\"ticks\":\"\"},\"caxis\":{\"gridcolor\":\"white\",\"linecolor\":\"white\",\"ticks\":\"\"}},\"coloraxis\":{\"colorbar\":{\"outlinewidth\":0,\"ticks\":\"\"}},\"colorscale\":{\"sequential\":[[0.0,\"#0d0887\"],[0.1111111111111111,\"#46039f\"],[0.2222222222222222,\"#7201a8\"],[0.3333333333333333,\"#9c179e\"],[0.4444444444444444,\"#bd3786\"],[0.5555555555555556,\"#d8576b\"],[0.6666666666666666,\"#ed7953\"],[0.7777777777777778,\"#fb9f3a\"],[0.8888888888888888,\"#fdca26\"],[1.0,\"#f0f921\"]],\"sequentialminus\":[[0.0,\"#0d0887\"],[0.1111111111111111,\"#46039f\"],[0.2222222222222222,\"#7201a8\"],[0.3333333333333333,\"#9c179e\"],[0.4444444444444444,\"#bd3786\"],[0.5555555555555556,\"#d8576b\"],[0.6666666666666666,\"#ed7953\"],[0.7777777777777778,\"#fb9f3a\"],[0.8888888888888888,\"#fdca26\"],[1.0,\"#f0f921\"]],\"diverging\":[[0,\"#8e0152\"],[0.1,\"#c51b7d\"],[0.2,\"#de77ae\"],[0.3,\"#f1b6da\"],[0.4,\"#fde0ef\"],[0.5,\"#f7f7f7\"],[0.6,\"#e6f5d0\"],[0.7,\"#b8e186\"],[0.8,\"#7fbc41\"],[0.9,\"#4d9221\"],[1,\"#276419\"]]},\"xaxis\":{\"gridcolor\":\"white\",\"linecolor\":\"white\",\"ticks\":\"\",\"title\":{\"standoff\":15},\"zerolinecolor\":\"white\",\"automargin\":true,\"zerolinewidth\":2},\"yaxis\":{\"gridcolor\":\"white\",\"linecolor\":\"white\",\"ticks\":\"\",\"title\":{\"standoff\":15},\"zerolinecolor\":\"white\",\"automargin\":true,\"zerolinewidth\":2},\"scene\":{\"xaxis\":{\"backgroundcolor\":\"#E5ECF6\",\"gridcolor\":\"white\",\"linecolor\":\"white\",\"showbackground\":true,\"ticks\":\"\",\"zerolinecolor\":\"white\",\"gridwidth\":2},\"yaxis\":{\"backgroundcolor\":\"#E5ECF6\",\"gridcolor\":\"white\",\"linecolor\":\"white\",\"showbackground\":true,\"ticks\":\"\",\"zerolinecolor\":\"white\",\"gridwidth\":2},\"zaxis\":{\"backgroundcolor\":\"#E5ECF6\",\"gridcolor\":\"white\",\"linecolor\":\"white\",\"showbackground\":true,\"ticks\":\"\",\"zerolinecolor\":\"white\",\"gridwidth\":2}},\"shapedefaults\":{\"line\":{\"color\":\"#2a3f5f\"}},\"annotationdefaults\":{\"arrowcolor\":\"#2a3f5f\",\"arrowhead\":0,\"arrowwidth\":1},\"geo\":{\"bgcolor\":\"white\",\"landcolor\":\"#E5ECF6\",\"subunitcolor\":\"white\",\"showland\":true,\"showlakes\":true,\"lakecolor\":\"white\"},\"title\":{\"x\":0.05},\"mapbox\":{\"style\":\"light\"}}},\"xaxis\":{\"anchor\":\"y\",\"domain\":[0.0,1.0],\"scaleanchor\":\"y\",\"constrain\":\"domain\"},\"yaxis\":{\"anchor\":\"x\",\"domain\":[0.0,1.0],\"autorange\":\"reversed\",\"constrain\":\"domain\"},\"coloraxis\":{\"colorbar\":{\"title\":{\"text\":\"Similarity Score\"}},\"colorscale\":[[0.0,\"rgb(247,252,240)\"],[0.125,\"rgb(224,243,219)\"],[0.25,\"rgb(204,235,197)\"],[0.375,\"rgb(168,221,181)\"],[0.5,\"rgb(123,204,196)\"],[0.625,\"rgb(78,179,211)\"],[0.75,\"rgb(43,140,190)\"],[0.875,\"rgb(8,104,172)\"],[1.0,\"rgb(8,64,129)\"]]},\"margin\":{\"t\":60},\"title\":{\"font\":{\"size\":22,\"color\":\"Black\"},\"text\":\"<b>Similarity Matrix</b>\",\"y\":0.95,\"x\":0.55,\"xanchor\":\"center\",\"yanchor\":\"top\"},\"hoverlabel\":{\"font\":{\"size\":16,\"family\":\"Rockwell\"},\"bgcolor\":\"white\"},\"width\":800,\"height\":800,\"showlegend\":true,\"legend\":{\"title\":{\"text\":\"Trend\"}}},                        {\"responsive\": true}                    ).then(function(){\n",
              "                            \n",
              "var gd = document.getElementById('1a93ea60-e27b-4c19-91cf-86d7376b95cf');\n",
              "var x = new MutationObserver(function (mutations, observer) {{\n",
              "        var display = window.getComputedStyle(gd).display;\n",
              "        if (!display || display === 'none') {{\n",
              "            console.log([gd, 'removed!']);\n",
              "            Plotly.purge(gd);\n",
              "            observer.disconnect();\n",
              "        }}\n",
              "}});\n",
              "\n",
              "// Listen for the removal of the full notebook cells\n",
              "var notebookContainer = gd.closest('#notebook-container');\n",
              "if (notebookContainer) {{\n",
              "    x.observe(notebookContainer, {childList: true});\n",
              "}}\n",
              "\n",
              "// Listen for the clearing of the current output cell\n",
              "var outputEl = gd.closest('.output');\n",
              "if (outputEl) {{\n",
              "    x.observe(outputEl, {childList: true});\n",
              "}}\n",
              "\n",
              "                        })                };                            </script>        </div>\n",
              "</body>\n",
              "</html>"
            ]
          },
          "metadata": {}
        }
      ]
    },
    {
      "cell_type": "code",
      "source": [
        "\n",
        "topic_model.visualize_hierarchy(top_n_topics=21, width=800)"
      ],
      "metadata": {
        "colab": {
          "base_uri": "https://localhost:8080/",
          "height": 532
        },
        "id": "tI58mzOn-GJG",
        "outputId": "7bc48f55-1a42-4839-dc02-330eb202a8f0"
      },
      "execution_count": 53,
      "outputs": [
        {
          "output_type": "display_data",
          "data": {
            "text/html": [
              "<html>\n",
              "<head><meta charset=\"utf-8\" /></head>\n",
              "<body>\n",
              "    <div>            <script src=\"https://cdnjs.cloudflare.com/ajax/libs/mathjax/2.7.5/MathJax.js?config=TeX-AMS-MML_SVG\"></script><script type=\"text/javascript\">if (window.MathJax && window.MathJax.Hub && window.MathJax.Hub.Config) {window.MathJax.Hub.Config({SVG: {font: \"STIX-Web\"}});}</script>                <script type=\"text/javascript\">window.PlotlyConfig = {MathJaxConfig: 'local'};</script>\n",
              "        <script src=\"https://cdn.plot.ly/plotly-2.18.2.min.js\"></script>                <div id=\"f93c99ff-de96-4a70-9cad-662a1429b836\" class=\"plotly-graph-div\" style=\"height:515px; width:800px;\"></div>            <script type=\"text/javascript\">                                    window.PLOTLYENV=window.PLOTLYENV || {};                                    if (document.getElementById(\"f93c99ff-de96-4a70-9cad-662a1429b836\")) {                    Plotly.newPlot(                        \"f93c99ff-de96-4a70-9cad-662a1429b836\",                        [{\"hoverinfo\":\"text\",\"marker\":{\"color\":\"rgb(61,153,112)\"},\"mode\":\"lines\",\"x\":[0.0,0.6367179772362475,0.6367179772362475,0.0],\"xaxis\":\"x\",\"y\":[-15.0,-15.0,-25.0,-25.0],\"yaxis\":\"y\",\"type\":\"scatter\"},{\"hoverinfo\":\"text\",\"marker\":{\"color\":\"rgb(61,153,112)\"},\"mode\":\"lines\",\"x\":[0.6367179772362475,0.6625050146944361,0.6625050146944361,0.0],\"xaxis\":\"x\",\"y\":[-20.0,-20.0,-35.0,-35.0],\"yaxis\":\"y\",\"type\":\"scatter\"},{\"hoverinfo\":\"text\",\"marker\":{\"color\":\"rgb(61,153,112)\"},\"mode\":\"lines\",\"x\":[0.0,0.8299899046501088,0.8299899046501088,0.6625050146944361],\"xaxis\":\"x\",\"y\":[-5.0,-5.0,-27.5,-27.5],\"yaxis\":\"y\",\"type\":\"scatter\"},{\"hoverinfo\":\"text\",\"marker\":{\"color\":\"rgb(61,153,112)\"},\"mode\":\"lines\",\"x\":[0.0,0.5202867671740355,0.5202867671740355,0.0],\"xaxis\":\"x\",\"y\":[-45.0,-45.0,-55.0,-55.0],\"yaxis\":\"y\",\"type\":\"scatter\"},{\"hoverinfo\":\"text\",\"marker\":{\"color\":\"rgb(61,153,112)\"},\"mode\":\"lines\",\"x\":[0.5202867671740355,0.6534678576264759,0.6534678576264759,0.0],\"xaxis\":\"x\",\"y\":[-50.0,-50.0,-65.0,-65.0],\"yaxis\":\"y\",\"type\":\"scatter\"},{\"hoverinfo\":\"text\",\"marker\":{\"color\":\"rgb(61,153,112)\"},\"mode\":\"lines\",\"x\":[0.8299899046501088,0.8830305856891115,0.8830305856891115,0.6534678576264759],\"xaxis\":\"x\",\"y\":[-16.25,-16.25,-57.5,-57.5],\"yaxis\":\"y\",\"type\":\"scatter\"},{\"hoverinfo\":\"text\",\"marker\":{\"color\":\"rgb(255,65,54)\"},\"mode\":\"lines\",\"x\":[0.0,0.5757740757098512,0.5757740757098512,0.0],\"xaxis\":\"x\",\"y\":[-75.0,-75.0,-85.0,-85.0],\"yaxis\":\"y\",\"type\":\"scatter\"},{\"hoverinfo\":\"text\",\"marker\":{\"color\":\"rgb(255,65,54)\"},\"mode\":\"lines\",\"x\":[0.0,0.5936824172592305,0.5936824172592305,0.0],\"xaxis\":\"x\",\"y\":[-95.0,-95.0,-105.0,-105.0],\"yaxis\":\"y\",\"type\":\"scatter\"},{\"hoverinfo\":\"text\",\"marker\":{\"color\":\"rgb(255,65,54)\"},\"mode\":\"lines\",\"x\":[0.5757740757098512,0.7413210171785037,0.7413210171785037,0.5936824172592305],\"xaxis\":\"x\",\"y\":[-80.0,-80.0,-100.0,-100.0],\"yaxis\":\"y\",\"type\":\"scatter\"},{\"hoverinfo\":\"text\",\"marker\":{\"color\":\"rgb(35,205,205)\"},\"mode\":\"lines\",\"x\":[0.0,0.702951273838811,0.702951273838811,0.0],\"xaxis\":\"x\",\"y\":[-115.0,-115.0,-125.0,-125.0],\"yaxis\":\"y\",\"type\":\"scatter\"},{\"hoverinfo\":\"text\",\"marker\":{\"color\":\"rgb(35,205,205)\"},\"mode\":\"lines\",\"x\":[0.0,0.5391648315764921,0.5391648315764921,0.0],\"xaxis\":\"x\",\"y\":[-145.0,-145.0,-155.0,-155.0],\"yaxis\":\"y\",\"type\":\"scatter\"},{\"hoverinfo\":\"text\",\"marker\":{\"color\":\"rgb(35,205,205)\"},\"mode\":\"lines\",\"x\":[0.0,0.6879065577666537,0.6879065577666537,0.5391648315764921],\"xaxis\":\"x\",\"y\":[-135.0,-135.0,-150.0,-150.0],\"yaxis\":\"y\",\"type\":\"scatter\"},{\"hoverinfo\":\"text\",\"marker\":{\"color\":\"rgb(35,205,205)\"},\"mode\":\"lines\",\"x\":[0.0,0.5678147252173646,0.5678147252173646,0.0],\"xaxis\":\"x\",\"y\":[-165.0,-165.0,-175.0,-175.0],\"yaxis\":\"y\",\"type\":\"scatter\"},{\"hoverinfo\":\"text\",\"marker\":{\"color\":\"rgb(35,205,205)\"},\"mode\":\"lines\",\"x\":[0.5678147252173646,0.6812412512320523,0.6812412512320523,0.0],\"xaxis\":\"x\",\"y\":[-170.0,-170.0,-185.0,-185.0],\"yaxis\":\"y\",\"type\":\"scatter\"},{\"hoverinfo\":\"text\",\"marker\":{\"color\":\"rgb(35,205,205)\"},\"mode\":\"lines\",\"x\":[0.6879065577666537,0.7627815993546007,0.7627815993546007,0.6812412512320523],\"xaxis\":\"x\",\"y\":[-142.5,-142.5,-177.5,-177.5],\"yaxis\":\"y\",\"type\":\"scatter\"},{\"hoverinfo\":\"text\",\"marker\":{\"color\":\"rgb(35,205,205)\"},\"mode\":\"lines\",\"x\":[0.702951273838811,0.8495214946466868,0.8495214946466868,0.7627815993546007],\"xaxis\":\"x\",\"y\":[-120.0,-120.0,-160.0,-160.0],\"yaxis\":\"y\",\"type\":\"scatter\"},{\"hoverinfo\":\"text\",\"marker\":{\"color\":\"rgb(35,205,205)\"},\"mode\":\"lines\",\"x\":[0.0,0.5172645620563538,0.5172645620563538,0.0],\"xaxis\":\"x\",\"y\":[-195.0,-195.0,-205.0,-205.0],\"yaxis\":\"y\",\"type\":\"scatter\"},{\"hoverinfo\":\"text\",\"marker\":{\"color\":\"rgb(35,205,205)\"},\"mode\":\"lines\",\"x\":[0.8495214946466868,0.9266987837217064,0.9266987837217064,0.5172645620563538],\"xaxis\":\"x\",\"y\":[-140.0,-140.0,-200.0,-200.0],\"yaxis\":\"y\",\"type\":\"scatter\"},{\"hoverinfo\":\"text\",\"marker\":{\"color\":\"rgb(0,116,217)\"},\"mode\":\"lines\",\"x\":[0.7413210171785037,1.0300288308532448,1.0300288308532448,0.9266987837217064],\"xaxis\":\"x\",\"y\":[-90.0,-90.0,-170.0,-170.0],\"yaxis\":\"y\",\"type\":\"scatter\"},{\"hoverinfo\":\"text\",\"marker\":{\"color\":\"rgb(0,116,217)\"},\"mode\":\"lines\",\"x\":[0.8830305856891115,1.1139263861193667,1.1139263861193667,1.0300288308532448],\"xaxis\":\"x\",\"y\":[-36.875,-36.875,-130.0,-130.0],\"yaxis\":\"y\",\"type\":\"scatter\"}],                        {\"autosize\":false,\"height\":515,\"hovermode\":\"closest\",\"showlegend\":false,\"width\":800,\"xaxis\":{\"mirror\":\"allticks\",\"rangemode\":\"tozero\",\"showgrid\":false,\"showline\":true,\"showticklabels\":true,\"ticks\":\"outside\",\"type\":\"linear\",\"zeroline\":false},\"yaxis\":{\"mirror\":\"allticks\",\"rangemode\":\"tozero\",\"showgrid\":false,\"showline\":true,\"showticklabels\":true,\"tickmode\":\"array\",\"ticks\":\"outside\",\"ticktext\":[\"11_game_player_equilibrium\",\"12_policy_rl_agent\",\"5_robot_robotic_human\",\"10_vehicle_traffic_driving\",\"1_image_segmentation_imaging\",\"7_neural_dnn_network\",\"8_speech_speaker_audio\",\"15_flow_turbulent_turbulence\",\"18_plasma_magnetic_electron\",\"14_energy_electron_calculat...\",\"9_protein_cell_molecular\",\"3_optical_photonic_mode\",\"16_quantum_classical_circuit\",\"2_logic_program_calculus\",\"4_equation_numerical_method\",\"19_control_controller_system\",\"13_power_grid_energy\",\"0_channel_interference_ante...\",\"20_network_community_node\",\"6_graph_vertex_edge\",\"17_mathbb_mathcal_mathbf\"],\"tickvals\":[-5.0,-15.0,-25.0,-35.0,-45.0,-55.0,-65.0,-75.0,-85.0,-95.0,-105.0,-115.0,-125.0,-135.0,-145.0,-155.0,-165.0,-175.0,-185.0,-195.0,-205.0],\"type\":\"linear\",\"zeroline\":false,\"range\":[-210.0,0.0]},\"template\":{\"data\":{\"barpolar\":[{\"marker\":{\"line\":{\"color\":\"white\",\"width\":0.5},\"pattern\":{\"fillmode\":\"overlay\",\"size\":10,\"solidity\":0.2}},\"type\":\"barpolar\"}],\"bar\":[{\"error_x\":{\"color\":\"#2a3f5f\"},\"error_y\":{\"color\":\"#2a3f5f\"},\"marker\":{\"line\":{\"color\":\"white\",\"width\":0.5},\"pattern\":{\"fillmode\":\"overlay\",\"size\":10,\"solidity\":0.2}},\"type\":\"bar\"}],\"carpet\":[{\"aaxis\":{\"endlinecolor\":\"#2a3f5f\",\"gridcolor\":\"#C8D4E3\",\"linecolor\":\"#C8D4E3\",\"minorgridcolor\":\"#C8D4E3\",\"startlinecolor\":\"#2a3f5f\"},\"baxis\":{\"endlinecolor\":\"#2a3f5f\",\"gridcolor\":\"#C8D4E3\",\"linecolor\":\"#C8D4E3\",\"minorgridcolor\":\"#C8D4E3\",\"startlinecolor\":\"#2a3f5f\"},\"type\":\"carpet\"}],\"choropleth\":[{\"colorbar\":{\"outlinewidth\":0,\"ticks\":\"\"},\"type\":\"choropleth\"}],\"contourcarpet\":[{\"colorbar\":{\"outlinewidth\":0,\"ticks\":\"\"},\"type\":\"contourcarpet\"}],\"contour\":[{\"colorbar\":{\"outlinewidth\":0,\"ticks\":\"\"},\"colorscale\":[[0.0,\"#0d0887\"],[0.1111111111111111,\"#46039f\"],[0.2222222222222222,\"#7201a8\"],[0.3333333333333333,\"#9c179e\"],[0.4444444444444444,\"#bd3786\"],[0.5555555555555556,\"#d8576b\"],[0.6666666666666666,\"#ed7953\"],[0.7777777777777778,\"#fb9f3a\"],[0.8888888888888888,\"#fdca26\"],[1.0,\"#f0f921\"]],\"type\":\"contour\"}],\"heatmapgl\":[{\"colorbar\":{\"outlinewidth\":0,\"ticks\":\"\"},\"colorscale\":[[0.0,\"#0d0887\"],[0.1111111111111111,\"#46039f\"],[0.2222222222222222,\"#7201a8\"],[0.3333333333333333,\"#9c179e\"],[0.4444444444444444,\"#bd3786\"],[0.5555555555555556,\"#d8576b\"],[0.6666666666666666,\"#ed7953\"],[0.7777777777777778,\"#fb9f3a\"],[0.8888888888888888,\"#fdca26\"],[1.0,\"#f0f921\"]],\"type\":\"heatmapgl\"}],\"heatmap\":[{\"colorbar\":{\"outlinewidth\":0,\"ticks\":\"\"},\"colorscale\":[[0.0,\"#0d0887\"],[0.1111111111111111,\"#46039f\"],[0.2222222222222222,\"#7201a8\"],[0.3333333333333333,\"#9c179e\"],[0.4444444444444444,\"#bd3786\"],[0.5555555555555556,\"#d8576b\"],[0.6666666666666666,\"#ed7953\"],[0.7777777777777778,\"#fb9f3a\"],[0.8888888888888888,\"#fdca26\"],[1.0,\"#f0f921\"]],\"type\":\"heatmap\"}],\"histogram2dcontour\":[{\"colorbar\":{\"outlinewidth\":0,\"ticks\":\"\"},\"colorscale\":[[0.0,\"#0d0887\"],[0.1111111111111111,\"#46039f\"],[0.2222222222222222,\"#7201a8\"],[0.3333333333333333,\"#9c179e\"],[0.4444444444444444,\"#bd3786\"],[0.5555555555555556,\"#d8576b\"],[0.6666666666666666,\"#ed7953\"],[0.7777777777777778,\"#fb9f3a\"],[0.8888888888888888,\"#fdca26\"],[1.0,\"#f0f921\"]],\"type\":\"histogram2dcontour\"}],\"histogram2d\":[{\"colorbar\":{\"outlinewidth\":0,\"ticks\":\"\"},\"colorscale\":[[0.0,\"#0d0887\"],[0.1111111111111111,\"#46039f\"],[0.2222222222222222,\"#7201a8\"],[0.3333333333333333,\"#9c179e\"],[0.4444444444444444,\"#bd3786\"],[0.5555555555555556,\"#d8576b\"],[0.6666666666666666,\"#ed7953\"],[0.7777777777777778,\"#fb9f3a\"],[0.8888888888888888,\"#fdca26\"],[1.0,\"#f0f921\"]],\"type\":\"histogram2d\"}],\"histogram\":[{\"marker\":{\"pattern\":{\"fillmode\":\"overlay\",\"size\":10,\"solidity\":0.2}},\"type\":\"histogram\"}],\"mesh3d\":[{\"colorbar\":{\"outlinewidth\":0,\"ticks\":\"\"},\"type\":\"mesh3d\"}],\"parcoords\":[{\"line\":{\"colorbar\":{\"outlinewidth\":0,\"ticks\":\"\"}},\"type\":\"parcoords\"}],\"pie\":[{\"automargin\":true,\"type\":\"pie\"}],\"scatter3d\":[{\"line\":{\"colorbar\":{\"outlinewidth\":0,\"ticks\":\"\"}},\"marker\":{\"colorbar\":{\"outlinewidth\":0,\"ticks\":\"\"}},\"type\":\"scatter3d\"}],\"scattercarpet\":[{\"marker\":{\"colorbar\":{\"outlinewidth\":0,\"ticks\":\"\"}},\"type\":\"scattercarpet\"}],\"scattergeo\":[{\"marker\":{\"colorbar\":{\"outlinewidth\":0,\"ticks\":\"\"}},\"type\":\"scattergeo\"}],\"scattergl\":[{\"marker\":{\"colorbar\":{\"outlinewidth\":0,\"ticks\":\"\"}},\"type\":\"scattergl\"}],\"scattermapbox\":[{\"marker\":{\"colorbar\":{\"outlinewidth\":0,\"ticks\":\"\"}},\"type\":\"scattermapbox\"}],\"scatterpolargl\":[{\"marker\":{\"colorbar\":{\"outlinewidth\":0,\"ticks\":\"\"}},\"type\":\"scatterpolargl\"}],\"scatterpolar\":[{\"marker\":{\"colorbar\":{\"outlinewidth\":0,\"ticks\":\"\"}},\"type\":\"scatterpolar\"}],\"scatter\":[{\"fillpattern\":{\"fillmode\":\"overlay\",\"size\":10,\"solidity\":0.2},\"type\":\"scatter\"}],\"scatterternary\":[{\"marker\":{\"colorbar\":{\"outlinewidth\":0,\"ticks\":\"\"}},\"type\":\"scatterternary\"}],\"surface\":[{\"colorbar\":{\"outlinewidth\":0,\"ticks\":\"\"},\"colorscale\":[[0.0,\"#0d0887\"],[0.1111111111111111,\"#46039f\"],[0.2222222222222222,\"#7201a8\"],[0.3333333333333333,\"#9c179e\"],[0.4444444444444444,\"#bd3786\"],[0.5555555555555556,\"#d8576b\"],[0.6666666666666666,\"#ed7953\"],[0.7777777777777778,\"#fb9f3a\"],[0.8888888888888888,\"#fdca26\"],[1.0,\"#f0f921\"]],\"type\":\"surface\"}],\"table\":[{\"cells\":{\"fill\":{\"color\":\"#EBF0F8\"},\"line\":{\"color\":\"white\"}},\"header\":{\"fill\":{\"color\":\"#C8D4E3\"},\"line\":{\"color\":\"white\"}},\"type\":\"table\"}]},\"layout\":{\"annotationdefaults\":{\"arrowcolor\":\"#2a3f5f\",\"arrowhead\":0,\"arrowwidth\":1},\"autotypenumbers\":\"strict\",\"coloraxis\":{\"colorbar\":{\"outlinewidth\":0,\"ticks\":\"\"}},\"colorscale\":{\"diverging\":[[0,\"#8e0152\"],[0.1,\"#c51b7d\"],[0.2,\"#de77ae\"],[0.3,\"#f1b6da\"],[0.4,\"#fde0ef\"],[0.5,\"#f7f7f7\"],[0.6,\"#e6f5d0\"],[0.7,\"#b8e186\"],[0.8,\"#7fbc41\"],[0.9,\"#4d9221\"],[1,\"#276419\"]],\"sequential\":[[0.0,\"#0d0887\"],[0.1111111111111111,\"#46039f\"],[0.2222222222222222,\"#7201a8\"],[0.3333333333333333,\"#9c179e\"],[0.4444444444444444,\"#bd3786\"],[0.5555555555555556,\"#d8576b\"],[0.6666666666666666,\"#ed7953\"],[0.7777777777777778,\"#fb9f3a\"],[0.8888888888888888,\"#fdca26\"],[1.0,\"#f0f921\"]],\"sequentialminus\":[[0.0,\"#0d0887\"],[0.1111111111111111,\"#46039f\"],[0.2222222222222222,\"#7201a8\"],[0.3333333333333333,\"#9c179e\"],[0.4444444444444444,\"#bd3786\"],[0.5555555555555556,\"#d8576b\"],[0.6666666666666666,\"#ed7953\"],[0.7777777777777778,\"#fb9f3a\"],[0.8888888888888888,\"#fdca26\"],[1.0,\"#f0f921\"]]},\"colorway\":[\"#636efa\",\"#EF553B\",\"#00cc96\",\"#ab63fa\",\"#FFA15A\",\"#19d3f3\",\"#FF6692\",\"#B6E880\",\"#FF97FF\",\"#FECB52\"],\"font\":{\"color\":\"#2a3f5f\"},\"geo\":{\"bgcolor\":\"white\",\"lakecolor\":\"white\",\"landcolor\":\"white\",\"showlakes\":true,\"showland\":true,\"subunitcolor\":\"#C8D4E3\"},\"hoverlabel\":{\"align\":\"left\"},\"hovermode\":\"closest\",\"mapbox\":{\"style\":\"light\"},\"paper_bgcolor\":\"white\",\"plot_bgcolor\":\"white\",\"polar\":{\"angularaxis\":{\"gridcolor\":\"#EBF0F8\",\"linecolor\":\"#EBF0F8\",\"ticks\":\"\"},\"bgcolor\":\"white\",\"radialaxis\":{\"gridcolor\":\"#EBF0F8\",\"linecolor\":\"#EBF0F8\",\"ticks\":\"\"}},\"scene\":{\"xaxis\":{\"backgroundcolor\":\"white\",\"gridcolor\":\"#DFE8F3\",\"gridwidth\":2,\"linecolor\":\"#EBF0F8\",\"showbackground\":true,\"ticks\":\"\",\"zerolinecolor\":\"#EBF0F8\"},\"yaxis\":{\"backgroundcolor\":\"white\",\"gridcolor\":\"#DFE8F3\",\"gridwidth\":2,\"linecolor\":\"#EBF0F8\",\"showbackground\":true,\"ticks\":\"\",\"zerolinecolor\":\"#EBF0F8\"},\"zaxis\":{\"backgroundcolor\":\"white\",\"gridcolor\":\"#DFE8F3\",\"gridwidth\":2,\"linecolor\":\"#EBF0F8\",\"showbackground\":true,\"ticks\":\"\",\"zerolinecolor\":\"#EBF0F8\"}},\"shapedefaults\":{\"line\":{\"color\":\"#2a3f5f\"}},\"ternary\":{\"aaxis\":{\"gridcolor\":\"#DFE8F3\",\"linecolor\":\"#A2B1C6\",\"ticks\":\"\"},\"baxis\":{\"gridcolor\":\"#DFE8F3\",\"linecolor\":\"#A2B1C6\",\"ticks\":\"\"},\"bgcolor\":\"white\",\"caxis\":{\"gridcolor\":\"#DFE8F3\",\"linecolor\":\"#A2B1C6\",\"ticks\":\"\"}},\"title\":{\"x\":0.05},\"xaxis\":{\"automargin\":true,\"gridcolor\":\"#EBF0F8\",\"linecolor\":\"#EBF0F8\",\"ticks\":\"\",\"title\":{\"standoff\":15},\"zerolinecolor\":\"#EBF0F8\",\"zerolinewidth\":2},\"yaxis\":{\"automargin\":true,\"gridcolor\":\"#EBF0F8\",\"linecolor\":\"#EBF0F8\",\"ticks\":\"\",\"title\":{\"standoff\":15},\"zerolinecolor\":\"#EBF0F8\",\"zerolinewidth\":2}}},\"title\":{\"font\":{\"size\":22,\"color\":\"Black\"},\"text\":\"<b>Hierarchical Clustering</b>\",\"x\":0.5,\"xanchor\":\"center\",\"yanchor\":\"top\"},\"hoverlabel\":{\"font\":{\"size\":16,\"family\":\"Rockwell\"},\"bgcolor\":\"white\"},\"plot_bgcolor\":\"#ECEFF1\"},                        {\"responsive\": true}                    ).then(function(){\n",
              "                            \n",
              "var gd = document.getElementById('f93c99ff-de96-4a70-9cad-662a1429b836');\n",
              "var x = new MutationObserver(function (mutations, observer) {{\n",
              "        var display = window.getComputedStyle(gd).display;\n",
              "        if (!display || display === 'none') {{\n",
              "            console.log([gd, 'removed!']);\n",
              "            Plotly.purge(gd);\n",
              "            observer.disconnect();\n",
              "        }}\n",
              "}});\n",
              "\n",
              "// Listen for the removal of the full notebook cells\n",
              "var notebookContainer = gd.closest('#notebook-container');\n",
              "if (notebookContainer) {{\n",
              "    x.observe(notebookContainer, {childList: true});\n",
              "}}\n",
              "\n",
              "// Listen for the clearing of the current output cell\n",
              "var outputEl = gd.closest('.output');\n",
              "if (outputEl) {{\n",
              "    x.observe(outputEl, {childList: true});\n",
              "}}\n",
              "\n",
              "                        })                };                            </script>        </div>\n",
              "</body>\n",
              "</html>"
            ]
          },
          "metadata": {}
        }
      ]
    },
    {
      "cell_type": "code",
      "source": [
        "#reduce the number of topics to 90 if you see that's good to do it so it will reduce the number from 100 TO 90 topics \n",
        "\n",
        "topic_model.reduce_topics(df[\"processed_text\"].to_numpy(),nr_topics=90)\n",
        "topics = topic_model.topics_"
      ],
      "metadata": {
        "colab": {
          "base_uri": "https://localhost:8080/"
        },
        "id": "Ilye-SSS0MIk",
        "outputId": "70bcf670-83fb-4689-8785-f03201b2b8c2"
      },
      "execution_count": 54,
      "outputs": [
        {
          "output_type": "stream",
          "name": "stderr",
          "text": [
            "2023-06-06 00:03:06,946 - BERTopic - Reduced number of topics from 100 to 90\n"
          ]
        },
        {
          "output_type": "execute_result",
          "data": {
            "text/plain": [
              "<bertopic._bertopic.BERTopic at 0x7f221e54dcf0>"
            ]
          },
          "metadata": {},
          "execution_count": 54
        }
      ]
    },
    {
      "cell_type": "code",
      "source": [
        "#reduce the number of topics to 90 if you see that's good to do it\n",
        "\n",
        "topic_model.reduce_topics(df[\"processed_text\"].to_numpy(),nr_topics=20)\n",
        "topics = topic_model.topics_"
      ],
      "metadata": {
        "colab": {
          "base_uri": "https://localhost:8080/"
        },
        "id": "VIvXQco3jVS0",
        "outputId": "1d0c197b-390e-4f85-84af-989ac1270dd9"
      },
      "execution_count": 55,
      "outputs": [
        {
          "output_type": "stream",
          "name": "stderr",
          "text": [
            "2023-06-06 00:03:17,076 - BERTopic - Reduced number of topics from 90 to 20\n"
          ]
        },
        {
          "output_type": "execute_result",
          "data": {
            "text/plain": [
              "<bertopic._bertopic.BERTopic at 0x7f221e54dcf0>"
            ]
          },
          "metadata": {},
          "execution_count": 55
        }
      ]
    },
    {
      "cell_type": "markdown",
      "metadata": {
        "id": "6-U7QGCDioln"
      },
      "source": [
        "### **Summarize your answers to Q2 below, based on your analysis:**\n"
      ]
    },
    {
      "cell_type": "markdown",
      "source": [
        "\n",
        "- In this question, I preprocess the abstract of papers in our data as follow\n",
        "  - first, create the tokenizer to process abstract\n",
        "  -  Make Function to handle float values in the \"abstract\" column\n",
        "  - Apply the tokenizer to process abstract\n",
        "  - create a topic model using BERTopic with parameter min_topic_size=50\n",
        "  - Apply different method on model to visulize it well as shown as follow in code.\n",
        "  -  The number of Clustered reduced embeddings = 100 and that is big so I will fine model to reduce the number of clustered and I have got `90 clusters ` but this number is still big so i will reduce again and finally the number of clusters is `20 clusters` from this model.\n",
        "- For the Topics I have recieved \n",
        "  - 26323\t topics is misclassified as they have `(-1)` but on the other hand the last of topics are classified well in topics' numbers which start from 0  as we show the head of topics from 0 to 9 topics.\n",
        "  - I think the Optimal topic number for abstract will differ from one to other, for me i use the parameter  `min_topic_size=50` and it did well with me ."
      ],
      "metadata": {
        "id": "9xXxnCoFrGh-"
      }
    },
    {
      "cell_type": "markdown",
      "metadata": {
        "id": "lyQTiLejioln"
      },
      "source": [
        "Question 3: Compare the topics learned by BERTopic with the original categories of the papers. \n",
        "For instance, you can pick one popular category, such as cs.CV, and check how those papers belong to this category are cateogrized by your topic model learned in previous step. "
      ]
    },
    {
      "cell_type": "code",
      "execution_count": 31,
      "metadata": {
        "id": "efZQmsKbiolo"
      },
      "outputs": [],
      "source": [
        "# put your code for Q3 here, you can have multiple code blocks.\n",
        "# add column topics to original dataset.\n",
        "df['topics']=topics"
      ]
    },
    {
      "cell_type": "code",
      "source": [
        "new_df= df[df['categories']== 'cs.CV']"
      ],
      "metadata": {
        "id": "3V2yaIrhvDCu"
      },
      "execution_count": 32,
      "outputs": []
    },
    {
      "cell_type": "code",
      "source": [
        "value_counts = new_df['topics'].value_counts().count()\n",
        "value_counts"
      ],
      "metadata": {
        "colab": {
          "base_uri": "https://localhost:8080/"
        },
        "id": "hKgkYUbOvDJH",
        "outputId": "9f46bcea-1cbe-4b66-ec19-abf4414bf50b"
      },
      "execution_count": 33,
      "outputs": [
        {
          "output_type": "execute_result",
          "data": {
            "text/plain": [
              "11"
            ]
          },
          "metadata": {},
          "execution_count": 33
        }
      ]
    },
    {
      "cell_type": "code",
      "source": [
        "value_counts_ = new_df['topics'].value_counts()\n",
        "value_counts_"
      ],
      "metadata": {
        "colab": {
          "base_uri": "https://localhost:8080/"
        },
        "id": "baGXs2FWj_iU",
        "outputId": "dbf070b6-2c35-4d95-ee6f-6aca4e762328"
      },
      "execution_count": 34,
      "outputs": [
        {
          "output_type": "execute_result",
          "data": {
            "text/plain": [
              "-1     1736\n",
              " 0     1184\n",
              " 4       94\n",
              " 2       47\n",
              " 1       18\n",
              " 15      14\n",
              " 9        4\n",
              " 8        4\n",
              " 6        2\n",
              " 14       1\n",
              " 10       1\n",
              "Name: topics, dtype: int64"
            ]
          },
          "metadata": {},
          "execution_count": 34
        }
      ]
    },
    {
      "cell_type": "code",
      "source": [
        "# get the distribution of the dataframe\n",
        "distribution = new_df.describe()\n",
        "distribution"
      ],
      "metadata": {
        "colab": {
          "base_uri": "https://localhost:8080/",
          "height": 300
        },
        "id": "v344EU0RmyCq",
        "outputId": "eebbda94-e9a1-4da3-ed0f-365a3cf1679e"
      },
      "execution_count": 35,
      "outputs": [
        {
          "output_type": "execute_result",
          "data": {
            "text/plain": [
              "            topics\n",
              "count  3105.000000\n",
              "mean     -0.300805\n",
              "std       1.529673\n",
              "min      -1.000000\n",
              "25%      -1.000000\n",
              "50%      -1.000000\n",
              "75%       0.000000\n",
              "max      15.000000"
            ],
            "text/html": [
              "\n",
              "  <div id=\"df-fa11f894-f50f-45e2-b6f5-25cacd83e511\">\n",
              "    <div class=\"colab-df-container\">\n",
              "      <div>\n",
              "<style scoped>\n",
              "    .dataframe tbody tr th:only-of-type {\n",
              "        vertical-align: middle;\n",
              "    }\n",
              "\n",
              "    .dataframe tbody tr th {\n",
              "        vertical-align: top;\n",
              "    }\n",
              "\n",
              "    .dataframe thead th {\n",
              "        text-align: right;\n",
              "    }\n",
              "</style>\n",
              "<table border=\"1\" class=\"dataframe\">\n",
              "  <thead>\n",
              "    <tr style=\"text-align: right;\">\n",
              "      <th></th>\n",
              "      <th>topics</th>\n",
              "    </tr>\n",
              "  </thead>\n",
              "  <tbody>\n",
              "    <tr>\n",
              "      <th>count</th>\n",
              "      <td>3105.000000</td>\n",
              "    </tr>\n",
              "    <tr>\n",
              "      <th>mean</th>\n",
              "      <td>-0.300805</td>\n",
              "    </tr>\n",
              "    <tr>\n",
              "      <th>std</th>\n",
              "      <td>1.529673</td>\n",
              "    </tr>\n",
              "    <tr>\n",
              "      <th>min</th>\n",
              "      <td>-1.000000</td>\n",
              "    </tr>\n",
              "    <tr>\n",
              "      <th>25%</th>\n",
              "      <td>-1.000000</td>\n",
              "    </tr>\n",
              "    <tr>\n",
              "      <th>50%</th>\n",
              "      <td>-1.000000</td>\n",
              "    </tr>\n",
              "    <tr>\n",
              "      <th>75%</th>\n",
              "      <td>0.000000</td>\n",
              "    </tr>\n",
              "    <tr>\n",
              "      <th>max</th>\n",
              "      <td>15.000000</td>\n",
              "    </tr>\n",
              "  </tbody>\n",
              "</table>\n",
              "</div>\n",
              "      <button class=\"colab-df-convert\" onclick=\"convertToInteractive('df-fa11f894-f50f-45e2-b6f5-25cacd83e511')\"\n",
              "              title=\"Convert this dataframe to an interactive table.\"\n",
              "              style=\"display:none;\">\n",
              "        \n",
              "  <svg xmlns=\"http://www.w3.org/2000/svg\" height=\"24px\"viewBox=\"0 0 24 24\"\n",
              "       width=\"24px\">\n",
              "    <path d=\"M0 0h24v24H0V0z\" fill=\"none\"/>\n",
              "    <path d=\"M18.56 5.44l.94 2.06.94-2.06 2.06-.94-2.06-.94-.94-2.06-.94 2.06-2.06.94zm-11 1L8.5 8.5l.94-2.06 2.06-.94-2.06-.94L8.5 2.5l-.94 2.06-2.06.94zm10 10l.94 2.06.94-2.06 2.06-.94-2.06-.94-.94-2.06-.94 2.06-2.06.94z\"/><path d=\"M17.41 7.96l-1.37-1.37c-.4-.4-.92-.59-1.43-.59-.52 0-1.04.2-1.43.59L10.3 9.45l-7.72 7.72c-.78.78-.78 2.05 0 2.83L4 21.41c.39.39.9.59 1.41.59.51 0 1.02-.2 1.41-.59l7.78-7.78 2.81-2.81c.8-.78.8-2.07 0-2.86zM5.41 20L4 18.59l7.72-7.72 1.47 1.35L5.41 20z\"/>\n",
              "  </svg>\n",
              "      </button>\n",
              "      \n",
              "  <style>\n",
              "    .colab-df-container {\n",
              "      display:flex;\n",
              "      flex-wrap:wrap;\n",
              "      gap: 12px;\n",
              "    }\n",
              "\n",
              "    .colab-df-convert {\n",
              "      background-color: #E8F0FE;\n",
              "      border: none;\n",
              "      border-radius: 50%;\n",
              "      cursor: pointer;\n",
              "      display: none;\n",
              "      fill: #1967D2;\n",
              "      height: 32px;\n",
              "      padding: 0 0 0 0;\n",
              "      width: 32px;\n",
              "    }\n",
              "\n",
              "    .colab-df-convert:hover {\n",
              "      background-color: #E2EBFA;\n",
              "      box-shadow: 0px 1px 2px rgba(60, 64, 67, 0.3), 0px 1px 3px 1px rgba(60, 64, 67, 0.15);\n",
              "      fill: #174EA6;\n",
              "    }\n",
              "\n",
              "    [theme=dark] .colab-df-convert {\n",
              "      background-color: #3B4455;\n",
              "      fill: #D2E3FC;\n",
              "    }\n",
              "\n",
              "    [theme=dark] .colab-df-convert:hover {\n",
              "      background-color: #434B5C;\n",
              "      box-shadow: 0px 1px 3px 1px rgba(0, 0, 0, 0.15);\n",
              "      filter: drop-shadow(0px 1px 2px rgba(0, 0, 0, 0.3));\n",
              "      fill: #FFFFFF;\n",
              "    }\n",
              "  </style>\n",
              "\n",
              "      <script>\n",
              "        const buttonEl =\n",
              "          document.querySelector('#df-fa11f894-f50f-45e2-b6f5-25cacd83e511 button.colab-df-convert');\n",
              "        buttonEl.style.display =\n",
              "          google.colab.kernel.accessAllowed ? 'block' : 'none';\n",
              "\n",
              "        async function convertToInteractive(key) {\n",
              "          const element = document.querySelector('#df-fa11f894-f50f-45e2-b6f5-25cacd83e511');\n",
              "          const dataTable =\n",
              "            await google.colab.kernel.invokeFunction('convertToInteractive',\n",
              "                                                     [key], {});\n",
              "          if (!dataTable) return;\n",
              "\n",
              "          const docLinkHtml = 'Like what you see? Visit the ' +\n",
              "            '<a target=\"_blank\" href=https://colab.research.google.com/notebooks/data_table.ipynb>data table notebook</a>'\n",
              "            + ' to learn more about interactive tables.';\n",
              "          element.innerHTML = '';\n",
              "          dataTable['output_type'] = 'display_data';\n",
              "          await google.colab.output.renderOutput(dataTable, element);\n",
              "          const docLink = document.createElement('div');\n",
              "          docLink.innerHTML = docLinkHtml;\n",
              "          element.appendChild(docLink);\n",
              "        }\n",
              "      </script>\n",
              "    </div>\n",
              "  </div>\n",
              "  "
            ]
          },
          "metadata": {},
          "execution_count": 35
        }
      ]
    },
    {
      "cell_type": "markdown",
      "metadata": {
        "id": "SeQsjxPQiolo"
      },
      "source": [
        "### **Summarize your answers to Q3 below, based on your analysis:**"
      ]
    },
    {
      "cell_type": "markdown",
      "source": [
        "\n",
        "- When I Compare the topics learned by BERTopic with the original categories of the papers, I find the number of topics which is misclassified decrease as the number of topics which  misclassified  and have (-1) in the topic number is 1736 topics and the number of topics in general equal 11 for `cs.cv` category but that is not good enough as this is only one category so i will do redo and follow question 4.\n",
        "- Also, the number of topic which was misclassified are still so big so i will retrain the model again."
      ],
      "metadata": {
        "id": "GTF2a7chm8MZ"
      }
    },
    {
      "cell_type": "markdown",
      "metadata": {
        "id": "LAZ_qfFXiolo"
      },
      "source": [
        "Question 4: Redo the topic modeling using the same method, but only on the papers tagged by the category you chcked in Q3. For instance, in Q3, you pick cs.CV, then in Q4, you first filter data by category = cs.CV and then apply the topic modeling on the selected documents.\n",
        "Compare your topics found and your results from Q3. "
      ]
    },
    {
      "cell_type": "code",
      "execution_count": 29,
      "metadata": {
        "id": "DV3tDl9Oiolo"
      },
      "outputs": [],
      "source": [
        "# put your code for Q4 here, you can have multiple code blocks."
      ]
    },
    {
      "cell_type": "code",
      "source": [
        "new_df=new_df.drop('topics', axis=1)"
      ],
      "metadata": {
        "id": "t1WOIiXyvEGX"
      },
      "execution_count": 17,
      "outputs": []
    },
    {
      "cell_type": "code",
      "source": [
        "# since we have quite a lot data points, let's start with a large topic number (50) and see how coherent are the learned topics.\n",
        "cs_model = BERTopic(verbose=True, embedding_model=\"paraphrase-MiniLM-L6-v2\", min_topic_size=100)\n",
        "topics_2, _ = topic_model.fit_transform(new_df[\"processed_text\"].to_numpy()); len(topic_model.get_topic_info())"
      ],
      "metadata": {
        "colab": {
          "base_uri": "https://localhost:8080/",
          "height": 122,
          "referenced_widgets": [
            "5541c4aa3ea943d7a9268b0098ce68be",
            "933dce3320cf4a78805261378e24294e",
            "5ac5e5c24ad140b8af2ef05c3f402245",
            "fbc8512836be44afb1a200d84dd82e4f",
            "a6f00747f51d4a59a6e0961079d5aef4",
            "a9227765d58845d1abf24e6b12709438",
            "bb39b09f20584f6b843fde1429a04870",
            "4930672f0fbb416bb148a0feaa5ee23c",
            "887190d1c23a438a873189a92c094f6a",
            "35d36ab6147c433da5dad700bff9291c",
            "c8c974357a0d4de9a7a50237bbed110f"
          ]
        },
        "id": "LF9toRxpvEMG",
        "outputId": "08e2f155-82fb-478f-dcf7-61d0c45d7058"
      },
      "execution_count": 19,
      "outputs": [
        {
          "output_type": "display_data",
          "data": {
            "text/plain": [
              "Batches:   0%|          | 0/98 [00:00<?, ?it/s]"
            ],
            "application/vnd.jupyter.widget-view+json": {
              "version_major": 2,
              "version_minor": 0,
              "model_id": "5541c4aa3ea943d7a9268b0098ce68be"
            }
          },
          "metadata": {}
        },
        {
          "output_type": "stream",
          "name": "stderr",
          "text": [
            "2023-06-05 21:04:13,614 - BERTopic - Transformed documents to Embeddings\n",
            "2023-06-05 21:04:32,820 - BERTopic - Reduced dimensionality\n",
            "2023-06-05 21:04:33,517 - BERTopic - Clustered reduced embeddings\n"
          ]
        },
        {
          "output_type": "execute_result",
          "data": {
            "text/plain": [
              "3"
            ]
          },
          "metadata": {},
          "execution_count": 19
        }
      ]
    },
    {
      "cell_type": "code",
      "source": [
        "new_df['topic_2']=topics_2"
      ],
      "metadata": {
        "id": "f2f2ovEwYX0r"
      },
      "execution_count": 21,
      "outputs": []
    },
    {
      "cell_type": "code",
      "source": [
        "\n",
        "value_counts_2 = new_df['topic_2'].value_counts()\n",
        "value_counts_2"
      ],
      "metadata": {
        "colab": {
          "base_uri": "https://localhost:8080/"
        },
        "id": "dz4C-7xYvEPf",
        "outputId": "9c6a0f23-4f6a-4000-d9ca-1688c4978c02"
      },
      "execution_count": 22,
      "outputs": [
        {
          "output_type": "execute_result",
          "data": {
            "text/plain": [
              " 0    2476\n",
              "-1     421\n",
              " 1     208\n",
              "Name: topic_2, dtype: int64"
            ]
          },
          "metadata": {},
          "execution_count": 22
        }
      ]
    },
    {
      "cell_type": "markdown",
      "metadata": {
        "id": "0cu33XwWiolo"
      },
      "source": [
        "### **Summarize your answers to Q4 below, based on your analysis:**"
      ]
    },
    {
      "cell_type": "markdown",
      "source": [
        "- Redo the topic modeling using the same method, but only on the papers tagged by the category you chcked in Q3. For instance, in Q3, you pick cs.CV, then in Q4, you first filter data by category = cs.CV and then apply the topic modeling on the selected documents. Compare your topics found and your results from Q3.\n",
        "- First, I will drop the column topics from data and called it new_df dataframe - Then, retrain the model again with the preprocessed text and called it `cs_model`\n",
        "- Then,save the result in topics_2 dataframe which I will add it to the new-df and calculate the counts of values .\n",
        "- finally, I got `3 clusters` which is good enough number compare to previous tries also the number of topics which is misclassified is decrese alot and now equal `421 clusters` and that is a big progress here."
      ],
      "metadata": {
        "id": "Mi9-SsUjm-GR"
      }
    }
  ],
  "metadata": {
    "kernelspec": {
      "display_name": "Python [conda env:root] *",
      "language": "python",
      "name": "conda-root-py"
    },
    "language_info": {
      "codemirror_mode": {
        "name": "ipython",
        "version": 3
      },
      "file_extension": ".py",
      "mimetype": "text/x-python",
      "name": "python",
      "nbconvert_exporter": "python",
      "pygments_lexer": "ipython3",
      "version": "3.9.16"
    },
    "colab": {
      "provenance": [],
      "gpuType": "T4"
    },
    "accelerator": "GPU",
    "widgets": {
      "application/vnd.jupyter.widget-state+json": {
        "cd3d1c22f8b645e98969dc8e0739fbbf": {
          "model_module": "@jupyter-widgets/controls",
          "model_name": "HBoxModel",
          "model_module_version": "1.5.0",
          "state": {
            "_dom_classes": [],
            "_model_module": "@jupyter-widgets/controls",
            "_model_module_version": "1.5.0",
            "_model_name": "HBoxModel",
            "_view_count": null,
            "_view_module": "@jupyter-widgets/controls",
            "_view_module_version": "1.5.0",
            "_view_name": "HBoxView",
            "box_style": "",
            "children": [
              "IPY_MODEL_7b6d3015e9ab4d218128a0f7a65f9727",
              "IPY_MODEL_3d01fe97d67c42a588bb65b1d73cfc4a",
              "IPY_MODEL_02f277e2bc894e74ac5e5b35e4dc7d42"
            ],
            "layout": "IPY_MODEL_c90914ce7ecb4d8091f6c8ad3acde446"
          }
        },
        "7b6d3015e9ab4d218128a0f7a65f9727": {
          "model_module": "@jupyter-widgets/controls",
          "model_name": "HTMLModel",
          "model_module_version": "1.5.0",
          "state": {
            "_dom_classes": [],
            "_model_module": "@jupyter-widgets/controls",
            "_model_module_version": "1.5.0",
            "_model_name": "HTMLModel",
            "_view_count": null,
            "_view_module": "@jupyter-widgets/controls",
            "_view_module_version": "1.5.0",
            "_view_name": "HTMLView",
            "description": "",
            "description_tooltip": null,
            "layout": "IPY_MODEL_09bd3b14d57f4c1a891c626f88f33ead",
            "placeholder": "​",
            "style": "IPY_MODEL_19d24a6922e34eb7902298eb10921425",
            "value": "Batches: 100%"
          }
        },
        "3d01fe97d67c42a588bb65b1d73cfc4a": {
          "model_module": "@jupyter-widgets/controls",
          "model_name": "FloatProgressModel",
          "model_module_version": "1.5.0",
          "state": {
            "_dom_classes": [],
            "_model_module": "@jupyter-widgets/controls",
            "_model_module_version": "1.5.0",
            "_model_name": "FloatProgressModel",
            "_view_count": null,
            "_view_module": "@jupyter-widgets/controls",
            "_view_module_version": "1.5.0",
            "_view_name": "ProgressView",
            "bar_style": "success",
            "description": "",
            "description_tooltip": null,
            "layout": "IPY_MODEL_6c503a4581e94d4bad2856cf68172880",
            "max": 1563,
            "min": 0,
            "orientation": "horizontal",
            "style": "IPY_MODEL_8808252337354869a419b9b9ab3b3822",
            "value": 1563
          }
        },
        "02f277e2bc894e74ac5e5b35e4dc7d42": {
          "model_module": "@jupyter-widgets/controls",
          "model_name": "HTMLModel",
          "model_module_version": "1.5.0",
          "state": {
            "_dom_classes": [],
            "_model_module": "@jupyter-widgets/controls",
            "_model_module_version": "1.5.0",
            "_model_name": "HTMLModel",
            "_view_count": null,
            "_view_module": "@jupyter-widgets/controls",
            "_view_module_version": "1.5.0",
            "_view_name": "HTMLView",
            "description": "",
            "description_tooltip": null,
            "layout": "IPY_MODEL_f11afe67ea3044f59502577e4bb00a97",
            "placeholder": "​",
            "style": "IPY_MODEL_586d688926f64ef7aeaf57127a2941ef",
            "value": " 1563/1563 [01:15&lt;00:00, 51.52it/s]"
          }
        },
        "c90914ce7ecb4d8091f6c8ad3acde446": {
          "model_module": "@jupyter-widgets/base",
          "model_name": "LayoutModel",
          "model_module_version": "1.2.0",
          "state": {
            "_model_module": "@jupyter-widgets/base",
            "_model_module_version": "1.2.0",
            "_model_name": "LayoutModel",
            "_view_count": null,
            "_view_module": "@jupyter-widgets/base",
            "_view_module_version": "1.2.0",
            "_view_name": "LayoutView",
            "align_content": null,
            "align_items": null,
            "align_self": null,
            "border": null,
            "bottom": null,
            "display": null,
            "flex": null,
            "flex_flow": null,
            "grid_area": null,
            "grid_auto_columns": null,
            "grid_auto_flow": null,
            "grid_auto_rows": null,
            "grid_column": null,
            "grid_gap": null,
            "grid_row": null,
            "grid_template_areas": null,
            "grid_template_columns": null,
            "grid_template_rows": null,
            "height": null,
            "justify_content": null,
            "justify_items": null,
            "left": null,
            "margin": null,
            "max_height": null,
            "max_width": null,
            "min_height": null,
            "min_width": null,
            "object_fit": null,
            "object_position": null,
            "order": null,
            "overflow": null,
            "overflow_x": null,
            "overflow_y": null,
            "padding": null,
            "right": null,
            "top": null,
            "visibility": null,
            "width": null
          }
        },
        "09bd3b14d57f4c1a891c626f88f33ead": {
          "model_module": "@jupyter-widgets/base",
          "model_name": "LayoutModel",
          "model_module_version": "1.2.0",
          "state": {
            "_model_module": "@jupyter-widgets/base",
            "_model_module_version": "1.2.0",
            "_model_name": "LayoutModel",
            "_view_count": null,
            "_view_module": "@jupyter-widgets/base",
            "_view_module_version": "1.2.0",
            "_view_name": "LayoutView",
            "align_content": null,
            "align_items": null,
            "align_self": null,
            "border": null,
            "bottom": null,
            "display": null,
            "flex": null,
            "flex_flow": null,
            "grid_area": null,
            "grid_auto_columns": null,
            "grid_auto_flow": null,
            "grid_auto_rows": null,
            "grid_column": null,
            "grid_gap": null,
            "grid_row": null,
            "grid_template_areas": null,
            "grid_template_columns": null,
            "grid_template_rows": null,
            "height": null,
            "justify_content": null,
            "justify_items": null,
            "left": null,
            "margin": null,
            "max_height": null,
            "max_width": null,
            "min_height": null,
            "min_width": null,
            "object_fit": null,
            "object_position": null,
            "order": null,
            "overflow": null,
            "overflow_x": null,
            "overflow_y": null,
            "padding": null,
            "right": null,
            "top": null,
            "visibility": null,
            "width": null
          }
        },
        "19d24a6922e34eb7902298eb10921425": {
          "model_module": "@jupyter-widgets/controls",
          "model_name": "DescriptionStyleModel",
          "model_module_version": "1.5.0",
          "state": {
            "_model_module": "@jupyter-widgets/controls",
            "_model_module_version": "1.5.0",
            "_model_name": "DescriptionStyleModel",
            "_view_count": null,
            "_view_module": "@jupyter-widgets/base",
            "_view_module_version": "1.2.0",
            "_view_name": "StyleView",
            "description_width": ""
          }
        },
        "6c503a4581e94d4bad2856cf68172880": {
          "model_module": "@jupyter-widgets/base",
          "model_name": "LayoutModel",
          "model_module_version": "1.2.0",
          "state": {
            "_model_module": "@jupyter-widgets/base",
            "_model_module_version": "1.2.0",
            "_model_name": "LayoutModel",
            "_view_count": null,
            "_view_module": "@jupyter-widgets/base",
            "_view_module_version": "1.2.0",
            "_view_name": "LayoutView",
            "align_content": null,
            "align_items": null,
            "align_self": null,
            "border": null,
            "bottom": null,
            "display": null,
            "flex": null,
            "flex_flow": null,
            "grid_area": null,
            "grid_auto_columns": null,
            "grid_auto_flow": null,
            "grid_auto_rows": null,
            "grid_column": null,
            "grid_gap": null,
            "grid_row": null,
            "grid_template_areas": null,
            "grid_template_columns": null,
            "grid_template_rows": null,
            "height": null,
            "justify_content": null,
            "justify_items": null,
            "left": null,
            "margin": null,
            "max_height": null,
            "max_width": null,
            "min_height": null,
            "min_width": null,
            "object_fit": null,
            "object_position": null,
            "order": null,
            "overflow": null,
            "overflow_x": null,
            "overflow_y": null,
            "padding": null,
            "right": null,
            "top": null,
            "visibility": null,
            "width": null
          }
        },
        "8808252337354869a419b9b9ab3b3822": {
          "model_module": "@jupyter-widgets/controls",
          "model_name": "ProgressStyleModel",
          "model_module_version": "1.5.0",
          "state": {
            "_model_module": "@jupyter-widgets/controls",
            "_model_module_version": "1.5.0",
            "_model_name": "ProgressStyleModel",
            "_view_count": null,
            "_view_module": "@jupyter-widgets/base",
            "_view_module_version": "1.2.0",
            "_view_name": "StyleView",
            "bar_color": null,
            "description_width": ""
          }
        },
        "f11afe67ea3044f59502577e4bb00a97": {
          "model_module": "@jupyter-widgets/base",
          "model_name": "LayoutModel",
          "model_module_version": "1.2.0",
          "state": {
            "_model_module": "@jupyter-widgets/base",
            "_model_module_version": "1.2.0",
            "_model_name": "LayoutModel",
            "_view_count": null,
            "_view_module": "@jupyter-widgets/base",
            "_view_module_version": "1.2.0",
            "_view_name": "LayoutView",
            "align_content": null,
            "align_items": null,
            "align_self": null,
            "border": null,
            "bottom": null,
            "display": null,
            "flex": null,
            "flex_flow": null,
            "grid_area": null,
            "grid_auto_columns": null,
            "grid_auto_flow": null,
            "grid_auto_rows": null,
            "grid_column": null,
            "grid_gap": null,
            "grid_row": null,
            "grid_template_areas": null,
            "grid_template_columns": null,
            "grid_template_rows": null,
            "height": null,
            "justify_content": null,
            "justify_items": null,
            "left": null,
            "margin": null,
            "max_height": null,
            "max_width": null,
            "min_height": null,
            "min_width": null,
            "object_fit": null,
            "object_position": null,
            "order": null,
            "overflow": null,
            "overflow_x": null,
            "overflow_y": null,
            "padding": null,
            "right": null,
            "top": null,
            "visibility": null,
            "width": null
          }
        },
        "586d688926f64ef7aeaf57127a2941ef": {
          "model_module": "@jupyter-widgets/controls",
          "model_name": "DescriptionStyleModel",
          "model_module_version": "1.5.0",
          "state": {
            "_model_module": "@jupyter-widgets/controls",
            "_model_module_version": "1.5.0",
            "_model_name": "DescriptionStyleModel",
            "_view_count": null,
            "_view_module": "@jupyter-widgets/base",
            "_view_module_version": "1.2.0",
            "_view_name": "StyleView",
            "description_width": ""
          }
        },
        "5541c4aa3ea943d7a9268b0098ce68be": {
          "model_module": "@jupyter-widgets/controls",
          "model_name": "HBoxModel",
          "model_module_version": "1.5.0",
          "state": {
            "_dom_classes": [],
            "_model_module": "@jupyter-widgets/controls",
            "_model_module_version": "1.5.0",
            "_model_name": "HBoxModel",
            "_view_count": null,
            "_view_module": "@jupyter-widgets/controls",
            "_view_module_version": "1.5.0",
            "_view_name": "HBoxView",
            "box_style": "",
            "children": [
              "IPY_MODEL_933dce3320cf4a78805261378e24294e",
              "IPY_MODEL_5ac5e5c24ad140b8af2ef05c3f402245",
              "IPY_MODEL_fbc8512836be44afb1a200d84dd82e4f"
            ],
            "layout": "IPY_MODEL_a6f00747f51d4a59a6e0961079d5aef4"
          }
        },
        "933dce3320cf4a78805261378e24294e": {
          "model_module": "@jupyter-widgets/controls",
          "model_name": "HTMLModel",
          "model_module_version": "1.5.0",
          "state": {
            "_dom_classes": [],
            "_model_module": "@jupyter-widgets/controls",
            "_model_module_version": "1.5.0",
            "_model_name": "HTMLModel",
            "_view_count": null,
            "_view_module": "@jupyter-widgets/controls",
            "_view_module_version": "1.5.0",
            "_view_name": "HTMLView",
            "description": "",
            "description_tooltip": null,
            "layout": "IPY_MODEL_a9227765d58845d1abf24e6b12709438",
            "placeholder": "​",
            "style": "IPY_MODEL_bb39b09f20584f6b843fde1429a04870",
            "value": "Batches: 100%"
          }
        },
        "5ac5e5c24ad140b8af2ef05c3f402245": {
          "model_module": "@jupyter-widgets/controls",
          "model_name": "FloatProgressModel",
          "model_module_version": "1.5.0",
          "state": {
            "_dom_classes": [],
            "_model_module": "@jupyter-widgets/controls",
            "_model_module_version": "1.5.0",
            "_model_name": "FloatProgressModel",
            "_view_count": null,
            "_view_module": "@jupyter-widgets/controls",
            "_view_module_version": "1.5.0",
            "_view_name": "ProgressView",
            "bar_style": "success",
            "description": "",
            "description_tooltip": null,
            "layout": "IPY_MODEL_4930672f0fbb416bb148a0feaa5ee23c",
            "max": 98,
            "min": 0,
            "orientation": "horizontal",
            "style": "IPY_MODEL_887190d1c23a438a873189a92c094f6a",
            "value": 98
          }
        },
        "fbc8512836be44afb1a200d84dd82e4f": {
          "model_module": "@jupyter-widgets/controls",
          "model_name": "HTMLModel",
          "model_module_version": "1.5.0",
          "state": {
            "_dom_classes": [],
            "_model_module": "@jupyter-widgets/controls",
            "_model_module_version": "1.5.0",
            "_model_name": "HTMLModel",
            "_view_count": null,
            "_view_module": "@jupyter-widgets/controls",
            "_view_module_version": "1.5.0",
            "_view_name": "HTMLView",
            "description": "",
            "description_tooltip": null,
            "layout": "IPY_MODEL_35d36ab6147c433da5dad700bff9291c",
            "placeholder": "​",
            "style": "IPY_MODEL_c8c974357a0d4de9a7a50237bbed110f",
            "value": " 98/98 [00:04&lt;00:00, 24.91it/s]"
          }
        },
        "a6f00747f51d4a59a6e0961079d5aef4": {
          "model_module": "@jupyter-widgets/base",
          "model_name": "LayoutModel",
          "model_module_version": "1.2.0",
          "state": {
            "_model_module": "@jupyter-widgets/base",
            "_model_module_version": "1.2.0",
            "_model_name": "LayoutModel",
            "_view_count": null,
            "_view_module": "@jupyter-widgets/base",
            "_view_module_version": "1.2.0",
            "_view_name": "LayoutView",
            "align_content": null,
            "align_items": null,
            "align_self": null,
            "border": null,
            "bottom": null,
            "display": null,
            "flex": null,
            "flex_flow": null,
            "grid_area": null,
            "grid_auto_columns": null,
            "grid_auto_flow": null,
            "grid_auto_rows": null,
            "grid_column": null,
            "grid_gap": null,
            "grid_row": null,
            "grid_template_areas": null,
            "grid_template_columns": null,
            "grid_template_rows": null,
            "height": null,
            "justify_content": null,
            "justify_items": null,
            "left": null,
            "margin": null,
            "max_height": null,
            "max_width": null,
            "min_height": null,
            "min_width": null,
            "object_fit": null,
            "object_position": null,
            "order": null,
            "overflow": null,
            "overflow_x": null,
            "overflow_y": null,
            "padding": null,
            "right": null,
            "top": null,
            "visibility": null,
            "width": null
          }
        },
        "a9227765d58845d1abf24e6b12709438": {
          "model_module": "@jupyter-widgets/base",
          "model_name": "LayoutModel",
          "model_module_version": "1.2.0",
          "state": {
            "_model_module": "@jupyter-widgets/base",
            "_model_module_version": "1.2.0",
            "_model_name": "LayoutModel",
            "_view_count": null,
            "_view_module": "@jupyter-widgets/base",
            "_view_module_version": "1.2.0",
            "_view_name": "LayoutView",
            "align_content": null,
            "align_items": null,
            "align_self": null,
            "border": null,
            "bottom": null,
            "display": null,
            "flex": null,
            "flex_flow": null,
            "grid_area": null,
            "grid_auto_columns": null,
            "grid_auto_flow": null,
            "grid_auto_rows": null,
            "grid_column": null,
            "grid_gap": null,
            "grid_row": null,
            "grid_template_areas": null,
            "grid_template_columns": null,
            "grid_template_rows": null,
            "height": null,
            "justify_content": null,
            "justify_items": null,
            "left": null,
            "margin": null,
            "max_height": null,
            "max_width": null,
            "min_height": null,
            "min_width": null,
            "object_fit": null,
            "object_position": null,
            "order": null,
            "overflow": null,
            "overflow_x": null,
            "overflow_y": null,
            "padding": null,
            "right": null,
            "top": null,
            "visibility": null,
            "width": null
          }
        },
        "bb39b09f20584f6b843fde1429a04870": {
          "model_module": "@jupyter-widgets/controls",
          "model_name": "DescriptionStyleModel",
          "model_module_version": "1.5.0",
          "state": {
            "_model_module": "@jupyter-widgets/controls",
            "_model_module_version": "1.5.0",
            "_model_name": "DescriptionStyleModel",
            "_view_count": null,
            "_view_module": "@jupyter-widgets/base",
            "_view_module_version": "1.2.0",
            "_view_name": "StyleView",
            "description_width": ""
          }
        },
        "4930672f0fbb416bb148a0feaa5ee23c": {
          "model_module": "@jupyter-widgets/base",
          "model_name": "LayoutModel",
          "model_module_version": "1.2.0",
          "state": {
            "_model_module": "@jupyter-widgets/base",
            "_model_module_version": "1.2.0",
            "_model_name": "LayoutModel",
            "_view_count": null,
            "_view_module": "@jupyter-widgets/base",
            "_view_module_version": "1.2.0",
            "_view_name": "LayoutView",
            "align_content": null,
            "align_items": null,
            "align_self": null,
            "border": null,
            "bottom": null,
            "display": null,
            "flex": null,
            "flex_flow": null,
            "grid_area": null,
            "grid_auto_columns": null,
            "grid_auto_flow": null,
            "grid_auto_rows": null,
            "grid_column": null,
            "grid_gap": null,
            "grid_row": null,
            "grid_template_areas": null,
            "grid_template_columns": null,
            "grid_template_rows": null,
            "height": null,
            "justify_content": null,
            "justify_items": null,
            "left": null,
            "margin": null,
            "max_height": null,
            "max_width": null,
            "min_height": null,
            "min_width": null,
            "object_fit": null,
            "object_position": null,
            "order": null,
            "overflow": null,
            "overflow_x": null,
            "overflow_y": null,
            "padding": null,
            "right": null,
            "top": null,
            "visibility": null,
            "width": null
          }
        },
        "887190d1c23a438a873189a92c094f6a": {
          "model_module": "@jupyter-widgets/controls",
          "model_name": "ProgressStyleModel",
          "model_module_version": "1.5.0",
          "state": {
            "_model_module": "@jupyter-widgets/controls",
            "_model_module_version": "1.5.0",
            "_model_name": "ProgressStyleModel",
            "_view_count": null,
            "_view_module": "@jupyter-widgets/base",
            "_view_module_version": "1.2.0",
            "_view_name": "StyleView",
            "bar_color": null,
            "description_width": ""
          }
        },
        "35d36ab6147c433da5dad700bff9291c": {
          "model_module": "@jupyter-widgets/base",
          "model_name": "LayoutModel",
          "model_module_version": "1.2.0",
          "state": {
            "_model_module": "@jupyter-widgets/base",
            "_model_module_version": "1.2.0",
            "_model_name": "LayoutModel",
            "_view_count": null,
            "_view_module": "@jupyter-widgets/base",
            "_view_module_version": "1.2.0",
            "_view_name": "LayoutView",
            "align_content": null,
            "align_items": null,
            "align_self": null,
            "border": null,
            "bottom": null,
            "display": null,
            "flex": null,
            "flex_flow": null,
            "grid_area": null,
            "grid_auto_columns": null,
            "grid_auto_flow": null,
            "grid_auto_rows": null,
            "grid_column": null,
            "grid_gap": null,
            "grid_row": null,
            "grid_template_areas": null,
            "grid_template_columns": null,
            "grid_template_rows": null,
            "height": null,
            "justify_content": null,
            "justify_items": null,
            "left": null,
            "margin": null,
            "max_height": null,
            "max_width": null,
            "min_height": null,
            "min_width": null,
            "object_fit": null,
            "object_position": null,
            "order": null,
            "overflow": null,
            "overflow_x": null,
            "overflow_y": null,
            "padding": null,
            "right": null,
            "top": null,
            "visibility": null,
            "width": null
          }
        },
        "c8c974357a0d4de9a7a50237bbed110f": {
          "model_module": "@jupyter-widgets/controls",
          "model_name": "DescriptionStyleModel",
          "model_module_version": "1.5.0",
          "state": {
            "_model_module": "@jupyter-widgets/controls",
            "_model_module_version": "1.5.0",
            "_model_name": "DescriptionStyleModel",
            "_view_count": null,
            "_view_module": "@jupyter-widgets/base",
            "_view_module_version": "1.2.0",
            "_view_name": "StyleView",
            "description_width": ""
          }
        }
      }
    }
  },
  "nbformat": 4,
  "nbformat_minor": 0
}