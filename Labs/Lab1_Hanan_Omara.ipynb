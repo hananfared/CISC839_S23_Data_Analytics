{
  "cells": [
    {
      "cell_type": "markdown",
      "metadata": {
        "id": "fXSUnH2Piolg"
      },
      "source": [
        "# Name: Hanan Fared Mohamed Omara , ID =  20398559"
      ]
    },
    {
      "cell_type": "markdown",
      "source": [
        "- To ensure academic integrity, I utilized some code snippets from tutorial_1 part1 which available in the OnQ.By using these code snoppets as a reference ans building upon them, I was able to better understand and implement the required tasks in my project."
      ],
      "metadata": {
        "id": "guTYCZKxnB5Z"
      }
    },
    {
      "cell_type": "code",
      "execution_count": 1,
      "metadata": {
        "id": "Tuqrc0gOf_ux"
      },
      "outputs": [],
      "source": [
        "# Import libraries\n",
        "import pandas as pd\n",
        "import seaborn as sns\n",
        "import numpy as np\n",
        "import plotly.express as px\n",
        "import statsmodels.api as sm\n",
        "import matplotlib.pyplot as plt\n",
        "import scipy\n",
        "from scipy import stats\n",
        "from scipy.stats import norm\n",
        "import scipy.stats as stats\n",
        "import missingno as msno\n",
        "from sklearn.model_selection import train_test_split\n",
        "from sklearn.linear_model import LinearRegression\n",
        "from sklearn.metrics import mean_squared_error, r2_score\n",
        "\n",
        "#from cliffs_delta import cliffs_delta\n",
        "# the following code ensures that you can see your (print) results for multiple tasks within a coding block\n",
        "from IPython.core.interactiveshell import InteractiveShell\n",
        "InteractiveShell.ast_node_interactivity = \"all\""
      ]
    },
    {
      "cell_type": "markdown",
      "metadata": {
        "id": "jP360Vwef_uz"
      },
      "source": [
        "Lab 1 contains 4 analysis questions. \n",
        "The dataset is collected from the New York government. You can find the\n",
        "detailed data description (columns, building code) here: https://www.nyc.gov/site/finance/taxes/property-rolling-sales-data.page\n",
        "Your goal is to fill in the missing blocks and submit the ipynb file as your lab submission to onq. You have until next Wednesday end to complete lab1, but we encourage to complete it as soon as possible."
      ]
    },
    {
      "cell_type": "markdown",
      "metadata": {
        "id": "qqUsKcIBf_u0"
      },
      "source": [
        "Question 1: Load in the provided dataset 20to22NYC.csv and summarize the basic statistics. Specifically your code should answer:\n",
        "\n",
        "1. What are the feature types and their basic statistics (using describe(include='all'))\n",
        "2. How many features have missing values? \n",
        "3. What are the patterns of missing values and potential missing data reason for the top-3 most missed features."
      ]
    },
    {
      "cell_type": "code",
      "execution_count": 2,
      "metadata": {
        "colab": {
          "base_uri": "https://localhost:8080/"
        },
        "id": "JeedffYRf_u1",
        "outputId": "6f0ae798-8992-40ed-8c81-fc2d3bb2ce37"
      },
      "outputs": [
        {
          "output_type": "stream",
          "name": "stderr",
          "text": [
            "<ipython-input-2-0394cafac369>:3: DtypeWarning: Columns (10,11,12) have mixed types. Specify dtype option on import or set low_memory=False.\n",
            "  data = pd.read_csv('/content/20to22NYC.csv')\n"
          ]
        }
      ],
      "source": [
        "# put your code for Q1 here, you can have multiple code blocks.\n",
        "\n",
        "data = pd.read_csv('/content/20to22NYC.csv')\n"
      ]
    },
    {
      "cell_type": "code",
      "source": [
        "data.head()\n",
        "data.info()"
      ],
      "metadata": {
        "colab": {
          "base_uri": "https://localhost:8080/",
          "height": 1000
        },
        "id": "fu3Sz37YHUQ5",
        "outputId": "e4a7a058-054d-4836-c5b5-282dccafa060"
      },
      "execution_count": 3,
      "outputs": [
        {
          "output_type": "execute_result",
          "data": {
            "text/plain": [
              "   BOROUGH NEIGHBORHOOD  BUILDING CLASS CATEGORY TAX CLASS AT PRESENT  BLOCK  \\\n",
              "0        5     ANNADALE  01 ONE FAMILY DWELLINGS                    1   5391   \n",
              "1        5     ANNADALE  01 ONE FAMILY DWELLINGS                    1   5404   \n",
              "2        5     ANNADALE  01 ONE FAMILY DWELLINGS                    1   5407   \n",
              "3        5     ANNADALE  01 ONE FAMILY DWELLINGS                    1   5425   \n",
              "4        5     ANNADALE  01 ONE FAMILY DWELLINGS                    1   6205   \n",
              "\n",
              "   LOT BUILDING CLASS AT PRESENT             ADDRESS APARTMENT NUMBER  \\\n",
              "0    9                        A5     4726 AMBOY ROAD              NaN   \n",
              "1   46                        A1   119 LENZIE STREET              NaN   \n",
              "2    6                        A1  118 ELMBANK STREET              NaN   \n",
              "3   31                        A1    7 SANDGAP STREET              NaN   \n",
              "4   17                        A5     91 EAGAN AVENUE              NaN   \n",
              "\n",
              "   ZIP CODE RESIDENTIAL UNITS COMMERCIAL UNITS TOTAL UNITS  LAND SQUARE FEET  \\\n",
              "0   10312.0               1.0              0.0         1.0            3067.0   \n",
              "1   10312.0               1.0              0.0         1.0            8000.0   \n",
              "2   10312.0               1.0              0.0         1.0            6200.0   \n",
              "3   10312.0               1.0              0.0         1.0            2500.0   \n",
              "4   10312.0               1.0              0.0         1.0            1845.0   \n",
              "\n",
              "   GROSS SQUARE FEET  YEAR BUILT  TAX CLASS AT TIME OF SALE  \\\n",
              "0              910.0      2002.0                          1   \n",
              "1             3660.0      1998.0                          1   \n",
              "2             2580.0      1975.0                          1   \n",
              "3             1222.0      1925.0                          1   \n",
              "4             1854.0      1986.0                          1   \n",
              "\n",
              "  BUILDING CLASS AT TIME OF SALE  SALE PRICE   SALE DATE  \n",
              "0                             A5         0.0  2020-07-02  \n",
              "1                             A1    315000.0  2020-10-02  \n",
              "2                             A1    450000.0  2020-06-24  \n",
              "3                             A2    525000.0  2020-07-02  \n",
              "4                             A5    480000.0  2020-01-14  "
            ],
            "text/html": [
              "\n",
              "  <div id=\"df-5fc4029b-be14-48dc-81f6-b560c1166923\">\n",
              "    <div class=\"colab-df-container\">\n",
              "      <div>\n",
              "<style scoped>\n",
              "    .dataframe tbody tr th:only-of-type {\n",
              "        vertical-align: middle;\n",
              "    }\n",
              "\n",
              "    .dataframe tbody tr th {\n",
              "        vertical-align: top;\n",
              "    }\n",
              "\n",
              "    .dataframe thead th {\n",
              "        text-align: right;\n",
              "    }\n",
              "</style>\n",
              "<table border=\"1\" class=\"dataframe\">\n",
              "  <thead>\n",
              "    <tr style=\"text-align: right;\">\n",
              "      <th></th>\n",
              "      <th>BOROUGH</th>\n",
              "      <th>NEIGHBORHOOD</th>\n",
              "      <th>BUILDING CLASS CATEGORY</th>\n",
              "      <th>TAX CLASS AT PRESENT</th>\n",
              "      <th>BLOCK</th>\n",
              "      <th>LOT</th>\n",
              "      <th>BUILDING CLASS AT PRESENT</th>\n",
              "      <th>ADDRESS</th>\n",
              "      <th>APARTMENT NUMBER</th>\n",
              "      <th>ZIP CODE</th>\n",
              "      <th>RESIDENTIAL UNITS</th>\n",
              "      <th>COMMERCIAL UNITS</th>\n",
              "      <th>TOTAL UNITS</th>\n",
              "      <th>LAND SQUARE FEET</th>\n",
              "      <th>GROSS SQUARE FEET</th>\n",
              "      <th>YEAR BUILT</th>\n",
              "      <th>TAX CLASS AT TIME OF SALE</th>\n",
              "      <th>BUILDING CLASS AT TIME OF SALE</th>\n",
              "      <th>SALE PRICE</th>\n",
              "      <th>SALE DATE</th>\n",
              "    </tr>\n",
              "  </thead>\n",
              "  <tbody>\n",
              "    <tr>\n",
              "      <th>0</th>\n",
              "      <td>5</td>\n",
              "      <td>ANNADALE</td>\n",
              "      <td>01 ONE FAMILY DWELLINGS</td>\n",
              "      <td>1</td>\n",
              "      <td>5391</td>\n",
              "      <td>9</td>\n",
              "      <td>A5</td>\n",
              "      <td>4726 AMBOY ROAD</td>\n",
              "      <td>NaN</td>\n",
              "      <td>10312.0</td>\n",
              "      <td>1.0</td>\n",
              "      <td>0.0</td>\n",
              "      <td>1.0</td>\n",
              "      <td>3067.0</td>\n",
              "      <td>910.0</td>\n",
              "      <td>2002.0</td>\n",
              "      <td>1</td>\n",
              "      <td>A5</td>\n",
              "      <td>0.0</td>\n",
              "      <td>2020-07-02</td>\n",
              "    </tr>\n",
              "    <tr>\n",
              "      <th>1</th>\n",
              "      <td>5</td>\n",
              "      <td>ANNADALE</td>\n",
              "      <td>01 ONE FAMILY DWELLINGS</td>\n",
              "      <td>1</td>\n",
              "      <td>5404</td>\n",
              "      <td>46</td>\n",
              "      <td>A1</td>\n",
              "      <td>119 LENZIE STREET</td>\n",
              "      <td>NaN</td>\n",
              "      <td>10312.0</td>\n",
              "      <td>1.0</td>\n",
              "      <td>0.0</td>\n",
              "      <td>1.0</td>\n",
              "      <td>8000.0</td>\n",
              "      <td>3660.0</td>\n",
              "      <td>1998.0</td>\n",
              "      <td>1</td>\n",
              "      <td>A1</td>\n",
              "      <td>315000.0</td>\n",
              "      <td>2020-10-02</td>\n",
              "    </tr>\n",
              "    <tr>\n",
              "      <th>2</th>\n",
              "      <td>5</td>\n",
              "      <td>ANNADALE</td>\n",
              "      <td>01 ONE FAMILY DWELLINGS</td>\n",
              "      <td>1</td>\n",
              "      <td>5407</td>\n",
              "      <td>6</td>\n",
              "      <td>A1</td>\n",
              "      <td>118 ELMBANK STREET</td>\n",
              "      <td>NaN</td>\n",
              "      <td>10312.0</td>\n",
              "      <td>1.0</td>\n",
              "      <td>0.0</td>\n",
              "      <td>1.0</td>\n",
              "      <td>6200.0</td>\n",
              "      <td>2580.0</td>\n",
              "      <td>1975.0</td>\n",
              "      <td>1</td>\n",
              "      <td>A1</td>\n",
              "      <td>450000.0</td>\n",
              "      <td>2020-06-24</td>\n",
              "    </tr>\n",
              "    <tr>\n",
              "      <th>3</th>\n",
              "      <td>5</td>\n",
              "      <td>ANNADALE</td>\n",
              "      <td>01 ONE FAMILY DWELLINGS</td>\n",
              "      <td>1</td>\n",
              "      <td>5425</td>\n",
              "      <td>31</td>\n",
              "      <td>A1</td>\n",
              "      <td>7 SANDGAP STREET</td>\n",
              "      <td>NaN</td>\n",
              "      <td>10312.0</td>\n",
              "      <td>1.0</td>\n",
              "      <td>0.0</td>\n",
              "      <td>1.0</td>\n",
              "      <td>2500.0</td>\n",
              "      <td>1222.0</td>\n",
              "      <td>1925.0</td>\n",
              "      <td>1</td>\n",
              "      <td>A2</td>\n",
              "      <td>525000.0</td>\n",
              "      <td>2020-07-02</td>\n",
              "    </tr>\n",
              "    <tr>\n",
              "      <th>4</th>\n",
              "      <td>5</td>\n",
              "      <td>ANNADALE</td>\n",
              "      <td>01 ONE FAMILY DWELLINGS</td>\n",
              "      <td>1</td>\n",
              "      <td>6205</td>\n",
              "      <td>17</td>\n",
              "      <td>A5</td>\n",
              "      <td>91 EAGAN AVENUE</td>\n",
              "      <td>NaN</td>\n",
              "      <td>10312.0</td>\n",
              "      <td>1.0</td>\n",
              "      <td>0.0</td>\n",
              "      <td>1.0</td>\n",
              "      <td>1845.0</td>\n",
              "      <td>1854.0</td>\n",
              "      <td>1986.0</td>\n",
              "      <td>1</td>\n",
              "      <td>A5</td>\n",
              "      <td>480000.0</td>\n",
              "      <td>2020-01-14</td>\n",
              "    </tr>\n",
              "  </tbody>\n",
              "</table>\n",
              "</div>\n",
              "      <button class=\"colab-df-convert\" onclick=\"convertToInteractive('df-5fc4029b-be14-48dc-81f6-b560c1166923')\"\n",
              "              title=\"Convert this dataframe to an interactive table.\"\n",
              "              style=\"display:none;\">\n",
              "        \n",
              "  <svg xmlns=\"http://www.w3.org/2000/svg\" height=\"24px\"viewBox=\"0 0 24 24\"\n",
              "       width=\"24px\">\n",
              "    <path d=\"M0 0h24v24H0V0z\" fill=\"none\"/>\n",
              "    <path d=\"M18.56 5.44l.94 2.06.94-2.06 2.06-.94-2.06-.94-.94-2.06-.94 2.06-2.06.94zm-11 1L8.5 8.5l.94-2.06 2.06-.94-2.06-.94L8.5 2.5l-.94 2.06-2.06.94zm10 10l.94 2.06.94-2.06 2.06-.94-2.06-.94-.94-2.06-.94 2.06-2.06.94z\"/><path d=\"M17.41 7.96l-1.37-1.37c-.4-.4-.92-.59-1.43-.59-.52 0-1.04.2-1.43.59L10.3 9.45l-7.72 7.72c-.78.78-.78 2.05 0 2.83L4 21.41c.39.39.9.59 1.41.59.51 0 1.02-.2 1.41-.59l7.78-7.78 2.81-2.81c.8-.78.8-2.07 0-2.86zM5.41 20L4 18.59l7.72-7.72 1.47 1.35L5.41 20z\"/>\n",
              "  </svg>\n",
              "      </button>\n",
              "      \n",
              "  <style>\n",
              "    .colab-df-container {\n",
              "      display:flex;\n",
              "      flex-wrap:wrap;\n",
              "      gap: 12px;\n",
              "    }\n",
              "\n",
              "    .colab-df-convert {\n",
              "      background-color: #E8F0FE;\n",
              "      border: none;\n",
              "      border-radius: 50%;\n",
              "      cursor: pointer;\n",
              "      display: none;\n",
              "      fill: #1967D2;\n",
              "      height: 32px;\n",
              "      padding: 0 0 0 0;\n",
              "      width: 32px;\n",
              "    }\n",
              "\n",
              "    .colab-df-convert:hover {\n",
              "      background-color: #E2EBFA;\n",
              "      box-shadow: 0px 1px 2px rgba(60, 64, 67, 0.3), 0px 1px 3px 1px rgba(60, 64, 67, 0.15);\n",
              "      fill: #174EA6;\n",
              "    }\n",
              "\n",
              "    [theme=dark] .colab-df-convert {\n",
              "      background-color: #3B4455;\n",
              "      fill: #D2E3FC;\n",
              "    }\n",
              "\n",
              "    [theme=dark] .colab-df-convert:hover {\n",
              "      background-color: #434B5C;\n",
              "      box-shadow: 0px 1px 3px 1px rgba(0, 0, 0, 0.15);\n",
              "      filter: drop-shadow(0px 1px 2px rgba(0, 0, 0, 0.3));\n",
              "      fill: #FFFFFF;\n",
              "    }\n",
              "  </style>\n",
              "\n",
              "      <script>\n",
              "        const buttonEl =\n",
              "          document.querySelector('#df-5fc4029b-be14-48dc-81f6-b560c1166923 button.colab-df-convert');\n",
              "        buttonEl.style.display =\n",
              "          google.colab.kernel.accessAllowed ? 'block' : 'none';\n",
              "\n",
              "        async function convertToInteractive(key) {\n",
              "          const element = document.querySelector('#df-5fc4029b-be14-48dc-81f6-b560c1166923');\n",
              "          const dataTable =\n",
              "            await google.colab.kernel.invokeFunction('convertToInteractive',\n",
              "                                                     [key], {});\n",
              "          if (!dataTable) return;\n",
              "\n",
              "          const docLinkHtml = 'Like what you see? Visit the ' +\n",
              "            '<a target=\"_blank\" href=https://colab.research.google.com/notebooks/data_table.ipynb>data table notebook</a>'\n",
              "            + ' to learn more about interactive tables.';\n",
              "          element.innerHTML = '';\n",
              "          dataTable['output_type'] = 'display_data';\n",
              "          await google.colab.output.renderOutput(dataTable, element);\n",
              "          const docLink = document.createElement('div');\n",
              "          docLink.innerHTML = docLinkHtml;\n",
              "          element.appendChild(docLink);\n",
              "        }\n",
              "      </script>\n",
              "    </div>\n",
              "  </div>\n",
              "  "
            ]
          },
          "metadata": {},
          "execution_count": 3
        },
        {
          "output_type": "stream",
          "name": "stdout",
          "text": [
            "<class 'pandas.core.frame.DataFrame'>\n",
            "RangeIndex: 258464 entries, 0 to 258463\n",
            "Data columns (total 20 columns):\n",
            " #   Column                          Non-Null Count   Dtype  \n",
            "---  ------                          --------------   -----  \n",
            " 0   BOROUGH                         258464 non-null  int64  \n",
            " 1   NEIGHBORHOOD                    258464 non-null  object \n",
            " 2   BUILDING CLASS CATEGORY         258464 non-null  object \n",
            " 3   TAX CLASS AT PRESENT            258143 non-null  object \n",
            " 4   BLOCK                           258464 non-null  int64  \n",
            " 5   LOT                             258464 non-null  int64  \n",
            " 6   BUILDING CLASS AT PRESENT       258143 non-null  object \n",
            " 7   ADDRESS                         258464 non-null  object \n",
            " 8   APARTMENT NUMBER                62945 non-null   object \n",
            " 9   ZIP CODE                        258445 non-null  float64\n",
            " 10  RESIDENTIAL UNITS               199349 non-null  object \n",
            " 11  COMMERCIAL UNITS                162951 non-null  object \n",
            " 12  TOTAL UNITS                     205304 non-null  object \n",
            " 13  LAND SQUARE FEET                156996 non-null  float64\n",
            " 14  GROSS SQUARE FEET               156996 non-null  float64\n",
            " 15  YEAR BUILT                      240618 non-null  float64\n",
            " 16  TAX CLASS AT TIME OF SALE       258464 non-null  int64  \n",
            " 17  BUILDING CLASS AT TIME OF SALE  258464 non-null  object \n",
            " 18  SALE PRICE                      258464 non-null  float64\n",
            " 19  SALE DATE                       258464 non-null  object \n",
            "dtypes: float64(5), int64(4), object(11)\n",
            "memory usage: 39.4+ MB\n"
          ]
        }
      ]
    },
    {
      "cell_type": "code",
      "source": [
        "data.sample(8)"
      ],
      "metadata": {
        "colab": {
          "base_uri": "https://localhost:8080/",
          "height": 728
        },
        "id": "p4vVn0W5cXYm",
        "outputId": "7bea97fa-3869-4253-fd5e-19246e0e251b"
      },
      "execution_count": 4,
      "outputs": [
        {
          "output_type": "execute_result",
          "data": {
            "text/plain": [
              "        BOROUGH              NEIGHBORHOOD            BUILDING CLASS CATEGORY  \\\n",
              "179138        1              CIVIC CENTER  15 CONDOS - 2-10 UNIT RESIDENTIAL   \n",
              "85499         3        WILLIAMSBURG-SOUTH       09 COOPS - WALKUP APARTMENTS   \n",
              "143604        3                OCEAN HILL            02 TWO FAMILY DWELLINGS   \n",
              "87780         4                   BAYSIDE     10 COOPS - ELEVATOR APARTMENTS   \n",
              "186454        1              MIDTOWN EAST     10 COOPS - ELEVATOR APARTMENTS   \n",
              "63845         2  SCHUYLERVILLE/PELHAM BAY            02 TWO FAMILY DWELLINGS   \n",
              "180516        1                  FLATIRON     10 COOPS - ELEVATOR APARTMENTS   \n",
              "180337        1                 FINANCIAL    13 CONDOS - ELEVATOR APARTMENTS   \n",
              "\n",
              "       TAX CLASS AT PRESENT  BLOCK   LOT BUILDING CLASS AT PRESENT  \\\n",
              "179138                   2C    134  1305                        R1   \n",
              "85499                    2C   2146    19                        C6   \n",
              "143604                    1   1505    25                        B3   \n",
              "87780                     2   5938     5                        D4   \n",
              "186454                    2   1331    14                        D4   \n",
              "63845                     1   5385    37                        B2   \n",
              "180516                    2    817    29                        D4   \n",
              "180337                    2     77  1012                        R4   \n",
              "\n",
              "                          ADDRESS APARTMENT NUMBER  ZIP CODE  \\\n",
              "179138       19 WARREN STREET, 3E               3E   10007.0   \n",
              "85499        446 BEDFORD AVE, 22A              NaN   11249.0   \n",
              "143604         614 DECATUR STREET              NaN   11233.0   \n",
              "87780     18-05 215TH STREET, 12D              NaN   11360.0   \n",
              "186454  227 EAST 57TH STREET, 20C              NaN   10022.0   \n",
              "63845              1561 MAYFLOWER              NaN   10461.0   \n",
              "180516   16 WEST 16TH STREET, 4FN              NaN   10011.0   \n",
              "180337     130 WILLIAM STREET, 8F               8F   10038.0   \n",
              "\n",
              "       RESIDENTIAL UNITS COMMERCIAL UNITS TOTAL UNITS  LAND SQUARE FEET  \\\n",
              "179138                 1              NaN           1               NaN   \n",
              "85499                NaN              NaN         NaN               NaN   \n",
              "143604               2.0              0.0         2.0            2000.0   \n",
              "87780                NaN              NaN         NaN               NaN   \n",
              "186454               NaN              NaN         NaN               NaN   \n",
              "63845                2.0              0.0         2.0            2634.0   \n",
              "180516               NaN              NaN         NaN               NaN   \n",
              "180337                 1              NaN           1               NaN   \n",
              "\n",
              "        GROSS SQUARE FEET  YEAR BUILT  TAX CLASS AT TIME OF SALE  \\\n",
              "179138                NaN         NaN                          2   \n",
              "85499                 NaN      1992.0                          2   \n",
              "143604             2700.0      1899.0                          1   \n",
              "87780                 NaN      1969.0                          2   \n",
              "186454                NaN      1931.0                          2   \n",
              "63845              1638.0      2007.0                          1   \n",
              "180516                NaN      1964.0                          2   \n",
              "180337                NaN      2017.0                          2   \n",
              "\n",
              "       BUILDING CLASS AT TIME OF SALE  SALE PRICE   SALE DATE  \n",
              "179138                             R1   2295000.0  2022-03-11  \n",
              "85499                              C6         0.0  2020-07-24  \n",
              "143604                             B3   2300000.0  2021-05-06  \n",
              "87780                              D4    658000.0  2020-10-07  \n",
              "186454                             D4         0.0  2022-04-27  \n",
              "63845                              B2    840000.0  2021-12-29  \n",
              "180516                             D4    707000.0  2022-06-14  \n",
              "180337                             R4   2219318.0  2022-05-16  "
            ],
            "text/html": [
              "\n",
              "  <div id=\"df-85e107fd-3140-4523-b30a-e83fe48bae08\">\n",
              "    <div class=\"colab-df-container\">\n",
              "      <div>\n",
              "<style scoped>\n",
              "    .dataframe tbody tr th:only-of-type {\n",
              "        vertical-align: middle;\n",
              "    }\n",
              "\n",
              "    .dataframe tbody tr th {\n",
              "        vertical-align: top;\n",
              "    }\n",
              "\n",
              "    .dataframe thead th {\n",
              "        text-align: right;\n",
              "    }\n",
              "</style>\n",
              "<table border=\"1\" class=\"dataframe\">\n",
              "  <thead>\n",
              "    <tr style=\"text-align: right;\">\n",
              "      <th></th>\n",
              "      <th>BOROUGH</th>\n",
              "      <th>NEIGHBORHOOD</th>\n",
              "      <th>BUILDING CLASS CATEGORY</th>\n",
              "      <th>TAX CLASS AT PRESENT</th>\n",
              "      <th>BLOCK</th>\n",
              "      <th>LOT</th>\n",
              "      <th>BUILDING CLASS AT PRESENT</th>\n",
              "      <th>ADDRESS</th>\n",
              "      <th>APARTMENT NUMBER</th>\n",
              "      <th>ZIP CODE</th>\n",
              "      <th>RESIDENTIAL UNITS</th>\n",
              "      <th>COMMERCIAL UNITS</th>\n",
              "      <th>TOTAL UNITS</th>\n",
              "      <th>LAND SQUARE FEET</th>\n",
              "      <th>GROSS SQUARE FEET</th>\n",
              "      <th>YEAR BUILT</th>\n",
              "      <th>TAX CLASS AT TIME OF SALE</th>\n",
              "      <th>BUILDING CLASS AT TIME OF SALE</th>\n",
              "      <th>SALE PRICE</th>\n",
              "      <th>SALE DATE</th>\n",
              "    </tr>\n",
              "  </thead>\n",
              "  <tbody>\n",
              "    <tr>\n",
              "      <th>179138</th>\n",
              "      <td>1</td>\n",
              "      <td>CIVIC CENTER</td>\n",
              "      <td>15 CONDOS - 2-10 UNIT RESIDENTIAL</td>\n",
              "      <td>2C</td>\n",
              "      <td>134</td>\n",
              "      <td>1305</td>\n",
              "      <td>R1</td>\n",
              "      <td>19 WARREN STREET, 3E</td>\n",
              "      <td>3E</td>\n",
              "      <td>10007.0</td>\n",
              "      <td>1</td>\n",
              "      <td>NaN</td>\n",
              "      <td>1</td>\n",
              "      <td>NaN</td>\n",
              "      <td>NaN</td>\n",
              "      <td>NaN</td>\n",
              "      <td>2</td>\n",
              "      <td>R1</td>\n",
              "      <td>2295000.0</td>\n",
              "      <td>2022-03-11</td>\n",
              "    </tr>\n",
              "    <tr>\n",
              "      <th>85499</th>\n",
              "      <td>3</td>\n",
              "      <td>WILLIAMSBURG-SOUTH</td>\n",
              "      <td>09 COOPS - WALKUP APARTMENTS</td>\n",
              "      <td>2C</td>\n",
              "      <td>2146</td>\n",
              "      <td>19</td>\n",
              "      <td>C6</td>\n",
              "      <td>446 BEDFORD AVE, 22A</td>\n",
              "      <td>NaN</td>\n",
              "      <td>11249.0</td>\n",
              "      <td>NaN</td>\n",
              "      <td>NaN</td>\n",
              "      <td>NaN</td>\n",
              "      <td>NaN</td>\n",
              "      <td>NaN</td>\n",
              "      <td>1992.0</td>\n",
              "      <td>2</td>\n",
              "      <td>C6</td>\n",
              "      <td>0.0</td>\n",
              "      <td>2020-07-24</td>\n",
              "    </tr>\n",
              "    <tr>\n",
              "      <th>143604</th>\n",
              "      <td>3</td>\n",
              "      <td>OCEAN HILL</td>\n",
              "      <td>02 TWO FAMILY DWELLINGS</td>\n",
              "      <td>1</td>\n",
              "      <td>1505</td>\n",
              "      <td>25</td>\n",
              "      <td>B3</td>\n",
              "      <td>614 DECATUR STREET</td>\n",
              "      <td>NaN</td>\n",
              "      <td>11233.0</td>\n",
              "      <td>2.0</td>\n",
              "      <td>0.0</td>\n",
              "      <td>2.0</td>\n",
              "      <td>2000.0</td>\n",
              "      <td>2700.0</td>\n",
              "      <td>1899.0</td>\n",
              "      <td>1</td>\n",
              "      <td>B3</td>\n",
              "      <td>2300000.0</td>\n",
              "      <td>2021-05-06</td>\n",
              "    </tr>\n",
              "    <tr>\n",
              "      <th>87780</th>\n",
              "      <td>4</td>\n",
              "      <td>BAYSIDE</td>\n",
              "      <td>10 COOPS - ELEVATOR APARTMENTS</td>\n",
              "      <td>2</td>\n",
              "      <td>5938</td>\n",
              "      <td>5</td>\n",
              "      <td>D4</td>\n",
              "      <td>18-05 215TH STREET, 12D</td>\n",
              "      <td>NaN</td>\n",
              "      <td>11360.0</td>\n",
              "      <td>NaN</td>\n",
              "      <td>NaN</td>\n",
              "      <td>NaN</td>\n",
              "      <td>NaN</td>\n",
              "      <td>NaN</td>\n",
              "      <td>1969.0</td>\n",
              "      <td>2</td>\n",
              "      <td>D4</td>\n",
              "      <td>658000.0</td>\n",
              "      <td>2020-10-07</td>\n",
              "    </tr>\n",
              "    <tr>\n",
              "      <th>186454</th>\n",
              "      <td>1</td>\n",
              "      <td>MIDTOWN EAST</td>\n",
              "      <td>10 COOPS - ELEVATOR APARTMENTS</td>\n",
              "      <td>2</td>\n",
              "      <td>1331</td>\n",
              "      <td>14</td>\n",
              "      <td>D4</td>\n",
              "      <td>227 EAST 57TH STREET, 20C</td>\n",
              "      <td>NaN</td>\n",
              "      <td>10022.0</td>\n",
              "      <td>NaN</td>\n",
              "      <td>NaN</td>\n",
              "      <td>NaN</td>\n",
              "      <td>NaN</td>\n",
              "      <td>NaN</td>\n",
              "      <td>1931.0</td>\n",
              "      <td>2</td>\n",
              "      <td>D4</td>\n",
              "      <td>0.0</td>\n",
              "      <td>2022-04-27</td>\n",
              "    </tr>\n",
              "    <tr>\n",
              "      <th>63845</th>\n",
              "      <td>2</td>\n",
              "      <td>SCHUYLERVILLE/PELHAM BAY</td>\n",
              "      <td>02 TWO FAMILY DWELLINGS</td>\n",
              "      <td>1</td>\n",
              "      <td>5385</td>\n",
              "      <td>37</td>\n",
              "      <td>B2</td>\n",
              "      <td>1561 MAYFLOWER</td>\n",
              "      <td>NaN</td>\n",
              "      <td>10461.0</td>\n",
              "      <td>2.0</td>\n",
              "      <td>0.0</td>\n",
              "      <td>2.0</td>\n",
              "      <td>2634.0</td>\n",
              "      <td>1638.0</td>\n",
              "      <td>2007.0</td>\n",
              "      <td>1</td>\n",
              "      <td>B2</td>\n",
              "      <td>840000.0</td>\n",
              "      <td>2021-12-29</td>\n",
              "    </tr>\n",
              "    <tr>\n",
              "      <th>180516</th>\n",
              "      <td>1</td>\n",
              "      <td>FLATIRON</td>\n",
              "      <td>10 COOPS - ELEVATOR APARTMENTS</td>\n",
              "      <td>2</td>\n",
              "      <td>817</td>\n",
              "      <td>29</td>\n",
              "      <td>D4</td>\n",
              "      <td>16 WEST 16TH STREET, 4FN</td>\n",
              "      <td>NaN</td>\n",
              "      <td>10011.0</td>\n",
              "      <td>NaN</td>\n",
              "      <td>NaN</td>\n",
              "      <td>NaN</td>\n",
              "      <td>NaN</td>\n",
              "      <td>NaN</td>\n",
              "      <td>1964.0</td>\n",
              "      <td>2</td>\n",
              "      <td>D4</td>\n",
              "      <td>707000.0</td>\n",
              "      <td>2022-06-14</td>\n",
              "    </tr>\n",
              "    <tr>\n",
              "      <th>180337</th>\n",
              "      <td>1</td>\n",
              "      <td>FINANCIAL</td>\n",
              "      <td>13 CONDOS - ELEVATOR APARTMENTS</td>\n",
              "      <td>2</td>\n",
              "      <td>77</td>\n",
              "      <td>1012</td>\n",
              "      <td>R4</td>\n",
              "      <td>130 WILLIAM STREET, 8F</td>\n",
              "      <td>8F</td>\n",
              "      <td>10038.0</td>\n",
              "      <td>1</td>\n",
              "      <td>NaN</td>\n",
              "      <td>1</td>\n",
              "      <td>NaN</td>\n",
              "      <td>NaN</td>\n",
              "      <td>2017.0</td>\n",
              "      <td>2</td>\n",
              "      <td>R4</td>\n",
              "      <td>2219318.0</td>\n",
              "      <td>2022-05-16</td>\n",
              "    </tr>\n",
              "  </tbody>\n",
              "</table>\n",
              "</div>\n",
              "      <button class=\"colab-df-convert\" onclick=\"convertToInteractive('df-85e107fd-3140-4523-b30a-e83fe48bae08')\"\n",
              "              title=\"Convert this dataframe to an interactive table.\"\n",
              "              style=\"display:none;\">\n",
              "        \n",
              "  <svg xmlns=\"http://www.w3.org/2000/svg\" height=\"24px\"viewBox=\"0 0 24 24\"\n",
              "       width=\"24px\">\n",
              "    <path d=\"M0 0h24v24H0V0z\" fill=\"none\"/>\n",
              "    <path d=\"M18.56 5.44l.94 2.06.94-2.06 2.06-.94-2.06-.94-.94-2.06-.94 2.06-2.06.94zm-11 1L8.5 8.5l.94-2.06 2.06-.94-2.06-.94L8.5 2.5l-.94 2.06-2.06.94zm10 10l.94 2.06.94-2.06 2.06-.94-2.06-.94-.94-2.06-.94 2.06-2.06.94z\"/><path d=\"M17.41 7.96l-1.37-1.37c-.4-.4-.92-.59-1.43-.59-.52 0-1.04.2-1.43.59L10.3 9.45l-7.72 7.72c-.78.78-.78 2.05 0 2.83L4 21.41c.39.39.9.59 1.41.59.51 0 1.02-.2 1.41-.59l7.78-7.78 2.81-2.81c.8-.78.8-2.07 0-2.86zM5.41 20L4 18.59l7.72-7.72 1.47 1.35L5.41 20z\"/>\n",
              "  </svg>\n",
              "      </button>\n",
              "      \n",
              "  <style>\n",
              "    .colab-df-container {\n",
              "      display:flex;\n",
              "      flex-wrap:wrap;\n",
              "      gap: 12px;\n",
              "    }\n",
              "\n",
              "    .colab-df-convert {\n",
              "      background-color: #E8F0FE;\n",
              "      border: none;\n",
              "      border-radius: 50%;\n",
              "      cursor: pointer;\n",
              "      display: none;\n",
              "      fill: #1967D2;\n",
              "      height: 32px;\n",
              "      padding: 0 0 0 0;\n",
              "      width: 32px;\n",
              "    }\n",
              "\n",
              "    .colab-df-convert:hover {\n",
              "      background-color: #E2EBFA;\n",
              "      box-shadow: 0px 1px 2px rgba(60, 64, 67, 0.3), 0px 1px 3px 1px rgba(60, 64, 67, 0.15);\n",
              "      fill: #174EA6;\n",
              "    }\n",
              "\n",
              "    [theme=dark] .colab-df-convert {\n",
              "      background-color: #3B4455;\n",
              "      fill: #D2E3FC;\n",
              "    }\n",
              "\n",
              "    [theme=dark] .colab-df-convert:hover {\n",
              "      background-color: #434B5C;\n",
              "      box-shadow: 0px 1px 3px 1px rgba(0, 0, 0, 0.15);\n",
              "      filter: drop-shadow(0px 1px 2px rgba(0, 0, 0, 0.3));\n",
              "      fill: #FFFFFF;\n",
              "    }\n",
              "  </style>\n",
              "\n",
              "      <script>\n",
              "        const buttonEl =\n",
              "          document.querySelector('#df-85e107fd-3140-4523-b30a-e83fe48bae08 button.colab-df-convert');\n",
              "        buttonEl.style.display =\n",
              "          google.colab.kernel.accessAllowed ? 'block' : 'none';\n",
              "\n",
              "        async function convertToInteractive(key) {\n",
              "          const element = document.querySelector('#df-85e107fd-3140-4523-b30a-e83fe48bae08');\n",
              "          const dataTable =\n",
              "            await google.colab.kernel.invokeFunction('convertToInteractive',\n",
              "                                                     [key], {});\n",
              "          if (!dataTable) return;\n",
              "\n",
              "          const docLinkHtml = 'Like what you see? Visit the ' +\n",
              "            '<a target=\"_blank\" href=https://colab.research.google.com/notebooks/data_table.ipynb>data table notebook</a>'\n",
              "            + ' to learn more about interactive tables.';\n",
              "          element.innerHTML = '';\n",
              "          dataTable['output_type'] = 'display_data';\n",
              "          await google.colab.output.renderOutput(dataTable, element);\n",
              "          const docLink = document.createElement('div');\n",
              "          docLink.innerHTML = docLinkHtml;\n",
              "          element.appendChild(docLink);\n",
              "        }\n",
              "      </script>\n",
              "    </div>\n",
              "  </div>\n",
              "  "
            ]
          },
          "metadata": {},
          "execution_count": 4
        }
      ]
    },
    {
      "cell_type": "code",
      "source": [
        "data.tail()"
      ],
      "metadata": {
        "colab": {
          "base_uri": "https://localhost:8080/",
          "height": 582
        },
        "id": "s7q0sQT7HUaY",
        "outputId": "8166ee8a-1529-486f-c59c-86a42e57a0f1"
      },
      "execution_count": 5,
      "outputs": [
        {
          "output_type": "execute_result",
          "data": {
            "text/plain": [
              "        BOROUGH NEIGHBORHOOD BUILDING CLASS CATEGORY TAX CLASS AT PRESENT  \\\n",
              "258459        4     WOODSIDE        44 CONDO PARKING                    4   \n",
              "258460        4     WOODSIDE        44 CONDO PARKING                    4   \n",
              "258461        4     WOODSIDE        44 CONDO PARKING                    4   \n",
              "258462        4     WOODSIDE        44 CONDO PARKING                    4   \n",
              "258463        4     WOODSIDE        44 CONDO PARKING                    4   \n",
              "\n",
              "        BLOCK   LOT BUILDING CLASS AT PRESENT                       ADDRESS  \\\n",
              "258459   1300  1114                        RP         40-45 68TH STREET, P5   \n",
              "258460   1337  1229                        RP         41-52 63RD STREET, P5   \n",
              "258461   2324  1109                        RG   63-14 QUEENS BOULEVARD, P-4   \n",
              "258462   2324  1152                        RG  63-14 QUEENS BOULEVARD, P-49   \n",
              "258463   2324  1153                        RG  63-14 QUEENS BOULEVARD, P-50   \n",
              "\n",
              "       APARTMENT NUMBER  ZIP CODE RESIDENTIAL UNITS COMMERCIAL UNITS  \\\n",
              "258459               P5   11377.0               NaN                1   \n",
              "258460               P5   11377.0               NaN                1   \n",
              "258461              P-4   11377.0               NaN                1   \n",
              "258462             P-49   11377.0               NaN                1   \n",
              "258463             P-50   11377.0               NaN                1   \n",
              "\n",
              "       TOTAL UNITS  LAND SQUARE FEET  GROSS SQUARE FEET  YEAR BUILT  \\\n",
              "258459           1               NaN                NaN      2008.0   \n",
              "258460           1               NaN                NaN      2005.0   \n",
              "258461           1               NaN                NaN      2008.0   \n",
              "258462           1               NaN                NaN      2008.0   \n",
              "258463           1               NaN                NaN      2008.0   \n",
              "\n",
              "        TAX CLASS AT TIME OF SALE BUILDING CLASS AT TIME OF SALE  SALE PRICE  \\\n",
              "258459                          4                             RP    598000.0   \n",
              "258460                          4                             RP    565000.0   \n",
              "258461                          4                             RG     23500.0   \n",
              "258462                          4                             RG         0.0   \n",
              "258463                          4                             RG         0.0   \n",
              "\n",
              "         SALE DATE  \n",
              "258459  2021-10-15  \n",
              "258460  2021-08-18  \n",
              "258461  2021-12-08  \n",
              "258462  2021-09-03  \n",
              "258463  2021-09-03  "
            ],
            "text/html": [
              "\n",
              "  <div id=\"df-e2eaa304-f62d-4c16-88c3-9123035e5783\">\n",
              "    <div class=\"colab-df-container\">\n",
              "      <div>\n",
              "<style scoped>\n",
              "    .dataframe tbody tr th:only-of-type {\n",
              "        vertical-align: middle;\n",
              "    }\n",
              "\n",
              "    .dataframe tbody tr th {\n",
              "        vertical-align: top;\n",
              "    }\n",
              "\n",
              "    .dataframe thead th {\n",
              "        text-align: right;\n",
              "    }\n",
              "</style>\n",
              "<table border=\"1\" class=\"dataframe\">\n",
              "  <thead>\n",
              "    <tr style=\"text-align: right;\">\n",
              "      <th></th>\n",
              "      <th>BOROUGH</th>\n",
              "      <th>NEIGHBORHOOD</th>\n",
              "      <th>BUILDING CLASS CATEGORY</th>\n",
              "      <th>TAX CLASS AT PRESENT</th>\n",
              "      <th>BLOCK</th>\n",
              "      <th>LOT</th>\n",
              "      <th>BUILDING CLASS AT PRESENT</th>\n",
              "      <th>ADDRESS</th>\n",
              "      <th>APARTMENT NUMBER</th>\n",
              "      <th>ZIP CODE</th>\n",
              "      <th>RESIDENTIAL UNITS</th>\n",
              "      <th>COMMERCIAL UNITS</th>\n",
              "      <th>TOTAL UNITS</th>\n",
              "      <th>LAND SQUARE FEET</th>\n",
              "      <th>GROSS SQUARE FEET</th>\n",
              "      <th>YEAR BUILT</th>\n",
              "      <th>TAX CLASS AT TIME OF SALE</th>\n",
              "      <th>BUILDING CLASS AT TIME OF SALE</th>\n",
              "      <th>SALE PRICE</th>\n",
              "      <th>SALE DATE</th>\n",
              "    </tr>\n",
              "  </thead>\n",
              "  <tbody>\n",
              "    <tr>\n",
              "      <th>258459</th>\n",
              "      <td>4</td>\n",
              "      <td>WOODSIDE</td>\n",
              "      <td>44 CONDO PARKING</td>\n",
              "      <td>4</td>\n",
              "      <td>1300</td>\n",
              "      <td>1114</td>\n",
              "      <td>RP</td>\n",
              "      <td>40-45 68TH STREET, P5</td>\n",
              "      <td>P5</td>\n",
              "      <td>11377.0</td>\n",
              "      <td>NaN</td>\n",
              "      <td>1</td>\n",
              "      <td>1</td>\n",
              "      <td>NaN</td>\n",
              "      <td>NaN</td>\n",
              "      <td>2008.0</td>\n",
              "      <td>4</td>\n",
              "      <td>RP</td>\n",
              "      <td>598000.0</td>\n",
              "      <td>2021-10-15</td>\n",
              "    </tr>\n",
              "    <tr>\n",
              "      <th>258460</th>\n",
              "      <td>4</td>\n",
              "      <td>WOODSIDE</td>\n",
              "      <td>44 CONDO PARKING</td>\n",
              "      <td>4</td>\n",
              "      <td>1337</td>\n",
              "      <td>1229</td>\n",
              "      <td>RP</td>\n",
              "      <td>41-52 63RD STREET, P5</td>\n",
              "      <td>P5</td>\n",
              "      <td>11377.0</td>\n",
              "      <td>NaN</td>\n",
              "      <td>1</td>\n",
              "      <td>1</td>\n",
              "      <td>NaN</td>\n",
              "      <td>NaN</td>\n",
              "      <td>2005.0</td>\n",
              "      <td>4</td>\n",
              "      <td>RP</td>\n",
              "      <td>565000.0</td>\n",
              "      <td>2021-08-18</td>\n",
              "    </tr>\n",
              "    <tr>\n",
              "      <th>258461</th>\n",
              "      <td>4</td>\n",
              "      <td>WOODSIDE</td>\n",
              "      <td>44 CONDO PARKING</td>\n",
              "      <td>4</td>\n",
              "      <td>2324</td>\n",
              "      <td>1109</td>\n",
              "      <td>RG</td>\n",
              "      <td>63-14 QUEENS BOULEVARD, P-4</td>\n",
              "      <td>P-4</td>\n",
              "      <td>11377.0</td>\n",
              "      <td>NaN</td>\n",
              "      <td>1</td>\n",
              "      <td>1</td>\n",
              "      <td>NaN</td>\n",
              "      <td>NaN</td>\n",
              "      <td>2008.0</td>\n",
              "      <td>4</td>\n",
              "      <td>RG</td>\n",
              "      <td>23500.0</td>\n",
              "      <td>2021-12-08</td>\n",
              "    </tr>\n",
              "    <tr>\n",
              "      <th>258462</th>\n",
              "      <td>4</td>\n",
              "      <td>WOODSIDE</td>\n",
              "      <td>44 CONDO PARKING</td>\n",
              "      <td>4</td>\n",
              "      <td>2324</td>\n",
              "      <td>1152</td>\n",
              "      <td>RG</td>\n",
              "      <td>63-14 QUEENS BOULEVARD, P-49</td>\n",
              "      <td>P-49</td>\n",
              "      <td>11377.0</td>\n",
              "      <td>NaN</td>\n",
              "      <td>1</td>\n",
              "      <td>1</td>\n",
              "      <td>NaN</td>\n",
              "      <td>NaN</td>\n",
              "      <td>2008.0</td>\n",
              "      <td>4</td>\n",
              "      <td>RG</td>\n",
              "      <td>0.0</td>\n",
              "      <td>2021-09-03</td>\n",
              "    </tr>\n",
              "    <tr>\n",
              "      <th>258463</th>\n",
              "      <td>4</td>\n",
              "      <td>WOODSIDE</td>\n",
              "      <td>44 CONDO PARKING</td>\n",
              "      <td>4</td>\n",
              "      <td>2324</td>\n",
              "      <td>1153</td>\n",
              "      <td>RG</td>\n",
              "      <td>63-14 QUEENS BOULEVARD, P-50</td>\n",
              "      <td>P-50</td>\n",
              "      <td>11377.0</td>\n",
              "      <td>NaN</td>\n",
              "      <td>1</td>\n",
              "      <td>1</td>\n",
              "      <td>NaN</td>\n",
              "      <td>NaN</td>\n",
              "      <td>2008.0</td>\n",
              "      <td>4</td>\n",
              "      <td>RG</td>\n",
              "      <td>0.0</td>\n",
              "      <td>2021-09-03</td>\n",
              "    </tr>\n",
              "  </tbody>\n",
              "</table>\n",
              "</div>\n",
              "      <button class=\"colab-df-convert\" onclick=\"convertToInteractive('df-e2eaa304-f62d-4c16-88c3-9123035e5783')\"\n",
              "              title=\"Convert this dataframe to an interactive table.\"\n",
              "              style=\"display:none;\">\n",
              "        \n",
              "  <svg xmlns=\"http://www.w3.org/2000/svg\" height=\"24px\"viewBox=\"0 0 24 24\"\n",
              "       width=\"24px\">\n",
              "    <path d=\"M0 0h24v24H0V0z\" fill=\"none\"/>\n",
              "    <path d=\"M18.56 5.44l.94 2.06.94-2.06 2.06-.94-2.06-.94-.94-2.06-.94 2.06-2.06.94zm-11 1L8.5 8.5l.94-2.06 2.06-.94-2.06-.94L8.5 2.5l-.94 2.06-2.06.94zm10 10l.94 2.06.94-2.06 2.06-.94-2.06-.94-.94-2.06-.94 2.06-2.06.94z\"/><path d=\"M17.41 7.96l-1.37-1.37c-.4-.4-.92-.59-1.43-.59-.52 0-1.04.2-1.43.59L10.3 9.45l-7.72 7.72c-.78.78-.78 2.05 0 2.83L4 21.41c.39.39.9.59 1.41.59.51 0 1.02-.2 1.41-.59l7.78-7.78 2.81-2.81c.8-.78.8-2.07 0-2.86zM5.41 20L4 18.59l7.72-7.72 1.47 1.35L5.41 20z\"/>\n",
              "  </svg>\n",
              "      </button>\n",
              "      \n",
              "  <style>\n",
              "    .colab-df-container {\n",
              "      display:flex;\n",
              "      flex-wrap:wrap;\n",
              "      gap: 12px;\n",
              "    }\n",
              "\n",
              "    .colab-df-convert {\n",
              "      background-color: #E8F0FE;\n",
              "      border: none;\n",
              "      border-radius: 50%;\n",
              "      cursor: pointer;\n",
              "      display: none;\n",
              "      fill: #1967D2;\n",
              "      height: 32px;\n",
              "      padding: 0 0 0 0;\n",
              "      width: 32px;\n",
              "    }\n",
              "\n",
              "    .colab-df-convert:hover {\n",
              "      background-color: #E2EBFA;\n",
              "      box-shadow: 0px 1px 2px rgba(60, 64, 67, 0.3), 0px 1px 3px 1px rgba(60, 64, 67, 0.15);\n",
              "      fill: #174EA6;\n",
              "    }\n",
              "\n",
              "    [theme=dark] .colab-df-convert {\n",
              "      background-color: #3B4455;\n",
              "      fill: #D2E3FC;\n",
              "    }\n",
              "\n",
              "    [theme=dark] .colab-df-convert:hover {\n",
              "      background-color: #434B5C;\n",
              "      box-shadow: 0px 1px 3px 1px rgba(0, 0, 0, 0.15);\n",
              "      filter: drop-shadow(0px 1px 2px rgba(0, 0, 0, 0.3));\n",
              "      fill: #FFFFFF;\n",
              "    }\n",
              "  </style>\n",
              "\n",
              "      <script>\n",
              "        const buttonEl =\n",
              "          document.querySelector('#df-e2eaa304-f62d-4c16-88c3-9123035e5783 button.colab-df-convert');\n",
              "        buttonEl.style.display =\n",
              "          google.colab.kernel.accessAllowed ? 'block' : 'none';\n",
              "\n",
              "        async function convertToInteractive(key) {\n",
              "          const element = document.querySelector('#df-e2eaa304-f62d-4c16-88c3-9123035e5783');\n",
              "          const dataTable =\n",
              "            await google.colab.kernel.invokeFunction('convertToInteractive',\n",
              "                                                     [key], {});\n",
              "          if (!dataTable) return;\n",
              "\n",
              "          const docLinkHtml = 'Like what you see? Visit the ' +\n",
              "            '<a target=\"_blank\" href=https://colab.research.google.com/notebooks/data_table.ipynb>data table notebook</a>'\n",
              "            + ' to learn more about interactive tables.';\n",
              "          element.innerHTML = '';\n",
              "          dataTable['output_type'] = 'display_data';\n",
              "          await google.colab.output.renderOutput(dataTable, element);\n",
              "          const docLink = document.createElement('div');\n",
              "          docLink.innerHTML = docLinkHtml;\n",
              "          element.appendChild(docLink);\n",
              "        }\n",
              "      </script>\n",
              "    </div>\n",
              "  </div>\n",
              "  "
            ]
          },
          "metadata": {},
          "execution_count": 5
        }
      ]
    },
    {
      "cell_type": "code",
      "source": [
        "data.describe()\n",
        "data.describe(include = 'all')"
      ],
      "metadata": {
        "colab": {
          "base_uri": "https://localhost:8080/",
          "height": 784
        },
        "id": "AWxT6-7aCFdu",
        "outputId": "659a2290-8cf7-4c70-fb64-c96a51c02e72"
      },
      "execution_count": 6,
      "outputs": [
        {
          "output_type": "execute_result",
          "data": {
            "text/plain": [
              "             BOROUGH          BLOCK            LOT       ZIP CODE  \\\n",
              "count  258464.000000  258464.000000  258464.000000  258445.000000   \n",
              "mean        2.982249    4205.347228     390.798494   10850.341763   \n",
              "std         1.291469    3583.533963     663.856622     562.709495   \n",
              "min         1.000000       1.000000       1.000000   10001.000000   \n",
              "25%         2.000000    1251.000000      22.000000   10305.000000   \n",
              "50%         3.000000    3273.500000      52.000000   11208.000000   \n",
              "75%         4.000000    6251.000000    1003.000000   11355.000000   \n",
              "max         5.000000   16350.000000    9116.000000   11697.000000   \n",
              "\n",
              "       LAND SQUARE FEET  GROSS SQUARE FEET     YEAR BUILT  \\\n",
              "count      1.569960e+05       1.569960e+05  240618.000000   \n",
              "mean       6.006378e+03       5.488587e+03    1952.672522   \n",
              "std        1.139290e+05       4.887278e+04      36.162119   \n",
              "min        0.000000e+00       0.000000e+00     220.000000   \n",
              "25%        1.900000e+03       1.224000e+03    1925.000000   \n",
              "50%        2.500000e+03       1.810000e+03    1950.000000   \n",
              "75%        3.909250e+03       2.670000e+03    1977.000000   \n",
              "max        7.649136e+06       8.942176e+06    2022.000000   \n",
              "\n",
              "       TAX CLASS AT TIME OF SALE    SALE PRICE  \n",
              "count              258464.000000  2.584640e+05  \n",
              "mean                    1.636955  1.480856e+06  \n",
              "std                     0.783537  1.049733e+07  \n",
              "min                     1.000000  0.000000e+00  \n",
              "25%                     1.000000  0.000000e+00  \n",
              "50%                     2.000000  5.500000e+05  \n",
              "75%                     2.000000  9.900000e+05  \n",
              "max                     4.000000  1.033000e+09  "
            ],
            "text/html": [
              "\n",
              "  <div id=\"df-23a61cc5-a3b0-44bf-b1fc-8ec18ce4c859\">\n",
              "    <div class=\"colab-df-container\">\n",
              "      <div>\n",
              "<style scoped>\n",
              "    .dataframe tbody tr th:only-of-type {\n",
              "        vertical-align: middle;\n",
              "    }\n",
              "\n",
              "    .dataframe tbody tr th {\n",
              "        vertical-align: top;\n",
              "    }\n",
              "\n",
              "    .dataframe thead th {\n",
              "        text-align: right;\n",
              "    }\n",
              "</style>\n",
              "<table border=\"1\" class=\"dataframe\">\n",
              "  <thead>\n",
              "    <tr style=\"text-align: right;\">\n",
              "      <th></th>\n",
              "      <th>BOROUGH</th>\n",
              "      <th>BLOCK</th>\n",
              "      <th>LOT</th>\n",
              "      <th>ZIP CODE</th>\n",
              "      <th>LAND SQUARE FEET</th>\n",
              "      <th>GROSS SQUARE FEET</th>\n",
              "      <th>YEAR BUILT</th>\n",
              "      <th>TAX CLASS AT TIME OF SALE</th>\n",
              "      <th>SALE PRICE</th>\n",
              "    </tr>\n",
              "  </thead>\n",
              "  <tbody>\n",
              "    <tr>\n",
              "      <th>count</th>\n",
              "      <td>258464.000000</td>\n",
              "      <td>258464.000000</td>\n",
              "      <td>258464.000000</td>\n",
              "      <td>258445.000000</td>\n",
              "      <td>1.569960e+05</td>\n",
              "      <td>1.569960e+05</td>\n",
              "      <td>240618.000000</td>\n",
              "      <td>258464.000000</td>\n",
              "      <td>2.584640e+05</td>\n",
              "    </tr>\n",
              "    <tr>\n",
              "      <th>mean</th>\n",
              "      <td>2.982249</td>\n",
              "      <td>4205.347228</td>\n",
              "      <td>390.798494</td>\n",
              "      <td>10850.341763</td>\n",
              "      <td>6.006378e+03</td>\n",
              "      <td>5.488587e+03</td>\n",
              "      <td>1952.672522</td>\n",
              "      <td>1.636955</td>\n",
              "      <td>1.480856e+06</td>\n",
              "    </tr>\n",
              "    <tr>\n",
              "      <th>std</th>\n",
              "      <td>1.291469</td>\n",
              "      <td>3583.533963</td>\n",
              "      <td>663.856622</td>\n",
              "      <td>562.709495</td>\n",
              "      <td>1.139290e+05</td>\n",
              "      <td>4.887278e+04</td>\n",
              "      <td>36.162119</td>\n",
              "      <td>0.783537</td>\n",
              "      <td>1.049733e+07</td>\n",
              "    </tr>\n",
              "    <tr>\n",
              "      <th>min</th>\n",
              "      <td>1.000000</td>\n",
              "      <td>1.000000</td>\n",
              "      <td>1.000000</td>\n",
              "      <td>10001.000000</td>\n",
              "      <td>0.000000e+00</td>\n",
              "      <td>0.000000e+00</td>\n",
              "      <td>220.000000</td>\n",
              "      <td>1.000000</td>\n",
              "      <td>0.000000e+00</td>\n",
              "    </tr>\n",
              "    <tr>\n",
              "      <th>25%</th>\n",
              "      <td>2.000000</td>\n",
              "      <td>1251.000000</td>\n",
              "      <td>22.000000</td>\n",
              "      <td>10305.000000</td>\n",
              "      <td>1.900000e+03</td>\n",
              "      <td>1.224000e+03</td>\n",
              "      <td>1925.000000</td>\n",
              "      <td>1.000000</td>\n",
              "      <td>0.000000e+00</td>\n",
              "    </tr>\n",
              "    <tr>\n",
              "      <th>50%</th>\n",
              "      <td>3.000000</td>\n",
              "      <td>3273.500000</td>\n",
              "      <td>52.000000</td>\n",
              "      <td>11208.000000</td>\n",
              "      <td>2.500000e+03</td>\n",
              "      <td>1.810000e+03</td>\n",
              "      <td>1950.000000</td>\n",
              "      <td>2.000000</td>\n",
              "      <td>5.500000e+05</td>\n",
              "    </tr>\n",
              "    <tr>\n",
              "      <th>75%</th>\n",
              "      <td>4.000000</td>\n",
              "      <td>6251.000000</td>\n",
              "      <td>1003.000000</td>\n",
              "      <td>11355.000000</td>\n",
              "      <td>3.909250e+03</td>\n",
              "      <td>2.670000e+03</td>\n",
              "      <td>1977.000000</td>\n",
              "      <td>2.000000</td>\n",
              "      <td>9.900000e+05</td>\n",
              "    </tr>\n",
              "    <tr>\n",
              "      <th>max</th>\n",
              "      <td>5.000000</td>\n",
              "      <td>16350.000000</td>\n",
              "      <td>9116.000000</td>\n",
              "      <td>11697.000000</td>\n",
              "      <td>7.649136e+06</td>\n",
              "      <td>8.942176e+06</td>\n",
              "      <td>2022.000000</td>\n",
              "      <td>4.000000</td>\n",
              "      <td>1.033000e+09</td>\n",
              "    </tr>\n",
              "  </tbody>\n",
              "</table>\n",
              "</div>\n",
              "      <button class=\"colab-df-convert\" onclick=\"convertToInteractive('df-23a61cc5-a3b0-44bf-b1fc-8ec18ce4c859')\"\n",
              "              title=\"Convert this dataframe to an interactive table.\"\n",
              "              style=\"display:none;\">\n",
              "        \n",
              "  <svg xmlns=\"http://www.w3.org/2000/svg\" height=\"24px\"viewBox=\"0 0 24 24\"\n",
              "       width=\"24px\">\n",
              "    <path d=\"M0 0h24v24H0V0z\" fill=\"none\"/>\n",
              "    <path d=\"M18.56 5.44l.94 2.06.94-2.06 2.06-.94-2.06-.94-.94-2.06-.94 2.06-2.06.94zm-11 1L8.5 8.5l.94-2.06 2.06-.94-2.06-.94L8.5 2.5l-.94 2.06-2.06.94zm10 10l.94 2.06.94-2.06 2.06-.94-2.06-.94-.94-2.06-.94 2.06-2.06.94z\"/><path d=\"M17.41 7.96l-1.37-1.37c-.4-.4-.92-.59-1.43-.59-.52 0-1.04.2-1.43.59L10.3 9.45l-7.72 7.72c-.78.78-.78 2.05 0 2.83L4 21.41c.39.39.9.59 1.41.59.51 0 1.02-.2 1.41-.59l7.78-7.78 2.81-2.81c.8-.78.8-2.07 0-2.86zM5.41 20L4 18.59l7.72-7.72 1.47 1.35L5.41 20z\"/>\n",
              "  </svg>\n",
              "      </button>\n",
              "      \n",
              "  <style>\n",
              "    .colab-df-container {\n",
              "      display:flex;\n",
              "      flex-wrap:wrap;\n",
              "      gap: 12px;\n",
              "    }\n",
              "\n",
              "    .colab-df-convert {\n",
              "      background-color: #E8F0FE;\n",
              "      border: none;\n",
              "      border-radius: 50%;\n",
              "      cursor: pointer;\n",
              "      display: none;\n",
              "      fill: #1967D2;\n",
              "      height: 32px;\n",
              "      padding: 0 0 0 0;\n",
              "      width: 32px;\n",
              "    }\n",
              "\n",
              "    .colab-df-convert:hover {\n",
              "      background-color: #E2EBFA;\n",
              "      box-shadow: 0px 1px 2px rgba(60, 64, 67, 0.3), 0px 1px 3px 1px rgba(60, 64, 67, 0.15);\n",
              "      fill: #174EA6;\n",
              "    }\n",
              "\n",
              "    [theme=dark] .colab-df-convert {\n",
              "      background-color: #3B4455;\n",
              "      fill: #D2E3FC;\n",
              "    }\n",
              "\n",
              "    [theme=dark] .colab-df-convert:hover {\n",
              "      background-color: #434B5C;\n",
              "      box-shadow: 0px 1px 3px 1px rgba(0, 0, 0, 0.15);\n",
              "      filter: drop-shadow(0px 1px 2px rgba(0, 0, 0, 0.3));\n",
              "      fill: #FFFFFF;\n",
              "    }\n",
              "  </style>\n",
              "\n",
              "      <script>\n",
              "        const buttonEl =\n",
              "          document.querySelector('#df-23a61cc5-a3b0-44bf-b1fc-8ec18ce4c859 button.colab-df-convert');\n",
              "        buttonEl.style.display =\n",
              "          google.colab.kernel.accessAllowed ? 'block' : 'none';\n",
              "\n",
              "        async function convertToInteractive(key) {\n",
              "          const element = document.querySelector('#df-23a61cc5-a3b0-44bf-b1fc-8ec18ce4c859');\n",
              "          const dataTable =\n",
              "            await google.colab.kernel.invokeFunction('convertToInteractive',\n",
              "                                                     [key], {});\n",
              "          if (!dataTable) return;\n",
              "\n",
              "          const docLinkHtml = 'Like what you see? Visit the ' +\n",
              "            '<a target=\"_blank\" href=https://colab.research.google.com/notebooks/data_table.ipynb>data table notebook</a>'\n",
              "            + ' to learn more about interactive tables.';\n",
              "          element.innerHTML = '';\n",
              "          dataTable['output_type'] = 'display_data';\n",
              "          await google.colab.output.renderOutput(dataTable, element);\n",
              "          const docLink = document.createElement('div');\n",
              "          docLink.innerHTML = docLinkHtml;\n",
              "          element.appendChild(docLink);\n",
              "        }\n",
              "      </script>\n",
              "    </div>\n",
              "  </div>\n",
              "  "
            ]
          },
          "metadata": {},
          "execution_count": 6
        },
        {
          "output_type": "execute_result",
          "data": {
            "text/plain": [
              "              BOROUGH    NEIGHBORHOOD  BUILDING CLASS CATEGORY  \\\n",
              "count   258464.000000          258464                   258464   \n",
              "unique            NaN             255                       44   \n",
              "top               NaN  FLUSHING-NORTH  01 ONE FAMILY DWELLINGS   \n",
              "freq              NaN            8419                    57236   \n",
              "mean         2.982249             NaN                      NaN   \n",
              "std          1.291469             NaN                      NaN   \n",
              "min          1.000000             NaN                      NaN   \n",
              "25%          2.000000             NaN                      NaN   \n",
              "50%          3.000000             NaN                      NaN   \n",
              "75%          4.000000             NaN                      NaN   \n",
              "max          5.000000             NaN                      NaN   \n",
              "\n",
              "       TAX CLASS AT PRESENT          BLOCK            LOT  \\\n",
              "count                258143  258464.000000  258464.000000   \n",
              "unique                   10            NaN            NaN   \n",
              "top                       1            NaN            NaN   \n",
              "freq                 118084            NaN            NaN   \n",
              "mean                    NaN    4205.347228     390.798494   \n",
              "std                     NaN    3583.533963     663.856622   \n",
              "min                     NaN       1.000000       1.000000   \n",
              "25%                     NaN    1251.000000      22.000000   \n",
              "50%                     NaN    3273.500000      52.000000   \n",
              "75%                     NaN    6251.000000    1003.000000   \n",
              "max                     NaN   16350.000000    9116.000000   \n",
              "\n",
              "       BUILDING CLASS AT PRESENT          ADDRESS APARTMENT NUMBER  \\\n",
              "count                     258143           258464            62945   \n",
              "unique                       174           241541             9040   \n",
              "top                           R4  55 AUSTIN PLACE               3A   \n",
              "freq                       41698               24              975   \n",
              "mean                         NaN              NaN              NaN   \n",
              "std                          NaN              NaN              NaN   \n",
              "min                          NaN              NaN              NaN   \n",
              "25%                          NaN              NaN              NaN   \n",
              "50%                          NaN              NaN              NaN   \n",
              "75%                          NaN              NaN              NaN   \n",
              "max                          NaN              NaN              NaN   \n",
              "\n",
              "             ZIP CODE  RESIDENTIAL UNITS  COMMERCIAL UNITS  TOTAL UNITS  \\\n",
              "count   258445.000000           199349.0          162951.0     205304.0   \n",
              "unique            NaN              446.0             116.0        475.0   \n",
              "top               NaN                1.0               0.0          1.0   \n",
              "freq              NaN            69433.0          102435.0      58318.0   \n",
              "mean     10850.341763                NaN               NaN          NaN   \n",
              "std        562.709495                NaN               NaN          NaN   \n",
              "min      10001.000000                NaN               NaN          NaN   \n",
              "25%      10305.000000                NaN               NaN          NaN   \n",
              "50%      11208.000000                NaN               NaN          NaN   \n",
              "75%      11355.000000                NaN               NaN          NaN   \n",
              "max      11697.000000                NaN               NaN          NaN   \n",
              "\n",
              "        LAND SQUARE FEET  GROSS SQUARE FEET     YEAR BUILT  \\\n",
              "count       1.569960e+05       1.569960e+05  240618.000000   \n",
              "unique               NaN                NaN            NaN   \n",
              "top                  NaN                NaN            NaN   \n",
              "freq                 NaN                NaN            NaN   \n",
              "mean        6.006378e+03       5.488587e+03    1952.672522   \n",
              "std         1.139290e+05       4.887278e+04      36.162119   \n",
              "min         0.000000e+00       0.000000e+00     220.000000   \n",
              "25%         1.900000e+03       1.224000e+03    1925.000000   \n",
              "50%         2.500000e+03       1.810000e+03    1950.000000   \n",
              "75%         3.909250e+03       2.670000e+03    1977.000000   \n",
              "max         7.649136e+06       8.942176e+06    2022.000000   \n",
              "\n",
              "        TAX CLASS AT TIME OF SALE BUILDING CLASS AT TIME OF SALE  \\\n",
              "count               258464.000000                         258464   \n",
              "unique                        NaN                            173   \n",
              "top                           NaN                             R4   \n",
              "freq                          NaN                          41602   \n",
              "mean                     1.636955                            NaN   \n",
              "std                      0.783537                            NaN   \n",
              "min                      1.000000                            NaN   \n",
              "25%                      1.000000                            NaN   \n",
              "50%                      2.000000                            NaN   \n",
              "75%                      2.000000                            NaN   \n",
              "max                      4.000000                            NaN   \n",
              "\n",
              "          SALE PRICE   SALE DATE  \n",
              "count   2.584640e+05      258464  \n",
              "unique           NaN        1096  \n",
              "top              NaN  2022-06-30  \n",
              "freq             NaN         694  \n",
              "mean    1.480856e+06         NaN  \n",
              "std     1.049733e+07         NaN  \n",
              "min     0.000000e+00         NaN  \n",
              "25%     0.000000e+00         NaN  \n",
              "50%     5.500000e+05         NaN  \n",
              "75%     9.900000e+05         NaN  \n",
              "max     1.033000e+09         NaN  "
            ],
            "text/html": [
              "\n",
              "  <div id=\"df-aae99ee5-ea20-4f0a-b11d-3ad75e76a4ec\">\n",
              "    <div class=\"colab-df-container\">\n",
              "      <div>\n",
              "<style scoped>\n",
              "    .dataframe tbody tr th:only-of-type {\n",
              "        vertical-align: middle;\n",
              "    }\n",
              "\n",
              "    .dataframe tbody tr th {\n",
              "        vertical-align: top;\n",
              "    }\n",
              "\n",
              "    .dataframe thead th {\n",
              "        text-align: right;\n",
              "    }\n",
              "</style>\n",
              "<table border=\"1\" class=\"dataframe\">\n",
              "  <thead>\n",
              "    <tr style=\"text-align: right;\">\n",
              "      <th></th>\n",
              "      <th>BOROUGH</th>\n",
              "      <th>NEIGHBORHOOD</th>\n",
              "      <th>BUILDING CLASS CATEGORY</th>\n",
              "      <th>TAX CLASS AT PRESENT</th>\n",
              "      <th>BLOCK</th>\n",
              "      <th>LOT</th>\n",
              "      <th>BUILDING CLASS AT PRESENT</th>\n",
              "      <th>ADDRESS</th>\n",
              "      <th>APARTMENT NUMBER</th>\n",
              "      <th>ZIP CODE</th>\n",
              "      <th>RESIDENTIAL UNITS</th>\n",
              "      <th>COMMERCIAL UNITS</th>\n",
              "      <th>TOTAL UNITS</th>\n",
              "      <th>LAND SQUARE FEET</th>\n",
              "      <th>GROSS SQUARE FEET</th>\n",
              "      <th>YEAR BUILT</th>\n",
              "      <th>TAX CLASS AT TIME OF SALE</th>\n",
              "      <th>BUILDING CLASS AT TIME OF SALE</th>\n",
              "      <th>SALE PRICE</th>\n",
              "      <th>SALE DATE</th>\n",
              "    </tr>\n",
              "  </thead>\n",
              "  <tbody>\n",
              "    <tr>\n",
              "      <th>count</th>\n",
              "      <td>258464.000000</td>\n",
              "      <td>258464</td>\n",
              "      <td>258464</td>\n",
              "      <td>258143</td>\n",
              "      <td>258464.000000</td>\n",
              "      <td>258464.000000</td>\n",
              "      <td>258143</td>\n",
              "      <td>258464</td>\n",
              "      <td>62945</td>\n",
              "      <td>258445.000000</td>\n",
              "      <td>199349.0</td>\n",
              "      <td>162951.0</td>\n",
              "      <td>205304.0</td>\n",
              "      <td>1.569960e+05</td>\n",
              "      <td>1.569960e+05</td>\n",
              "      <td>240618.000000</td>\n",
              "      <td>258464.000000</td>\n",
              "      <td>258464</td>\n",
              "      <td>2.584640e+05</td>\n",
              "      <td>258464</td>\n",
              "    </tr>\n",
              "    <tr>\n",
              "      <th>unique</th>\n",
              "      <td>NaN</td>\n",
              "      <td>255</td>\n",
              "      <td>44</td>\n",
              "      <td>10</td>\n",
              "      <td>NaN</td>\n",
              "      <td>NaN</td>\n",
              "      <td>174</td>\n",
              "      <td>241541</td>\n",
              "      <td>9040</td>\n",
              "      <td>NaN</td>\n",
              "      <td>446.0</td>\n",
              "      <td>116.0</td>\n",
              "      <td>475.0</td>\n",
              "      <td>NaN</td>\n",
              "      <td>NaN</td>\n",
              "      <td>NaN</td>\n",
              "      <td>NaN</td>\n",
              "      <td>173</td>\n",
              "      <td>NaN</td>\n",
              "      <td>1096</td>\n",
              "    </tr>\n",
              "    <tr>\n",
              "      <th>top</th>\n",
              "      <td>NaN</td>\n",
              "      <td>FLUSHING-NORTH</td>\n",
              "      <td>01 ONE FAMILY DWELLINGS</td>\n",
              "      <td>1</td>\n",
              "      <td>NaN</td>\n",
              "      <td>NaN</td>\n",
              "      <td>R4</td>\n",
              "      <td>55 AUSTIN PLACE</td>\n",
              "      <td>3A</td>\n",
              "      <td>NaN</td>\n",
              "      <td>1.0</td>\n",
              "      <td>0.0</td>\n",
              "      <td>1.0</td>\n",
              "      <td>NaN</td>\n",
              "      <td>NaN</td>\n",
              "      <td>NaN</td>\n",
              "      <td>NaN</td>\n",
              "      <td>R4</td>\n",
              "      <td>NaN</td>\n",
              "      <td>2022-06-30</td>\n",
              "    </tr>\n",
              "    <tr>\n",
              "      <th>freq</th>\n",
              "      <td>NaN</td>\n",
              "      <td>8419</td>\n",
              "      <td>57236</td>\n",
              "      <td>118084</td>\n",
              "      <td>NaN</td>\n",
              "      <td>NaN</td>\n",
              "      <td>41698</td>\n",
              "      <td>24</td>\n",
              "      <td>975</td>\n",
              "      <td>NaN</td>\n",
              "      <td>69433.0</td>\n",
              "      <td>102435.0</td>\n",
              "      <td>58318.0</td>\n",
              "      <td>NaN</td>\n",
              "      <td>NaN</td>\n",
              "      <td>NaN</td>\n",
              "      <td>NaN</td>\n",
              "      <td>41602</td>\n",
              "      <td>NaN</td>\n",
              "      <td>694</td>\n",
              "    </tr>\n",
              "    <tr>\n",
              "      <th>mean</th>\n",
              "      <td>2.982249</td>\n",
              "      <td>NaN</td>\n",
              "      <td>NaN</td>\n",
              "      <td>NaN</td>\n",
              "      <td>4205.347228</td>\n",
              "      <td>390.798494</td>\n",
              "      <td>NaN</td>\n",
              "      <td>NaN</td>\n",
              "      <td>NaN</td>\n",
              "      <td>10850.341763</td>\n",
              "      <td>NaN</td>\n",
              "      <td>NaN</td>\n",
              "      <td>NaN</td>\n",
              "      <td>6.006378e+03</td>\n",
              "      <td>5.488587e+03</td>\n",
              "      <td>1952.672522</td>\n",
              "      <td>1.636955</td>\n",
              "      <td>NaN</td>\n",
              "      <td>1.480856e+06</td>\n",
              "      <td>NaN</td>\n",
              "    </tr>\n",
              "    <tr>\n",
              "      <th>std</th>\n",
              "      <td>1.291469</td>\n",
              "      <td>NaN</td>\n",
              "      <td>NaN</td>\n",
              "      <td>NaN</td>\n",
              "      <td>3583.533963</td>\n",
              "      <td>663.856622</td>\n",
              "      <td>NaN</td>\n",
              "      <td>NaN</td>\n",
              "      <td>NaN</td>\n",
              "      <td>562.709495</td>\n",
              "      <td>NaN</td>\n",
              "      <td>NaN</td>\n",
              "      <td>NaN</td>\n",
              "      <td>1.139290e+05</td>\n",
              "      <td>4.887278e+04</td>\n",
              "      <td>36.162119</td>\n",
              "      <td>0.783537</td>\n",
              "      <td>NaN</td>\n",
              "      <td>1.049733e+07</td>\n",
              "      <td>NaN</td>\n",
              "    </tr>\n",
              "    <tr>\n",
              "      <th>min</th>\n",
              "      <td>1.000000</td>\n",
              "      <td>NaN</td>\n",
              "      <td>NaN</td>\n",
              "      <td>NaN</td>\n",
              "      <td>1.000000</td>\n",
              "      <td>1.000000</td>\n",
              "      <td>NaN</td>\n",
              "      <td>NaN</td>\n",
              "      <td>NaN</td>\n",
              "      <td>10001.000000</td>\n",
              "      <td>NaN</td>\n",
              "      <td>NaN</td>\n",
              "      <td>NaN</td>\n",
              "      <td>0.000000e+00</td>\n",
              "      <td>0.000000e+00</td>\n",
              "      <td>220.000000</td>\n",
              "      <td>1.000000</td>\n",
              "      <td>NaN</td>\n",
              "      <td>0.000000e+00</td>\n",
              "      <td>NaN</td>\n",
              "    </tr>\n",
              "    <tr>\n",
              "      <th>25%</th>\n",
              "      <td>2.000000</td>\n",
              "      <td>NaN</td>\n",
              "      <td>NaN</td>\n",
              "      <td>NaN</td>\n",
              "      <td>1251.000000</td>\n",
              "      <td>22.000000</td>\n",
              "      <td>NaN</td>\n",
              "      <td>NaN</td>\n",
              "      <td>NaN</td>\n",
              "      <td>10305.000000</td>\n",
              "      <td>NaN</td>\n",
              "      <td>NaN</td>\n",
              "      <td>NaN</td>\n",
              "      <td>1.900000e+03</td>\n",
              "      <td>1.224000e+03</td>\n",
              "      <td>1925.000000</td>\n",
              "      <td>1.000000</td>\n",
              "      <td>NaN</td>\n",
              "      <td>0.000000e+00</td>\n",
              "      <td>NaN</td>\n",
              "    </tr>\n",
              "    <tr>\n",
              "      <th>50%</th>\n",
              "      <td>3.000000</td>\n",
              "      <td>NaN</td>\n",
              "      <td>NaN</td>\n",
              "      <td>NaN</td>\n",
              "      <td>3273.500000</td>\n",
              "      <td>52.000000</td>\n",
              "      <td>NaN</td>\n",
              "      <td>NaN</td>\n",
              "      <td>NaN</td>\n",
              "      <td>11208.000000</td>\n",
              "      <td>NaN</td>\n",
              "      <td>NaN</td>\n",
              "      <td>NaN</td>\n",
              "      <td>2.500000e+03</td>\n",
              "      <td>1.810000e+03</td>\n",
              "      <td>1950.000000</td>\n",
              "      <td>2.000000</td>\n",
              "      <td>NaN</td>\n",
              "      <td>5.500000e+05</td>\n",
              "      <td>NaN</td>\n",
              "    </tr>\n",
              "    <tr>\n",
              "      <th>75%</th>\n",
              "      <td>4.000000</td>\n",
              "      <td>NaN</td>\n",
              "      <td>NaN</td>\n",
              "      <td>NaN</td>\n",
              "      <td>6251.000000</td>\n",
              "      <td>1003.000000</td>\n",
              "      <td>NaN</td>\n",
              "      <td>NaN</td>\n",
              "      <td>NaN</td>\n",
              "      <td>11355.000000</td>\n",
              "      <td>NaN</td>\n",
              "      <td>NaN</td>\n",
              "      <td>NaN</td>\n",
              "      <td>3.909250e+03</td>\n",
              "      <td>2.670000e+03</td>\n",
              "      <td>1977.000000</td>\n",
              "      <td>2.000000</td>\n",
              "      <td>NaN</td>\n",
              "      <td>9.900000e+05</td>\n",
              "      <td>NaN</td>\n",
              "    </tr>\n",
              "    <tr>\n",
              "      <th>max</th>\n",
              "      <td>5.000000</td>\n",
              "      <td>NaN</td>\n",
              "      <td>NaN</td>\n",
              "      <td>NaN</td>\n",
              "      <td>16350.000000</td>\n",
              "      <td>9116.000000</td>\n",
              "      <td>NaN</td>\n",
              "      <td>NaN</td>\n",
              "      <td>NaN</td>\n",
              "      <td>11697.000000</td>\n",
              "      <td>NaN</td>\n",
              "      <td>NaN</td>\n",
              "      <td>NaN</td>\n",
              "      <td>7.649136e+06</td>\n",
              "      <td>8.942176e+06</td>\n",
              "      <td>2022.000000</td>\n",
              "      <td>4.000000</td>\n",
              "      <td>NaN</td>\n",
              "      <td>1.033000e+09</td>\n",
              "      <td>NaN</td>\n",
              "    </tr>\n",
              "  </tbody>\n",
              "</table>\n",
              "</div>\n",
              "      <button class=\"colab-df-convert\" onclick=\"convertToInteractive('df-aae99ee5-ea20-4f0a-b11d-3ad75e76a4ec')\"\n",
              "              title=\"Convert this dataframe to an interactive table.\"\n",
              "              style=\"display:none;\">\n",
              "        \n",
              "  <svg xmlns=\"http://www.w3.org/2000/svg\" height=\"24px\"viewBox=\"0 0 24 24\"\n",
              "       width=\"24px\">\n",
              "    <path d=\"M0 0h24v24H0V0z\" fill=\"none\"/>\n",
              "    <path d=\"M18.56 5.44l.94 2.06.94-2.06 2.06-.94-2.06-.94-.94-2.06-.94 2.06-2.06.94zm-11 1L8.5 8.5l.94-2.06 2.06-.94-2.06-.94L8.5 2.5l-.94 2.06-2.06.94zm10 10l.94 2.06.94-2.06 2.06-.94-2.06-.94-.94-2.06-.94 2.06-2.06.94z\"/><path d=\"M17.41 7.96l-1.37-1.37c-.4-.4-.92-.59-1.43-.59-.52 0-1.04.2-1.43.59L10.3 9.45l-7.72 7.72c-.78.78-.78 2.05 0 2.83L4 21.41c.39.39.9.59 1.41.59.51 0 1.02-.2 1.41-.59l7.78-7.78 2.81-2.81c.8-.78.8-2.07 0-2.86zM5.41 20L4 18.59l7.72-7.72 1.47 1.35L5.41 20z\"/>\n",
              "  </svg>\n",
              "      </button>\n",
              "      \n",
              "  <style>\n",
              "    .colab-df-container {\n",
              "      display:flex;\n",
              "      flex-wrap:wrap;\n",
              "      gap: 12px;\n",
              "    }\n",
              "\n",
              "    .colab-df-convert {\n",
              "      background-color: #E8F0FE;\n",
              "      border: none;\n",
              "      border-radius: 50%;\n",
              "      cursor: pointer;\n",
              "      display: none;\n",
              "      fill: #1967D2;\n",
              "      height: 32px;\n",
              "      padding: 0 0 0 0;\n",
              "      width: 32px;\n",
              "    }\n",
              "\n",
              "    .colab-df-convert:hover {\n",
              "      background-color: #E2EBFA;\n",
              "      box-shadow: 0px 1px 2px rgba(60, 64, 67, 0.3), 0px 1px 3px 1px rgba(60, 64, 67, 0.15);\n",
              "      fill: #174EA6;\n",
              "    }\n",
              "\n",
              "    [theme=dark] .colab-df-convert {\n",
              "      background-color: #3B4455;\n",
              "      fill: #D2E3FC;\n",
              "    }\n",
              "\n",
              "    [theme=dark] .colab-df-convert:hover {\n",
              "      background-color: #434B5C;\n",
              "      box-shadow: 0px 1px 3px 1px rgba(0, 0, 0, 0.15);\n",
              "      filter: drop-shadow(0px 1px 2px rgba(0, 0, 0, 0.3));\n",
              "      fill: #FFFFFF;\n",
              "    }\n",
              "  </style>\n",
              "\n",
              "      <script>\n",
              "        const buttonEl =\n",
              "          document.querySelector('#df-aae99ee5-ea20-4f0a-b11d-3ad75e76a4ec button.colab-df-convert');\n",
              "        buttonEl.style.display =\n",
              "          google.colab.kernel.accessAllowed ? 'block' : 'none';\n",
              "\n",
              "        async function convertToInteractive(key) {\n",
              "          const element = document.querySelector('#df-aae99ee5-ea20-4f0a-b11d-3ad75e76a4ec');\n",
              "          const dataTable =\n",
              "            await google.colab.kernel.invokeFunction('convertToInteractive',\n",
              "                                                     [key], {});\n",
              "          if (!dataTable) return;\n",
              "\n",
              "          const docLinkHtml = 'Like what you see? Visit the ' +\n",
              "            '<a target=\"_blank\" href=https://colab.research.google.com/notebooks/data_table.ipynb>data table notebook</a>'\n",
              "            + ' to learn more about interactive tables.';\n",
              "          element.innerHTML = '';\n",
              "          dataTable['output_type'] = 'display_data';\n",
              "          await google.colab.output.renderOutput(dataTable, element);\n",
              "          const docLink = document.createElement('div');\n",
              "          docLink.innerHTML = docLinkHtml;\n",
              "          element.appendChild(docLink);\n",
              "        }\n",
              "      </script>\n",
              "    </div>\n",
              "  </div>\n",
              "  "
            ]
          },
          "metadata": {},
          "execution_count": 6
        }
      ]
    },
    {
      "cell_type": "code",
      "source": [
        "null_values =data.isnull().sum()\n",
        "print (null_values)"
      ],
      "metadata": {
        "colab": {
          "base_uri": "https://localhost:8080/"
        },
        "id": "3dZ6kIf5IvI_",
        "outputId": "c8fc6ac3-5533-404b-83ab-8cf6c71dcd16"
      },
      "execution_count": 7,
      "outputs": [
        {
          "output_type": "stream",
          "name": "stdout",
          "text": [
            "BOROUGH                                0\n",
            "NEIGHBORHOOD                           0\n",
            "BUILDING CLASS CATEGORY                0\n",
            "TAX CLASS AT PRESENT                 321\n",
            "BLOCK                                  0\n",
            "LOT                                    0\n",
            "BUILDING CLASS AT PRESENT            321\n",
            "ADDRESS                                0\n",
            "APARTMENT NUMBER                  195519\n",
            "ZIP CODE                              19\n",
            "RESIDENTIAL UNITS                  59115\n",
            "COMMERCIAL UNITS                   95513\n",
            "TOTAL UNITS                        53160\n",
            "LAND SQUARE FEET                  101468\n",
            "GROSS SQUARE FEET                 101468\n",
            "YEAR BUILT                         17846\n",
            "TAX CLASS AT TIME OF SALE              0\n",
            "BUILDING CLASS AT TIME OF SALE         0\n",
            "SALE PRICE                             0\n",
            "SALE DATE                              0\n",
            "dtype: int64\n"
          ]
        }
      ]
    },
    {
      "cell_type": "code",
      "source": [
        "missing = data.isna().sum().sort_values(ascending = False)\n",
        "missing"
      ],
      "metadata": {
        "colab": {
          "base_uri": "https://localhost:8080/"
        },
        "id": "pOGPmX0Xd1Cd",
        "outputId": "da506724-d431-4a78-9c7e-e973ac2074e2"
      },
      "execution_count": 8,
      "outputs": [
        {
          "output_type": "execute_result",
          "data": {
            "text/plain": [
              "APARTMENT NUMBER                  195519\n",
              "LAND SQUARE FEET                  101468\n",
              "GROSS SQUARE FEET                 101468\n",
              "COMMERCIAL UNITS                   95513\n",
              "RESIDENTIAL UNITS                  59115\n",
              "TOTAL UNITS                        53160\n",
              "YEAR BUILT                         17846\n",
              "TAX CLASS AT PRESENT                 321\n",
              "BUILDING CLASS AT PRESENT            321\n",
              "ZIP CODE                              19\n",
              "SALE PRICE                             0\n",
              "BUILDING CLASS AT TIME OF SALE         0\n",
              "TAX CLASS AT TIME OF SALE              0\n",
              "BOROUGH                                0\n",
              "NEIGHBORHOOD                           0\n",
              "ADDRESS                                0\n",
              "LOT                                    0\n",
              "BLOCK                                  0\n",
              "BUILDING CLASS CATEGORY                0\n",
              "SALE DATE                              0\n",
              "dtype: int64"
            ]
          },
          "metadata": {},
          "execution_count": 8
        }
      ]
    },
    {
      "cell_type": "markdown",
      "source": [
        "**Visualize missing values**"
      ],
      "metadata": {
        "id": "zbj5XnHbemuU"
      }
    },
    {
      "cell_type": "code",
      "source": [
        "msno.bar(data[missing.index],figsize=(10,4),color='darkgreen', fontsize=10)"
      ],
      "metadata": {
        "colab": {
          "base_uri": "https://localhost:8080/",
          "height": 608
        },
        "id": "5mAbkhhqeAYc",
        "outputId": "480116e8-41a2-4e6d-97c7-e2a92cd65911"
      },
      "execution_count": 9,
      "outputs": [
        {
          "output_type": "execute_result",
          "data": {
            "text/plain": [
              "<Axes: >"
            ]
          },
          "metadata": {},
          "execution_count": 9
        },
        {
          "output_type": "display_data",
          "data": {
            "text/plain": [
              "<Figure size 1000x400 with 3 Axes>"
            ],
            "image/png": "[encoded data removed]"
          },
          "metadata": {}
        }
      ]
    },
    {
      "cell_type": "code",
      "source": [
        "sns.heatmap(data.isna(),yticklabels = False, cbar = False, cmap = 'Greys_r')"
      ],
      "metadata": {
        "colab": {
          "base_uri": "https://localhost:8080/",
          "height": 672
        },
        "id": "xpRIxDU6GRz8",
        "outputId": "dc919145-adcd-47be-cb70-53aa4c0485b7"
      },
      "execution_count": 10,
      "outputs": [
        {
          "output_type": "execute_result",
          "data": {
            "text/plain": [
              "<Axes: >"
            ]
          },
          "metadata": {},
          "execution_count": 10
        },
        {
          "output_type": "display_data",
          "data": {
            "text/plain": [
              "<Figure size 640x480 with 1 Axes>"
            ],
            "image/png": "[encoded data removed]"
          },
          "metadata": {}
        }
      ]
    },
    {
      "cell_type": "code",
      "source": [
        "import missingno as msno\n",
        "msno.heatmap(data, figsize = (9,6), fontsize=10)"
      ],
      "metadata": {
        "colab": {
          "base_uri": "https://localhost:8080/",
          "height": 687
        },
        "id": "wmDxFX97GR2M",
        "outputId": "da0facda-4401-4057-8c28-c1b53b8ffbd8"
      },
      "execution_count": 11,
      "outputs": [
        {
          "output_type": "execute_result",
          "data": {
            "text/plain": [
              "<Axes: >"
            ]
          },
          "metadata": {},
          "execution_count": 11
        },
        {
          "output_type": "display_data",
          "data": {
            "text/plain": [
              "<Figure size 900x600 with 2 Axes>"
            ],
            "image/png": "[encoded data removed]"
          },
          "metadata": {}
        }
      ]
    },
    {
      "cell_type": "markdown",
      "source": [
        "> **OBSERVATION:**\n",
        "The missing values in `land_square_feet` and `gross_square_feet` strongly correlated by `residential_units`, `commercial_units`, and `total_units`. So, the missing pattern is **MAR**."
      ],
      "metadata": {
        "id": "9NA4xdGce3sk"
      }
    },
    {
      "cell_type": "code",
      "source": [
        "msno.dendrogram(data, figsize = (6,4), fontsize=10,)"
      ],
      "metadata": {
        "colab": {
          "base_uri": "https://localhost:8080/",
          "height": 551
        },
        "id": "-WCa88VtGR4U",
        "outputId": "4805dd62-8976-42b0-f4de-841a6f4bc172"
      },
      "execution_count": 12,
      "outputs": [
        {
          "output_type": "execute_result",
          "data": {
            "text/plain": [
              "<Axes: >"
            ]
          },
          "metadata": {},
          "execution_count": 12
        },
        {
          "output_type": "display_data",
          "data": {
            "text/plain": [
              "<Figure size 600x400 with 1 Axes>"
            ],
            "image/png": "[encoded data removed]"
          },
          "metadata": {}
        }
      ]
    },
    {
      "cell_type": "markdown",
      "metadata": {
        "id": "hYxWV1suV3Wi"
      },
      "source": [
        "> **OBSERVATION:** \n",
        "- Variables that are clustered together at a low height are **strongly correlated** in terms of their missing values: `gross_square_feet` and `commercial_units`. So, missing values are related to the observed values of `commercial_units` -> Pattern: **(MAR)**.\n",
        "- Variables that are clustered together at a higher height are **less strongly correlated**: `apartment_number`. So, missing values are randomly distributed -> Pattern: **(MCAT)**."
      ]
    },
    {
      "cell_type": "code",
      "execution_count": 13,
      "metadata": {
        "colab": {
          "base_uri": "https://localhost:8080/"
        },
        "id": "fUMrxdhgC3kn",
        "outputId": "73ff02ea-7932-4170-f0d8-7b1ff820c0e6"
      },
      "outputs": [
        {
          "output_type": "stream",
          "name": "stdout",
          "text": [
            "Top-3 most missed features:\n",
            "APARTMENT NUMBER     195519\n",
            "LAND SQUARE FEET     101468\n",
            "GROSS SQUARE FEET    101468\n",
            "dtype: int64\n"
          ]
        }
      ],
      "source": [
        "# Print the top-3 most missed features\n",
        "top_3 = missing.nlargest(3)\n",
        "print(\"Top-3 most missed features:\")\n",
        "print(top_3)"
      ]
    },
    {
      "cell_type": "markdown",
      "metadata": {
        "id": "YObG5sCHf_u1"
      },
      "source": [
        "# Summarize your answers to Q1 below, based on your analysis:\n",
        "(1) What are the feature types and their basic statistic?\n",
        "> **Answer of feature types:** \n",
        "\n",
        "- **Categorical features:**\n",
        "`borough`, `neighborhood`, `building_class_category`, `tax_class_at_present`, `building_class_at_present`, `address`, `apartment_number`, `zip_code`, `year_built`, `tax_class_at_time_of_sale`, `building_class_at_time_of_sale`\n",
        "\n",
        "- `block` and `lot`: there are more than 11k unique blocks in the dataset, it doesn't make sense to define it as a categorical variable. **I will leave it as numerical**.\n",
        "\n",
        "- **Numeric features:**\n",
        "`block`,`lot`,`residential_units`,\n",
        "`commercial_units`,`total_units`,`land_square_feet`,\n",
        "`gross_square_feet`,`sale_price`\n",
        "\n",
        "(2) How many features have missing values?\n",
        "> **Answer:**\n",
        "- There are **10 features** in the DataFrame that have missing values. The number of missing values for each feature is as follows in the code results.\n",
        "\n",
        "### APARTMENT NUMBER  \n",
        "The feature has 195,519 missing values, which is about **75.6%** of the total number of entries.\n",
        "- **Pattern:**The missing data pattern appears to be **MCAR**.\n",
        "- **Reason**: No apparent relationship between the missing values in this feature and the values of other features in the dataset.\n",
        "- **So:** I will drop this variable from the dataset.\n",
        "\n",
        "### LAND SQUARE FEET\n",
        "The feature has 101,468 missing values, which is about **39.3%** of the total number of entries.\n",
        "- **Pattern:**The missing data pattern appears to be **MAR**.\n",
        "- **Reason**: This variable is stronglly correlated with GROSS SQUARE FEET. Also, the variable has missing values when the (residential_units, commercial_units, and total_units) column is equal to 1 or NaN, there is some relationship between the number of units in a property and the availability or completeness of data on the property's square footage.\n",
        "- **So:** I will use imputer to handle this feature.\n",
        "\n",
        "### GROSS SQUARE FEET\n",
        "\n",
        "The feature has 101,468 missing values, which is about **39.3%** of the total number of entries.\n",
        "- \n",
        "- **Pattern:**The missing data pattern appears to be **MAR**.\n",
        "- **Reason**: This variable is stronglly correlated with LAND SQUARE FEET. Also, the variable has missing values when the (residential_units, commercial_units, and total_units) column is equal to 1 or NaN, there is some relationship between the number of units in a property and the availability or completeness of data on the property's square footage.\n",
        "- **So:** I will use imputer to handle this feature.\n"
      ]
    },
    {
      "cell_type": "markdown",
      "metadata": {
        "id": "MYiN27VRf_u1"
      },
      "source": [
        "**Question 2:**\n",
        "---\n",
        " Check the normality of the target variable, i.e., 'SALE PRICE', using both graphical and statistical test methods."
      ]
    },
    {
      "cell_type": "markdown",
      "source": [
        "#check normality by Statistical method"
      ],
      "metadata": {
        "id": "tMgGsvx0koM2"
      }
    },
    {
      "cell_type": "code",
      "execution_count": 14,
      "metadata": {
        "colab": {
          "base_uri": "https://localhost:8080/"
        },
        "id": "eXSfrRKXf_u1",
        "outputId": "418e7df6-dc3c-43cc-97a7-6a5c859c2201"
      },
      "outputs": [
        {
          "output_type": "stream",
          "name": "stdout",
          "text": [
            "Shapiro-Wilk test results for SALE PRICE :\n",
            "Test statistic: 0.07331550121307373\n",
            "P-value: 0.0\n",
            "The data is significantly non-normal.\n"
          ]
        },
        {
          "output_type": "stream",
          "name": "stderr",
          "text": [
            "/usr/local/lib/python3.10/dist-packages/scipy/stats/_morestats.py:1816: UserWarning: p-value may not be accurate for N > 5000.\n",
            "  warnings.warn(\"p-value may not be accurate for N > 5000.\")\n"
          ]
        }
      ],
      "source": [
        "# put your code for Q2 here, you can have multiple code blocks.\n",
        "\n",
        "# Choose the column to test for normality\n",
        "column_to_test = 'SALE PRICE'\n",
        "\n",
        "# Perform the Shapiro-Wilk test\n",
        "statistic, p_value = stats.shapiro(data[column_to_test])\n",
        "\n",
        "# Print the test results\n",
        "print('Shapiro-Wilk test results for', column_to_test, ':')\n",
        "print('Test statistic:', statistic)\n",
        "print('P-value:', p_value)\n",
        "\n",
        "# Check if the data is significantly non-normal\n",
        "if p_value < 0.05:\n",
        "    print('The data is significantly non-normal.')\n",
        "else:\n",
        "    print('The data is likely normal.')"
      ]
    },
    {
      "cell_type": "markdown",
      "source": [
        "> **OBSERVATION**:\n",
        "\n",
        "- **Test statistic**: The test statistic for this test is 0.073, which is small value. This suggests that the data is not normally distributed.\n",
        "- **P-value**: The p-value for this test is 0.000. Therefore, we can reject the null hypothesis of normality and conclude that the data is not normally distributed."
      ],
      "metadata": {
        "id": "-fudhockiiIq"
      }
    },
    {
      "cell_type": "markdown",
      "metadata": {
        "id": "tiw4AniOV3Wy"
      },
      "source": [
        "#### D'Agostino's K^2 Test\n",
        "\n",
        "A low test statistic indicates that the data is not normally distributed. A high test statistic indicates that the data is normally distributed."
      ]
    },
    {
      "cell_type": "code",
      "source": [
        "# Choose the column to test for normality\n",
        "column_to_test = 'SALE PRICE'\n",
        "\n",
        "# Perform the D’Agostino-Pearson’s K² test\n",
        "statistic, p_value = stats.normaltest(data[column_to_test])\n",
        "\n",
        "# Print the test results\n",
        "print('D’Agostino-Pearson’s K² test results for', column_to_test, ':')\n",
        "print('Test statistic:', statistic)\n",
        "print('P-value:', p_value)\n",
        "\n",
        "# Check if the data is significantly non-normal\n",
        "if p_value < 0.05:\n",
        "    print('The data is significantly non-normal.')\n",
        "else:\n",
        "    print('The data is likely normal.')"
      ],
      "metadata": {
        "colab": {
          "base_uri": "https://localhost:8080/"
        },
        "id": "kvwxoX0lj_ho",
        "outputId": "73d55626-dfbf-45ea-94b8-4db73f4ffde6"
      },
      "execution_count": 15,
      "outputs": [
        {
          "output_type": "stream",
          "name": "stdout",
          "text": [
            "D’Agostino-Pearson’s K² test results for SALE PRICE :\n",
            "Test statistic: 789995.8305216557\n",
            "P-value: 0.0\n",
            "The data is significantly non-normal.\n"
          ]
        }
      ]
    },
    {
      "cell_type": "markdown",
      "metadata": {
        "id": "PGWbHXU2V3Wz"
      },
      "source": [
        "> **OBSERVATION**:\n",
        "\n",
        "- Since the p-value is less than the significance level of 0.05, we reject the null hypothesis and conclude that the sample is likely not drawn from a normal distribution. "
      ]
    },
    {
      "cell_type": "markdown",
      "source": [
        "#check normality by graghical method"
      ],
      "metadata": {
        "id": "uSRZrKI9l7kX"
      }
    },
    {
      "cell_type": "code",
      "execution_count": 16,
      "metadata": {
        "id": "JDeGVcuMV3Wv"
      },
      "outputs": [],
      "source": [
        "def graph_normality(data, feature):\n",
        "    fig, axes = plt.subplots(1, 2, figsize=(10, 3))\n",
        "\n",
        "    # plot a histogram of the feature variable\n",
        "    sns.distplot(data[feature], kde=True, hist_kws=dict(edgecolor=\"k\"), ax=axes[0])\n",
        "\n",
        "    # Calculate skewness and kurtosis then add them to the plot\n",
        "    skewness = stats.skew(data[feature])\n",
        "    kurt = stats.kurtosis(data[feature])\n",
        "    axes[0].text(0.65, 0.85, f\"Skewness: {skewness:.2f}\", transform=axes[0].transAxes, fontsize=9)\n",
        "    axes[0].text(0.65, 0.75, f\"Kurtosis: {kurt:.2f}\", transform=axes[0].transAxes, fontsize=9)\n",
        "    \n",
        "    # Create a QQ plot\n",
        "    sm.qqplot(data[feature], line='45', ax=axes[1], fit = True)\n",
        "\n",
        "    # add a title to the plot\n",
        "    fig.suptitle(f\"Distribution and QQ plot of '{feature}'\", fontsize=12)\n",
        "    plt.show()"
      ]
    },
    {
      "cell_type": "code",
      "source": [
        "graph_normality(data,'SALE PRICE')"
      ],
      "metadata": {
        "colab": {
          "base_uri": "https://localhost:8080/",
          "height": 542
        },
        "id": "qVhVMxMijlVi",
        "outputId": "6d9f518b-23ee-43d6-c910-63a4ed5719f1"
      },
      "execution_count": 17,
      "outputs": [
        {
          "output_type": "stream",
          "name": "stderr",
          "text": [
            "<ipython-input-16-9a67d8532413>:5: UserWarning: \n",
            "\n",
            "`distplot` is a deprecated function and will be removed in seaborn v0.14.0.\n",
            "\n",
            "Please adapt your code to use either `displot` (a figure-level function with\n",
            "similar flexibility) or `histplot` (an axes-level function for histograms).\n",
            "\n",
            "For a guide to updating your code to use the new functions, please see\n",
            "https://gist.github.com/mwaskom/de44147ed2974457ad6372750bbe5751\n",
            "\n",
            "  sns.distplot(data[feature], kde=True, hist_kws=dict(edgecolor=\"k\"), ax=axes[0])\n"
          ]
        },
        {
          "output_type": "display_data",
          "data": {
            "text/plain": [
              "<Figure size 1000x300 with 2 Axes>"
            ],
            "image/png": "[encoded data removed]"
          },
          "metadata": {}
        }
      ]
    },
    {
      "cell_type": "markdown",
      "metadata": {
        "id": "_JgEGAgyf_u1"
      },
      "source": [
        "## Summarize your answers to Q2 below, based on your analysis:\n",
        "\n",
        "- The 'SALES PRICE' variable is not normally distributed according to the histogram and Q-Q plot. \n",
        "\n",
        "- The histogram shows a **right-skewed** distribution, with most data points at the lower end and a long tail on the higher end. Because there are almost 30% of the dataset with 0 SALE PRICE.\n",
        "\n",
        "- The Q-Q plot shows that the points deviate significantly from the reference line, indicating a heavy-tailed or skewed distribution.\n",
        "\n",
        "- The results of the statistical tests confirm that the data is not normally distributed cause the 2 tests have p-values less than 0.05.\n",
        "\n",
        "> **This means we can reject the null hypothesis that the sample comes from a normal distribution.**"
      ]
    },
    {
      "cell_type": "markdown",
      "metadata": {
        "id": "FvzQKL9ff_u2"
      },
      "source": [
        "**Question 3:** \n",
        "--- \n",
        "Design hypothesis test to answer the following two questions:\n",
        "\n",
        "\"Has the NYC real estate market changed following the declaration of the COVID-19 pandemic in March of 2020?\"\n",
        "\n",
        "\"Do properties in Manhattan sell at higher prices than properties elsewhere?\"\n",
        "\n",
        "For each question, you need to give the null hypothesis $H_0$ and alternative hypothesis $H_1$\n"
      ]
    },
    {
      "cell_type": "markdown",
      "source": [
        "### \"Has the NYC real estate market changed following the declaration of the COVID-19 pandemic in March of 2020?\"\n",
        "\n",
        "Null hypothesis: The NYC real estate market has not changed following the declaration of the COVID-19 pandemic in March of 2020.\n",
        "\n",
        "Alternative hypothesis: The NYC real estate market has changed following the declaration of the COVID-19 pandemic in March of 2020.\n",
        "\n"
      ],
      "metadata": {
        "id": "-sHJf17g1zF2"
      }
    },
    {
      "cell_type": "code",
      "execution_count": 18,
      "metadata": {
        "colab": {
          "base_uri": "https://localhost:8080/"
        },
        "id": "LYqTJJVef_u2",
        "outputId": "03b2cb69-f6cd-4985-c162-5ccf49290be1"
      },
      "outputs": [
        {
          "output_type": "stream",
          "name": "stdout",
          "text": [
            "T-test results for SALE PRICE :\n",
            "Test statistic: 2.1704158149818586\n",
            "P-value: 0.029990520626185176\n",
            "The data is significantly different.\n"
          ]
        }
      ],
      "source": [
        "# put your code for Q3 here, you can have multiple code blocks.\n",
        "\n",
        "# Choose the column to test\n",
        "column_to_test = 'SALE PRICE'\n",
        "\n",
        "# Split the data into two groups: before and after March 2020\n",
        "before = data[data['SALE DATE'] < '2020-03-01'][column_to_test]\n",
        "after = data[data['SALE DATE'] >= '2020-03-01'][column_to_test]\n",
        "\n",
        "# Perform a t-test to compare the means of the two groups\n",
        "statistic, p_value = stats.ttest_ind(before, after, equal_var=False)\n",
        "\n",
        "print('T-test results for', column_to_test, ':')\n",
        "print('Test statistic:', statistic)\n",
        "print('P-value:', p_value)\n",
        "\n",
        "if p_value < 0.05:\n",
        "    print('The data is significantly different.')\n",
        "else:\n",
        "    print('The data is not significantly different.')"
      ]
    },
    {
      "cell_type": "code",
      "source": [
        "pip install cliffs-delta"
      ],
      "metadata": {
        "colab": {
          "base_uri": "https://localhost:8080/"
        },
        "id": "yaKITuLi6662",
        "outputId": "5fc8787b-6328-465d-9f5f-4144946da8f8"
      },
      "execution_count": 19,
      "outputs": [
        {
          "output_type": "stream",
          "name": "stdout",
          "text": [
            "Looking in indexes: https://pypi.org/simple, https://us-python.pkg.dev/colab-wheels/public/simple/\n",
            "Collecting cliffs-delta\n",
            "  Downloading cliffs_delta-1.0.0-py3-none-any.whl (10 kB)\n",
            "Installing collected packages: cliffs-delta\n",
            "Successfully installed cliffs-delta-1.0.0\n"
          ]
        }
      ]
    },
    {
      "cell_type": "code",
      "source": [
        "from cliffs_delta import cliffs_delta\n",
        "cliffs_delta(before, after)"
      ],
      "metadata": {
        "colab": {
          "base_uri": "https://localhost:8080/"
        },
        "id": "i3Djpwpv4I7N",
        "outputId": "8b73e8a4-3035-4ed6-e4ef-4fa78865b1e9"
      },
      "execution_count": 20,
      "outputs": [
        {
          "output_type": "execute_result",
          "data": {
            "text/plain": [
              "(-0.0748436576240131, 'negligible')"
            ]
          },
          "metadata": {},
          "execution_count": 20
        }
      ]
    },
    {
      "cell_type": "markdown",
      "source": [
        "> The effect size and a description of the effect size. In this case, the effect size is -0.0748436576240131, which is negative and indicates a small difference between the two groups. The description of the effect size is 'negligible', which means that the difference is so small that it is unlikely to be practically significant."
      ],
      "metadata": {
        "id": "GZ-52Y0l-KlW"
      }
    },
    {
      "cell_type": "markdown",
      "source": [
        "### \"Do properties in Manhattan sell at higher prices than properties elsewhere?\"\n",
        "\n",
        "- Null hypothesis: There is no significant difference in the sale prices of properties in Manhattan and properties elsewhere.\n",
        "\n",
        "- Alternative hypothesis: Properties in Manhattan sell at higher prices than properties elsewhere."
      ],
      "metadata": {
        "id": "xBCEoHqUJWpW"
      }
    },
    {
      "cell_type": "code",
      "source": [
        "column_to_test = 'SALE PRICE'\n",
        "group_column = 'BOROUGH'\n",
        "\n",
        "# Split the data into two groups: Manhattan and elsewhere\n",
        "manhattan = data[data[group_column] == 1][column_to_test]\n",
        "elsewhere = data[data[group_column] != 1][column_to_test]\n",
        "\n",
        "# Perform a t-test to compare the means of the two groups\n",
        "statistic, p_value = stats.ttest_ind(manhattan, elsewhere, equal_var=False)\n",
        "\n",
        "# Print the test results\n",
        "print('T-test results for', column_to_test, ':')\n",
        "print('Test statistic:', statistic)\n",
        "print('P-value:', p_value)\n",
        "\n",
        "# Check if the data is significantly different\n",
        "if p_value < 0.05:\n",
        "    print('The data is significantly different.')\n",
        "else:\n",
        "    print('The data is not significantly different.')"
      ],
      "metadata": {
        "colab": {
          "base_uri": "https://localhost:8080/"
        },
        "id": "jKdFZOhg_kt0",
        "outputId": "8f02a107-bbeb-45b4-f9ed-e271fab15363"
      },
      "execution_count": 21,
      "outputs": [
        {
          "output_type": "stream",
          "name": "stdout",
          "text": [
            "T-test results for SALE PRICE :\n",
            "Test statistic: 26.435187530054776\n",
            "P-value: 4.158696033278438e-153\n",
            "The data is significantly different.\n"
          ]
        }
      ]
    },
    {
      "cell_type": "code",
      "source": [
        "from cliffs_delta import cliffs_delta\n",
        "cliffs_delta(manhattan, elsewhere)"
      ],
      "metadata": {
        "colab": {
          "base_uri": "https://localhost:8080/"
        },
        "id": "jDp0WiXH_k3M",
        "outputId": "4ec09dac-ef7b-468f-e689-d6b9043922af"
      },
      "execution_count": 22,
      "outputs": [
        {
          "output_type": "execute_result",
          "data": {
            "text/plain": [
              "(0.35336187285935605, 'medium')"
            ]
          },
          "metadata": {},
          "execution_count": 22
        }
      ]
    },
    {
      "cell_type": "markdown",
      "source": [
        "> The effect size and a description of the effect size. In this case, the effect size is 0.35336187285935605, which is positive and indicates a medium difference between the two groups. The description of the effect size is 'medium', which means that the difference is large enough to be practically significant.\n"
      ],
      "metadata": {
        "id": "f_4bLcqSB5Gu"
      }
    },
    {
      "cell_type": "markdown",
      "metadata": {
        "id": "5BGCtoAff_u2"
      },
      "source": [
        "### Summarize your answers to Q3 below, based on your analysis:\n",
        "\n",
        "- Based on the results of the t-test, it can be concluded that the NYC real estate market has changed following the declaration of the COVID-19 pandemic in March of 2020. The effect size is**-0.0**, which is positive and indicates a **ignorable** difference between the two groups. The prices of properties have decreased, but the magnitude of the decrease is small. \n",
        "\n",
        "- The properties in Manhattan sell at higher prices than properties elsewhere, with an effect size of **0.353**, which is also positive and indicates a **medium** difference between the two groups."
      ]
    },
    {
      "cell_type": "markdown",
      "metadata": {
        "id": "pnF_flaMf_u2"
      },
      "source": [
        "Question 4: Perform a multiple linear regression analysis on the given data, considering impact of missing values. Note, you need to properly transfer categorical features to numerical features first.\n",
        "Report the features that are significant relevant to sale price based on the results of your regression model."
      ]
    },
    {
      "cell_type": "markdown",
      "source": [
        "### **Create Regression model to predict the `sale_price` and diaply the model performance**\n"
      ],
      "metadata": {
        "id": "bmgM2PITllro"
      }
    },
    {
      "cell_type": "code",
      "execution_count": null,
      "metadata": {
        "id": "KHoHBCp-f_u3"
      },
      "outputs": [],
      "source": [
        "# put your code for Q4 here, you can have multiple code blocks."
      ]
    },
    {
      "cell_type": "markdown",
      "source": [
        "### Handle the missing values with impute them or drop them \n"
      ],
      "metadata": {
        "id": "qb19xBZhhJcY"
      }
    },
    {
      "cell_type": "code",
      "source": [
        "data = data.drop(['APARTMENT NUMBER'], axis=1)\n",
        "data = data.drop(['NEIGHBORHOOD'], axis=1)\n",
        "data =data.drop(['ADDRESS'], axis=1)\n",
        "data = data.drop(['BUILDING CLASS AT PRESENT'], axis=1)"
      ],
      "metadata": {
        "id": "mYFVhbwljvSA"
      },
      "execution_count": 23,
      "outputs": []
    },
    {
      "cell_type": "code",
      "source": [
        "#we fill null values in both GROSS SQUARE FEET and LAND SQUARE FEET because it can be an elevator so they don't meature the area for it \n",
        "data['LAND SQUARE FEET'] = data['LAND SQUARE FEET'].fillna(0)\n",
        "data['GROSS SQUARE FEET'] = data['GROSS SQUARE FEET'].fillna(0)"
      ],
      "metadata": {
        "id": "RnMK8oY0r_1c"
      },
      "execution_count": 24,
      "outputs": []
    },
    {
      "cell_type": "code",
      "source": [
        "def string_fixer(number):\n",
        "  if isinstance(number, str) :return(number.replace(',',''))\n",
        "\n",
        "data['COMMERCIAL UNITS'] = data['COMMERCIAL UNITS'].apply(string_fixer)\n",
        "data['COMMERCIAL UNITS'] =data['COMMERCIAL UNITS'] .fillna(0) # can have no commercial units\n",
        "data['COMMERCIAL UNITS'] = data['COMMERCIAL UNITS'].astype(float)"
      ],
      "metadata": {
        "id": "vf_3yx9etf5d"
      },
      "execution_count": 25,
      "outputs": []
    },
    {
      "cell_type": "code",
      "source": [
        "data['RESIDENTIAL UNITS'] = data['RESIDENTIAL UNITS'].apply(string_fixer)\n",
        "data['RESIDENTIAL UNITS'] = data['RESIDENTIAL UNITS'].fillna(0) #can have no residential units\n",
        "data['RESIDENTIAL UNITS'] = data['RESIDENTIAL UNITS'].astype(float)"
      ],
      "metadata": {
        "id": "PLXeBLE-xYqk"
      },
      "execution_count": 26,
      "outputs": []
    },
    {
      "cell_type": "code",
      "source": [
        "data['TOTAL UNITS'] = data['TOTAL UNITS'].apply(string_fixer)\n",
        "data['TOTAL UNITS'] = data['TOTAL UNITS'].fillna(0) # neither commercial nor  residential units\n",
        "data['TOTAL UNITS'] = data['TOTAL UNITS'].astype(float)"
      ],
      "metadata": {
        "id": "1V4Hwbb5xXe4"
      },
      "execution_count": 27,
      "outputs": []
    },
    {
      "cell_type": "code",
      "source": [
        "data['YEAR BUILT']=data['YEAR BUILT'].dropna()"
      ],
      "metadata": {
        "id": "egC5waM7hcPX"
      },
      "execution_count": 28,
      "outputs": []
    },
    {
      "cell_type": "code",
      "source": [
        "data['YEAR BUILT'] = data['YEAR BUILT'].fillna(int(np.mean(data['YEAR BUILT'])))"
      ],
      "metadata": {
        "id": "pZyPruxihcH_"
      },
      "execution_count": 29,
      "outputs": []
    },
    {
      "cell_type": "code",
      "source": [
        "data['TAX CLASS AT PRESENT'] = data['TAX CLASS AT PRESENT'].fillna(1)"
      ],
      "metadata": {
        "id": "3O8sNrtshcEH"
      },
      "execution_count": 30,
      "outputs": []
    },
    {
      "cell_type": "code",
      "source": [
        "# drop null values in and ZIP CODE as it has small amount of null values\n",
        "data = data.dropna(subset=['ZIP CODE']) "
      ],
      "metadata": {
        "id": "VK10m2pPhcBn"
      },
      "execution_count": 31,
      "outputs": []
    },
    {
      "cell_type": "code",
      "source": [
        "def BUILDING_CLASS_CATEGORY_fixer(value):\n",
        "  if value[0] == '0': number =value[1]\n",
        "  else: number = value[:2]\n",
        "  return number\n",
        "data['BUILDING CLASS CATEGORY'] = data['BUILDING CLASS CATEGORY'].apply(BUILDING_CLASS_CATEGORY_fixer)\n",
        "data['BUILDING CLASS CATEGORY'] = data['BUILDING CLASS CATEGORY'].astype(int)"
      ],
      "metadata": {
        "id": "Xeq5FKdLK4it"
      },
      "execution_count": 32,
      "outputs": []
    },
    {
      "cell_type": "code",
      "source": [
        "#parsing sale date column\n",
        "data['SALE DATE'] = pd.to_datetime(data['SALE DATE'])\n",
        "data['day'] = data['SALE DATE'].dt.day\n",
        "data['month'] = data['SALE DATE'].dt.month\n",
        "data['year'] = data['SALE DATE'].dt.year\n",
        "data = data.drop(['SALE DATE'], axis=1)"
      ],
      "metadata": {
        "id": "2OGn8DNsBCS0"
      },
      "execution_count": 33,
      "outputs": []
    },
    {
      "cell_type": "code",
      "source": [
        "one_hot_encoding_columns = ['BUILDING CLASS AT TIME OF SALE','TAX CLASS AT PRESENT']"
      ],
      "metadata": {
        "id": "CiRJhDH7iaSn"
      },
      "execution_count": 34,
      "outputs": []
    },
    {
      "cell_type": "code",
      "source": [
        "#one hot encoding \n",
        "data = pd.get_dummies(data, columns=one_hot_encoding_columns, dummy_na=False, drop_first=True)"
      ],
      "metadata": {
        "id": "NaulgW_0iaPn"
      },
      "execution_count": 36,
      "outputs": []
    },
    {
      "cell_type": "code",
      "execution_count": 37,
      "metadata": {
        "id": "ff5091ec",
        "outputId": "9d0ae7b1-5c4b-4284-d71e-d302c8607d2b",
        "colab": {
          "base_uri": "https://localhost:8080/"
        }
      },
      "outputs": [
        {
          "output_type": "stream",
          "name": "stdout",
          "text": [
            "Mean squared error: 115281203260871.16\n",
            "R-squared: 0.18459540452953938\n"
          ]
        }
      ],
      "source": [
        "# Split the data into training and testing sets\n",
        "X = data.drop(['SALE PRICE'], axis=1)\n",
        "y = data['SALE PRICE']\n",
        "X_train, X_test, y_train, y_test = train_test_split(X, y, test_size=0.2, random_state=42)\n",
        "\n",
        "# Fit the linear regression model to the training data\n",
        "reg_model = LinearRegression().fit(X_train, y_train)\n",
        "\n",
        "# Predict the user loyalty score for the testing data\n",
        "y_pred = reg_model.predict(X_test)\n",
        "\n",
        "# Evaluate the model using mean squared error and R-squared\n",
        "mse = mean_squared_error(y_test, y_pred)\n",
        "r2 = r2_score(y_test, y_pred)\n",
        "print('Mean squared error:', mse)\n",
        "print('R-squared:', r2)\n"
      ]
    },
    {
      "cell_type": "code",
      "execution_count": 38,
      "metadata": {
        "id": "aee333e5"
      },
      "outputs": [],
      "source": [
        "def rmse(y, y_pred):\n",
        "    return np.sqrt(mean_squared_error(y, y_pred))\n",
        "\n",
        "\n",
        "def train_test(model):\n",
        "    print(model)\n",
        "    model.fit(X_train.values, y_train.values)\n",
        "    print(\"RMSE train: {}\".format(rmse(y_train.values, model.predict(X_train.values))))\n",
        "    print(\"RMSE test : {}\".format(rmse(y_test.values,  model.predict(X_test.values))))\n",
        "      "
      ]
    },
    {
      "cell_type": "code",
      "source": [
        "for model in [ reg_model]:\n",
        "    train_test(model)"
      ],
      "metadata": {
        "colab": {
          "base_uri": "https://localhost:8080/"
        },
        "id": "o5RoWcQ1lHa5",
        "outputId": "7df1b89e-167a-467b-ddba-51f2dfb0f11a"
      },
      "execution_count": 39,
      "outputs": [
        {
          "output_type": "stream",
          "name": "stdout",
          "text": [
            "LinearRegression()\n",
            "RMSE train: 9476072.31626762\n",
            "RMSE test : 10736908.459182799\n"
          ]
        }
      ]
    },
    {
      "cell_type": "markdown",
      "metadata": {
        "id": "sa8kgAqEf_u3"
      },
      "source": [
        "Summarize your answers to Q4 below, based on your analysis:"
      ]
    },
    {
      "cell_type": "markdown",
      "source": [
        "- After I handle the missing values as I drop some columns and impute the others, I build a linear regression model and I have got ` RMSE train: 9476072.31626762` and  `RMSE test : 10736908.459182799`"
      ],
      "metadata": {
        "id": "YbX4jYThj1K-"
      }
    }
  ],
  "metadata": {
    "language_info": {
      "name": "python"
    },
    "orig_nbformat": 4,
    "colab": {
      "provenance": []
    },
    "kernelspec": {
      "name": "python3",
      "display_name": "Python 3"
    },
    "gpuClass": "standard"
  },
  "nbformat": 4,
  "nbformat_minor": 0
}